{
 "cells": [
  {
   "cell_type": "code",
   "execution_count": 2,
   "metadata": {},
   "outputs": [],
   "source": [
    "import pandas as pd \n",
    "import numpy as np\n",
    "\n",
    "import featuretools as ft\n",
    "\n",
    "import matplotlib.pyplot as plt\n",
    "plt.style.use('ggplot')\n",
    "import seaborn as sns\n",
    "\n",
    "import warnings\n",
    "warnings.filterwarnings('ignore')"
   ]
  },
  {
   "cell_type": "markdown",
   "metadata": {},
   "source": [
    "# Read in Data & Create Small Datasets\n",
    "Only use first 1000 rows"
   ]
  },
  {
   "cell_type": "code",
   "execution_count": 4,
   "metadata": {},
   "outputs": [],
   "source": [
    "df_size = 1000\n",
    "app_train = pd.read_csv('../home-credit-default-risk/application_train.csv', nrows = df_size).sort_values('SK_ID_CURR').reset_index(drop = True)\n",
    "app_test = pd.read_csv('../home-credit-default-risk/application_test.csv', nrows = df_size).sort_values('SK_ID_CURR').reset_index(drop = True)\n",
    "bureau = pd.read_csv('../home-credit-default-risk/bureau.csv', nrows = df_size).sort_values(['SK_ID_CURR','SK_ID_BUREAU']).reset_index(drop = True)\n",
    "bureau_balance = pd.read_csv('../home-credit-default-risk/bureau_balance.csv', nrows = df_size).sort_values('SK_ID_BUREAU').reset_index(drop = True)\n",
    "cash = pd.read_csv('../home-credit-default-risk/POS_CASH_balance.csv', nrows = df_size).sort_values(['SK_ID_CURR','SK_ID_PREV']).reset_index(drop = True)\n",
    "credit = pd.read_csv('../home-credit-default-risk/credit_card_balance.csv', nrows = df_size).sort_values(['SK_ID_CURR','SK_ID_PREV']).reset_index(drop = True)\n",
    "previous = pd.read_csv('../home-credit-default-risk/previous_application.csv', nrows = df_size).sort_values(['SK_ID_CURR','SK_ID_PREV']).reset_index(drop = True)\n",
    "installments = pd.read_csv('../home-credit-default-risk/installments_payments.csv', nrows = df_size).sort_values(['SK_ID_CURR','SK_ID_PREV']).reset_index(drop = True)"
   ]
  },
  {
   "cell_type": "markdown",
   "metadata": {},
   "source": [
    "Join training and testing together after adding a seperate identifying column (may prevent data leakage)"
   ]
  },
  {
   "cell_type": "code",
   "execution_count": 5,
   "metadata": {},
   "outputs": [],
   "source": [
    "app_train['set'] = 'train'\n",
    "app_test['set'] = 'test'\n",
    "app_test['TARGET'] = np.nan\n",
    "\n",
    "app = app_train.append(app_test, ignore_index = True)"
   ]
  },
  {
   "cell_type": "markdown",
   "metadata": {},
   "source": [
    "# Featuretools Basics"
   ]
  },
  {
   "cell_type": "markdown",
   "metadata": {},
   "source": [
    "## Entities & Entitysets\n",
    "+ An entity is like a dataframe with a unique index.  \n",
    "+ An entityset is a collection of tables and the relationships between them. Using an entityset allows us to group together mmultiple tables and manipulate them much quicker than individual tables."
   ]
  },
  {
   "cell_type": "code",
   "execution_count": 6,
   "metadata": {},
   "outputs": [],
   "source": [
    "# Make an empty entityset named clients to keep track of all the data\n",
    "es = ft.EntitySet(id = 'client')"
   ]
  },
  {
   "cell_type": "markdown",
   "metadata": {},
   "source": [
    "Now we define each entity, or table of data. We need to pass in an index if the data has one or `make_index = True` if not. "
   ]
  },
  {
   "cell_type": "code",
   "execution_count": 7,
   "metadata": {},
   "outputs": [],
   "source": [
    "es = es.entity_from_dataframe(entity_id = 'app', dataframe = app, index = 'SK_ID_CURR')\n",
    "es = es.entity_from_dataframe(entity_id = 'bureau', dataframe = bureau, index = 'SK_ID_BUREAU')\n",
    "es = es.entity_from_dataframe(entity_id = 'previous', dataframe = previous, index = 'SK_ID_PREV')\n",
    "es = es.entity_from_dataframe(entity_id = 'bureau_balance', dataframe = bureau_balance,\n",
    "                              make_index = True, index = 'bureaubalance_index')\n",
    "es = es.entity_from_dataframe(entity_id = 'cash', dataframe = cash,\n",
    "                             make_index = True, index = 'cash_index')\n",
    "es = es.entity_from_dataframe(entity_id = 'installments', dataframe = installments,\n",
    "                             make_index = True, index = 'installments_index')\n",
    "es = es.entity_from_dataframe(entity_id = 'credit', dataframe = credit,\n",
    "                             make_index = True, index = 'credit_index')"
   ]
  },
  {
   "cell_type": "markdown",
   "metadata": {},
   "source": [
    "## Relationships\n",
    "Relationships are a fundamental concept not only in featuretools, but in any relational database. The best way to think of a one-to-many relationship is with the analogy of parent-to-child. A parent is a single individual, but can have mutliple children. The children can then have multiple children of their own. In a parent table, each individual has a single row. Each individual in the parent table can have multiple rows in the child table."
   ]
  },
  {
   "cell_type": "code",
   "execution_count": 8,
   "metadata": {},
   "outputs": [
    {
     "name": "stdout",
     "output_type": "stream",
     "text": [
      "Parent: app, Parent Variable: SK_ID_CURR\n",
      "\n",
      "    SK_ID_CURR  TARGET  TOTALAREA_MODE WALLSMATERIAL_MODE\n",
      "0      100002     1.0          0.0149       Stone, brick\n",
      "1      100003     0.0          0.0714              Block\n",
      "2      100004     0.0             NaN                NaN\n",
      "3      100006     0.0             NaN                NaN\n",
      "4      100007     0.0             NaN                NaN\n",
      "\n",
      "Child: bureau, Child Variable: SK_ID_CURR\n",
      "\n",
      "     SK_ID_BUREAU CREDIT_ACTIVE CREDIT_CURRENCY  DAYS_CREDIT\n",
      "10       5715026        Active      currency 1         -454\n",
      "11       5715028        Closed      currency 1         -265\n",
      "12       5715029        Closed      currency 1         -339\n",
      "13       5715070        Closed      currency 1        -1799\n",
      "14       5715072        Closed      currency 1        -2022\n"
     ]
    }
   ],
   "source": [
    "print('Parent: app, Parent Variable: SK_ID_CURR\\n\\n', app.iloc[:,111:115].head())\n",
    "print('\\nChild: bureau, Child Variable: SK_ID_CURR\\n\\n', bureau.iloc[10:30,1:5].head())"
   ]
  },
  {
   "cell_type": "markdown",
   "metadata": {},
   "source": [
    "Specify relationships and add them to the entityset"
   ]
  },
  {
   "cell_type": "code",
   "execution_count": 9,
   "metadata": {},
   "outputs": [],
   "source": [
    "r_app_bureau = ft.Relationship(es['app']['SK_ID_CURR'], es['bureau']['SK_ID_CURR'])\n",
    "r_bureau_balance = ft.Relationship(es['bureau']['SK_ID_BUREAU'], es['bureau_balance']['SK_ID_BUREAU'])\n",
    "r_app_previous = ft.Relationship(es['app']['SK_ID_CURR'], es['previous']['SK_ID_CURR'])\n",
    "r_previous_cash = ft.Relationship(es['previous']['SK_ID_PREV'], es['cash']['SK_ID_PREV'])\n",
    "r_previous_installments = ft.Relationship(es['previous']['SK_ID_PREV'], es['installments']['SK_ID_PREV'])\n",
    "r_previous_credit = ft.Relationship(es['previous']['SK_ID_PREV'], es['credit']['SK_ID_PREV'])"
   ]
  },
  {
   "cell_type": "code",
   "execution_count": 10,
   "metadata": {},
   "outputs": [
    {
     "data": {
      "text/plain": [
       "Entityset: client\n",
       "  Entities:\n",
       "    app [Rows: 2000, Columns: 123]\n",
       "    bureau [Rows: 1000, Columns: 17]\n",
       "    previous [Rows: 1000, Columns: 37]\n",
       "    bureau_balance [Rows: 1000, Columns: 4]\n",
       "    cash [Rows: 1000, Columns: 9]\n",
       "    installments [Rows: 1000, Columns: 9]\n",
       "    credit [Rows: 1000, Columns: 24]\n",
       "  Relationships:\n",
       "    bureau.SK_ID_CURR -> app.SK_ID_CURR\n",
       "    previous.SK_ID_CURR -> app.SK_ID_CURR\n",
       "    bureau_balance.SK_ID_BUREAU -> bureau.SK_ID_BUREAU\n",
       "    cash.SK_ID_PREV -> previous.SK_ID_PREV\n",
       "    credit.SK_ID_PREV -> previous.SK_ID_PREV\n",
       "    installments.SK_ID_PREV -> previous.SK_ID_PREV"
      ]
     },
     "execution_count": 10,
     "metadata": {},
     "output_type": "execute_result"
    }
   ],
   "source": [
    "es = es.add_relationships([r_app_bureau, r_app_previous, r_bureau_balance,\n",
    "                          r_previous_cash, r_previous_credit, r_previous_installments])\n",
    "\n",
    "es"
   ]
  },
  {
   "cell_type": "markdown",
   "metadata": {},
   "source": [
    "## Feature Primitives\n",
    "A feature primitive is an operation applied to a table or a set of tables to create a feature. Feature primitives fall into two categories:\n",
    "\n",
    "+ Aggregation: function that groups together child datapoints for each parent and then calculates a statistic such as mean, min, max, or standard deviation. An example is calculating the maximum previous loan amount for each client. An aggregation works across multiple tables using relationships between tables.\n",
    "+ Transformation: an operation applied to one or more columns in a single table. An example would be taking the absolute value of a column, or finding the difference between two columns in one table."
   ]
  },
  {
   "cell_type": "code",
   "execution_count": 12,
   "metadata": {},
   "outputs": [
    {
     "data": {
      "text/html": [
       "<div>\n",
       "<style scoped>\n",
       "    .dataframe tbody tr th:only-of-type {\n",
       "        vertical-align: middle;\n",
       "    }\n",
       "\n",
       "    .dataframe tbody tr th {\n",
       "        vertical-align: top;\n",
       "    }\n",
       "\n",
       "    .dataframe thead th {\n",
       "        text-align: right;\n",
       "    }\n",
       "</style>\n",
       "<table border=\"1\" class=\"dataframe\">\n",
       "  <thead>\n",
       "    <tr style=\"text-align: right;\">\n",
       "      <th></th>\n",
       "      <th>name</th>\n",
       "      <th>type</th>\n",
       "      <th>description</th>\n",
       "    </tr>\n",
       "  </thead>\n",
       "  <tbody>\n",
       "    <tr>\n",
       "      <td>0</td>\n",
       "      <td>percent_true</td>\n",
       "      <td>aggregation</td>\n",
       "      <td>Determines the percent of `True` values.</td>\n",
       "    </tr>\n",
       "    <tr>\n",
       "      <td>1</td>\n",
       "      <td>time_since_last</td>\n",
       "      <td>aggregation</td>\n",
       "      <td>Calculates the time elapsed since the last dat...</td>\n",
       "    </tr>\n",
       "    <tr>\n",
       "      <td>2</td>\n",
       "      <td>any</td>\n",
       "      <td>aggregation</td>\n",
       "      <td>Determines if any value is 'True' in a list.</td>\n",
       "    </tr>\n",
       "    <tr>\n",
       "      <td>3</td>\n",
       "      <td>min</td>\n",
       "      <td>aggregation</td>\n",
       "      <td>Calculates the smallest value, ignoring `NaN` ...</td>\n",
       "    </tr>\n",
       "    <tr>\n",
       "      <td>4</td>\n",
       "      <td>num_true</td>\n",
       "      <td>aggregation</td>\n",
       "      <td>Counts the number of `True` values.</td>\n",
       "    </tr>\n",
       "    <tr>\n",
       "      <td>...</td>\n",
       "      <td>...</td>\n",
       "      <td>...</td>\n",
       "      <td>...</td>\n",
       "    </tr>\n",
       "    <tr>\n",
       "      <td>73</td>\n",
       "      <td>minute</td>\n",
       "      <td>transform</td>\n",
       "      <td>Determines the minutes value of a datetime.</td>\n",
       "    </tr>\n",
       "    <tr>\n",
       "      <td>74</td>\n",
       "      <td>not</td>\n",
       "      <td>transform</td>\n",
       "      <td>Negates a boolean value.</td>\n",
       "    </tr>\n",
       "    <tr>\n",
       "      <td>75</td>\n",
       "      <td>week</td>\n",
       "      <td>transform</td>\n",
       "      <td>Determines the week of the year from a datetime.</td>\n",
       "    </tr>\n",
       "    <tr>\n",
       "      <td>76</td>\n",
       "      <td>modulo_by_feature</td>\n",
       "      <td>transform</td>\n",
       "      <td>Return the modulo of a scalar by each element ...</td>\n",
       "    </tr>\n",
       "    <tr>\n",
       "      <td>77</td>\n",
       "      <td>less_than_equal_to_scalar</td>\n",
       "      <td>transform</td>\n",
       "      <td>Determines if values are less than or equal to...</td>\n",
       "    </tr>\n",
       "  </tbody>\n",
       "</table>\n",
       "<p>78 rows × 3 columns</p>\n",
       "</div>"
      ],
      "text/plain": [
       "                         name         type  \\\n",
       "0                percent_true  aggregation   \n",
       "1             time_since_last  aggregation   \n",
       "2                         any  aggregation   \n",
       "3                         min  aggregation   \n",
       "4                    num_true  aggregation   \n",
       "..                        ...          ...   \n",
       "73                     minute    transform   \n",
       "74                        not    transform   \n",
       "75                       week    transform   \n",
       "76          modulo_by_feature    transform   \n",
       "77  less_than_equal_to_scalar    transform   \n",
       "\n",
       "                                          description  \n",
       "0            Determines the percent of `True` values.  \n",
       "1   Calculates the time elapsed since the last dat...  \n",
       "2        Determines if any value is 'True' in a list.  \n",
       "3   Calculates the smallest value, ignoring `NaN` ...  \n",
       "4                 Counts the number of `True` values.  \n",
       "..                                                ...  \n",
       "73        Determines the minutes value of a datetime.  \n",
       "74                           Negates a boolean value.  \n",
       "75   Determines the week of the year from a datetime.  \n",
       "76  Return the modulo of a scalar by each element ...  \n",
       "77  Determines if values are less than or equal to...  \n",
       "\n",
       "[78 rows x 3 columns]"
      ]
     },
     "execution_count": 12,
     "metadata": {},
     "output_type": "execute_result"
    }
   ],
   "source": [
    "# List the primitives in a dataframe\n",
    "primitives = ft.list_primitives()\n",
    "primitives"
   ]
  },
  {
   "cell_type": "markdown",
   "metadata": {},
   "source": [
    "## Deep Feature Synthesis (DFS)\n",
    "\n",
    "Deep Feature Synthesis (DFS) is the process featuretools uses to make new features. DFS stacks feature primitives to form features with a \"depth\" equal to the number of primitives. For example, if we take the maximum value of a client's previous loans (say `MAX(previous.loan_amount)`), that is a \"deep feature\" with a depth of 1. To create a feature with a depth of two, we could stack primitives by taking the maximum value of a client's average montly payments per previous loan (such as `MAX(previous(MEAN(installments.payment)))`). \n",
    "\n",
    "To perform DFS in featuretools, we use the dfs function passing it an `entityset`, the `target_entity` (where we want to make the features), the `agg_primitives` to use, the `trans_primitives` to use and the `max_depth` of the features. Here we will use the default aggregation and transformation primitives, a max depth of 2, and calculate primitives for the app entity."
   ]
  },
  {
   "cell_type": "markdown",
   "metadata": {},
   "source": [
    "### DFS with Default Primitives"
   ]
  },
  {
   "cell_type": "code",
   "execution_count": 18,
   "metadata": {},
   "outputs": [
    {
     "name": "stdout",
     "output_type": "stream",
     "text": [
      "2221 Total Features\n"
     ]
    }
   ],
   "source": [
    "# Default primitives\n",
    "default_agg_primitives = ['sum', 'std', 'max', 'skew', 'min', 'mean', 'count', 'percent_true', 'num_unique', 'mode']\n",
    "default_trans_primitives = ['day', 'year', 'month', 'weekday', 'haversine', 'num_words', 'num_characters']\n",
    "\n",
    "# DFS with default primitives\n",
    "feature_names = ft.dfs(entityset = es, target_entity = 'app',\n",
    "                      trans_primitives = default_trans_primitives,\n",
    "                      agg_primitives = default_agg_primitives,\n",
    "                      max_depth = 2,\n",
    "                      features_only = True) # features_only = True return only a list of the features and not calculate the features themselves\n",
    "\n",
    "print('%d Total Features' % len(feature_names))"
   ]
  },
  {
   "cell_type": "markdown",
   "metadata": {},
   "source": [
    "*Running following codes took around 24 hours on a computer with 64GB of ram*"
   ]
  },
  {
   "cell_type": "code",
   "execution_count": null,
   "metadata": {},
   "outputs": [],
   "source": [
    "# feature_matrix, feature_names = ft.dfs(entityset = es, target_entity = 'app',\n",
    "#                       trans_primitives = default_trans_primitives,\n",
    "#                       agg_primitives = default_agg_primitives,\n",
    "#                       max_depth = 2, features_only = False, verbose = True)\n",
    "\n",
    "# feature_matrix.head()"
   ]
  },
  {
   "cell_type": "markdown",
   "metadata": {},
   "source": [
    "### DFS with specified primitives\n"
   ]
  },
  {
   "cell_type": "code",
   "execution_count": 19,
   "metadata": {},
   "outputs": [
    {
     "name": "stdout",
     "output_type": "stream",
     "text": [
      "1215 Total Features\n"
     ]
    }
   ],
   "source": [
    "feature_names = ft.dfs(entityset = es, target_entity = 'app',\n",
    "                      agg_primitives = ['sum', 'count', 'min', 'max', 'mean', 'mode'],\n",
    "                      max_depth = 2,\n",
    "                      features_only = True) # features_only = True return only a list of the features and not calculate the features themselves\n",
    "print('%d Total Features' % len(feature_names))"
   ]
  },
  {
   "cell_type": "markdown",
   "metadata": {},
   "source": [
    "*Running following codes took around 12 hours on a computer with 64GB of ram*"
   ]
  },
  {
   "cell_type": "code",
   "execution_count": null,
   "metadata": {},
   "outputs": [],
   "source": [
    "# feature_matrix, feature_names = ft.dfs(entityset = es, target_entity = 'app',\n",
    "#                       agg_primitives = ['sum', 'count', 'min', 'max', 'mean', 'mode'],\n",
    "#                       max_depth = 2, features_only = False, verbose = True)\n",
    "\n",
    "# feature_matrix.head()"
   ]
  },
  {
   "cell_type": "markdown",
   "metadata": {},
   "source": [
    "# Results"
   ]
  },
  {
   "cell_type": "markdown",
   "metadata": {},
   "source": [
    "## Model CV result\n",
    "Using the model in the incremental training part "
   ]
  },
  {
   "cell_type": "markdown",
   "metadata": {},
   "source": [
    "|Features|No. of features|Val ROC AUC|Test ROC AUC|Time|\n",
    "|:---:|:---:|:---:|:---:|:---:|\n",
    "|only data in `application` dataset|241|0.760|0.745|0.25h|\n",
    "|manual feature engineering using `application`, `bureau` and `bureau_balance` dataset|421|0.766|0.757|8h|\n",
    "|manual feature engineering using all datasets|1465|0.785|0.783|12h|\n",
    "|featuretools default features (in the `feature_matrix`)|1803|0.784|0.777|1h|\n",
    "|featuretools specified features (in the `feature_matrix_spec`)|1156|0.786|0.779|1.25h|\n",
    "|featuretools specified features & manual feature engineering|1624|0.787|0.782|13.25h|"
   ]
  },
  {
   "cell_type": "markdown",
   "metadata": {},
   "source": [
    "## Correlations"
   ]
  },
  {
   "cell_type": "code",
   "execution_count": 20,
   "metadata": {},
   "outputs": [
    {
     "data": {
      "text/html": [
       "<div>\n",
       "<style scoped>\n",
       "    .dataframe tbody tr th:only-of-type {\n",
       "        vertical-align: middle;\n",
       "    }\n",
       "\n",
       "    .dataframe tbody tr th {\n",
       "        vertical-align: top;\n",
       "    }\n",
       "\n",
       "    .dataframe thead th {\n",
       "        text-align: right;\n",
       "    }\n",
       "</style>\n",
       "<table border=\"1\" class=\"dataframe\">\n",
       "  <thead>\n",
       "    <tr style=\"text-align: right;\">\n",
       "      <th></th>\n",
       "      <th>SK_ID_CURR</th>\n",
       "      <th>FLAG_EMP_PHONE</th>\n",
       "      <th>DEF_60_CNT_SOCIAL_CIRCLE</th>\n",
       "      <th>LIVE_REGION_NOT_WORK_REGION</th>\n",
       "      <th>YEARS_BEGINEXPLUATATION_AVG</th>\n",
       "      <th>APARTMENTS_MODE</th>\n",
       "      <th>FLAG_MOBIL</th>\n",
       "      <th>FLOORSMIN_MEDI</th>\n",
       "      <th>BASEMENTAREA_AVG</th>\n",
       "      <th>LANDAREA_MODE</th>\n",
       "      <th>...</th>\n",
       "      <th>MODE(bureau.MODE(bureau_balance.STATUS))_0</th>\n",
       "      <th>MODE(bureau.MODE(bureau_balance.STATUS))_1</th>\n",
       "      <th>MODE(bureau.MODE(bureau_balance.STATUS))_2</th>\n",
       "      <th>MODE(bureau.MODE(bureau_balance.STATUS))_3</th>\n",
       "      <th>MODE(bureau.MODE(bureau_balance.STATUS))_5</th>\n",
       "      <th>MODE(bureau.MODE(bureau_balance.STATUS))_C</th>\n",
       "      <th>MODE(bureau.MODE(bureau_balance.STATUS))_X</th>\n",
       "      <th>MODE(previous_app.MODE(credit.NAME_CONTRACT_STATUS))_Active</th>\n",
       "      <th>MODE(previous_app.MODE(credit.NAME_CONTRACT_STATUS))_Completed</th>\n",
       "      <th>MODE(previous_app.MODE(credit.NAME_CONTRACT_STATUS))_Signed</th>\n",
       "    </tr>\n",
       "    <tr>\n",
       "      <th>Variable</th>\n",
       "      <th></th>\n",
       "      <th></th>\n",
       "      <th></th>\n",
       "      <th></th>\n",
       "      <th></th>\n",
       "      <th></th>\n",
       "      <th></th>\n",
       "      <th></th>\n",
       "      <th></th>\n",
       "      <th></th>\n",
       "      <th></th>\n",
       "      <th></th>\n",
       "      <th></th>\n",
       "      <th></th>\n",
       "      <th></th>\n",
       "      <th></th>\n",
       "      <th></th>\n",
       "      <th></th>\n",
       "      <th></th>\n",
       "      <th></th>\n",
       "      <th></th>\n",
       "    </tr>\n",
       "  </thead>\n",
       "  <tbody>\n",
       "    <tr>\n",
       "      <td>SK_ID_CURR</td>\n",
       "      <td>1.000000</td>\n",
       "      <td>-0.001337</td>\n",
       "      <td>0.001187</td>\n",
       "      <td>0.002903</td>\n",
       "      <td>0.001551</td>\n",
       "      <td>0.001961</td>\n",
       "      <td>0.002804</td>\n",
       "      <td>0.002837</td>\n",
       "      <td>-0.002070</td>\n",
       "      <td>0.001548</td>\n",
       "      <td>...</td>\n",
       "      <td>0.000571</td>\n",
       "      <td>0.000592</td>\n",
       "      <td>-0.001078</td>\n",
       "      <td>-0.001853</td>\n",
       "      <td>-0.002603</td>\n",
       "      <td>-0.000913</td>\n",
       "      <td>-0.000626</td>\n",
       "      <td>0.002259</td>\n",
       "      <td>-0.000788</td>\n",
       "      <td>0.000079</td>\n",
       "    </tr>\n",
       "    <tr>\n",
       "      <td>FLAG_EMP_PHONE</td>\n",
       "      <td>-0.001337</td>\n",
       "      <td>1.000000</td>\n",
       "      <td>-0.014034</td>\n",
       "      <td>0.096447</td>\n",
       "      <td>-0.008672</td>\n",
       "      <td>0.014720</td>\n",
       "      <td>-0.000845</td>\n",
       "      <td>0.016486</td>\n",
       "      <td>0.001292</td>\n",
       "      <td>0.008657</td>\n",
       "      <td>...</td>\n",
       "      <td>0.010976</td>\n",
       "      <td>0.003626</td>\n",
       "      <td>0.000845</td>\n",
       "      <td>0.000845</td>\n",
       "      <td>0.000577</td>\n",
       "      <td>-0.004562</td>\n",
       "      <td>-0.000096</td>\n",
       "      <td>0.061105</td>\n",
       "      <td>-0.003943</td>\n",
       "      <td>-0.000122</td>\n",
       "    </tr>\n",
       "    <tr>\n",
       "      <td>DEF_60_CNT_SOCIAL_CIRCLE</td>\n",
       "      <td>0.001187</td>\n",
       "      <td>-0.014034</td>\n",
       "      <td>1.000000</td>\n",
       "      <td>-0.016693</td>\n",
       "      <td>-0.004751</td>\n",
       "      <td>-0.015337</td>\n",
       "      <td>0.000499</td>\n",
       "      <td>-0.020663</td>\n",
       "      <td>-0.012925</td>\n",
       "      <td>-0.002882</td>\n",
       "      <td>...</td>\n",
       "      <td>0.005116</td>\n",
       "      <td>0.003296</td>\n",
       "      <td>-0.000499</td>\n",
       "      <td>-0.000499</td>\n",
       "      <td>0.005212</td>\n",
       "      <td>-0.000331</td>\n",
       "      <td>0.000605</td>\n",
       "      <td>0.007696</td>\n",
       "      <td>0.000246</td>\n",
       "      <td>-0.002226</td>\n",
       "    </tr>\n",
       "    <tr>\n",
       "      <td>LIVE_REGION_NOT_WORK_REGION</td>\n",
       "      <td>0.002903</td>\n",
       "      <td>0.096447</td>\n",
       "      <td>-0.016693</td>\n",
       "      <td>1.000000</td>\n",
       "      <td>0.012031</td>\n",
       "      <td>0.017831</td>\n",
       "      <td>0.000371</td>\n",
       "      <td>0.053927</td>\n",
       "      <td>0.000965</td>\n",
       "      <td>-0.006717</td>\n",
       "      <td>...</td>\n",
       "      <td>0.002041</td>\n",
       "      <td>0.004837</td>\n",
       "      <td>-0.000371</td>\n",
       "      <td>-0.000371</td>\n",
       "      <td>0.002937</td>\n",
       "      <td>-0.002009</td>\n",
       "      <td>0.006666</td>\n",
       "      <td>-0.000730</td>\n",
       "      <td>-0.002376</td>\n",
       "      <td>0.002101</td>\n",
       "    </tr>\n",
       "    <tr>\n",
       "      <td>YEARS_BEGINEXPLUATATION_AVG</td>\n",
       "      <td>0.001551</td>\n",
       "      <td>-0.008672</td>\n",
       "      <td>-0.004751</td>\n",
       "      <td>0.012031</td>\n",
       "      <td>1.000000</td>\n",
       "      <td>0.100665</td>\n",
       "      <td>-0.000649</td>\n",
       "      <td>0.166756</td>\n",
       "      <td>0.085950</td>\n",
       "      <td>0.070008</td>\n",
       "      <td>...</td>\n",
       "      <td>0.002253</td>\n",
       "      <td>0.001375</td>\n",
       "      <td>NaN</td>\n",
       "      <td>0.000649</td>\n",
       "      <td>0.000830</td>\n",
       "      <td>0.006302</td>\n",
       "      <td>0.001248</td>\n",
       "      <td>-0.008792</td>\n",
       "      <td>-0.003537</td>\n",
       "      <td>-0.005442</td>\n",
       "    </tr>\n",
       "  </tbody>\n",
       "</table>\n",
       "<p>5 rows × 1172 columns</p>\n",
       "</div>"
      ],
      "text/plain": [
       "                             SK_ID_CURR  FLAG_EMP_PHONE  \\\n",
       "Variable                                                  \n",
       "SK_ID_CURR                     1.000000       -0.001337   \n",
       "FLAG_EMP_PHONE                -0.001337        1.000000   \n",
       "DEF_60_CNT_SOCIAL_CIRCLE       0.001187       -0.014034   \n",
       "LIVE_REGION_NOT_WORK_REGION    0.002903        0.096447   \n",
       "YEARS_BEGINEXPLUATATION_AVG    0.001551       -0.008672   \n",
       "\n",
       "                             DEF_60_CNT_SOCIAL_CIRCLE  \\\n",
       "Variable                                                \n",
       "SK_ID_CURR                                   0.001187   \n",
       "FLAG_EMP_PHONE                              -0.014034   \n",
       "DEF_60_CNT_SOCIAL_CIRCLE                     1.000000   \n",
       "LIVE_REGION_NOT_WORK_REGION                 -0.016693   \n",
       "YEARS_BEGINEXPLUATATION_AVG                 -0.004751   \n",
       "\n",
       "                             LIVE_REGION_NOT_WORK_REGION  \\\n",
       "Variable                                                   \n",
       "SK_ID_CURR                                      0.002903   \n",
       "FLAG_EMP_PHONE                                  0.096447   \n",
       "DEF_60_CNT_SOCIAL_CIRCLE                       -0.016693   \n",
       "LIVE_REGION_NOT_WORK_REGION                     1.000000   \n",
       "YEARS_BEGINEXPLUATATION_AVG                     0.012031   \n",
       "\n",
       "                             YEARS_BEGINEXPLUATATION_AVG  APARTMENTS_MODE  \\\n",
       "Variable                                                                    \n",
       "SK_ID_CURR                                      0.001551         0.001961   \n",
       "FLAG_EMP_PHONE                                 -0.008672         0.014720   \n",
       "DEF_60_CNT_SOCIAL_CIRCLE                       -0.004751        -0.015337   \n",
       "LIVE_REGION_NOT_WORK_REGION                     0.012031         0.017831   \n",
       "YEARS_BEGINEXPLUATATION_AVG                     1.000000         0.100665   \n",
       "\n",
       "                             FLAG_MOBIL  FLOORSMIN_MEDI  BASEMENTAREA_AVG  \\\n",
       "Variable                                                                    \n",
       "SK_ID_CURR                     0.002804        0.002837         -0.002070   \n",
       "FLAG_EMP_PHONE                -0.000845        0.016486          0.001292   \n",
       "DEF_60_CNT_SOCIAL_CIRCLE       0.000499       -0.020663         -0.012925   \n",
       "LIVE_REGION_NOT_WORK_REGION    0.000371        0.053927          0.000965   \n",
       "YEARS_BEGINEXPLUATATION_AVG   -0.000649        0.166756          0.085950   \n",
       "\n",
       "                             LANDAREA_MODE  ...  \\\n",
       "Variable                                    ...   \n",
       "SK_ID_CURR                        0.001548  ...   \n",
       "FLAG_EMP_PHONE                    0.008657  ...   \n",
       "DEF_60_CNT_SOCIAL_CIRCLE         -0.002882  ...   \n",
       "LIVE_REGION_NOT_WORK_REGION      -0.006717  ...   \n",
       "YEARS_BEGINEXPLUATATION_AVG       0.070008  ...   \n",
       "\n",
       "                             MODE(bureau.MODE(bureau_balance.STATUS))_0  \\\n",
       "Variable                                                                  \n",
       "SK_ID_CURR                                                     0.000571   \n",
       "FLAG_EMP_PHONE                                                 0.010976   \n",
       "DEF_60_CNT_SOCIAL_CIRCLE                                       0.005116   \n",
       "LIVE_REGION_NOT_WORK_REGION                                    0.002041   \n",
       "YEARS_BEGINEXPLUATATION_AVG                                    0.002253   \n",
       "\n",
       "                             MODE(bureau.MODE(bureau_balance.STATUS))_1  \\\n",
       "Variable                                                                  \n",
       "SK_ID_CURR                                                     0.000592   \n",
       "FLAG_EMP_PHONE                                                 0.003626   \n",
       "DEF_60_CNT_SOCIAL_CIRCLE                                       0.003296   \n",
       "LIVE_REGION_NOT_WORK_REGION                                    0.004837   \n",
       "YEARS_BEGINEXPLUATATION_AVG                                    0.001375   \n",
       "\n",
       "                             MODE(bureau.MODE(bureau_balance.STATUS))_2  \\\n",
       "Variable                                                                  \n",
       "SK_ID_CURR                                                    -0.001078   \n",
       "FLAG_EMP_PHONE                                                 0.000845   \n",
       "DEF_60_CNT_SOCIAL_CIRCLE                                      -0.000499   \n",
       "LIVE_REGION_NOT_WORK_REGION                                   -0.000371   \n",
       "YEARS_BEGINEXPLUATATION_AVG                                         NaN   \n",
       "\n",
       "                             MODE(bureau.MODE(bureau_balance.STATUS))_3  \\\n",
       "Variable                                                                  \n",
       "SK_ID_CURR                                                    -0.001853   \n",
       "FLAG_EMP_PHONE                                                 0.000845   \n",
       "DEF_60_CNT_SOCIAL_CIRCLE                                      -0.000499   \n",
       "LIVE_REGION_NOT_WORK_REGION                                   -0.000371   \n",
       "YEARS_BEGINEXPLUATATION_AVG                                    0.000649   \n",
       "\n",
       "                             MODE(bureau.MODE(bureau_balance.STATUS))_5  \\\n",
       "Variable                                                                  \n",
       "SK_ID_CURR                                                    -0.002603   \n",
       "FLAG_EMP_PHONE                                                 0.000577   \n",
       "DEF_60_CNT_SOCIAL_CIRCLE                                       0.005212   \n",
       "LIVE_REGION_NOT_WORK_REGION                                    0.002937   \n",
       "YEARS_BEGINEXPLUATATION_AVG                                    0.000830   \n",
       "\n",
       "                             MODE(bureau.MODE(bureau_balance.STATUS))_C  \\\n",
       "Variable                                                                  \n",
       "SK_ID_CURR                                                    -0.000913   \n",
       "FLAG_EMP_PHONE                                                -0.004562   \n",
       "DEF_60_CNT_SOCIAL_CIRCLE                                      -0.000331   \n",
       "LIVE_REGION_NOT_WORK_REGION                                   -0.002009   \n",
       "YEARS_BEGINEXPLUATATION_AVG                                    0.006302   \n",
       "\n",
       "                             MODE(bureau.MODE(bureau_balance.STATUS))_X  \\\n",
       "Variable                                                                  \n",
       "SK_ID_CURR                                                    -0.000626   \n",
       "FLAG_EMP_PHONE                                                -0.000096   \n",
       "DEF_60_CNT_SOCIAL_CIRCLE                                       0.000605   \n",
       "LIVE_REGION_NOT_WORK_REGION                                    0.006666   \n",
       "YEARS_BEGINEXPLUATATION_AVG                                    0.001248   \n",
       "\n",
       "                             MODE(previous_app.MODE(credit.NAME_CONTRACT_STATUS))_Active  \\\n",
       "Variable                                                                                   \n",
       "SK_ID_CURR                                                            0.002259             \n",
       "FLAG_EMP_PHONE                                                        0.061105             \n",
       "DEF_60_CNT_SOCIAL_CIRCLE                                              0.007696             \n",
       "LIVE_REGION_NOT_WORK_REGION                                          -0.000730             \n",
       "YEARS_BEGINEXPLUATATION_AVG                                          -0.008792             \n",
       "\n",
       "                             MODE(previous_app.MODE(credit.NAME_CONTRACT_STATUS))_Completed  \\\n",
       "Variable                                                                                      \n",
       "SK_ID_CURR                                                           -0.000788                \n",
       "FLAG_EMP_PHONE                                                       -0.003943                \n",
       "DEF_60_CNT_SOCIAL_CIRCLE                                              0.000246                \n",
       "LIVE_REGION_NOT_WORK_REGION                                          -0.002376                \n",
       "YEARS_BEGINEXPLUATATION_AVG                                          -0.003537                \n",
       "\n",
       "                             MODE(previous_app.MODE(credit.NAME_CONTRACT_STATUS))_Signed  \n",
       "Variable                                                                                  \n",
       "SK_ID_CURR                                                            0.000079            \n",
       "FLAG_EMP_PHONE                                                       -0.000122            \n",
       "DEF_60_CNT_SOCIAL_CIRCLE                                             -0.002226            \n",
       "LIVE_REGION_NOT_WORK_REGION                                           0.002101            \n",
       "YEARS_BEGINEXPLUATATION_AVG                                          -0.005442            \n",
       "\n",
       "[5 rows x 1172 columns]"
      ]
     },
     "execution_count": 20,
     "metadata": {},
     "output_type": "execute_result"
    }
   ],
   "source": [
    "correlations = pd.read_csv('../home-credit-default-risk/correlations_spec.csv',index_col = 0)\n",
    "correlations.index.name = 'Variable'\n",
    "correlations.head()"
   ]
  },
  {
   "cell_type": "markdown",
   "metadata": {},
   "source": [
    "### Correlation with the target"
   ]
  },
  {
   "cell_type": "code",
   "execution_count": 21,
   "metadata": {},
   "outputs": [
    {
     "data": {
      "text/plain": [
       "Variable\n",
       "EXT_SOURCE_3                                               -0.178919\n",
       "EXT_SOURCE_2                                               -0.160472\n",
       "EXT_SOURCE_1                                               -0.155317\n",
       "MODE(bureau.CREDIT_ACTIVE)_Closed                          -0.070201\n",
       "NAME_EDUCATION_TYPE_Higher education                       -0.056593\n",
       "                                                              ...   \n",
       "MIN(previous_app.MEAN(credit.CNT_DRAWINGS_ATM_CURRENT))     0.102765\n",
       "MEAN(credit.CNT_DRAWINGS_ATM_CURRENT)                       0.102774\n",
       "MEAN(previous_app.MEAN(credit.CNT_DRAWINGS_ATM_CURRENT))    0.102917\n",
       "MAX(previous_app.MEAN(credit.CNT_DRAWINGS_ATM_CURRENT))     0.102996\n",
       "TARGET                                                      1.000000\n",
       "Name: TARGET, Length: 1161, dtype: float64"
      ]
     },
     "execution_count": 21,
     "metadata": {},
     "output_type": "execute_result"
    }
   ],
   "source": [
    "correlations_target = correlations.sort_values('TARGET')['TARGET']\n",
    "correlations_target.dropna()"
   ]
  },
  {
   "cell_type": "code",
   "execution_count": 22,
   "metadata": {},
   "outputs": [
    {
     "data": {
      "text/html": [
       "<div>\n",
       "<style scoped>\n",
       "    .dataframe tbody tr th:only-of-type {\n",
       "        vertical-align: middle;\n",
       "    }\n",
       "\n",
       "    .dataframe tbody tr th {\n",
       "        vertical-align: top;\n",
       "    }\n",
       "\n",
       "    .dataframe thead th {\n",
       "        text-align: right;\n",
       "    }\n",
       "</style>\n",
       "<table border=\"1\" class=\"dataframe\">\n",
       "  <thead>\n",
       "    <tr style=\"text-align: right;\">\n",
       "      <th></th>\n",
       "      <th>SK_ID_CURR</th>\n",
       "      <th>NAME_TYPE_SUITE</th>\n",
       "      <th>REG_REGION_NOT_LIVE_REGION</th>\n",
       "      <th>EXT_SOURCE_2</th>\n",
       "      <th>OCCUPATION_TYPE</th>\n",
       "      <th>FLAG_PHONE</th>\n",
       "      <th>AMT_INCOME_TOTAL</th>\n",
       "      <th>AMT_CREDIT</th>\n",
       "      <th>REGION_RATING_CLIENT</th>\n",
       "      <th>REG_REGION_NOT_WORK_REGION</th>\n",
       "      <th>...</th>\n",
       "      <th>MIN(previous_app.MAX(credit.MONTHS_BALANCE))</th>\n",
       "      <th>MEAN(previous_app.MEAN(installments.NUM_INSTALMENT_NUMBER))</th>\n",
       "      <th>SUM(previous_app.MAX(installments.DAYS_ENTRY_PAYMENT))</th>\n",
       "      <th>MEAN(previous_app.MAX(installments.AMT_PAYMENT))</th>\n",
       "      <th>STD(previous_app.SUM(cash.CNT_INSTALMENT))</th>\n",
       "      <th>STD(previous_app.MIN(cash.CNT_INSTALMENT))</th>\n",
       "      <th>STD(previous_app.MEAN(credit.CNT_DRAWINGS_OTHER_CURRENT))</th>\n",
       "      <th>MIN(previous_app.STD(credit.CNT_DRAWINGS_OTHER_CURRENT))</th>\n",
       "      <th>MIN(previous_app.SKEW(credit.AMT_DRAWINGS_OTHER_CURRENT))</th>\n",
       "      <th>SKEW(previous_app.SUM(credit.AMT_RECEIVABLE_PRINCIPAL))</th>\n",
       "    </tr>\n",
       "  </thead>\n",
       "  <tbody>\n",
       "    <tr>\n",
       "      <td>1</td>\n",
       "      <td>100002</td>\n",
       "      <td>Unaccompanied</td>\n",
       "      <td>0</td>\n",
       "      <td>0.262949</td>\n",
       "      <td>Laborers</td>\n",
       "      <td>1</td>\n",
       "      <td>202500.0</td>\n",
       "      <td>406597.5</td>\n",
       "      <td>2</td>\n",
       "      <td>0</td>\n",
       "      <td>...</td>\n",
       "      <td>NaN</td>\n",
       "      <td>10.000000</td>\n",
       "      <td>-49.0</td>\n",
       "      <td>53093.745</td>\n",
       "      <td>0.000000</td>\n",
       "      <td>0.000000</td>\n",
       "      <td>NaN</td>\n",
       "      <td>NaN</td>\n",
       "      <td>NaN</td>\n",
       "      <td>NaN</td>\n",
       "    </tr>\n",
       "    <tr>\n",
       "      <td>2</td>\n",
       "      <td>100003</td>\n",
       "      <td>Family</td>\n",
       "      <td>0</td>\n",
       "      <td>0.622246</td>\n",
       "      <td>Core staff</td>\n",
       "      <td>1</td>\n",
       "      <td>270000.0</td>\n",
       "      <td>1293502.5</td>\n",
       "      <td>1</td>\n",
       "      <td>0</td>\n",
       "      <td>...</td>\n",
       "      <td>NaN</td>\n",
       "      <td>4.666667</td>\n",
       "      <td>-3190.0</td>\n",
       "      <td>210713.445</td>\n",
       "      <td>39.262648</td>\n",
       "      <td>2.624669</td>\n",
       "      <td>NaN</td>\n",
       "      <td>NaN</td>\n",
       "      <td>NaN</td>\n",
       "      <td>NaN</td>\n",
       "    </tr>\n",
       "    <tr>\n",
       "      <td>3</td>\n",
       "      <td>100004</td>\n",
       "      <td>Unaccompanied</td>\n",
       "      <td>0</td>\n",
       "      <td>0.555912</td>\n",
       "      <td>Laborers</td>\n",
       "      <td>1</td>\n",
       "      <td>67500.0</td>\n",
       "      <td>135000.0</td>\n",
       "      <td>2</td>\n",
       "      <td>0</td>\n",
       "      <td>...</td>\n",
       "      <td>NaN</td>\n",
       "      <td>2.000000</td>\n",
       "      <td>-727.0</td>\n",
       "      <td>10573.965</td>\n",
       "      <td>0.000000</td>\n",
       "      <td>0.000000</td>\n",
       "      <td>NaN</td>\n",
       "      <td>NaN</td>\n",
       "      <td>NaN</td>\n",
       "      <td>NaN</td>\n",
       "    </tr>\n",
       "    <tr>\n",
       "      <td>5</td>\n",
       "      <td>100006</td>\n",
       "      <td>Unaccompanied</td>\n",
       "      <td>0</td>\n",
       "      <td>0.650442</td>\n",
       "      <td>Laborers</td>\n",
       "      <td>0</td>\n",
       "      <td>135000.0</td>\n",
       "      <td>312682.5</td>\n",
       "      <td>2</td>\n",
       "      <td>0</td>\n",
       "      <td>...</td>\n",
       "      <td>-1.0</td>\n",
       "      <td>3.166667</td>\n",
       "      <td>-624.0</td>\n",
       "      <td>245324.685</td>\n",
       "      <td>29.439203</td>\n",
       "      <td>4.546061</td>\n",
       "      <td>NaN</td>\n",
       "      <td>NaN</td>\n",
       "      <td>NaN</td>\n",
       "      <td>NaN</td>\n",
       "    </tr>\n",
       "    <tr>\n",
       "      <td>6</td>\n",
       "      <td>100007</td>\n",
       "      <td>Unaccompanied</td>\n",
       "      <td>0</td>\n",
       "      <td>0.322738</td>\n",
       "      <td>Core staff</td>\n",
       "      <td>0</td>\n",
       "      <td>121500.0</td>\n",
       "      <td>513000.0</td>\n",
       "      <td>2</td>\n",
       "      <td>0</td>\n",
       "      <td>...</td>\n",
       "      <td>NaN</td>\n",
       "      <td>6.843956</td>\n",
       "      <td>-4587.0</td>\n",
       "      <td>12132.369</td>\n",
       "      <td>82.621063</td>\n",
       "      <td>5.059644</td>\n",
       "      <td>NaN</td>\n",
       "      <td>NaN</td>\n",
       "      <td>NaN</td>\n",
       "      <td>NaN</td>\n",
       "    </tr>\n",
       "  </tbody>\n",
       "</table>\n",
       "<p>5 rows × 1698 columns</p>\n",
       "</div>"
      ],
      "text/plain": [
       "   SK_ID_CURR NAME_TYPE_SUITE  REG_REGION_NOT_LIVE_REGION  EXT_SOURCE_2  \\\n",
       "1      100002   Unaccompanied                           0      0.262949   \n",
       "2      100003          Family                           0      0.622246   \n",
       "3      100004   Unaccompanied                           0      0.555912   \n",
       "5      100006   Unaccompanied                           0      0.650442   \n",
       "6      100007   Unaccompanied                           0      0.322738   \n",
       "\n",
       "  OCCUPATION_TYPE  FLAG_PHONE  AMT_INCOME_TOTAL  AMT_CREDIT  \\\n",
       "1        Laborers           1          202500.0    406597.5   \n",
       "2      Core staff           1          270000.0   1293502.5   \n",
       "3        Laborers           1           67500.0    135000.0   \n",
       "5        Laborers           0          135000.0    312682.5   \n",
       "6      Core staff           0          121500.0    513000.0   \n",
       "\n",
       "   REGION_RATING_CLIENT  REG_REGION_NOT_WORK_REGION  ...  \\\n",
       "1                     2                           0  ...   \n",
       "2                     1                           0  ...   \n",
       "3                     2                           0  ...   \n",
       "5                     2                           0  ...   \n",
       "6                     2                           0  ...   \n",
       "\n",
       "   MIN(previous_app.MAX(credit.MONTHS_BALANCE))  \\\n",
       "1                                           NaN   \n",
       "2                                           NaN   \n",
       "3                                           NaN   \n",
       "5                                          -1.0   \n",
       "6                                           NaN   \n",
       "\n",
       "   MEAN(previous_app.MEAN(installments.NUM_INSTALMENT_NUMBER))  \\\n",
       "1                                          10.000000             \n",
       "2                                           4.666667             \n",
       "3                                           2.000000             \n",
       "5                                           3.166667             \n",
       "6                                           6.843956             \n",
       "\n",
       "   SUM(previous_app.MAX(installments.DAYS_ENTRY_PAYMENT))  \\\n",
       "1                                              -49.0        \n",
       "2                                            -3190.0        \n",
       "3                                             -727.0        \n",
       "5                                             -624.0        \n",
       "6                                            -4587.0        \n",
       "\n",
       "   MEAN(previous_app.MAX(installments.AMT_PAYMENT))  \\\n",
       "1                                         53093.745   \n",
       "2                                        210713.445   \n",
       "3                                         10573.965   \n",
       "5                                        245324.685   \n",
       "6                                         12132.369   \n",
       "\n",
       "   STD(previous_app.SUM(cash.CNT_INSTALMENT))  \\\n",
       "1                                    0.000000   \n",
       "2                                   39.262648   \n",
       "3                                    0.000000   \n",
       "5                                   29.439203   \n",
       "6                                   82.621063   \n",
       "\n",
       "  STD(previous_app.MIN(cash.CNT_INSTALMENT))  \\\n",
       "1                                   0.000000   \n",
       "2                                   2.624669   \n",
       "3                                   0.000000   \n",
       "5                                   4.546061   \n",
       "6                                   5.059644   \n",
       "\n",
       "   STD(previous_app.MEAN(credit.CNT_DRAWINGS_OTHER_CURRENT))  \\\n",
       "1                                                NaN           \n",
       "2                                                NaN           \n",
       "3                                                NaN           \n",
       "5                                                NaN           \n",
       "6                                                NaN           \n",
       "\n",
       "   MIN(previous_app.STD(credit.CNT_DRAWINGS_OTHER_CURRENT))  \\\n",
       "1                                                NaN          \n",
       "2                                                NaN          \n",
       "3                                                NaN          \n",
       "5                                                NaN          \n",
       "6                                                NaN          \n",
       "\n",
       "   MIN(previous_app.SKEW(credit.AMT_DRAWINGS_OTHER_CURRENT))  \\\n",
       "1                                                NaN           \n",
       "2                                                NaN           \n",
       "3                                                NaN           \n",
       "5                                                NaN           \n",
       "6                                                NaN           \n",
       "\n",
       "  SKEW(previous_app.SUM(credit.AMT_RECEIVABLE_PRINCIPAL))  \n",
       "1                                                NaN       \n",
       "2                                                NaN       \n",
       "3                                                NaN       \n",
       "5                                                NaN       \n",
       "6                                                NaN       \n",
       "\n",
       "[5 rows x 1698 columns]"
      ]
     },
     "execution_count": 22,
     "metadata": {},
     "output_type": "execute_result"
    }
   ],
   "source": [
    "features_sample = pd.read_csv('../home-credit-default-risk/feature_matrix.csv',nrows = 20000)\n",
    "features_sample = features_sample[features_sample['set'] == 'train']\n",
    "features_sample.head()"
   ]
  },
  {
   "cell_type": "code",
   "execution_count": 24,
   "metadata": {},
   "outputs": [],
   "source": [
    "def kde_target(var_name, df):\n",
    "    corr = df['TARGET'].corr(df[var_name])\n",
    "    \n",
    "    avg_repaid = df.loc[df['TARGET'] == 0, var_name].median()\n",
    "    avg_not_repaid = df.loc[df['TARGET'] == 1, var_name].median()\n",
    "\n",
    "    plt.figure(figsize = (12,6))\n",
    "    \n",
    "    sns.kdeplot(df.loc[df['TARGET'] == 1, var_name], label = 'Default')\n",
    "    sns.kdeplot(df.loc[df['TARGET'] == 0, var_name], label = 'Not Default')\n",
    "\n",
    "    plt.xlabel(var_name)\n",
    "    plt.ylabel('Desnsity')\n",
    "    plt.title('{} Distribution'.format(var_name))\n",
    "    plt.legend()\n",
    "    plt.show()\n",
    "    \n",
    "    print('The correlation between {} and the TARGET is {:.4f}'.format(var_name,corr))\n",
    "    print('Median value for loan that was default = {:.4f}'.format(avg_not_repaid))\n",
    "    print('Median value for loan that was not default = {:.4f}'.format(avg_repaid))"
   ]
  },
  {
   "cell_type": "code",
   "execution_count": 25,
   "metadata": {},
   "outputs": [
    {
     "data": {
      "image/png": "[encoded data removed]",
      "text/plain": [
       "<Figure size 864x432 with 1 Axes>"
      ]
     },
     "metadata": {
      "needs_background": "light"
     },
     "output_type": "display_data"
    },
    {
     "name": "stdout",
     "output_type": "stream",
     "text": [
      "The correlation between MAX(previous_app.MEAN(credit.CNT_DRAWINGS_ATM_CURRENT)) and the TARGET is 0.0983\n",
      "Median value for loan that was default = 0.5556\n",
      "Median value for loan that was not default = 0.3073\n"
     ]
    }
   ],
   "source": [
    "kde_target('MAX(previous_app.MEAN(credit.CNT_DRAWINGS_ATM_CURRENT))', features_sample)"
   ]
  },
  {
   "cell_type": "markdown",
   "metadata": {},
   "source": [
    "### Colinear Features"
   ]
  },
  {
   "cell_type": "code",
   "execution_count": 26,
   "metadata": {},
   "outputs": [],
   "source": [
    "threshold = 0.9\n",
    "\n",
    "correlated_pairs = {}\n",
    "\n",
    "for col in correlations:\n",
    "    above_threshold_vars = [x for x in list(correlations.index[correlations[col] > threshold]) if x != col]\n",
    "    correlated_pairs[col] = above_threshold_vars"
   ]
  },
  {
   "cell_type": "code",
   "execution_count": 27,
   "metadata": {},
   "outputs": [
    {
     "data": {
      "text/plain": [
       "['SUM(previous_app.MEAN(credit.CNT_DRAWINGS_ATM_CURRENT))',\n",
       " 'MAX(previous_app.MEAN(credit.CNT_DRAWINGS_ATM_CURRENT))',\n",
       " 'MIN(previous_app.MEAN(credit.CNT_DRAWINGS_ATM_CURRENT))',\n",
       " 'MEAN(previous_app.MEAN(credit.CNT_DRAWINGS_ATM_CURRENT))']"
      ]
     },
     "execution_count": 27,
     "metadata": {},
     "output_type": "execute_result"
    }
   ],
   "source": [
    "correlated_pairs['MEAN(credit.CNT_DRAWINGS_ATM_CURRENT)']"
   ]
  },
  {
   "cell_type": "code",
   "execution_count": 28,
   "metadata": {},
   "outputs": [
    {
     "data": {
      "text/plain": [
       "Variable\n",
       "MEAN(credit.CNT_DRAWINGS_ATM_CURRENT)                       1.000000\n",
       "MIN(previous_app.MEAN(credit.CNT_DRAWINGS_ATM_CURRENT))     0.999917\n",
       "MEAN(previous_app.MEAN(credit.CNT_DRAWINGS_ATM_CURRENT))    0.999785\n",
       "MAX(previous_app.MEAN(credit.CNT_DRAWINGS_ATM_CURRENT))     0.998944\n",
       "SUM(previous_app.MEAN(credit.CNT_DRAWINGS_ATM_CURRENT))     0.998455\n",
       "Name: MEAN(credit.CNT_DRAWINGS_ATM_CURRENT), dtype: float64"
      ]
     },
     "execution_count": 28,
     "metadata": {},
     "output_type": "execute_result"
    }
   ],
   "source": [
    "correlations['MEAN(credit.CNT_DRAWINGS_ATM_CURRENT)'].sort_values(ascending = False).head()"
   ]
  },
  {
   "cell_type": "code",
   "execution_count": 36,
   "metadata": {},
   "outputs": [
    {
     "data": {
      "image/png": "[encoded data removed]",
      "text/plain": [
       "<Figure size 432x288 with 1 Axes>"
      ]
     },
     "metadata": {
      "needs_background": "light"
     },
     "output_type": "display_data"
    }
   ],
   "source": [
    "plt.plot(features_sample['MEAN(credit.CNT_DRAWINGS_ATM_CURRENT)'],\n",
    "        features_sample['MIN(previous_app.MEAN(credit.CNT_DRAWINGS_ATM_CURRENT))'])\n",
    "plt.title('Highly Correlated Features')\n",
    "plt.xlim(0,6.5)\n",
    "plt.ylim(0,6.5)\n",
    "plt.show()"
   ]
  },
  {
   "cell_type": "markdown",
   "metadata": {},
   "source": [
    "## Feature importances"
   ]
  },
  {
   "cell_type": "code",
   "execution_count": 37,
   "metadata": {},
   "outputs": [
    {
     "data": {
      "text/html": [
       "<div>\n",
       "<style scoped>\n",
       "    .dataframe tbody tr th:only-of-type {\n",
       "        vertical-align: middle;\n",
       "    }\n",
       "\n",
       "    .dataframe tbody tr th {\n",
       "        vertical-align: top;\n",
       "    }\n",
       "\n",
       "    .dataframe thead th {\n",
       "        text-align: right;\n",
       "    }\n",
       "</style>\n",
       "<table border=\"1\" class=\"dataframe\">\n",
       "  <thead>\n",
       "    <tr style=\"text-align: right;\">\n",
       "      <th></th>\n",
       "      <th>feature</th>\n",
       "      <th>importance</th>\n",
       "    </tr>\n",
       "  </thead>\n",
       "  <tbody>\n",
       "    <tr>\n",
       "      <td>13</td>\n",
       "      <td>EXT_SOURCE_1</td>\n",
       "      <td>357.6</td>\n",
       "    </tr>\n",
       "    <tr>\n",
       "      <td>14</td>\n",
       "      <td>EXT_SOURCE_3</td>\n",
       "      <td>311.6</td>\n",
       "    </tr>\n",
       "    <tr>\n",
       "      <td>58</td>\n",
       "      <td>EXT_SOURCE_2</td>\n",
       "      <td>307.0</td>\n",
       "    </tr>\n",
       "    <tr>\n",
       "      <td>31</td>\n",
       "      <td>DAYS_BIRTH</td>\n",
       "      <td>228.6</td>\n",
       "    </tr>\n",
       "    <tr>\n",
       "      <td>55</td>\n",
       "      <td>AMT_CREDIT</td>\n",
       "      <td>204.4</td>\n",
       "    </tr>\n",
       "    <tr>\n",
       "      <td>91</td>\n",
       "      <td>AMT_ANNUITY</td>\n",
       "      <td>195.2</td>\n",
       "    </tr>\n",
       "    <tr>\n",
       "      <td>69</td>\n",
       "      <td>DAYS_EMPLOYED</td>\n",
       "      <td>150.2</td>\n",
       "    </tr>\n",
       "    <tr>\n",
       "      <td>10</td>\n",
       "      <td>AMT_GOODS_PRICE</td>\n",
       "      <td>144.2</td>\n",
       "    </tr>\n",
       "    <tr>\n",
       "      <td>186</td>\n",
       "      <td>MAX(bureau.DAYS_CREDIT)</td>\n",
       "      <td>138.8</td>\n",
       "    </tr>\n",
       "    <tr>\n",
       "      <td>42</td>\n",
       "      <td>DAYS_ID_PUBLISH</td>\n",
       "      <td>122.8</td>\n",
       "    </tr>\n",
       "    <tr>\n",
       "      <td>115</td>\n",
       "      <td>MAX(bureau.DAYS_CREDIT_ENDDATE)</td>\n",
       "      <td>121.8</td>\n",
       "    </tr>\n",
       "    <tr>\n",
       "      <td>62</td>\n",
       "      <td>OWN_CAR_AGE</td>\n",
       "      <td>104.0</td>\n",
       "    </tr>\n",
       "    <tr>\n",
       "      <td>518</td>\n",
       "      <td>SUM(previous_app.MIN(installments.AMT_PAYMENT))</td>\n",
       "      <td>101.8</td>\n",
       "    </tr>\n",
       "    <tr>\n",
       "      <td>196</td>\n",
       "      <td>MAX(bureau.DAYS_ENDDATE_FACT)</td>\n",
       "      <td>99.6</td>\n",
       "    </tr>\n",
       "    <tr>\n",
       "      <td>669</td>\n",
       "      <td>MEAN(previous_app.MIN(installments.AMT_PAYMENT))</td>\n",
       "      <td>99.0</td>\n",
       "    </tr>\n",
       "  </tbody>\n",
       "</table>\n",
       "</div>"
      ],
      "text/plain": [
       "                                              feature  importance\n",
       "13                                       EXT_SOURCE_1       357.6\n",
       "14                                       EXT_SOURCE_3       311.6\n",
       "58                                       EXT_SOURCE_2       307.0\n",
       "31                                         DAYS_BIRTH       228.6\n",
       "55                                         AMT_CREDIT       204.4\n",
       "91                                        AMT_ANNUITY       195.2\n",
       "69                                      DAYS_EMPLOYED       150.2\n",
       "10                                    AMT_GOODS_PRICE       144.2\n",
       "186                           MAX(bureau.DAYS_CREDIT)       138.8\n",
       "42                                    DAYS_ID_PUBLISH       122.8\n",
       "115                   MAX(bureau.DAYS_CREDIT_ENDDATE)       121.8\n",
       "62                                        OWN_CAR_AGE       104.0\n",
       "518   SUM(previous_app.MIN(installments.AMT_PAYMENT))       101.8\n",
       "196                     MAX(bureau.DAYS_ENDDATE_FACT)        99.6\n",
       "669  MEAN(previous_app.MIN(installments.AMT_PAYMENT))        99.0"
      ]
     },
     "execution_count": 37,
     "metadata": {},
     "output_type": "execute_result"
    }
   ],
   "source": [
    "fi = pd.read_csv('../home-credit-default-risk/spec_feature_importances_ohe.xls', index_col = 0)\n",
    "fi = fi.sort_values('importance',ascending = False)\n",
    "fi.head(15)"
   ]
  },
  {
   "cell_type": "code",
   "execution_count": 38,
   "metadata": {},
   "outputs": [
    {
     "data": {
      "image/png": "[encoded data removed]",
      "text/plain": [
       "<Figure size 864x432 with 1 Axes>"
      ]
     },
     "metadata": {
      "needs_background": "light"
     },
     "output_type": "display_data"
    },
    {
     "name": "stdout",
     "output_type": "stream",
     "text": [
      "The correlation between MAX(bureau.DAYS_CREDIT) and the TARGET is 0.0555\n",
      "Median value for loan that was default = -211.5000\n",
      "Median value for loan that was not default = -304.0000\n"
     ]
    }
   ],
   "source": [
    "kde_target('MAX(bureau.DAYS_CREDIT)', features_sample)"
   ]
  },
  {
   "cell_type": "code",
   "execution_count": 40,
   "metadata": {},
   "outputs": [
    {
     "name": "stdout",
     "output_type": "stream",
     "text": [
      " 78% of the top 100 features were made by featuretools\n"
     ]
    }
   ],
   "source": [
    "original_features = list(pd.get_dummies(app).columns)\n",
    "\n",
    "created_features = []\n",
    "\n",
    "for feature in fi['feature'][:100]:\n",
    "    if feature not in original_features:\n",
    "        created_features.append(feature)\n",
    "        \n",
    "print(' {:d}% of the top 100 features were made by featuretools'.format(len(created_features)))"
   ]
  },
  {
   "cell_type": "code",
   "execution_count": 46,
   "metadata": {},
   "outputs": [
    {
     "data": {
      "text/plain": [
       "<BarContainer object of 15 artists>"
      ]
     },
     "execution_count": 46,
     "metadata": {},
     "output_type": "execute_result"
    },
    {
     "data": {
      "image/png": "[encoded data removed]",
      "text/plain": [
       "<Figure size 432x288 with 1 Axes>"
      ]
     },
     "metadata": {
      "needs_background": "light"
     },
     "output_type": "display_data"
    }
   ],
   "source": [
    "plt.barh(fi['feature'][:15][::-1],fi['importance'][:15][::-1])"
   ]
  },
  {
   "cell_type": "code",
   "execution_count": 47,
   "metadata": {},
   "outputs": [
    {
     "name": "stdout",
     "output_type": "stream",
     "text": [
      "There ate 237 features with importance 0\n"
     ]
    }
   ],
   "source": [
    "print('There ate {:d} features with importance 0'.format(sum(fi['importance'] == 0)))"
   ]
  },
  {
   "cell_type": "code",
   "execution_count": null,
   "metadata": {},
   "outputs": [],
   "source": []
  }
 ],
 "metadata": {
  "kernelspec": {
   "display_name": "Python 3",
   "language": "python",
   "name": "python3"
  },
  "language_info": {
   "codemirror_mode": {
    "name": "ipython",
    "version": 3
   },
   "file_extension": ".py",
   "mimetype": "text/x-python",
   "name": "python",
   "nbconvert_exporter": "python",
   "pygments_lexer": "ipython3",
   "version": "3.7.4"
  }
 },
 "nbformat": 4,
 "nbformat_minor": 2
}
