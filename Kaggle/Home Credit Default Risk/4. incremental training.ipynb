{
 "cells": [
  {
   "cell_type": "markdown",
   "metadata": {
    "_uuid": "44bbae45bfef6ef3547b66e18166d9b99a2f4462"
   },
   "source": [
    "# Lightgbm incremental training"
   ]
  },
  {
   "cell_type": "markdown",
   "metadata": {
    "_uuid": "04c8826306314ba274e409667aa58a806c6f462c"
   },
   "source": [
    "# Functions \n",
    "\n",
    "We spent quite a bit of time developing two functions in the previous notebook:\n",
    "\n",
    "* `agg_numeric`: calculate aggregation statistics (`mean`, `count`, `max`, `min`) for numeric variables.\n",
    "* `agg_categorical`: compute counts and normalized counts of each category in a categorical variable.\n",
    "\n",
    "Together, these two functions can extract information about both the numeric and categorical data in a dataframe. Our general approach will be to apply both of these functions to the dataframes, grouping by the client id, `SK_ID_CURR`. For the `POS_CASH_balance`, `credit_card_balance`, and `installment_payments`, we can first group by the `SK_ID_PREV`, the unique id for the previous loan. Then we will group the resulting dataframe by the `SK_ID_CURR` to calculate the aggregation statistics for each client across all of their previous loans. If that's a little confusing, I'd suggest heading back to the [first feature engineering notebook](https://www.kaggle.com/willkoehrsen/introduction-to-manual-feature-engineering/output).**"
   ]
  },
  {
   "cell_type": "code",
   "execution_count": 1,
   "metadata": {
    "_uuid": "9b3c521b3cb7916e7473668356a6348d272c0655"
   },
   "outputs": [],
   "source": [
    "# pandas and numpy for data manipulation\n",
    "import pandas as pd\n",
    "import numpy as np\n",
    "\n",
    "# matplotlib and seaborn for plotting\n",
    "import matplotlib.pyplot as plt\n",
    "\n",
    "# Suppress warnings from pandas\n",
    "import warnings\n",
    "warnings.filterwarnings('ignore')\n",
    "\n",
    "plt.style.use('ggplot')"
   ]
  },
  {
   "cell_type": "markdown",
   "metadata": {},
   "source": []
  },
  {
   "cell_type": "code",
   "execution_count": 2,
   "metadata": {},
   "outputs": [],
   "source": [
    "def preprocess(train,test = None):\n",
    "    \n",
    "    train_labels = train['TARGET']\n",
    "    train = train.drop(columns=['TARGET','SK_ID_CURR'])\n",
    "    test = test.drop(columns = ['SK_ID_CURR'])\n",
    "    \n",
    "    train = pd.get_dummies(train)\n",
    "    test = pd.get_dummies(test)\n",
    "    print('Dummy Variables Done')\n",
    "        \n",
    "    fill_median = train.dropna(axis = 0).median()\n",
    "    train = train.fillna(fill_median, axis = 0)\n",
    "    test = test.fillna(fill_median, axis = 0)\n",
    "    print('Fillna Done')\n",
    "    \n",
    "    train,test = train.align(test, join = 'inner', axis = 1)\n",
    "    train_features = list(train.columns)\n",
    "\n",
    "    \n",
    "    from sklearn.preprocessing import StandardScaler\n",
    "    scaler = StandardScaler()\n",
    "    scaler.fit(train)\n",
    "    train = scaler.transform(train)\n",
    "    test = scaler.transform(test)\n",
    "    print('Scaling Done')\n",
    "    \n",
    "    print('Training data shape: ',train.shape)\n",
    "    print('Testing data shape: ',test.shape)\n",
    "    \n",
    "    from sklearn.model_selection import train_test_split\n",
    "    X_train,X_val,y_train,y_val = train_test_split(train, train_labels, test_size = 0.2)\n",
    "    \n",
    "    X_train = pd.DataFrame(X_train)\n",
    "    X_train.columns = train_features\n",
    "    X_train['TARGET'] = y_train.reset_index(drop = True)\n",
    "    \n",
    "    X_val = pd.DataFrame(X_val)\n",
    "    X_val.columns = train_features\n",
    "    X_val['TARGET'] = y_val.reset_index(drop = True)\n",
    "    print('Train Test Split Done')\n",
    "    \n",
    "    print('X_train shape:', X_train.shape)\n",
    "    print('X_val shape: ',X_val.shape)\n",
    "    \n",
    "    X_test = pd.DataFrame(test,columns = train_features)\n",
    "    \n",
    "    X_train.columns = [\"\".join (c if c.isalnum() else \"_\" for c in str(x)) for x in X_train.columns]\n",
    "    X_val.columns = [\"\".join (c if c.isalnum() else \"_\" for c in str(x)) for x in X_val.columns]\n",
    "    X_test.columns = [\"\".join (c if c.isalnum() else \"_\" for c in str(x)) for x in X_test.columns]\n",
    "    \n",
    "    X_train.to_csv('D:/home-credit-default-risk/train.csv', index = False, chunksize = 5000)\n",
    "#     X_val.to_csv('D:/home-credit-default-risk/val.csv', index = False, chunksize = 5000)\n",
    "    print('X_train Saved')\n",
    "    \n",
    "    return X_val, X_test"
   ]
  },
  {
   "cell_type": "markdown",
   "metadata": {
    "_uuid": "7bd7f24dabe54d068e48b90ac1e42291bed6bf4d",
    "collapsed": true
   },
   "source": [
    "## Modeling"
   ]
  },
  {
   "cell_type": "code",
   "execution_count": 3,
   "metadata": {
    "scrolled": true
   },
   "outputs": [],
   "source": [
    "train = pd.read_csv('D:/home-credit-default-risk/train_previous_raw.csv')\n",
    "test = pd.read_csv('D:/home-credit-default-risk/test_previous_raw.csv')"
   ]
  },
  {
   "cell_type": "code",
   "execution_count": 4,
   "metadata": {},
   "outputs": [
    {
     "name": "stdout",
     "output_type": "stream",
     "text": [
      "Dummy Variables Done\n",
      "Fillna Done\n",
      "Scaling Done\n",
      "Training data shape:  (307511, 1252)\n",
      "Testing data shape:  (48744, 1252)\n",
      "Train Test Split Done\n",
      "X_train shape: (246008, 1253)\n",
      "X_val shape:  (61503, 1253)\n",
      "X_train Saved\n"
     ]
    }
   ],
   "source": [
    "X_val, X_test = preprocess(train,test)"
   ]
  },
  {
   "cell_type": "markdown",
   "metadata": {},
   "source": [
    "## Incremental Training"
   ]
  },
  {
   "cell_type": "code",
   "execution_count": 5,
   "metadata": {
    "scrolled": false
   },
   "outputs": [
    {
     "name": "stdout",
     "output_type": "stream",
     "text": [
      "\n",
      "Cum Training Data: 60000 records\n",
      "\n",
      "<lightgbm.basic.Booster object at 0x000002D4CE96EEC8>\n",
      "Training set score：auc = 0.8779\n",
      "Val set score：auc = 0.7637\n",
      "\n",
      "Cum Training Data: 120000 records\n",
      "\n",
      "<lightgbm.basic.Booster object at 0x000002D4D19AA508>\n",
      "Training set score：auc = 0.8166\n",
      "Val set score：auc = 0.7665\n",
      "\n",
      "Cum Training Data: 180000 records\n",
      "\n",
      "<lightgbm.basic.Booster object at 0x000002D4F8302608>\n",
      "Training set score：auc = 0.7891\n",
      "Val set score：auc = 0.7665\n",
      "\n",
      "Cum Training Data: 240000 records\n",
      "\n",
      "<lightgbm.basic.Booster object at 0x000002D4CE95BBC8>\n",
      "Training set score：auc = 0.7913\n",
      "Val set score：auc = 0.7666\n",
      "\n",
      "Cum Training Data: 300000 records\n",
      "\n",
      "<lightgbm.basic.Booster object at 0x000002D49F433E88>\n",
      "Training set score：auc = 0.8451\n",
      "Val set score：auc = 0.7629\n"
     ]
    }
   ],
   "source": [
    "import lightgbm as lgb\n",
    "# The first step is to initialize the model as None and set the model parameters.\n",
    "gbm=None\n",
    "params = {\n",
    "        'task': 'train',\n",
    "        'application': 'binary',\n",
    "        'metric':'auc',\n",
    "        'is_unbalance': 'True', \n",
    "        'learning_rate': '0.05', \n",
    "        'reg_alpha': '0.1',\n",
    "        'reg_lambda': '0.1', \n",
    "        'subsample': '0.8',\n",
    "        'n_jobs': '4',\n",
    "        'device_type': 'cpu'\n",
    "    }\n",
    "\n",
    "# The second step is streaming data (100,000 at a time)\n",
    "\n",
    "i=1\n",
    "size = 60000\n",
    "for sub_data in pd.read_csv('D:/home-credit-default-risk/train.csv', chunksize=size):\n",
    "    \n",
    "    print('\\nCum Training Data: {} records\\n'.format(i*size))\n",
    "    \n",
    "    x_cols = list(sub_data.columns)[:-1]\n",
    "    y_cols = 'TARGET'\n",
    "    \n",
    "    x_data = sub_data[x_cols]\n",
    "    y_data = sub_data[y_cols]\n",
    "\n",
    "    lgb_train = lgb.Dataset(x_data, y_data.values)\n",
    "    lgb_eval = lgb.Dataset(X_val[x_cols], X_val[y_cols].values, reference=lgb_train)\n",
    "\n",
    "    # Step 3: Incremental Training Model\n",
    "    # Emphasis is laid on incremental training through init_model and keep_training_booster parameters.\n",
    "    gbm = lgb.train(params,\n",
    "                    lgb_train,\n",
    "                    num_boost_round=1000,\n",
    "                    valid_sets=lgb_eval,\n",
    "                    init_model=gbm,             # If gbm is not None, then it is on the basis of the last training.\n",
    "                    feature_name=x_cols,\n",
    "                    early_stopping_rounds=10,\n",
    "                    verbose_eval=False,\n",
    "                    keep_training_booster=True) # Incremental training\n",
    "\n",
    "    # Output Model Assessment Score\n",
    "    print(gbm)\n",
    "    print('Training set score：auc = %.4f'%(gbm.eval_train()[0][2]))\n",
    "    print('Val set score：auc = %.4f'%(gbm.eval_valid()[0][2]))\n",
    "    i += 1"
   ]
  },
  {
   "cell_type": "code",
   "execution_count": 6,
   "metadata": {},
   "outputs": [
    {
     "data": {
      "text/plain": [
       "<matplotlib.axes._subplots.AxesSubplot at 0x2d4ce932308>"
      ]
     },
     "execution_count": 6,
     "metadata": {},
     "output_type": "execute_result"
    },
    {
     "data": {
      "image/png": "[encoded data removed]",
      "text/plain": [
       "<Figure size 432x288 with 1 Axes>"
      ]
     },
     "metadata": {
      "needs_background": "light"
     },
     "output_type": "display_data"
    }
   ],
   "source": [
    "lgb.plot_importance(gbm, max_num_features = 20)"
   ]
  },
  {
   "cell_type": "code",
   "execution_count": 13,
   "metadata": {},
   "outputs": [
    {
     "data": {
      "text/plain": [
       "array([0.1974377 , 0.57386603, 0.27367214, ..., 0.14695008, 0.26673747,\n",
       "       0.71246017])"
      ]
     },
     "execution_count": 13,
     "metadata": {},
     "output_type": "execute_result"
    }
   ],
   "source": [
    "gbm.predict(X_test)"
   ]
  }
 ],
 "metadata": {
  "kernelspec": {
   "display_name": "Python 3",
   "language": "python",
   "name": "python3"
  },
  "language_info": {
   "codemirror_mode": {
    "name": "ipython",
    "version": 3
   },
   "file_extension": ".py",
   "mimetype": "text/x-python",
   "name": "python",
   "nbconvert_exporter": "python",
   "pygments_lexer": "ipython3",
   "version": "3.7.4"
  }
 },
 "nbformat": 4,
 "nbformat_minor": 1
}
