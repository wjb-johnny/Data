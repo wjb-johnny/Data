{
 "cells": [
  {
   "cell_type": "markdown",
   "metadata": {},
   "source": [
    "# Sberbank Russian Housing Market\n",
    "By Junbo"
   ]
  },
  {
   "cell_type": "markdown",
   "metadata": {},
   "source": [
    "## Project description\n",
    "This is a assignment for UCL course \"Big Data in Quantitative Finance\".  \n",
    "This project only uses the training dataset from Kaggle competition \"Sberbank Russian Housing Market\".  \n",
    "The goal of the project is not specified in the assignment but it is obvious that the target is to predict the house price(price_doc).  \n",
    "*The result of the model in the project is not comparable to those in the Kaggle competition becaues of the lack of dataset and limit of time given.*"
   ]
  },
  {
   "cell_type": "markdown",
   "metadata": {},
   "source": [
    "## Content:\n",
    "1. EDA (Done in another notebook)\n",
    "2. Data Clearning\n",
    "3. Feature Engineering\n",
    "4. Machine Learning models\n",
    "5. Model Ensemble"
   ]
  },
  {
   "cell_type": "markdown",
   "metadata": {},
   "source": [
    "# Import packages and dataset"
   ]
  },
  {
   "cell_type": "code",
   "execution_count": 1,
   "metadata": {},
   "outputs": [],
   "source": [
    "import pandas as pd\n",
    "import numpy as np\n",
    "import matplotlib.pyplot as plt\n",
    "\n",
    "import re\n",
    "from datetime import datetime\n",
    "from sklearn.preprocessing import LabelEncoder\n",
    "from sklearn.preprocessing import StandardScaler\n",
    "from sklearn.neighbors import LocalOutlierFactor\n",
    "from sklearn.decomposition import PCA\n",
    "\n",
    "from sklearn.model_selection import train_test_split\n",
    "from sklearn.model_selection import GridSearchCV\n",
    "import statsmodels.api as sm\n",
    "from sklearn.linear_model import LinearRegression\n",
    "from sklearn.linear_model import RidgeCV\n",
    "from sklearn.linear_model import LassoCV\n",
    "from xgboost import XGBRegressor\n",
    "import lightgbm as lgb\n",
    "\n",
    "from sklearn.model_selection import learning_curve\n",
    "from sklearn.metrics import r2_score\n",
    "from sklearn.metrics import mean_squared_error"
   ]
  },
  {
   "cell_type": "code",
   "execution_count": 2,
   "metadata": {},
   "outputs": [],
   "source": [
    "data = pd.read_csv('train.csv')\n",
    "data = data.drop(['id'],axis=1)"
   ]
  },
  {
   "cell_type": "code",
   "execution_count": 3,
   "metadata": {
    "scrolled": false
   },
   "outputs": [
    {
     "data": {
      "text/html": [
       "<div>\n",
       "<style scoped>\n",
       "    .dataframe tbody tr th:only-of-type {\n",
       "        vertical-align: middle;\n",
       "    }\n",
       "\n",
       "    .dataframe tbody tr th {\n",
       "        vertical-align: top;\n",
       "    }\n",
       "\n",
       "    .dataframe thead th {\n",
       "        text-align: right;\n",
       "    }\n",
       "</style>\n",
       "<table border=\"1\" class=\"dataframe\">\n",
       "  <thead>\n",
       "    <tr style=\"text-align: right;\">\n",
       "      <th></th>\n",
       "      <th>timestamp</th>\n",
       "      <th>full_sq</th>\n",
       "      <th>life_sq</th>\n",
       "      <th>floor</th>\n",
       "      <th>max_floor</th>\n",
       "      <th>material</th>\n",
       "      <th>build_year</th>\n",
       "      <th>num_room</th>\n",
       "      <th>kitch_sq</th>\n",
       "      <th>state</th>\n",
       "      <th>...</th>\n",
       "      <th>cafe_count_5000_price_2500</th>\n",
       "      <th>cafe_count_5000_price_4000</th>\n",
       "      <th>cafe_count_5000_price_high</th>\n",
       "      <th>big_church_count_5000</th>\n",
       "      <th>church_count_5000</th>\n",
       "      <th>mosque_count_5000</th>\n",
       "      <th>leisure_count_5000</th>\n",
       "      <th>sport_count_5000</th>\n",
       "      <th>market_count_5000</th>\n",
       "      <th>price_doc</th>\n",
       "    </tr>\n",
       "  </thead>\n",
       "  <tbody>\n",
       "    <tr>\n",
       "      <td>0</td>\n",
       "      <td>2011-08-20</td>\n",
       "      <td>43</td>\n",
       "      <td>27.0</td>\n",
       "      <td>4.0</td>\n",
       "      <td>NaN</td>\n",
       "      <td>NaN</td>\n",
       "      <td>NaN</td>\n",
       "      <td>NaN</td>\n",
       "      <td>NaN</td>\n",
       "      <td>NaN</td>\n",
       "      <td>...</td>\n",
       "      <td>9</td>\n",
       "      <td>4</td>\n",
       "      <td>0</td>\n",
       "      <td>13</td>\n",
       "      <td>22</td>\n",
       "      <td>1</td>\n",
       "      <td>0</td>\n",
       "      <td>52</td>\n",
       "      <td>4</td>\n",
       "      <td>5850000</td>\n",
       "    </tr>\n",
       "    <tr>\n",
       "      <td>1</td>\n",
       "      <td>2011-08-23</td>\n",
       "      <td>34</td>\n",
       "      <td>19.0</td>\n",
       "      <td>3.0</td>\n",
       "      <td>NaN</td>\n",
       "      <td>NaN</td>\n",
       "      <td>NaN</td>\n",
       "      <td>NaN</td>\n",
       "      <td>NaN</td>\n",
       "      <td>NaN</td>\n",
       "      <td>...</td>\n",
       "      <td>15</td>\n",
       "      <td>3</td>\n",
       "      <td>0</td>\n",
       "      <td>15</td>\n",
       "      <td>29</td>\n",
       "      <td>1</td>\n",
       "      <td>10</td>\n",
       "      <td>66</td>\n",
       "      <td>14</td>\n",
       "      <td>6000000</td>\n",
       "    </tr>\n",
       "    <tr>\n",
       "      <td>2</td>\n",
       "      <td>2011-08-27</td>\n",
       "      <td>43</td>\n",
       "      <td>29.0</td>\n",
       "      <td>2.0</td>\n",
       "      <td>NaN</td>\n",
       "      <td>NaN</td>\n",
       "      <td>NaN</td>\n",
       "      <td>NaN</td>\n",
       "      <td>NaN</td>\n",
       "      <td>NaN</td>\n",
       "      <td>...</td>\n",
       "      <td>10</td>\n",
       "      <td>3</td>\n",
       "      <td>0</td>\n",
       "      <td>11</td>\n",
       "      <td>27</td>\n",
       "      <td>0</td>\n",
       "      <td>4</td>\n",
       "      <td>67</td>\n",
       "      <td>10</td>\n",
       "      <td>5700000</td>\n",
       "    </tr>\n",
       "    <tr>\n",
       "      <td>3</td>\n",
       "      <td>2011-09-01</td>\n",
       "      <td>89</td>\n",
       "      <td>50.0</td>\n",
       "      <td>9.0</td>\n",
       "      <td>NaN</td>\n",
       "      <td>NaN</td>\n",
       "      <td>NaN</td>\n",
       "      <td>NaN</td>\n",
       "      <td>NaN</td>\n",
       "      <td>NaN</td>\n",
       "      <td>...</td>\n",
       "      <td>11</td>\n",
       "      <td>2</td>\n",
       "      <td>1</td>\n",
       "      <td>4</td>\n",
       "      <td>4</td>\n",
       "      <td>0</td>\n",
       "      <td>0</td>\n",
       "      <td>26</td>\n",
       "      <td>3</td>\n",
       "      <td>13100000</td>\n",
       "    </tr>\n",
       "    <tr>\n",
       "      <td>4</td>\n",
       "      <td>2011-09-05</td>\n",
       "      <td>77</td>\n",
       "      <td>77.0</td>\n",
       "      <td>4.0</td>\n",
       "      <td>NaN</td>\n",
       "      <td>NaN</td>\n",
       "      <td>NaN</td>\n",
       "      <td>NaN</td>\n",
       "      <td>NaN</td>\n",
       "      <td>NaN</td>\n",
       "      <td>...</td>\n",
       "      <td>319</td>\n",
       "      <td>108</td>\n",
       "      <td>17</td>\n",
       "      <td>135</td>\n",
       "      <td>236</td>\n",
       "      <td>2</td>\n",
       "      <td>91</td>\n",
       "      <td>195</td>\n",
       "      <td>14</td>\n",
       "      <td>16331452</td>\n",
       "    </tr>\n",
       "  </tbody>\n",
       "</table>\n",
       "<p>5 rows × 291 columns</p>\n",
       "</div>"
      ],
      "text/plain": [
       "    timestamp  full_sq  life_sq  floor  max_floor  material  build_year  \\\n",
       "0  2011-08-20       43     27.0    4.0        NaN       NaN         NaN   \n",
       "1  2011-08-23       34     19.0    3.0        NaN       NaN         NaN   \n",
       "2  2011-08-27       43     29.0    2.0        NaN       NaN         NaN   \n",
       "3  2011-09-01       89     50.0    9.0        NaN       NaN         NaN   \n",
       "4  2011-09-05       77     77.0    4.0        NaN       NaN         NaN   \n",
       "\n",
       "   num_room  kitch_sq  state  ... cafe_count_5000_price_2500  \\\n",
       "0       NaN       NaN    NaN  ...                          9   \n",
       "1       NaN       NaN    NaN  ...                         15   \n",
       "2       NaN       NaN    NaN  ...                         10   \n",
       "3       NaN       NaN    NaN  ...                         11   \n",
       "4       NaN       NaN    NaN  ...                        319   \n",
       "\n",
       "  cafe_count_5000_price_4000  cafe_count_5000_price_high  \\\n",
       "0                          4                           0   \n",
       "1                          3                           0   \n",
       "2                          3                           0   \n",
       "3                          2                           1   \n",
       "4                        108                          17   \n",
       "\n",
       "   big_church_count_5000  church_count_5000  mosque_count_5000  \\\n",
       "0                     13                 22                  1   \n",
       "1                     15                 29                  1   \n",
       "2                     11                 27                  0   \n",
       "3                      4                  4                  0   \n",
       "4                    135                236                  2   \n",
       "\n",
       "   leisure_count_5000  sport_count_5000  market_count_5000  price_doc  \n",
       "0                   0                52                  4    5850000  \n",
       "1                  10                66                 14    6000000  \n",
       "2                   4                67                 10    5700000  \n",
       "3                   0                26                  3   13100000  \n",
       "4                  91               195                 14   16331452  \n",
       "\n",
       "[5 rows x 291 columns]"
      ]
     },
     "execution_count": 3,
     "metadata": {},
     "output_type": "execute_result"
    }
   ],
   "source": [
    "data.head()"
   ]
  },
  {
   "cell_type": "markdown",
   "metadata": {},
   "source": [
    "# 1. EDA (Done in another notebook)"
   ]
  },
  {
   "cell_type": "markdown",
   "metadata": {},
   "source": [
    "# 2. Data clearning"
   ]
  },
  {
   "cell_type": "markdown",
   "metadata": {},
   "source": [
    "## 2.1 Deal with missing data"
   ]
  },
  {
   "cell_type": "code",
   "execution_count": 4,
   "metadata": {
    "scrolled": true
   },
   "outputs": [
    {
     "data": {
      "text/html": [
       "<div>\n",
       "<style scoped>\n",
       "    .dataframe tbody tr th:only-of-type {\n",
       "        vertical-align: middle;\n",
       "    }\n",
       "\n",
       "    .dataframe tbody tr th {\n",
       "        vertical-align: top;\n",
       "    }\n",
       "\n",
       "    .dataframe thead th {\n",
       "        text-align: right;\n",
       "    }\n",
       "</style>\n",
       "<table border=\"1\" class=\"dataframe\">\n",
       "  <thead>\n",
       "    <tr style=\"text-align: right;\">\n",
       "      <th></th>\n",
       "      <th>count</th>\n",
       "    </tr>\n",
       "  </thead>\n",
       "  <tbody>\n",
       "    <tr>\n",
       "      <td>life_sq</td>\n",
       "      <td>24088</td>\n",
       "    </tr>\n",
       "    <tr>\n",
       "      <td>floor</td>\n",
       "      <td>30304</td>\n",
       "    </tr>\n",
       "    <tr>\n",
       "      <td>max_floor</td>\n",
       "      <td>20899</td>\n",
       "    </tr>\n",
       "    <tr>\n",
       "      <td>material</td>\n",
       "      <td>20899</td>\n",
       "    </tr>\n",
       "    <tr>\n",
       "      <td>build_year</td>\n",
       "      <td>16866</td>\n",
       "    </tr>\n",
       "    <tr>\n",
       "      <td>num_room</td>\n",
       "      <td>20899</td>\n",
       "    </tr>\n",
       "    <tr>\n",
       "      <td>kitch_sq</td>\n",
       "      <td>20899</td>\n",
       "    </tr>\n",
       "    <tr>\n",
       "      <td>state</td>\n",
       "      <td>16912</td>\n",
       "    </tr>\n",
       "    <tr>\n",
       "      <td>preschool_quota</td>\n",
       "      <td>23783</td>\n",
       "    </tr>\n",
       "    <tr>\n",
       "      <td>school_quota</td>\n",
       "      <td>23786</td>\n",
       "    </tr>\n",
       "    <tr>\n",
       "      <td>hospital_beds_raion</td>\n",
       "      <td>16030</td>\n",
       "    </tr>\n",
       "    <tr>\n",
       "      <td>raion_build_count_with_material_info</td>\n",
       "      <td>25480</td>\n",
       "    </tr>\n",
       "    <tr>\n",
       "      <td>build_count_block</td>\n",
       "      <td>25480</td>\n",
       "    </tr>\n",
       "    <tr>\n",
       "      <td>build_count_wood</td>\n",
       "      <td>25480</td>\n",
       "    </tr>\n",
       "    <tr>\n",
       "      <td>build_count_frame</td>\n",
       "      <td>25480</td>\n",
       "    </tr>\n",
       "    <tr>\n",
       "      <td>build_count_brick</td>\n",
       "      <td>25480</td>\n",
       "    </tr>\n",
       "    <tr>\n",
       "      <td>build_count_monolith</td>\n",
       "      <td>25480</td>\n",
       "    </tr>\n",
       "    <tr>\n",
       "      <td>build_count_panel</td>\n",
       "      <td>25480</td>\n",
       "    </tr>\n",
       "    <tr>\n",
       "      <td>build_count_foam</td>\n",
       "      <td>25480</td>\n",
       "    </tr>\n",
       "    <tr>\n",
       "      <td>build_count_slag</td>\n",
       "      <td>25480</td>\n",
       "    </tr>\n",
       "    <tr>\n",
       "      <td>build_count_mix</td>\n",
       "      <td>25480</td>\n",
       "    </tr>\n",
       "    <tr>\n",
       "      <td>raion_build_count_with_builddate_info</td>\n",
       "      <td>25480</td>\n",
       "    </tr>\n",
       "    <tr>\n",
       "      <td>build_count_before_1920</td>\n",
       "      <td>25480</td>\n",
       "    </tr>\n",
       "    <tr>\n",
       "      <td>build_count_1921-1945</td>\n",
       "      <td>25480</td>\n",
       "    </tr>\n",
       "    <tr>\n",
       "      <td>build_count_1946-1970</td>\n",
       "      <td>25480</td>\n",
       "    </tr>\n",
       "    <tr>\n",
       "      <td>build_count_1971-1995</td>\n",
       "      <td>25480</td>\n",
       "    </tr>\n",
       "    <tr>\n",
       "      <td>build_count_after_1995</td>\n",
       "      <td>25480</td>\n",
       "    </tr>\n",
       "    <tr>\n",
       "      <td>metro_min_walk</td>\n",
       "      <td>30446</td>\n",
       "    </tr>\n",
       "    <tr>\n",
       "      <td>metro_km_walk</td>\n",
       "      <td>30446</td>\n",
       "    </tr>\n",
       "    <tr>\n",
       "      <td>railroad_station_walk_km</td>\n",
       "      <td>30446</td>\n",
       "    </tr>\n",
       "    <tr>\n",
       "      <td>railroad_station_walk_min</td>\n",
       "      <td>30446</td>\n",
       "    </tr>\n",
       "    <tr>\n",
       "      <td>ID_railroad_station_walk</td>\n",
       "      <td>30446</td>\n",
       "    </tr>\n",
       "    <tr>\n",
       "      <td>cafe_sum_500_min_price_avg</td>\n",
       "      <td>17190</td>\n",
       "    </tr>\n",
       "    <tr>\n",
       "      <td>cafe_sum_500_max_price_avg</td>\n",
       "      <td>17190</td>\n",
       "    </tr>\n",
       "    <tr>\n",
       "      <td>cafe_avg_price_500</td>\n",
       "      <td>17190</td>\n",
       "    </tr>\n",
       "    <tr>\n",
       "      <td>cafe_sum_1000_min_price_avg</td>\n",
       "      <td>23947</td>\n",
       "    </tr>\n",
       "    <tr>\n",
       "      <td>cafe_sum_1000_max_price_avg</td>\n",
       "      <td>23947</td>\n",
       "    </tr>\n",
       "    <tr>\n",
       "      <td>cafe_avg_price_1000</td>\n",
       "      <td>23947</td>\n",
       "    </tr>\n",
       "    <tr>\n",
       "      <td>cafe_sum_1500_min_price_avg</td>\n",
       "      <td>26272</td>\n",
       "    </tr>\n",
       "    <tr>\n",
       "      <td>cafe_sum_1500_max_price_avg</td>\n",
       "      <td>26272</td>\n",
       "    </tr>\n",
       "    <tr>\n",
       "      <td>cafe_avg_price_1500</td>\n",
       "      <td>26272</td>\n",
       "    </tr>\n",
       "    <tr>\n",
       "      <td>cafe_sum_2000_min_price_avg</td>\n",
       "      <td>28746</td>\n",
       "    </tr>\n",
       "    <tr>\n",
       "      <td>cafe_sum_2000_max_price_avg</td>\n",
       "      <td>28746</td>\n",
       "    </tr>\n",
       "    <tr>\n",
       "      <td>cafe_avg_price_2000</td>\n",
       "      <td>28746</td>\n",
       "    </tr>\n",
       "    <tr>\n",
       "      <td>cafe_sum_3000_min_price_avg</td>\n",
       "      <td>29480</td>\n",
       "    </tr>\n",
       "    <tr>\n",
       "      <td>cafe_sum_3000_max_price_avg</td>\n",
       "      <td>29480</td>\n",
       "    </tr>\n",
       "    <tr>\n",
       "      <td>cafe_avg_price_3000</td>\n",
       "      <td>29480</td>\n",
       "    </tr>\n",
       "    <tr>\n",
       "      <td>prom_part_5000</td>\n",
       "      <td>30293</td>\n",
       "    </tr>\n",
       "    <tr>\n",
       "      <td>cafe_sum_5000_min_price_avg</td>\n",
       "      <td>30174</td>\n",
       "    </tr>\n",
       "    <tr>\n",
       "      <td>cafe_sum_5000_max_price_avg</td>\n",
       "      <td>30174</td>\n",
       "    </tr>\n",
       "    <tr>\n",
       "      <td>cafe_avg_price_5000</td>\n",
       "      <td>30174</td>\n",
       "    </tr>\n",
       "  </tbody>\n",
       "</table>\n",
       "</div>"
      ],
      "text/plain": [
       "                                       count\n",
       "life_sq                                24088\n",
       "floor                                  30304\n",
       "max_floor                              20899\n",
       "material                               20899\n",
       "build_year                             16866\n",
       "num_room                               20899\n",
       "kitch_sq                               20899\n",
       "state                                  16912\n",
       "preschool_quota                        23783\n",
       "school_quota                           23786\n",
       "hospital_beds_raion                    16030\n",
       "raion_build_count_with_material_info   25480\n",
       "build_count_block                      25480\n",
       "build_count_wood                       25480\n",
       "build_count_frame                      25480\n",
       "build_count_brick                      25480\n",
       "build_count_monolith                   25480\n",
       "build_count_panel                      25480\n",
       "build_count_foam                       25480\n",
       "build_count_slag                       25480\n",
       "build_count_mix                        25480\n",
       "raion_build_count_with_builddate_info  25480\n",
       "build_count_before_1920                25480\n",
       "build_count_1921-1945                  25480\n",
       "build_count_1946-1970                  25480\n",
       "build_count_1971-1995                  25480\n",
       "build_count_after_1995                 25480\n",
       "metro_min_walk                         30446\n",
       "metro_km_walk                          30446\n",
       "railroad_station_walk_km               30446\n",
       "railroad_station_walk_min              30446\n",
       "ID_railroad_station_walk               30446\n",
       "cafe_sum_500_min_price_avg             17190\n",
       "cafe_sum_500_max_price_avg             17190\n",
       "cafe_avg_price_500                     17190\n",
       "cafe_sum_1000_min_price_avg            23947\n",
       "cafe_sum_1000_max_price_avg            23947\n",
       "cafe_avg_price_1000                    23947\n",
       "cafe_sum_1500_min_price_avg            26272\n",
       "cafe_sum_1500_max_price_avg            26272\n",
       "cafe_avg_price_1500                    26272\n",
       "cafe_sum_2000_min_price_avg            28746\n",
       "cafe_sum_2000_max_price_avg            28746\n",
       "cafe_avg_price_2000                    28746\n",
       "cafe_sum_3000_min_price_avg            29480\n",
       "cafe_sum_3000_max_price_avg            29480\n",
       "cafe_avg_price_3000                    29480\n",
       "prom_part_5000                         30293\n",
       "cafe_sum_5000_min_price_avg            30174\n",
       "cafe_sum_5000_max_price_avg            30174\n",
       "cafe_avg_price_5000                    30174"
      ]
     },
     "execution_count": 4,
     "metadata": {},
     "output_type": "execute_result"
    }
   ],
   "source": [
    "count_df = pd.DataFrame(data.count(),columns=['count'])\n",
    "count_df[count_df['count'] != len(data)]"
   ]
  },
  {
   "cell_type": "markdown",
   "metadata": {},
   "source": [
    "### 2.1.1 Exclude features with too many missing values"
   ]
  },
  {
   "cell_type": "code",
   "execution_count": 5,
   "metadata": {
    "scrolled": true
   },
   "outputs": [
    {
     "data": {
      "text/plain": [
       "Index(['build_year', 'state', 'hospital_beds_raion',\n",
       "       'cafe_sum_500_min_price_avg', 'cafe_sum_500_max_price_avg',\n",
       "       'cafe_avg_price_500'],\n",
       "      dtype='object')"
      ]
     },
     "execution_count": 5,
     "metadata": {},
     "output_type": "execute_result"
    }
   ],
   "source": [
    "count_df[count_df['count'] < 20000].index"
   ]
  },
  {
   "cell_type": "code",
   "execution_count": 6,
   "metadata": {},
   "outputs": [],
   "source": [
    "data = data.drop(count_df[count_df['count'] < 20000].index,axis=1)"
   ]
  },
  {
   "cell_type": "markdown",
   "metadata": {},
   "source": [
    "### 2.1.2 Fill missing values"
   ]
  },
  {
   "cell_type": "code",
   "execution_count": 7,
   "metadata": {},
   "outputs": [
    {
     "data": {
      "text/plain": [
       "['timestamp',\n",
       " 'product_type',\n",
       " 'sub_area',\n",
       " 'culture_objects_top_25',\n",
       " 'thermal_power_plant_raion',\n",
       " 'incineration_raion',\n",
       " 'oil_chemistry_raion',\n",
       " 'radiation_raion',\n",
       " 'railroad_terminal_raion',\n",
       " 'big_market_raion',\n",
       " 'nuclear_reactor_raion',\n",
       " 'detention_facility_raion',\n",
       " 'water_1line',\n",
       " 'big_road1_1line',\n",
       " 'railroad_1line',\n",
       " 'ecology']"
      ]
     },
     "execution_count": 7,
     "metadata": {},
     "output_type": "execute_result"
    }
   ],
   "source": [
    "text_features = []\n",
    "for x in data.columns:\n",
    "    if data[x].dtype == object: text_features.append(x)\n",
    "        \n",
    "text_features"
   ]
  },
  {
   "cell_type": "code",
   "execution_count": 8,
   "metadata": {},
   "outputs": [],
   "source": [
    "for x in data.columns.drop(text_features):\n",
    "    data[x] = data[x].fillna(data[x].mean())"
   ]
  },
  {
   "cell_type": "markdown",
   "metadata": {},
   "source": [
    "## 2.2 Outliers in average prices"
   ]
  },
  {
   "cell_type": "code",
   "execution_count": 9,
   "metadata": {},
   "outputs": [
    {
     "data": {
      "image/png": "[encoded data removed]",
      "text/plain": [
       "<Figure size 432x288 with 1 Axes>"
      ]
     },
     "metadata": {
      "needs_background": "light"
     },
     "output_type": "display_data"
    }
   ],
   "source": [
    "plt.boxplot(data['price_doc'])\n",
    "plt.show()"
   ]
  },
  {
   "cell_type": "code",
   "execution_count": 10,
   "metadata": {
    "scrolled": true
   },
   "outputs": [
    {
     "data": {
      "text/plain": [
       "count    3.047100e+04\n",
       "mean     7.123035e+06\n",
       "std      4.780111e+06\n",
       "min      1.000000e+05\n",
       "25%      4.740002e+06\n",
       "50%      6.274411e+06\n",
       "75%      8.300000e+06\n",
       "max      1.111111e+08\n",
       "Name: price_doc, dtype: float64"
      ]
     },
     "execution_count": 10,
     "metadata": {},
     "output_type": "execute_result"
    }
   ],
   "source": [
    "data['price_doc'].describe()"
   ]
  },
  {
   "cell_type": "code",
   "execution_count": 11,
   "metadata": {},
   "outputs": [],
   "source": [
    "data = data[data['price_doc'] < 80000000]"
   ]
  },
  {
   "cell_type": "markdown",
   "metadata": {},
   "source": [
    "# 3. Feature Engineering"
   ]
  },
  {
   "cell_type": "markdown",
   "metadata": {},
   "source": [
    "## 3.1 Build new features"
   ]
  },
  {
   "cell_type": "markdown",
   "metadata": {},
   "source": [
    "### 3.1.1 Time"
   ]
  },
  {
   "cell_type": "code",
   "execution_count": 12,
   "metadata": {},
   "outputs": [],
   "source": [
    "data['timestamp_year'] = data['timestamp'].apply(lambda x: re.findall(r'([0-9]{4})',x)[0])\n",
    "data['timestamp_month'] = data['timestamp'].apply(lambda x: re.findall(r'-([0-9]{2})-',x)[0])\n",
    "data['timestamp_day'] = data['timestamp'].apply(lambda x: re.findall(r'[0-9]{2}\\Z',x)[0])"
   ]
  },
  {
   "cell_type": "code",
   "execution_count": 13,
   "metadata": {},
   "outputs": [],
   "source": [
    "data['timestamp'] = data['timestamp'].apply(lambda x:  datetime.timestamp(datetime.strptime(x,'%Y-%m-%d')))"
   ]
  },
  {
   "cell_type": "markdown",
   "metadata": {},
   "source": [
    "### 3.1.2 Floor ratio"
   ]
  },
  {
   "cell_type": "code",
   "execution_count": 14,
   "metadata": {},
   "outputs": [],
   "source": [
    "data = data[data['max_floor'] != 0]\n",
    "data['floor_ratio'] = data['floor']/data['max_floor'].astype(float)"
   ]
  },
  {
   "cell_type": "markdown",
   "metadata": {},
   "source": [
    "### 3.1.3 Area ratio"
   ]
  },
  {
   "cell_type": "code",
   "execution_count": 15,
   "metadata": {},
   "outputs": [],
   "source": [
    "data = data[data['full_sq'] != 0]\n",
    "data['kitch_ratio'] = data['kitch_sq']/data['full_sq'].astype(float)\n",
    "data['life_ratio'] = data['life_sq']/data['full_sq'].astype(float)"
   ]
  },
  {
   "cell_type": "markdown",
   "metadata": {},
   "source": [
    "### 3.1.4 Average sq per room"
   ]
  },
  {
   "cell_type": "code",
   "execution_count": 16,
   "metadata": {},
   "outputs": [],
   "source": [
    "data = data[data['num_room'] != 0]\n",
    "data['sq_per_room'] = data['life_sq']/data['num_room'].astype(float)"
   ]
  },
  {
   "cell_type": "markdown",
   "metadata": {},
   "source": [
    "## 3.2 Feature transfoming"
   ]
  },
  {
   "cell_type": "code",
   "execution_count": 17,
   "metadata": {},
   "outputs": [],
   "source": [
    "text_features = []\n",
    "for x in data.columns:\n",
    "    if data[x].dtype == object: text_features.append(x)\n",
    "for x in text_features:\n",
    "    data[x] = LabelEncoder().fit_transform(data[x])"
   ]
  },
  {
   "cell_type": "markdown",
   "metadata": {},
   "source": [
    "## 3.3 Deal with outliers\n",
    "In the EDA, full_sq and life_sq are found to be extremely related to the target(price_doc). Hence, first use three sigma rule to delete outliers in these two features."
   ]
  },
  {
   "cell_type": "code",
   "execution_count": 18,
   "metadata": {},
   "outputs": [
    {
     "data": {
      "text/plain": [
       "{'whiskers': [<matplotlib.lines.Line2D at 0x2371f806b88>,\n",
       "  <matplotlib.lines.Line2D at 0x2371f806508>],\n",
       " 'caps': [<matplotlib.lines.Line2D at 0x2371f806048>,\n",
       "  <matplotlib.lines.Line2D at 0x2371f805888>],\n",
       " 'boxes': [<matplotlib.lines.Line2D at 0x2371f807488>],\n",
       " 'medians': [<matplotlib.lines.Line2D at 0x2371f805188>],\n",
       " 'fliers': [<matplotlib.lines.Line2D at 0x2371f805088>],\n",
       " 'means': []}"
      ]
     },
     "execution_count": 18,
     "metadata": {},
     "output_type": "execute_result"
    },
    {
     "data": {
      "image/png": "[encoded data removed]",
      "text/plain": [
       "<Figure size 432x288 with 1 Axes>"
      ]
     },
     "metadata": {
      "needs_background": "light"
     },
     "output_type": "display_data"
    }
   ],
   "source": [
    "plt.boxplot(data['full_sq'])"
   ]
  },
  {
   "cell_type": "code",
   "execution_count": 19,
   "metadata": {},
   "outputs": [
    {
     "data": {
      "text/plain": [
       "{'whiskers': [<matplotlib.lines.Line2D at 0x2371f807848>,\n",
       "  <matplotlib.lines.Line2D at 0x2371f7ed308>],\n",
       " 'caps': [<matplotlib.lines.Line2D at 0x2371f7ec448>,\n",
       "  <matplotlib.lines.Line2D at 0x2371f7ec308>],\n",
       " 'boxes': [<matplotlib.lines.Line2D at 0x2371f7edd48>],\n",
       " 'medians': [<matplotlib.lines.Line2D at 0x2371f7eb448>],\n",
       " 'fliers': [<matplotlib.lines.Line2D at 0x2371f7eb348>],\n",
       " 'means': []}"
      ]
     },
     "execution_count": 19,
     "metadata": {},
     "output_type": "execute_result"
    },
    {
     "data": {
      "image/png": "[encoded data removed]",
      "text/plain": [
       "<Figure size 432x288 with 1 Axes>"
      ]
     },
     "metadata": {
      "needs_background": "light"
     },
     "output_type": "display_data"
    }
   ],
   "source": [
    "plt.boxplot(data['life_sq'])"
   ]
  },
  {
   "cell_type": "code",
   "execution_count": 20,
   "metadata": {},
   "outputs": [],
   "source": [
    "def three_sigma(df_col):\n",
    "    rule = (df_col.mean() - 3 * df_col.std() > df_col) | (df_col.mean() + 3 * df_col.std() < df_col)\n",
    "    index = np.arange(df_col.shape[0])[rule]\n",
    "    outrange = df_col.iloc[index]\n",
    "    return outrange"
   ]
  },
  {
   "cell_type": "code",
   "execution_count": 21,
   "metadata": {},
   "outputs": [],
   "source": [
    "data = data.drop(three_sigma(data['full_sq']).index)\n",
    "data = data.drop(three_sigma(data['life_sq']).index)"
   ]
  },
  {
   "cell_type": "code",
   "execution_count": 22,
   "metadata": {
    "scrolled": false
   },
   "outputs": [],
   "source": [
    "# Check outliers using Local Outlier factor\n",
    "lof = LocalOutlierFactor(contamination=0.05)\n",
    "outlier = lof.fit_predict(data)"
   ]
  },
  {
   "cell_type": "code",
   "execution_count": 23,
   "metadata": {
    "scrolled": true
   },
   "outputs": [
    {
     "data": {
      "text/plain": [
       "28331"
      ]
     },
     "execution_count": 23,
     "metadata": {},
     "output_type": "execute_result"
    }
   ],
   "source": [
    "# outlier: -1, non_outlier:1\n",
    "sum(outlier == 1)"
   ]
  },
  {
   "cell_type": "code",
   "execution_count": 24,
   "metadata": {},
   "outputs": [],
   "source": [
    "data = data[outlier == 1]"
   ]
  },
  {
   "cell_type": "markdown",
   "metadata": {},
   "source": [
    "## 3.4 Choose most relevant features"
   ]
  },
  {
   "cell_type": "code",
   "execution_count": 25,
   "metadata": {},
   "outputs": [],
   "source": [
    "all_features = data.columns\n",
    "all_features = all_features.drop(['price_doc'])"
   ]
  },
  {
   "cell_type": "code",
   "execution_count": 26,
   "metadata": {},
   "outputs": [],
   "source": [
    "all_corr = []\n",
    "for x in all_features:\n",
    "    all_corr.append(np.corrcoef(data['price_doc'],data[x])[0,1])"
   ]
  },
  {
   "cell_type": "code",
   "execution_count": 27,
   "metadata": {
    "scrolled": true
   },
   "outputs": [
    {
     "data": {
      "text/html": [
       "<div>\n",
       "<style scoped>\n",
       "    .dataframe tbody tr th:only-of-type {\n",
       "        vertical-align: middle;\n",
       "    }\n",
       "\n",
       "    .dataframe tbody tr th {\n",
       "        vertical-align: top;\n",
       "    }\n",
       "\n",
       "    .dataframe thead th {\n",
       "        text-align: right;\n",
       "    }\n",
       "</style>\n",
       "<table border=\"1\" class=\"dataframe\">\n",
       "  <thead>\n",
       "    <tr style=\"text-align: right;\">\n",
       "      <th></th>\n",
       "      <th>corrcoef</th>\n",
       "    </tr>\n",
       "  </thead>\n",
       "  <tbody>\n",
       "    <tr>\n",
       "      <td>build_count_1971-1995</td>\n",
       "      <td>0.000093</td>\n",
       "    </tr>\n",
       "    <tr>\n",
       "      <td>prom_part_500</td>\n",
       "      <td>0.001110</td>\n",
       "    </tr>\n",
       "    <tr>\n",
       "      <td>build_count_foam</td>\n",
       "      <td>0.002418</td>\n",
       "    </tr>\n",
       "    <tr>\n",
       "      <td>cafe_sum_3000_min_price_avg</td>\n",
       "      <td>0.002606</td>\n",
       "    </tr>\n",
       "    <tr>\n",
       "      <td>trc_sqm_500</td>\n",
       "      <td>0.003674</td>\n",
       "    </tr>\n",
       "    <tr>\n",
       "      <td>...</td>\n",
       "      <td>...</td>\n",
       "    </tr>\n",
       "    <tr>\n",
       "      <td>trc_count_5000</td>\n",
       "      <td>0.311731</td>\n",
       "    </tr>\n",
       "    <tr>\n",
       "      <td>sport_count_5000</td>\n",
       "      <td>0.317406</td>\n",
       "    </tr>\n",
       "    <tr>\n",
       "      <td>life_sq</td>\n",
       "      <td>0.410268</td>\n",
       "    </tr>\n",
       "    <tr>\n",
       "      <td>num_room</td>\n",
       "      <td>0.421749</td>\n",
       "    </tr>\n",
       "    <tr>\n",
       "      <td>full_sq</td>\n",
       "      <td>0.599633</td>\n",
       "    </tr>\n",
       "  </tbody>\n",
       "</table>\n",
       "<p>291 rows × 1 columns</p>\n",
       "</div>"
      ],
      "text/plain": [
       "                             corrcoef\n",
       "build_count_1971-1995        0.000093\n",
       "prom_part_500                0.001110\n",
       "build_count_foam             0.002418\n",
       "cafe_sum_3000_min_price_avg  0.002606\n",
       "trc_sqm_500                  0.003674\n",
       "...                               ...\n",
       "trc_count_5000               0.311731\n",
       "sport_count_5000             0.317406\n",
       "life_sq                      0.410268\n",
       "num_room                     0.421749\n",
       "full_sq                      0.599633\n",
       "\n",
       "[291 rows x 1 columns]"
      ]
     },
     "execution_count": 27,
     "metadata": {},
     "output_type": "execute_result"
    }
   ],
   "source": [
    "corr = pd.Series(np.absolute(all_corr),index=all_features).dropna().sort_values().to_frame()\n",
    "corr.columns = ['corrcoef']\n",
    "corr"
   ]
  },
  {
   "cell_type": "code",
   "execution_count": 28,
   "metadata": {},
   "outputs": [
    {
     "data": {
      "text/plain": [
       "full_sq                        0.599633\n",
       "num_room                       0.421749\n",
       "life_sq                        0.410268\n",
       "sport_count_5000               0.317406\n",
       "trc_count_5000                 0.311731\n",
       "                                 ...   \n",
       "trc_sqm_500                    0.003674\n",
       "cafe_sum_3000_min_price_avg    0.002606\n",
       "build_count_foam               0.002418\n",
       "prom_part_500                  0.001110\n",
       "build_count_1971-1995          0.000093\n",
       "Length: 291, dtype: float64"
      ]
     },
     "execution_count": 28,
     "metadata": {},
     "output_type": "execute_result"
    }
   ],
   "source": [
    "corr = pd.Series(np.absolute(all_corr),index=all_features).dropna().sort_values(ascending=False)\n",
    "corr"
   ]
  },
  {
   "cell_type": "markdown",
   "metadata": {},
   "source": [
    "Manully choose features with highest correlation coefficients"
   ]
  },
  {
   "cell_type": "code",
   "execution_count": 29,
   "metadata": {
    "scrolled": false
   },
   "outputs": [
    {
     "data": {
      "text/plain": [
       "Index(['full_sq', 'num_room', 'life_sq', 'sport_count_5000', 'trc_count_5000',\n",
       "       'zd_vokzaly_avto_km', 'sport_count_3000', 'sadovoe_km',\n",
       "       'bulvar_ring_km', 'kremlin_km', 'sport_count_2000', 'ttk_km',\n",
       "       'trc_sqm_5000', 'office_sqm_5000', 'sport_count_1500',\n",
       "       'nuclear_reactor_km', 'sport_objects_raion', 'trc_count_3000',\n",
       "       'stadium_km', 'cafe_count_5000_price_1000', 'detention_facility_km',\n",
       "       'basketball_km', 'office_km', 'trc_sqm_3000', 'office_sqm_3000',\n",
       "       'cafe_count_5000_price_1500', 'cafe_count_5000',\n",
       "       'cafe_count_5000_na_price', 'cafe_count_5000_price_500',\n",
       "       'university_km', 'catering_km', 'office_sqm_2000',\n",
       "       'cafe_count_5000_price_2500', 'swim_pool_km', 'workplaces_km',\n",
       "       'theater_km', 'office_count_5000', 'thermal_power_plant_km',\n",
       "       'exhibition_km', 'cafe_count_5000_price_high', 'church_count_5000',\n",
       "       'sport_count_1000', 'school_education_centers_raion',\n",
       "       'market_count_5000', 'cafe_count_5000_price_4000', 'big_church_km',\n",
       "       'fitness_km', 'office_sqm_1500', 'museum_km', 'metro_min_avto'],\n",
       "      dtype='object')"
      ]
     },
     "execution_count": 29,
     "metadata": {},
     "output_type": "execute_result"
    }
   ],
   "source": [
    "corr.index[:50]"
   ]
  },
  {
   "cell_type": "code",
   "execution_count": 30,
   "metadata": {},
   "outputs": [],
   "source": [
    "features_choosen = corr.index[:50]"
   ]
  },
  {
   "cell_type": "markdown",
   "metadata": {},
   "source": [
    "## 3.5 A quick demo/check\n",
    "### 3.5.1 Linear regression and learning curve"
   ]
  },
  {
   "cell_type": "code",
   "execution_count": 31,
   "metadata": {},
   "outputs": [],
   "source": [
    "X_train, X_test, y_train, y_test = train_test_split(data[features_choosen], data['price_doc'], test_size=0.2, random_state = 4)\n",
    "X_train_intercept = sm.add_constant(X_train)\n",
    "LR = sm.OLS(y_train,X_train_intercept).fit()"
   ]
  },
  {
   "cell_type": "code",
   "execution_count": 32,
   "metadata": {
    "scrolled": true
   },
   "outputs": [
    {
     "name": "stdout",
     "output_type": "stream",
     "text": [
      "                            OLS Regression Results                            \n",
      "==============================================================================\n",
      "Dep. Variable:              price_doc   R-squared:                       0.568\n",
      "Model:                            OLS   Adj. R-squared:                  0.567\n",
      "Method:                 Least Squares   F-statistic:                     607.5\n",
      "Date:                Sat, 18 Jan 2020   Prob (F-statistic):               0.00\n",
      "Time:                        21:47:48   Log-Likelihood:            -3.6793e+05\n",
      "No. Observations:               22664   AIC:                         7.360e+05\n",
      "Df Residuals:                   22614   BIC:                         7.364e+05\n",
      "Df Model:                          49                                         \n",
      "Covariance Type:            nonrobust                                         \n",
      "==================================================================================================\n",
      "                                     coef    std err          t      P>|t|      [0.025      0.975]\n",
      "--------------------------------------------------------------------------------------------------\n",
      "const                          -1.956e+06   3.83e+05     -5.109      0.000   -2.71e+06   -1.21e+06\n",
      "full_sq                         1.246e+05   1498.389     83.136      0.000    1.22e+05    1.28e+05\n",
      "num_room                       -1.248e+04   3.44e+04     -0.363      0.717   -7.99e+04    5.49e+04\n",
      "life_sq                         9302.1620   1638.820      5.676      0.000    6089.961    1.25e+04\n",
      "sport_count_5000                8552.4348   2860.643      2.990      0.003    2945.377    1.42e+04\n",
      "trc_count_5000                  1.074e+04   4849.644      2.215      0.027    1236.416    2.02e+04\n",
      "zd_vokzaly_avto_km             -8744.9102   1.17e+04     -0.747      0.455   -3.17e+04    1.42e+04\n",
      "sport_count_3000                3543.4877   4934.125      0.718      0.473   -6127.737    1.32e+04\n",
      "sadovoe_km                      -2.16e+06   1.02e+05    -21.197      0.000   -2.36e+06   -1.96e+06\n",
      "bulvar_ring_km                  2.922e+05   1.36e+05      2.150      0.032    2.59e+04    5.59e+05\n",
      "kremlin_km                      1.455e+06   1.05e+05     13.894      0.000    1.25e+06    1.66e+06\n",
      "sport_count_2000                2.481e+04   8975.575      2.764      0.006    7218.899    4.24e+04\n",
      "ttk_km                           3.33e+05   5.37e+04      6.200      0.000    2.28e+05    4.38e+05\n",
      "trc_sqm_5000                      -0.2548      0.060     -4.261      0.000      -0.372      -0.138\n",
      "office_sqm_5000                    0.8168      0.070     11.657      0.000       0.679       0.954\n",
      "sport_count_1500               -1432.2740   1.14e+04     -0.125      0.900   -2.39e+04     2.1e+04\n",
      "nuclear_reactor_km             -6.309e+04    1.1e+04     -5.760      0.000   -8.46e+04   -4.16e+04\n",
      "sport_objects_raion            -5105.6232   6576.767     -0.776      0.438    -1.8e+04    7785.294\n",
      "trc_count_3000                   586.0660   6680.346      0.088      0.930   -1.25e+04    1.37e+04\n",
      "stadium_km                     -5.205e+04   1.03e+04     -5.052      0.000   -7.22e+04   -3.19e+04\n",
      "cafe_count_5000_price_1000     -1.952e+04   5065.930     -3.854      0.000   -2.95e+04   -9594.343\n",
      "detention_facility_km           2.316e+04   6600.146      3.510      0.000    1.02e+04    3.61e+04\n",
      "basketball_km                    5.39e+04   2.21e+04      2.433      0.015    1.05e+04    9.73e+04\n",
      "office_km                       8.136e+04   1.91e+04      4.250      0.000    4.38e+04    1.19e+05\n",
      "trc_sqm_3000                       0.4123      0.092      4.484      0.000       0.232       0.593\n",
      "office_sqm_3000                   -0.7891      0.107     -7.357      0.000      -0.999      -0.579\n",
      "cafe_count_5000_price_1500      3574.2970   4973.263      0.719      0.472   -6173.642    1.33e+04\n",
      "cafe_count_5000                 1.827e+04   3134.136      5.829      0.000    1.21e+04    2.44e+04\n",
      "cafe_count_5000_na_price       -2.012e+04   7565.967     -2.659      0.008   -3.49e+04   -5289.313\n",
      "cafe_count_5000_price_500      -2.422e+04   5214.816     -4.645      0.000   -3.44e+04    -1.4e+04\n",
      "university_km                   6.976e+04   1.14e+04      6.117      0.000    4.74e+04    9.21e+04\n",
      "catering_km                    -2.065e+05    3.6e+04     -5.737      0.000   -2.77e+05   -1.36e+05\n",
      "office_sqm_2000                    0.9036      0.184      4.919      0.000       0.543       1.264\n",
      "cafe_count_5000_price_2500     -1308.7012   7844.010     -0.167      0.867   -1.67e+04    1.41e+04\n",
      "swim_pool_km                   -3.603e+04   1.34e+04     -2.681      0.007   -6.24e+04   -9693.215\n",
      "workplaces_km                  -4.064e+04   1.63e+04     -2.490      0.013   -7.26e+04   -8648.049\n",
      "theater_km                     -6.322e+04   1.01e+04     -6.279      0.000    -8.3e+04   -4.35e+04\n",
      "office_count_5000              -2.041e+04   2317.872     -8.804      0.000   -2.49e+04   -1.59e+04\n",
      "thermal_power_plant_km          8.724e+04   1.47e+04      5.928      0.000    5.84e+04    1.16e+05\n",
      "exhibition_km                   7.882e+04   1.47e+04      5.351      0.000    4.99e+04    1.08e+05\n",
      "cafe_count_5000_price_high      1.356e+05   2.59e+04      5.238      0.000    8.48e+04    1.86e+05\n",
      "church_count_5000              -1.012e+04   4579.210     -2.209      0.027   -1.91e+04   -1141.813\n",
      "sport_count_1000                2.225e+04   1.26e+04      1.763      0.078   -2482.102     4.7e+04\n",
      "school_education_centers_raion  1.224e+05   9720.791     12.597      0.000    1.03e+05    1.42e+05\n",
      "market_count_5000               -7.38e+04   9498.645     -7.770      0.000   -9.24e+04   -5.52e+04\n",
      "cafe_count_5000_price_4000     -5.571e+04   9782.381     -5.695      0.000   -7.49e+04   -3.65e+04\n",
      "big_church_km                   -9.29e+04   2.03e+04     -4.565      0.000   -1.33e+05    -5.3e+04\n",
      "fitness_km                     -2.589e+04    2.4e+04     -1.078      0.281    -7.3e+04    2.12e+04\n",
      "office_sqm_1500                   -1.3639      0.202     -6.764      0.000      -1.759      -0.969\n",
      "museum_km                      -2849.9451   1.26e+04     -0.226      0.821   -2.75e+04    2.18e+04\n",
      "metro_min_avto                 -2.388e+04   8020.228     -2.978      0.003   -3.96e+04   -8160.436\n",
      "==============================================================================\n",
      "Omnibus:                     5618.782   Durbin-Watson:                   1.985\n",
      "Prob(Omnibus):                  0.000   Jarque-Bera (JB):           174590.471\n",
      "Skew:                           0.546   Prob(JB):                         0.00\n",
      "Kurtosis:                      16.553   Cond. No.                     1.31e+16\n",
      "==============================================================================\n",
      "\n",
      "Warnings:\n",
      "[1] Standard Errors assume that the covariance matrix of the errors is correctly specified.\n",
      "[2] The smallest eigenvalue is 1.38e-15. This might indicate that there are\n",
      "strong multicollinearity problems or that the design matrix is singular.\n"
     ]
    }
   ],
   "source": [
    "print(LR.summary())"
   ]
  },
  {
   "cell_type": "code",
   "execution_count": 33,
   "metadata": {},
   "outputs": [],
   "source": [
    "X_test_intercept = sm.add_constant(X_test)\n",
    "y_predict_LR = LR.predict(X_test_intercept)"
   ]
  },
  {
   "cell_type": "code",
   "execution_count": 34,
   "metadata": {
    "scrolled": true
   },
   "outputs": [
    {
     "data": {
      "text/plain": [
       "0.5682735562678369"
      ]
     },
     "execution_count": 34,
     "metadata": {},
     "output_type": "execute_result"
    }
   ],
   "source": [
    "r2_score(y_train,LR.predict(X_train_intercept))"
   ]
  },
  {
   "cell_type": "code",
   "execution_count": 35,
   "metadata": {
    "scrolled": false
   },
   "outputs": [
    {
     "data": {
      "text/plain": [
       "0.553262118132723"
      ]
     },
     "execution_count": 35,
     "metadata": {},
     "output_type": "execute_result"
    }
   ],
   "source": [
    "r2_score(y_test,y_predict_LR)"
   ]
  },
  {
   "cell_type": "code",
   "execution_count": 36,
   "metadata": {},
   "outputs": [],
   "source": [
    "# Define error: Root Mean Squared Logarithmic Error\n",
    "def rmsle(y, y0):\n",
    "    assert len(y) == len(y0)\n",
    "    return np.sqrt(np.mean(np.power(np.log1p(y)-np.log1p(y0), 2)))"
   ]
  },
  {
   "cell_type": "code",
   "execution_count": 37,
   "metadata": {
    "scrolled": true
   },
   "outputs": [
    {
     "data": {
      "text/plain": [
       "0.5051577668177394"
      ]
     },
     "execution_count": 37,
     "metadata": {},
     "output_type": "execute_result"
    }
   ],
   "source": [
    "rmsle(y_train,LR.predict(X_train_intercept))"
   ]
  },
  {
   "cell_type": "code",
   "execution_count": 38,
   "metadata": {
    "scrolled": true
   },
   "outputs": [
    {
     "data": {
      "text/plain": [
       "0.5086367409658532"
      ]
     },
     "execution_count": 38,
     "metadata": {},
     "output_type": "execute_result"
    }
   ],
   "source": [
    "rmsle(y_test,y_predict_LR)"
   ]
  },
  {
   "cell_type": "code",
   "execution_count": 39,
   "metadata": {
    "scrolled": true
   },
   "outputs": [
    {
     "data": {
      "text/plain": [
       "Text(0, 0.5, 'Predicted')"
      ]
     },
     "execution_count": 39,
     "metadata": {},
     "output_type": "execute_result"
    },
    {
     "data": {
      "image/png": "[encoded data removed]",
      "text/plain": [
       "<Figure size 432x288 with 1 Axes>"
      ]
     },
     "metadata": {
      "needs_background": "light"
     },
     "output_type": "display_data"
    }
   ],
   "source": [
    "plt.scatter(y_test,y_predict_LR,alpha=0.3)\n",
    "plt.plot([y_test.min(), y_test.max()], [y_test.min(), y_test.max()], 'k--', lw=2)\n",
    "plt.xlabel('Actual')\n",
    "plt.ylabel('Predicted')"
   ]
  },
  {
   "cell_type": "code",
   "execution_count": 40,
   "metadata": {
    "scrolled": true
   },
   "outputs": [
    {
     "data": {
      "text/plain": [
       "<matplotlib.legend.Legend at 0x2371f77f248>"
      ]
     },
     "execution_count": 40,
     "metadata": {},
     "output_type": "execute_result"
    },
    {
     "data": {
      "image/png": "[encoded data removed]",
      "text/plain": [
       "<Figure size 432x288 with 1 Axes>"
      ]
     },
     "metadata": {
      "needs_background": "light"
     },
     "output_type": "display_data"
    }
   ],
   "source": [
    "LR = LinearRegression()\n",
    "learn_curve = learning_curve(LR,X_train,y_train, train_sizes=np.arange(0.1,1.1,0.1), cv=5, scoring = 'neg_mean_squared_error', n_jobs = -1)\n",
    "plt.plot(np.arange(0.1,1.1,0.1),-learn_curve[2].mean(axis=1),label='test')\n",
    "plt.plot(np.arange(0.1,1.1,0.1),-learn_curve[1].mean(axis=1),label='train')\n",
    "plt.ylabel('MSE')\n",
    "plt.xlabel('Training set')\n",
    "plt.legend()"
   ]
  },
  {
   "cell_type": "markdown",
   "metadata": {},
   "source": [
    "Analysis:\n",
    " 1. \"High bias, low variance\" means under-fitting\n",
    " 2. Two lines converges, so there is no need to collect more data   \n",
    "\n",
    "Solution: use more features and build more complex models"
   ]
  },
  {
   "cell_type": "markdown",
   "metadata": {},
   "source": [
    "### 3.5.2 \"Feature\" curve"
   ]
  },
  {
   "cell_type": "code",
   "execution_count": 41,
   "metadata": {},
   "outputs": [],
   "source": [
    "num_features = [50,100,150,200,250,300,350]\n",
    "train_r2= []\n",
    "test_r2 = []\n",
    "for num in num_features:\n",
    "    features_choosen = corr.index[:num]\n",
    "    X_train, X_test, y_train, y_test = train_test_split(data[features_choosen], data['price_doc'], test_size=0.2)\n",
    "    LR = LinearRegression(fit_intercept=True,normalize=False,copy_X=True,n_jobs=-1)\n",
    "    y_predict_LR = LR.fit(X_train, y_train).predict(X_test)\n",
    "    train_r2.append(r2_score(y_train,LR.predict(X_train)))\n",
    "    test_r2.append(r2_score(y_test,LR.predict(X_test)))"
   ]
  },
  {
   "cell_type": "code",
   "execution_count": 42,
   "metadata": {
    "scrolled": false
   },
   "outputs": [
    {
     "data": {
      "text/plain": [
       "<matplotlib.legend.Legend at 0x2371f76e048>"
      ]
     },
     "execution_count": 42,
     "metadata": {},
     "output_type": "execute_result"
    },
    {
     "data": {
      "image/png": "[encoded data removed]",
      "text/plain": [
       "<Figure size 432x288 with 1 Axes>"
      ]
     },
     "metadata": {
      "needs_background": "light"
     },
     "output_type": "display_data"
    }
   ],
   "source": [
    "plt.plot(num_features, train_r2,label='train')\n",
    "plt.plot(num_features, test_r2,label='test')\n",
    "plt.xlabel('nunmber of features')\n",
    "plt.ylabel('r2_score')\n",
    "plt.legend()"
   ]
  },
  {
   "cell_type": "markdown",
   "metadata": {},
   "source": [
    "Analysis:\n",
    "1. R2 increases as the number of features increases, this means that more features is helpful.\n",
    "2. However, as the model becomes more complex, it may also overfit the data.  \n",
    "\n",
    "Solution: PCA"
   ]
  },
  {
   "cell_type": "markdown",
   "metadata": {},
   "source": [
    "## 3.6 Data Standardisation"
   ]
  },
  {
   "cell_type": "code",
   "execution_count": 43,
   "metadata": {},
   "outputs": [],
   "source": [
    "train_data = data.drop(['price_doc'],axis=1)"
   ]
  },
  {
   "cell_type": "code",
   "execution_count": 44,
   "metadata": {},
   "outputs": [],
   "source": [
    "scaler = StandardScaler().fit(train_data)\n",
    "train_data = scaler.transform(train_data)"
   ]
  },
  {
   "cell_type": "markdown",
   "metadata": {},
   "source": [
    "## 3.7 PCA"
   ]
  },
  {
   "cell_type": "code",
   "execution_count": 45,
   "metadata": {},
   "outputs": [],
   "source": [
    "pca = PCA(n_components=40)\n",
    "train_pca = pca.fit_transform(train_data)"
   ]
  },
  {
   "cell_type": "code",
   "execution_count": 46,
   "metadata": {
    "scrolled": false
   },
   "outputs": [
    {
     "data": {
      "text/plain": [
       "0.8853844734265918"
      ]
     },
     "execution_count": 46,
     "metadata": {},
     "output_type": "execute_result"
    }
   ],
   "source": [
    "sum(pca.explained_variance_ratio_)"
   ]
  },
  {
   "cell_type": "code",
   "execution_count": 47,
   "metadata": {
    "scrolled": true
   },
   "outputs": [
    {
     "data": {
      "text/plain": [
       "Text(0, 0.5, 'explained variance ratio')"
      ]
     },
     "execution_count": 47,
     "metadata": {},
     "output_type": "execute_result"
    },
    {
     "data": {
      "image/png": "[encoded data removed]",
      "text/plain": [
       "<Figure size 432x288 with 1 Axes>"
      ]
     },
     "metadata": {
      "needs_background": "light"
     },
     "output_type": "display_data"
    }
   ],
   "source": [
    "plt.plot(pca.explained_variance_ratio_)\n",
    "plt.xlabel('number of components')\n",
    "plt.ylabel('explained variance ratio')"
   ]
  },
  {
   "cell_type": "markdown",
   "metadata": {},
   "source": [
    "# 4. Machine Learning models"
   ]
  },
  {
   "cell_type": "markdown",
   "metadata": {},
   "source": [
    "## 4.1 Train test split"
   ]
  },
  {
   "cell_type": "code",
   "execution_count": 48,
   "metadata": {},
   "outputs": [],
   "source": [
    "X_train, X_test, y_train, y_test = train_test_split(train_pca, data['price_doc'], test_size=0.2)"
   ]
  },
  {
   "cell_type": "markdown",
   "metadata": {},
   "source": [
    "## 4.2 Linear Regression"
   ]
  },
  {
   "cell_type": "code",
   "execution_count": 49,
   "metadata": {
    "scrolled": true
   },
   "outputs": [],
   "source": [
    "LR = LinearRegression(fit_intercept=True,normalize=False,copy_X=True,n_jobs=-1)"
   ]
  },
  {
   "cell_type": "code",
   "execution_count": 50,
   "metadata": {},
   "outputs": [],
   "source": [
    "y_predict_LR = LR.fit(X_train, y_train).predict(X_test)"
   ]
  },
  {
   "cell_type": "code",
   "execution_count": 51,
   "metadata": {
    "scrolled": false
   },
   "outputs": [
    {
     "data": {
      "text/plain": [
       "0.5458573666976778"
      ]
     },
     "execution_count": 51,
     "metadata": {},
     "output_type": "execute_result"
    }
   ],
   "source": [
    "r2_score(y_train,LR.predict(X_train))"
   ]
  },
  {
   "cell_type": "code",
   "execution_count": 52,
   "metadata": {
    "scrolled": true
   },
   "outputs": [
    {
     "data": {
      "text/plain": [
       "0.5468692256552631"
      ]
     },
     "execution_count": 52,
     "metadata": {},
     "output_type": "execute_result"
    }
   ],
   "source": [
    "r2_score(y_test,y_predict_LR)"
   ]
  },
  {
   "cell_type": "code",
   "execution_count": 53,
   "metadata": {},
   "outputs": [
    {
     "data": {
      "text/plain": [
       "0.5041988726550296"
      ]
     },
     "execution_count": 53,
     "metadata": {},
     "output_type": "execute_result"
    }
   ],
   "source": [
    "rmsle(y_train,LR.predict(X_train))"
   ]
  },
  {
   "cell_type": "code",
   "execution_count": 54,
   "metadata": {},
   "outputs": [
    {
     "data": {
      "text/plain": [
       "0.5062717240338102"
      ]
     },
     "execution_count": 54,
     "metadata": {},
     "output_type": "execute_result"
    }
   ],
   "source": [
    "rmsle(y_test,y_predict_LR)"
   ]
  },
  {
   "cell_type": "markdown",
   "metadata": {},
   "source": [
    "It is a little overfitting, but is acceptable"
   ]
  },
  {
   "cell_type": "code",
   "execution_count": 55,
   "metadata": {
    "scrolled": true
   },
   "outputs": [
    {
     "data": {
      "text/plain": [
       "Text(0, 0.5, 'Predicted')"
      ]
     },
     "execution_count": 55,
     "metadata": {},
     "output_type": "execute_result"
    },
    {
     "data": {
      "image/png": "[encoded data removed]",
      "text/plain": [
       "<Figure size 432x288 with 1 Axes>"
      ]
     },
     "metadata": {
      "needs_background": "light"
     },
     "output_type": "display_data"
    }
   ],
   "source": [
    "plt.scatter(y_test,y_predict_LR,alpha=0.3)\n",
    "plt.plot([y_test.min(), y_test.max()], [y_test.min(), y_test.max()], 'k--', lw=2)\n",
    "plt.xlabel('Actual')\n",
    "plt.ylabel('Predicted')"
   ]
  },
  {
   "cell_type": "markdown",
   "metadata": {},
   "source": [
    "## 4.3 Ridge regression\n",
    "Use Leave-One-Out cross-validation to adjust parameters"
   ]
  },
  {
   "cell_type": "code",
   "execution_count": 56,
   "metadata": {
    "scrolled": false
   },
   "outputs": [
    {
     "data": {
      "text/plain": [
       "RidgeCV(alphas=array([1.e-02, 1.e-01, 1.e+00, 1.e+01, 1.e+02]), cv=None,\n",
       "        fit_intercept=True, gcv_mode=None, normalize=False, scoring=None,\n",
       "        store_cv_values=True)"
      ]
     },
     "execution_count": 56,
     "metadata": {},
     "output_type": "execute_result"
    }
   ],
   "source": [
    "ridge = RidgeCV(alphas = (0.01,0.1,1,10,100), fit_intercept=True, store_cv_values= True)\n",
    "ridge.fit(X_train,y_train)"
   ]
  },
  {
   "cell_type": "code",
   "execution_count": 57,
   "metadata": {},
   "outputs": [
    {
     "data": {
      "text/plain": [
       "100.0"
      ]
     },
     "execution_count": 57,
     "metadata": {},
     "output_type": "execute_result"
    }
   ],
   "source": [
    "ridge.alpha_"
   ]
  },
  {
   "cell_type": "code",
   "execution_count": 58,
   "metadata": {},
   "outputs": [
    {
     "data": {
      "text/plain": [
       "0.54585578895641"
      ]
     },
     "execution_count": 58,
     "metadata": {},
     "output_type": "execute_result"
    }
   ],
   "source": [
    "ridge.score(X_train,y_train)"
   ]
  },
  {
   "cell_type": "code",
   "execution_count": 59,
   "metadata": {
    "scrolled": false
   },
   "outputs": [
    {
     "data": {
      "text/plain": [
       "0.5468291168570849"
      ]
     },
     "execution_count": 59,
     "metadata": {},
     "output_type": "execute_result"
    }
   ],
   "source": [
    "ridge.score(X_test,y_test)"
   ]
  },
  {
   "cell_type": "code",
   "execution_count": 60,
   "metadata": {},
   "outputs": [
    {
     "data": {
      "text/plain": [
       "0.5036720900725103"
      ]
     },
     "execution_count": 60,
     "metadata": {},
     "output_type": "execute_result"
    }
   ],
   "source": [
    "rmsle(y_train,ridge.predict(X_train))"
   ]
  },
  {
   "cell_type": "code",
   "execution_count": 61,
   "metadata": {},
   "outputs": [
    {
     "data": {
      "text/plain": [
       "0.5059585413813269"
      ]
     },
     "execution_count": 61,
     "metadata": {},
     "output_type": "execute_result"
    }
   ],
   "source": [
    "rmsle(y_test,ridge.predict(X_test))"
   ]
  },
  {
   "cell_type": "code",
   "execution_count": 62,
   "metadata": {},
   "outputs": [],
   "source": [
    "y_predict_ridge = ridge.predict(X_test)"
   ]
  },
  {
   "cell_type": "code",
   "execution_count": 63,
   "metadata": {},
   "outputs": [
    {
     "data": {
      "text/plain": [
       "Text(0, 0.5, 'Predicted')"
      ]
     },
     "execution_count": 63,
     "metadata": {},
     "output_type": "execute_result"
    },
    {
     "data": {
      "image/png": "[encoded data removed]",
      "text/plain": [
       "<Figure size 432x288 with 1 Axes>"
      ]
     },
     "metadata": {
      "needs_background": "light"
     },
     "output_type": "display_data"
    }
   ],
   "source": [
    "plt.scatter(y_test,y_predict_ridge,alpha=0.3)\n",
    "plt.plot([y_test.min(), y_test.max()], [y_test.min(), y_test.max()], 'k--', lw=2)\n",
    "plt.xlabel('Actual')\n",
    "plt.ylabel('Predicted')"
   ]
  },
  {
   "cell_type": "markdown",
   "metadata": {},
   "source": [
    "## 4.4 Lasso regression\n",
    "Use 5-fold cross-validation to adjust parameters"
   ]
  },
  {
   "cell_type": "code",
   "execution_count": 64,
   "metadata": {},
   "outputs": [
    {
     "data": {
      "text/plain": [
       "LassoCV(alphas=(0.001, 0.01, 0.1, 1, 10, 100), copy_X=True, cv=10, eps=0.001,\n",
       "        fit_intercept=True, max_iter=10000, n_alphas=100, n_jobs=None,\n",
       "        normalize=False, positive=False, precompute='auto', random_state=None,\n",
       "        selection='cyclic', tol=0.0001, verbose=False)"
      ]
     },
     "execution_count": 64,
     "metadata": {},
     "output_type": "execute_result"
    }
   ],
   "source": [
    "lasso = LassoCV(alphas = (0.001,0.01,0.1,1,10,100), fit_intercept=True, cv = 10, max_iter=10000)\n",
    "lasso.fit(X_train,y_train)"
   ]
  },
  {
   "cell_type": "code",
   "execution_count": 65,
   "metadata": {
    "scrolled": true
   },
   "outputs": [
    {
     "data": {
      "text/plain": [
       "100.0"
      ]
     },
     "execution_count": 65,
     "metadata": {},
     "output_type": "execute_result"
    }
   ],
   "source": [
    "lasso.alpha_"
   ]
  },
  {
   "cell_type": "code",
   "execution_count": 66,
   "metadata": {},
   "outputs": [
    {
     "data": {
      "text/plain": [
       "0.5458573543207041"
      ]
     },
     "execution_count": 66,
     "metadata": {},
     "output_type": "execute_result"
    }
   ],
   "source": [
    "lasso.score(X_train,y_train)"
   ]
  },
  {
   "cell_type": "code",
   "execution_count": 67,
   "metadata": {},
   "outputs": [
    {
     "data": {
      "text/plain": [
       "0.5468603156138787"
      ]
     },
     "execution_count": 67,
     "metadata": {},
     "output_type": "execute_result"
    }
   ],
   "source": [
    "lasso.score(X_test,y_test)"
   ]
  },
  {
   "cell_type": "code",
   "execution_count": 68,
   "metadata": {},
   "outputs": [
    {
     "data": {
      "text/plain": [
       "0.5040853392902598"
      ]
     },
     "execution_count": 68,
     "metadata": {},
     "output_type": "execute_result"
    }
   ],
   "source": [
    "rmsle(y_train,lasso.predict(X_train))"
   ]
  },
  {
   "cell_type": "code",
   "execution_count": 69,
   "metadata": {},
   "outputs": [
    {
     "data": {
      "text/plain": [
       "0.5062560902337621"
      ]
     },
     "execution_count": 69,
     "metadata": {},
     "output_type": "execute_result"
    }
   ],
   "source": [
    "rmsle(y_test,lasso.predict(X_test))"
   ]
  },
  {
   "cell_type": "code",
   "execution_count": 70,
   "metadata": {},
   "outputs": [],
   "source": [
    "y_predict_lasso = lasso.predict(X_test)"
   ]
  },
  {
   "cell_type": "code",
   "execution_count": 71,
   "metadata": {},
   "outputs": [
    {
     "data": {
      "text/plain": [
       "Text(0, 0.5, 'Predicted')"
      ]
     },
     "execution_count": 71,
     "metadata": {},
     "output_type": "execute_result"
    },
    {
     "data": {
      "image/png": "[encoded data removed]",
      "text/plain": [
       "<Figure size 432x288 with 1 Axes>"
      ]
     },
     "metadata": {
      "needs_background": "light"
     },
     "output_type": "display_data"
    }
   ],
   "source": [
    "plt.scatter(y_test,y_predict_lasso,alpha=0.3)\n",
    "plt.plot([y_test.min(), y_test.max()], [y_test.min(), y_test.max()], 'k--', lw=2)\n",
    "plt.xlabel('Actual')\n",
    "plt.ylabel('Predicted')"
   ]
  },
  {
   "cell_type": "markdown",
   "metadata": {},
   "source": [
    "## 4.5 Generalised linear regression\n",
    "Use GLM with Gamma distribution"
   ]
  },
  {
   "cell_type": "code",
   "execution_count": 72,
   "metadata": {},
   "outputs": [],
   "source": [
    "X_train_intercept = sm.add_constant(X_train)\n",
    "X_test_intercept = sm.add_constant(X_test)\n",
    "glm = sm.GLM(y_train,X_train_intercept, family=sm.families.Gamma(link = sm.families.links.log()))\n",
    "glm_fitted = glm.fit()"
   ]
  },
  {
   "cell_type": "code",
   "execution_count": 73,
   "metadata": {
    "scrolled": true
   },
   "outputs": [
    {
     "name": "stdout",
     "output_type": "stream",
     "text": [
      "                 Generalized Linear Model Regression Results                  \n",
      "==============================================================================\n",
      "Dep. Variable:              price_doc   No. Observations:                22664\n",
      "Model:                            GLM   Df Residuals:                    22623\n",
      "Model Family:                   Gamma   Df Model:                           40\n",
      "Link Function:                    log   Scale:                         0.10022\n",
      "Method:                          IRLS   Log-Likelihood:            -3.6681e+05\n",
      "Date:                Sat, 18 Jan 2020   Deviance:                       3614.0\n",
      "Time:                        21:47:59   Pearson chi2:                 2.27e+03\n",
      "No. Iterations:                   100                                         \n",
      "Covariance Type:            nonrobust                                         \n",
      "==============================================================================\n",
      "                 coef    std err          z      P>|z|      [0.025      0.975]\n",
      "------------------------------------------------------------------------------\n",
      "const         15.6906      0.002   7460.171      0.000      15.686      15.695\n",
      "x1             0.0110      0.000     50.002      0.000       0.011       0.011\n",
      "x2            -0.0185      0.000    -59.173      0.000      -0.019      -0.018\n",
      "x3            -0.0058      0.000    -12.440      0.000      -0.007      -0.005\n",
      "x4             0.0135      0.001     20.615      0.000       0.012       0.015\n",
      "x5             0.0239      0.001     32.154      0.000       0.022       0.025\n",
      "x6             0.0051      0.001      6.656      0.000       0.004       0.007\n",
      "x7            -0.0061      0.001     -7.494      0.000      -0.008      -0.005\n",
      "x8            -0.0208      0.001    -23.642      0.000      -0.022      -0.019\n",
      "x9             0.0153      0.001     16.298      0.000       0.013       0.017\n",
      "x10           -0.0136      0.001    -12.955      0.000      -0.016      -0.012\n",
      "x11           -0.0025      0.001     -2.257      0.024      -0.005      -0.000\n",
      "x12            0.0681      0.001     59.796      0.000       0.066       0.070\n",
      "x13           -0.0218      0.001    -18.216      0.000      -0.024      -0.019\n",
      "x14           -0.0222      0.001    -18.323      0.000      -0.025      -0.020\n",
      "x15           -0.1156      0.001    -86.820      0.000      -0.118      -0.113\n",
      "x16            0.0910      0.001     65.120      0.000       0.088       0.094\n",
      "x17           -0.0412      0.001    -29.147      0.000      -0.044      -0.038\n",
      "x18            0.0019      0.001      1.307      0.191      -0.001       0.005\n",
      "x19            0.0320      0.002     20.572      0.000       0.029       0.035\n",
      "x20           -0.0186      0.002     -8.667      0.000      -0.023      -0.014\n",
      "x21            0.0729      0.002     45.179      0.000       0.070       0.076\n",
      "x22           -0.0193      0.002    -12.122      0.000      -0.022      -0.016\n",
      "x23            0.0200      0.002     12.318      0.000       0.017       0.023\n",
      "x24            0.0128      0.002      7.790      0.000       0.010       0.016\n",
      "x25           -0.0163      0.002     -9.862      0.000      -0.020      -0.013\n",
      "x26           -0.0176      0.002    -10.471      0.000      -0.021      -0.014\n",
      "x27            0.0042      0.002      2.434      0.015       0.001       0.008\n",
      "x28           -0.0181      0.002    -10.299      0.000      -0.022      -0.015\n",
      "x29           -0.0056      0.002     -3.101      0.002      -0.009      -0.002\n",
      "x30            0.0017      0.002      0.919      0.358      -0.002       0.005\n",
      "x31           -0.0106      0.002     -5.792      0.000      -0.014      -0.007\n",
      "x32           -0.0079      0.002     -4.212      0.000      -0.012      -0.004\n",
      "x33            0.0097      0.002      5.085      0.000       0.006       0.013\n",
      "x34           -0.0156      0.002     -7.936      0.000      -0.019      -0.012\n",
      "x35            0.0170      0.002      8.484      0.000       0.013       0.021\n",
      "x36           -0.0191      0.002     -9.404      0.000      -0.023      -0.015\n",
      "x37           -0.0097      0.002     -4.716      0.000      -0.014      -0.006\n",
      "x38           -0.0030      0.002     -1.440      0.150      -0.007       0.001\n",
      "x39           -0.0022      0.002     -1.060      0.289      -0.006       0.002\n",
      "x40            0.0160      0.002      7.512      0.000       0.012       0.020\n",
      "==============================================================================\n"
     ]
    }
   ],
   "source": [
    "print(glm_fitted.summary())"
   ]
  },
  {
   "cell_type": "code",
   "execution_count": 74,
   "metadata": {},
   "outputs": [],
   "source": [
    "y_train_predict_glm = glm_fitted.predict(X_train_intercept)"
   ]
  },
  {
   "cell_type": "code",
   "execution_count": 75,
   "metadata": {
    "scrolled": true
   },
   "outputs": [
    {
     "data": {
      "text/plain": [
       "Text(0, 0.5, 'Predicted')"
      ]
     },
     "execution_count": 75,
     "metadata": {},
     "output_type": "execute_result"
    },
    {
     "data": {
      "image/png": "[encoded data removed]",
      "text/plain": [
       "<Figure size 432x288 with 1 Axes>"
      ]
     },
     "metadata": {
      "needs_background": "light"
     },
     "output_type": "display_data"
    }
   ],
   "source": [
    "plt.scatter(y_train,y_train_predict_glm,alpha=0.3)\n",
    "plt.plot([y_test.min(), y_test.max()], [y_test.min(), y_test.max()], 'k--', lw=2)\n",
    "plt.xlabel('Actual')\n",
    "plt.ylabel('Predicted')"
   ]
  },
  {
   "cell_type": "code",
   "execution_count": 76,
   "metadata": {},
   "outputs": [],
   "source": [
    "y_predict_glm = glm_fitted.predict(X_test_intercept)"
   ]
  },
  {
   "cell_type": "code",
   "execution_count": 77,
   "metadata": {},
   "outputs": [
    {
     "data": {
      "text/plain": [
       "0.5387658891520046"
      ]
     },
     "execution_count": 77,
     "metadata": {},
     "output_type": "execute_result"
    }
   ],
   "source": [
    "r2_score(y_test,y_predict_glm)"
   ]
  },
  {
   "cell_type": "code",
   "execution_count": 78,
   "metadata": {
    "scrolled": true
   },
   "outputs": [
    {
     "data": {
      "text/plain": [
       "Text(0, 0.5, 'Predicted')"
      ]
     },
     "execution_count": 78,
     "metadata": {},
     "output_type": "execute_result"
    },
    {
     "data": {
      "image/png": "[encoded data removed]",
      "text/plain": [
       "<Figure size 432x288 with 1 Axes>"
      ]
     },
     "metadata": {
      "needs_background": "light"
     },
     "output_type": "display_data"
    }
   ],
   "source": [
    "plt.scatter(y_test,y_predict_glm,alpha=0.3)\n",
    "plt.plot([y_test.min(), y_test.max()], [y_test.min(), y_test.max()], 'k--', lw=2)\n",
    "plt.xlabel('Actual')\n",
    "plt.ylabel('Predicted')"
   ]
  },
  {
   "cell_type": "markdown",
   "metadata": {},
   "source": [
    "## 4.6 Xgboost Regression"
   ]
  },
  {
   "cell_type": "code",
   "execution_count": 79,
   "metadata": {
    "scrolled": true
   },
   "outputs": [
    {
     "name": "stdout",
     "output_type": "stream",
     "text": [
      "[21:48:50] WARNING: src/objective/regression_obj.cu:152: reg:linear is now deprecated in favor of reg:squarederror.\n"
     ]
    },
    {
     "data": {
      "text/plain": [
       "GridSearchCV(cv=5, error_score='raise-deprecating',\n",
       "             estimator=XGBRegressor(base_score=0.5, booster='gbtree',\n",
       "                                    colsample_bylevel=1, colsample_bynode=1,\n",
       "                                    colsample_bytree=1, gamma=0,\n",
       "                                    importance_type='gain', learning_rate=0.1,\n",
       "                                    max_delta_step=0, max_depth=3,\n",
       "                                    min_child_weight=1, missing=None,\n",
       "                                    n_estimators=100, n_jobs=1, nthread=None,\n",
       "                                    objective='reg:linear', random_state=0,\n",
       "                                    reg_alpha=0, reg_lambda=1,\n",
       "                                    scale_pos_weight=1, seed=None, silent=None,\n",
       "                                    subsample=1, verbosity=1),\n",
       "             iid='warn', n_jobs=-1,\n",
       "             param_grid={'n_estimators': [100, 200, 300, 400]},\n",
       "             pre_dispatch='2*n_jobs', refit=True, return_train_score=True,\n",
       "             scoring=None, verbose=0)"
      ]
     },
     "execution_count": 79,
     "metadata": {},
     "output_type": "execute_result"
    }
   ],
   "source": [
    "xgb = XGBRegressor()\n",
    "param_grid = {'n_estimators': [100,200,300, 400]}\n",
    "xgb_cv = GridSearchCV(xgb,param_grid = param_grid, cv = 5, n_jobs=-1,return_train_score=True)\n",
    "xgb_cv.fit(X_train,y_train)"
   ]
  },
  {
   "cell_type": "code",
   "execution_count": 80,
   "metadata": {
    "scrolled": true
   },
   "outputs": [
    {
     "data": {
      "text/plain": [
       "{'n_estimators': 400}"
      ]
     },
     "execution_count": 80,
     "metadata": {},
     "output_type": "execute_result"
    }
   ],
   "source": [
    "xgb_cv.best_params_"
   ]
  },
  {
   "cell_type": "code",
   "execution_count": 81,
   "metadata": {
    "scrolled": true
   },
   "outputs": [
    {
     "data": {
      "text/plain": [
       "0.6304128529446752"
      ]
     },
     "execution_count": 81,
     "metadata": {},
     "output_type": "execute_result"
    }
   ],
   "source": [
    "xgb_cv.best_score_"
   ]
  },
  {
   "cell_type": "code",
   "execution_count": 82,
   "metadata": {
    "scrolled": true
   },
   "outputs": [
    {
     "data": {
      "text/plain": [
       "{'mean_fit_time': array([ 7.09981089, 14.28519435, 21.47242532, 23.15192823]),\n",
       " 'std_fit_time': array([0.07112443, 0.27259421, 0.35503467, 2.35458802]),\n",
       " 'mean_score_time': array([0.02214127, 0.03570452, 0.0522603 , 0.05784717]),\n",
       " 'std_score_time': array([0.00502238, 0.00097712, 0.00241018, 0.00621005]),\n",
       " 'param_n_estimators': masked_array(data=[100, 200, 300, 400],\n",
       "              mask=[False, False, False, False],\n",
       "        fill_value='?',\n",
       "             dtype=object),\n",
       " 'params': [{'n_estimators': 100},\n",
       "  {'n_estimators': 200},\n",
       "  {'n_estimators': 300},\n",
       "  {'n_estimators': 400}],\n",
       " 'split0_test_score': array([0.60121179, 0.62681155, 0.63597013, 0.63991702]),\n",
       " 'split1_test_score': array([0.59289043, 0.61818201, 0.62690425, 0.63181774]),\n",
       " 'split2_test_score': array([0.60024877, 0.62177418, 0.62991185, 0.63449437]),\n",
       " 'split3_test_score': array([0.56093409, 0.5893792 , 0.60181269, 0.60557776]),\n",
       " 'split4_test_score': array([0.59833369, 0.62447929, 0.63422574, 0.64025955]),\n",
       " 'mean_test_score': array([0.59072342, 0.61612488, 0.62576456, 0.63041285]),\n",
       " 'std_test_score': array([0.01517098, 0.01367848, 0.01239318, 0.01282744]),\n",
       " 'rank_test_score': array([4, 3, 2, 1]),\n",
       " 'split0_train_score': array([0.65882472, 0.70712215, 0.73237292, 0.7512631 ]),\n",
       " 'split1_train_score': array([0.6619591 , 0.71140004, 0.73671783, 0.75574757]),\n",
       " 'split2_train_score': array([0.66240933, 0.70825806, 0.73295055, 0.75116331]),\n",
       " 'split3_train_score': array([0.66032362, 0.7057936 , 0.73154381, 0.75055349]),\n",
       " 'split4_train_score': array([0.66266129, 0.70785756, 0.73356625, 0.7531829 ]),\n",
       " 'mean_train_score': array([0.66123561, 0.70808628, 0.73343027, 0.75238207]),\n",
       " 'std_train_score': array([0.00145449, 0.00185735, 0.00177389, 0.00189995])}"
      ]
     },
     "execution_count": 82,
     "metadata": {},
     "output_type": "execute_result"
    }
   ],
   "source": [
    "xgb_cv.cv_results_"
   ]
  },
  {
   "cell_type": "markdown",
   "metadata": {},
   "source": [
    "No clear improvment after n_estimators reaches 200"
   ]
  },
  {
   "cell_type": "code",
   "execution_count": 83,
   "metadata": {},
   "outputs": [
    {
     "name": "stdout",
     "output_type": "stream",
     "text": [
      "[21:50:08] WARNING: src/objective/regression_obj.cu:152: reg:linear is now deprecated in favor of reg:squarederror.\n"
     ]
    },
    {
     "data": {
      "text/plain": [
       "GridSearchCV(cv=5, error_score='raise-deprecating',\n",
       "             estimator=XGBRegressor(base_score=0.5, booster='gbtree',\n",
       "                                    colsample_bylevel=1, colsample_bynode=1,\n",
       "                                    colsample_bytree=1, gamma=0,\n",
       "                                    importance_type='gain', learning_rate=0.1,\n",
       "                                    max_delta_step=0, max_depth=3,\n",
       "                                    min_child_weight=1, missing=None,\n",
       "                                    n_estimators=200, n_jobs=1, nthread=None,\n",
       "                                    objective='reg:linear', random_state=0,\n",
       "                                    reg_alpha=0, reg_lambda=1,\n",
       "                                    scale_pos_weight=1, seed=None, silent=None,\n",
       "                                    subsample=1, verbosity=1),\n",
       "             iid='warn', n_jobs=-1, param_grid={'max_depth': [3, 4, 5, 6]},\n",
       "             pre_dispatch='2*n_jobs', refit=True, return_train_score=True,\n",
       "             scoring=None, verbose=0)"
      ]
     },
     "execution_count": 83,
     "metadata": {},
     "output_type": "execute_result"
    }
   ],
   "source": [
    "xgb = XGBRegressor(n_estimators = 200)\n",
    "param_grid = {'max_depth': [3, 4, 5, 6]}\n",
    "xgb_cv = GridSearchCV(xgb,param_grid = param_grid, cv = 5, n_jobs=-1,return_train_score=True)\n",
    "xgb_cv.fit(X_train,y_train)"
   ]
  },
  {
   "cell_type": "code",
   "execution_count": 84,
   "metadata": {
    "scrolled": true
   },
   "outputs": [
    {
     "data": {
      "text/plain": [
       "{'max_depth': 6}"
      ]
     },
     "execution_count": 84,
     "metadata": {},
     "output_type": "execute_result"
    }
   ],
   "source": [
    "xgb_cv.best_params_"
   ]
  },
  {
   "cell_type": "code",
   "execution_count": 85,
   "metadata": {
    "scrolled": true
   },
   "outputs": [
    {
     "data": {
      "text/plain": [
       "0.6481259466465531"
      ]
     },
     "execution_count": 85,
     "metadata": {},
     "output_type": "execute_result"
    }
   ],
   "source": [
    "xgb_cv.best_score_"
   ]
  },
  {
   "cell_type": "code",
   "execution_count": 86,
   "metadata": {},
   "outputs": [
    {
     "data": {
      "text/plain": [
       "{'mean_fit_time': array([14.46351137, 19.80483198, 25.63264723, 22.47509937]),\n",
       " 'std_fit_time': array([0.11977487, 0.50912009, 0.43478081, 3.28815078]),\n",
       " 'mean_score_time': array([0.03690152, 0.04807181, 0.06023922, 0.06003942]),\n",
       " 'std_score_time': array([0.00089196, 0.00146573, 0.00241024, 0.00494693]),\n",
       " 'param_max_depth': masked_array(data=[3, 4, 5, 6],\n",
       "              mask=[False, False, False, False],\n",
       "        fill_value='?',\n",
       "             dtype=object),\n",
       " 'params': [{'max_depth': 3},\n",
       "  {'max_depth': 4},\n",
       "  {'max_depth': 5},\n",
       "  {'max_depth': 6}],\n",
       " 'split0_test_score': array([0.62681155, 0.64377846, 0.64996521, 0.66224872]),\n",
       " 'split1_test_score': array([0.61818201, 0.63996887, 0.64911015, 0.65222413]),\n",
       " 'split2_test_score': array([0.62177418, 0.63854702, 0.65046447, 0.64974782]),\n",
       " 'split3_test_score': array([0.5893792 , 0.61726854, 0.63342357, 0.62740318]),\n",
       " 'split4_test_score': array([0.62447929, 0.63556594, 0.64640816, 0.64900608]),\n",
       " 'mean_test_score': array([0.61612488, 0.63502574, 0.64587429, 0.64812595]),\n",
       " 'std_test_score': array([0.01367848, 0.00926361, 0.00638107, 0.01139398]),\n",
       " 'rank_test_score': array([4, 3, 2, 1]),\n",
       " 'split0_train_score': array([0.70712215, 0.76362671, 0.81697656, 0.86421916]),\n",
       " 'split1_train_score': array([0.71140004, 0.765681  , 0.81478344, 0.86530956]),\n",
       " 'split2_train_score': array([0.70825806, 0.76477787, 0.81833687, 0.86391246]),\n",
       " 'split3_train_score': array([0.7057936 , 0.76270236, 0.81301133, 0.8642272 ]),\n",
       " 'split4_train_score': array([0.70785756, 0.76792123, 0.82043786, 0.87144411]),\n",
       " 'mean_train_score': array([0.70808628, 0.76494183, 0.81670921, 0.8658225 ]),\n",
       " 'std_train_score': array([0.00185735, 0.00179971, 0.00260793, 0.0028506 ])}"
      ]
     },
     "execution_count": 86,
     "metadata": {},
     "output_type": "execute_result"
    }
   ],
   "source": [
    "xgb_cv.cv_results_"
   ]
  },
  {
   "cell_type": "markdown",
   "metadata": {},
   "source": [
    "No clear improvement after max_depth reaches 4"
   ]
  },
  {
   "cell_type": "code",
   "execution_count": 87,
   "metadata": {},
   "outputs": [
    {
     "name": "stdout",
     "output_type": "stream",
     "text": [
      "[21:51:05] WARNING: src/objective/regression_obj.cu:152: reg:linear is now deprecated in favor of reg:squarederror.\n"
     ]
    },
    {
     "data": {
      "text/plain": [
       "GridSearchCV(cv=5, error_score='raise-deprecating',\n",
       "             estimator=XGBRegressor(base_score=0.5, booster='gbtree',\n",
       "                                    colsample_bylevel=1, colsample_bynode=1,\n",
       "                                    colsample_bytree=1, gamma=0,\n",
       "                                    importance_type='gain', learning_rate=0.1,\n",
       "                                    max_delta_step=0, max_depth=4,\n",
       "                                    min_child_weight=1, missing=None,\n",
       "                                    n_estimators=200, n_jobs=1, nthread=None,\n",
       "                                    objective='reg:linear', random_state=0,\n",
       "                                    reg_alpha=0, reg_lambda=1,\n",
       "                                    scale_pos_weight=1, seed=None, silent=None,\n",
       "                                    subsample=1, verbosity=1),\n",
       "             iid='warn', n_jobs=-1, param_grid={'gamma': [0.01, 0.1, 1]},\n",
       "             pre_dispatch='2*n_jobs', refit=True, return_train_score=True,\n",
       "             scoring=None, verbose=0)"
      ]
     },
     "execution_count": 87,
     "metadata": {},
     "output_type": "execute_result"
    }
   ],
   "source": [
    "xgb = XGBRegressor(n_estimators = 200, max_depth = 4)\n",
    "param_grid = {'gamma': [0.01, 0.1, 1]}\n",
    "xgb_cv = GridSearchCV(xgb,param_grid = param_grid, cv = 5, n_jobs=-1, return_train_score=True)\n",
    "xgb_cv.fit(X_train,y_train)"
   ]
  },
  {
   "cell_type": "code",
   "execution_count": 88,
   "metadata": {
    "scrolled": true
   },
   "outputs": [
    {
     "data": {
      "text/plain": [
       "{'gamma': 0.01}"
      ]
     },
     "execution_count": 88,
     "metadata": {},
     "output_type": "execute_result"
    }
   ],
   "source": [
    "xgb_cv.best_params_"
   ]
  },
  {
   "cell_type": "code",
   "execution_count": 89,
   "metadata": {
    "scrolled": true
   },
   "outputs": [
    {
     "data": {
      "text/plain": [
       "0.6350257433342493"
      ]
     },
     "execution_count": 89,
     "metadata": {},
     "output_type": "execute_result"
    }
   ],
   "source": [
    "xgb_cv.best_score_"
   ]
  },
  {
   "cell_type": "code",
   "execution_count": 90,
   "metadata": {},
   "outputs": [
    {
     "data": {
      "text/plain": [
       "{'mean_fit_time': array([20.23847022, 19.52657681, 17.49421296]),\n",
       " 'std_fit_time': array([0.55051267, 1.49855322, 0.14802433]),\n",
       " 'mean_score_time': array([0.0486702 , 0.05006728, 0.03790336]),\n",
       " 'std_score_time': array([0.00255508, 0.00146759, 0.00427391]),\n",
       " 'param_gamma': masked_array(data=[0.01, 0.1, 1],\n",
       "              mask=[False, False, False],\n",
       "        fill_value='?',\n",
       "             dtype=object),\n",
       " 'params': [{'gamma': 0.01}, {'gamma': 0.1}, {'gamma': 1}],\n",
       " 'split0_test_score': array([0.64377846, 0.64377846, 0.64377846]),\n",
       " 'split1_test_score': array([0.63996887, 0.63996887, 0.63996887]),\n",
       " 'split2_test_score': array([0.63854702, 0.63854702, 0.63854702]),\n",
       " 'split3_test_score': array([0.61726854, 0.61726854, 0.61726854]),\n",
       " 'split4_test_score': array([0.63556594, 0.63556594, 0.63556594]),\n",
       " 'mean_test_score': array([0.63502574, 0.63502574, 0.63502574]),\n",
       " 'std_test_score': array([0.00926361, 0.00926361, 0.00926361]),\n",
       " 'rank_test_score': array([1, 1, 1]),\n",
       " 'split0_train_score': array([0.76362671, 0.76362671, 0.76362671]),\n",
       " 'split1_train_score': array([0.765681, 0.765681, 0.765681]),\n",
       " 'split2_train_score': array([0.76477787, 0.76477787, 0.76477787]),\n",
       " 'split3_train_score': array([0.76270236, 0.76270236, 0.76270236]),\n",
       " 'split4_train_score': array([0.76792123, 0.76792123, 0.76792123]),\n",
       " 'mean_train_score': array([0.76494183, 0.76494183, 0.76494183]),\n",
       " 'std_train_score': array([0.00179971, 0.00179971, 0.00179971])}"
      ]
     },
     "execution_count": 90,
     "metadata": {},
     "output_type": "execute_result"
    }
   ],
   "source": [
    "xgb_cv.cv_results_"
   ]
  },
  {
   "cell_type": "code",
   "execution_count": 91,
   "metadata": {},
   "outputs": [
    {
     "name": "stdout",
     "output_type": "stream",
     "text": [
      "[21:52:09] WARNING: src/objective/regression_obj.cu:152: reg:linear is now deprecated in favor of reg:squarederror.\n"
     ]
    },
    {
     "data": {
      "text/plain": [
       "GridSearchCV(cv=5, error_score='raise-deprecating',\n",
       "             estimator=XGBRegressor(base_score=0.5, booster='gbtree',\n",
       "                                    colsample_bylevel=1, colsample_bynode=1,\n",
       "                                    colsample_bytree=1, gamma=0.01,\n",
       "                                    importance_type='gain', learning_rate=0.1,\n",
       "                                    max_delta_step=0, max_depth=4,\n",
       "                                    min_child_weight=1, missing=None,\n",
       "                                    n_estimators=200, n_jobs=1, nthread=None,\n",
       "                                    objective='reg:linear', random_state=0,\n",
       "                                    reg_alpha=0, reg_lambda=1,\n",
       "                                    scale_pos_weight=1, seed=None, silent=None,\n",
       "                                    subsample=1, verbosity=1),\n",
       "             iid='warn', n_jobs=-1,\n",
       "             param_grid={'learning_rate': [0.01, 0.05, 0.1, 0.2]},\n",
       "             pre_dispatch='2*n_jobs', refit=True, return_train_score=True,\n",
       "             scoring=None, verbose=0)"
      ]
     },
     "execution_count": 91,
     "metadata": {},
     "output_type": "execute_result"
    }
   ],
   "source": [
    "xgb = XGBRegressor(n_estimators = 200, max_depth = 4, gamma = 0.01)\n",
    "param_grid = {'learning_rate': [0.01, 0.05, 0.1, 0.2]}\n",
    "xgb_cv = GridSearchCV(xgb,param_grid = param_grid, cv = 5, n_jobs=-1, return_train_score=True)\n",
    "xgb_cv.fit(X_train,y_train)"
   ]
  },
  {
   "cell_type": "code",
   "execution_count": 92,
   "metadata": {
    "scrolled": true
   },
   "outputs": [
    {
     "data": {
      "text/plain": [
       "{'learning_rate': 0.1}"
      ]
     },
     "execution_count": 92,
     "metadata": {},
     "output_type": "execute_result"
    }
   ],
   "source": [
    "xgb_cv.best_params_"
   ]
  },
  {
   "cell_type": "code",
   "execution_count": 93,
   "metadata": {
    "scrolled": true
   },
   "outputs": [
    {
     "data": {
      "text/plain": [
       "0.6350257433342493"
      ]
     },
     "execution_count": 93,
     "metadata": {},
     "output_type": "execute_result"
    }
   ],
   "source": [
    "xgb_cv.best_score_"
   ]
  },
  {
   "cell_type": "code",
   "execution_count": 94,
   "metadata": {},
   "outputs": [
    {
     "data": {
      "text/plain": [
       "{'mean_fit_time': array([19.21620646, 19.93907213, 19.94266376, 13.6855988 ]),\n",
       " 'std_fit_time': array([0.07813228, 0.13244703, 0.21749369, 3.13483441]),\n",
       " 'mean_score_time': array([0.04527917, 0.04986696, 0.0460773 , 0.03550501]),\n",
       " 'std_score_time': array([0.00173873, 0.00154511, 0.00212985, 0.00406836]),\n",
       " 'param_learning_rate': masked_array(data=[0.01, 0.05, 0.1, 0.2],\n",
       "              mask=[False, False, False, False],\n",
       "        fill_value='?',\n",
       "             dtype=object),\n",
       " 'params': [{'learning_rate': 0.01},\n",
       "  {'learning_rate': 0.05},\n",
       "  {'learning_rate': 0.1},\n",
       "  {'learning_rate': 0.2}],\n",
       " 'split0_test_score': array([0.46276611, 0.62671685, 0.64377846, 0.63488903]),\n",
       " 'split1_test_score': array([0.43814745, 0.6264769 , 0.63996887, 0.62524706]),\n",
       " 'split2_test_score': array([0.44817741, 0.62882589, 0.63854702, 0.64129252]),\n",
       " 'split3_test_score': array([0.42792035, 0.60560226, 0.61726854, 0.62217869]),\n",
       " 'split4_test_score': array([0.44212923, 0.62406708, 0.63556594, 0.63558908]),\n",
       " 'mean_test_score': array([0.44382818, 0.62233772, 0.63502574, 0.63183911]),\n",
       " 'std_test_score': array([0.01153955, 0.00850279, 0.00926361, 0.00706425]),\n",
       " 'rank_test_score': array([4, 3, 1, 2]),\n",
       " 'split0_train_score': array([0.48994762, 0.71846684, 0.76362671, 0.81235777]),\n",
       " 'split1_train_score': array([0.49276169, 0.72251892, 0.765681  , 0.81444543]),\n",
       " 'split2_train_score': array([0.49221092, 0.71939357, 0.76477787, 0.81562923]),\n",
       " 'split3_train_score': array([0.49074936, 0.71617894, 0.76270236, 0.81089131]),\n",
       " 'split4_train_score': array([0.49582516, 0.72304557, 0.76792123, 0.81429206]),\n",
       " 'mean_train_score': array([0.49229895, 0.71992077, 0.76494183, 0.81352316]),\n",
       " 'std_train_score': array([0.00202909, 0.00256546, 0.00179971, 0.00168298])}"
      ]
     },
     "execution_count": 94,
     "metadata": {},
     "output_type": "execute_result"
    }
   ],
   "source": [
    "xgb_cv.cv_results_"
   ]
  },
  {
   "cell_type": "code",
   "execution_count": 95,
   "metadata": {},
   "outputs": [
    {
     "data": {
      "text/plain": [
       "0.7532713052192793"
      ]
     },
     "execution_count": 95,
     "metadata": {},
     "output_type": "execute_result"
    }
   ],
   "source": [
    "xgb_cv.score(X_train,y_train)"
   ]
  },
  {
   "cell_type": "markdown",
   "metadata": {},
   "source": [
    "Strong evidence of overfitting"
   ]
  },
  {
   "cell_type": "code",
   "execution_count": 96,
   "metadata": {},
   "outputs": [
    {
     "name": "stdout",
     "output_type": "stream",
     "text": [
      "[21:53:13] WARNING: src/objective/regression_obj.cu:152: reg:linear is now deprecated in favor of reg:squarederror.\n"
     ]
    },
    {
     "data": {
      "text/plain": [
       "GridSearchCV(cv=5, error_score='raise-deprecating',\n",
       "             estimator=XGBRegressor(base_score=0.5, booster='gbtree',\n",
       "                                    colsample_bylevel=1, colsample_bynode=1,\n",
       "                                    colsample_bytree=1, gamma=0.01,\n",
       "                                    importance_type='gain', learning_rate=0.1,\n",
       "                                    max_delta_step=0, max_depth=4,\n",
       "                                    min_child_weight=1, missing=None,\n",
       "                                    n_estimators=200, n_jobs=1, nthread=None,\n",
       "                                    objective='reg:linear', random_state=0,\n",
       "                                    reg_alpha=0, reg_lambda=1,\n",
       "                                    scale_pos_weight=1, seed=None, silent=None,\n",
       "                                    subsample=1, verbosity=1),\n",
       "             iid='warn', n_jobs=-1,\n",
       "             param_grid={'early_stopping_rounds': [1, 2, 3, 5]},\n",
       "             pre_dispatch='2*n_jobs', refit=True, return_train_score=True,\n",
       "             scoring=None, verbose=0)"
      ]
     },
     "execution_count": 96,
     "metadata": {},
     "output_type": "execute_result"
    }
   ],
   "source": [
    "xgb = XGBRegressor(n_estimators = 200, max_depth = 4, gamma = 0.01, learning_rate= 0.1)\n",
    "param_grid = {'early_stopping_rounds': [1,2,3,5]}\n",
    "xgb_cv = GridSearchCV(xgb,param_grid = param_grid, cv = 5, n_jobs=-1, return_train_score=True)\n",
    "xgb_cv.fit(X_train,y_train)"
   ]
  },
  {
   "cell_type": "code",
   "execution_count": 97,
   "metadata": {},
   "outputs": [
    {
     "data": {
      "text/plain": [
       "{'early_stopping_rounds': 1}"
      ]
     },
     "execution_count": 97,
     "metadata": {},
     "output_type": "execute_result"
    }
   ],
   "source": [
    "xgb_cv.best_params_"
   ]
  },
  {
   "cell_type": "code",
   "execution_count": 98,
   "metadata": {},
   "outputs": [
    {
     "data": {
      "text/plain": [
       "0.6350257433342493"
      ]
     },
     "execution_count": 98,
     "metadata": {},
     "output_type": "execute_result"
    }
   ],
   "source": [
    "xgb_cv.best_score_"
   ]
  },
  {
   "cell_type": "code",
   "execution_count": 99,
   "metadata": {},
   "outputs": [
    {
     "data": {
      "text/plain": [
       "{'mean_fit_time': array([19.74419379, 19.68993945, 19.70131068, 13.21745825]),\n",
       " 'std_fit_time': array([0.25148313, 0.14215799, 0.18967342, 3.29367041]),\n",
       " 'mean_score_time': array([0.05086441, 0.04966731, 0.04926867, 0.03789153]),\n",
       " 'std_score_time': array([0.00252287, 0.00222115, 0.00499065, 0.00227146]),\n",
       " 'param_early_stopping_rounds': masked_array(data=[1, 2, 3, 5],\n",
       "              mask=[False, False, False, False],\n",
       "        fill_value='?',\n",
       "             dtype=object),\n",
       " 'params': [{'early_stopping_rounds': 1},\n",
       "  {'early_stopping_rounds': 2},\n",
       "  {'early_stopping_rounds': 3},\n",
       "  {'early_stopping_rounds': 5}],\n",
       " 'split0_test_score': array([0.64377846, 0.64377846, 0.64377846, 0.64377846]),\n",
       " 'split1_test_score': array([0.63996887, 0.63996887, 0.63996887, 0.63996887]),\n",
       " 'split2_test_score': array([0.63854702, 0.63854702, 0.63854702, 0.63854702]),\n",
       " 'split3_test_score': array([0.61726854, 0.61726854, 0.61726854, 0.61726854]),\n",
       " 'split4_test_score': array([0.63556594, 0.63556594, 0.63556594, 0.63556594]),\n",
       " 'mean_test_score': array([0.63502574, 0.63502574, 0.63502574, 0.63502574]),\n",
       " 'std_test_score': array([0.00926361, 0.00926361, 0.00926361, 0.00926361]),\n",
       " 'rank_test_score': array([1, 1, 1, 1]),\n",
       " 'split0_train_score': array([0.76362671, 0.76362671, 0.76362671, 0.76362671]),\n",
       " 'split1_train_score': array([0.765681, 0.765681, 0.765681, 0.765681]),\n",
       " 'split2_train_score': array([0.76477787, 0.76477787, 0.76477787, 0.76477787]),\n",
       " 'split3_train_score': array([0.76270236, 0.76270236, 0.76270236, 0.76270236]),\n",
       " 'split4_train_score': array([0.76792123, 0.76792123, 0.76792123, 0.76792123]),\n",
       " 'mean_train_score': array([0.76494183, 0.76494183, 0.76494183, 0.76494183]),\n",
       " 'std_train_score': array([0.00179971, 0.00179971, 0.00179971, 0.00179971])}"
      ]
     },
     "execution_count": 99,
     "metadata": {},
     "output_type": "execute_result"
    }
   ],
   "source": [
    "xgb_cv.cv_results_"
   ]
  },
  {
   "cell_type": "code",
   "execution_count": 100,
   "metadata": {
    "scrolled": true
   },
   "outputs": [
    {
     "data": {
      "text/plain": [
       "0.7532713052192793"
      ]
     },
     "execution_count": 100,
     "metadata": {},
     "output_type": "execute_result"
    }
   ],
   "source": [
    "xgb_cv.score(X_train,y_train)"
   ]
  },
  {
   "cell_type": "markdown",
   "metadata": {},
   "source": [
    "Hard to solve the overfitting problem, try reduce n_compenents"
   ]
  },
  {
   "cell_type": "code",
   "execution_count": 101,
   "metadata": {},
   "outputs": [
    {
     "name": "stdout",
     "output_type": "stream",
     "text": [
      "[21:53:46] WARNING: src/objective/regression_obj.cu:152: reg:linear is now deprecated in favor of reg:squarederror.\n"
     ]
    },
    {
     "data": {
      "text/plain": [
       "GridSearchCV(cv=5, error_score='raise-deprecating',\n",
       "             estimator=XGBRegressor(base_score=0.5, booster='gbtree',\n",
       "                                    colsample_bylevel=1, colsample_bynode=1,\n",
       "                                    colsample_bytree=1, gamma=0.01,\n",
       "                                    importance_type='gain', learning_rate=0.1,\n",
       "                                    max_delta_step=0, max_depth=4,\n",
       "                                    min_child_weight=1, missing=None,\n",
       "                                    n_estimators=100, n_jobs=1, nthread=None,\n",
       "                                    objective='reg:linear', random_state=0,\n",
       "                                    reg_alpha=0, reg_lambda=1,\n",
       "                                    scale_pos_weight=1, seed=None, silent=None,\n",
       "                                    subsample=1, verbosity=1),\n",
       "             iid='warn', n_jobs=-1, param_grid={'n_estimators': [50, 100, 150]},\n",
       "             pre_dispatch='2*n_jobs', refit=True, return_train_score=True,\n",
       "             scoring=None, verbose=0)"
      ]
     },
     "execution_count": 101,
     "metadata": {},
     "output_type": "execute_result"
    }
   ],
   "source": [
    "xgb = XGBRegressor(max_depth = 4, gamma = 0.01, learning_rate= 0.1)\n",
    "param_grid = {'n_estimators': [50,100,150]}\n",
    "xgb_cv = GridSearchCV(xgb,param_grid = param_grid, cv = 5, n_jobs=-1, return_train_score=True)\n",
    "xgb_cv.fit(X_train,y_train)"
   ]
  },
  {
   "cell_type": "code",
   "execution_count": 102,
   "metadata": {},
   "outputs": [
    {
     "data": {
      "text/plain": [
       "{'n_estimators': 150}"
      ]
     },
     "execution_count": 102,
     "metadata": {},
     "output_type": "execute_result"
    }
   ],
   "source": [
    "xgb_cv.best_params_"
   ]
  },
  {
   "cell_type": "code",
   "execution_count": 103,
   "metadata": {},
   "outputs": [
    {
     "data": {
      "text/plain": [
       "0.6299414433717764"
      ]
     },
     "execution_count": 103,
     "metadata": {},
     "output_type": "execute_result"
    }
   ],
   "source": [
    "xgb_cv.best_score_"
   ]
  },
  {
   "cell_type": "code",
   "execution_count": 104,
   "metadata": {},
   "outputs": [
    {
     "data": {
      "text/plain": [
       "{'mean_fit_time': array([ 5.28107343,  9.98948259, 12.19359903]),\n",
       " 'std_fit_time': array([0.18173397, 0.33679865, 1.14564148]),\n",
       " 'mean_score_time': array([0.01496005, 0.02433524, 0.02752318]),\n",
       " 'std_score_time': array([0.00302513, 0.00101699, 0.00232155]),\n",
       " 'param_n_estimators': masked_array(data=[50, 100, 150],\n",
       "              mask=[False, False, False],\n",
       "        fill_value='?',\n",
       "             dtype=object),\n",
       " 'params': [{'n_estimators': 50},\n",
       "  {'n_estimators': 100},\n",
       "  {'n_estimators': 150}],\n",
       " 'split0_test_score': array([0.59253163, 0.62570745, 0.63809019]),\n",
       " 'split1_test_score': array([0.5873232 , 0.62282052, 0.63471255]),\n",
       " 'split2_test_score': array([0.59760431, 0.62835883, 0.63432723]),\n",
       " 'split3_test_score': array([0.57235639, 0.60111471, 0.61090954]),\n",
       " 'split4_test_score': array([0.59555015, 0.62287729, 0.63166809]),\n",
       " 'mean_test_score': array([0.58907285, 0.62017564, 0.62994144]),\n",
       " 'std_test_score': array([0.00904671, 0.00974883, 0.00973258]),\n",
       " 'rank_test_score': array([3, 2, 1]),\n",
       " 'split0_train_score': array([0.65958418, 0.71722205, 0.74462898]),\n",
       " 'split1_train_score': array([0.66085502, 0.72060549, 0.74665375]),\n",
       " 'split2_train_score': array([0.66168091, 0.72080945, 0.74613171]),\n",
       " 'split3_train_score': array([0.66309364, 0.71698327, 0.74427126]),\n",
       " 'split4_train_score': array([0.66790782, 0.72198628, 0.74898091]),\n",
       " 'mean_train_score': array([0.66262431, 0.71952131, 0.74613332]),\n",
       " 'std_train_score': array([0.00287745, 0.0020317 , 0.00167988])}"
      ]
     },
     "execution_count": 104,
     "metadata": {},
     "output_type": "execute_result"
    }
   ],
   "source": [
    "xgb_cv.cv_results_"
   ]
  },
  {
   "cell_type": "code",
   "execution_count": 105,
   "metadata": {
    "scrolled": true
   },
   "outputs": [
    {
     "data": {
      "text/plain": [
       "0.7348117326018321"
      ]
     },
     "execution_count": 105,
     "metadata": {},
     "output_type": "execute_result"
    }
   ],
   "source": [
    "xgb_cv.score(X_train,y_train)"
   ]
  },
  {
   "cell_type": "markdown",
   "metadata": {},
   "source": [
    "Choose n_estimators = 100"
   ]
  },
  {
   "cell_type": "code",
   "execution_count": 106,
   "metadata": {
    "scrolled": false
   },
   "outputs": [
    {
     "name": "stdout",
     "output_type": "stream",
     "text": [
      "[21:53:55] WARNING: src/objective/regression_obj.cu:152: reg:linear is now deprecated in favor of reg:squarederror.\n"
     ]
    }
   ],
   "source": [
    "xgb = XGBRegressor(n_estimators = 100, max_depth = 4, gamma = 0.01, learning_rate= 0.1).fit(X_train,y_train)"
   ]
  },
  {
   "cell_type": "code",
   "execution_count": 107,
   "metadata": {
    "scrolled": true
   },
   "outputs": [
    {
     "data": {
      "text/plain": [
       "0.7093633818173432"
      ]
     },
     "execution_count": 107,
     "metadata": {},
     "output_type": "execute_result"
    }
   ],
   "source": [
    "xgb.score(X_train,y_train)"
   ]
  },
  {
   "cell_type": "code",
   "execution_count": 108,
   "metadata": {},
   "outputs": [
    {
     "data": {
      "text/plain": [
       "0.6231697974171969"
      ]
     },
     "execution_count": 108,
     "metadata": {},
     "output_type": "execute_result"
    }
   ],
   "source": [
    "xgb.score(X_test,y_test)"
   ]
  },
  {
   "cell_type": "code",
   "execution_count": 109,
   "metadata": {},
   "outputs": [
    {
     "data": {
      "text/plain": [
       "0.45479187683581057"
      ]
     },
     "execution_count": 109,
     "metadata": {},
     "output_type": "execute_result"
    }
   ],
   "source": [
    "rmsle(y_train,xgb.predict(X_train))"
   ]
  },
  {
   "cell_type": "code",
   "execution_count": 110,
   "metadata": {},
   "outputs": [
    {
     "data": {
      "text/plain": [
       "0.47430591972363223"
      ]
     },
     "execution_count": 110,
     "metadata": {},
     "output_type": "execute_result"
    }
   ],
   "source": [
    "rmsle(y_test,xgb.predict(X_test))"
   ]
  },
  {
   "cell_type": "code",
   "execution_count": 111,
   "metadata": {},
   "outputs": [
    {
     "data": {
      "text/plain": [
       "Text(0, 0.5, 'Predicted')"
      ]
     },
     "execution_count": 111,
     "metadata": {},
     "output_type": "execute_result"
    },
    {
     "data": {
      "image/png": "[encoded data removed]",
      "text/plain": [
       "<Figure size 432x288 with 1 Axes>"
      ]
     },
     "metadata": {
      "needs_background": "light"
     },
     "output_type": "display_data"
    }
   ],
   "source": [
    "y_predict_xgb = xgb.predict(X_test)\n",
    "plt.scatter(y_test,y_predict_xgb,alpha=0.3)\n",
    "plt.plot([y_test.min(), y_test.max()], [y_test.min(), y_test.max()], 'k--', lw=2)\n",
    "plt.xlabel('Actual')\n",
    "plt.ylabel('Predicted')"
   ]
  },
  {
   "cell_type": "markdown",
   "metadata": {},
   "source": [
    "## 4.7 Light GBM "
   ]
  },
  {
   "cell_type": "code",
   "execution_count": 112,
   "metadata": {},
   "outputs": [
    {
     "data": {
      "text/plain": [
       "GridSearchCV(cv=5, error_score='raise-deprecating',\n",
       "             estimator=LGBMRegressor(boosting_type='gbdt', class_weight=None,\n",
       "                                     colsample_bytree=1.0,\n",
       "                                     importance_type='split', learning_rate=0.1,\n",
       "                                     max_depth=-1, metric='l2',\n",
       "                                     min_child_samples=20,\n",
       "                                     min_child_weight=0.001, min_split_gain=0.0,\n",
       "                                     n_estimators=100, n_jobs=-1, num_leaves=31,\n",
       "                                     num_thread=4, objective=None,\n",
       "                                     random_state=None, reg_alpha=0.0,\n",
       "                                     reg_lambda=0.0, silent=True, subsample=1.0,\n",
       "                                     subsample_for_bin=200000,\n",
       "                                     subsample_freq=0),\n",
       "             iid='warn', n_jobs=None,\n",
       "             param_grid={'n_estimators': [50, 75, 100, 150]},\n",
       "             pre_dispatch='2*n_jobs', refit=True, return_train_score=True,\n",
       "             scoring=None, verbose=0)"
      ]
     },
     "execution_count": 112,
     "metadata": {},
     "output_type": "execute_result"
    }
   ],
   "source": [
    "lgbm = lgb.LGBMRegressor(num_thread = 4, metric = 'l2')\n",
    "param_grid = {'n_estimators':[50,75,100,150]}\n",
    "lgbm_cv = GridSearchCV(lgbm,param_grid= param_grid, cv = 5, return_train_score=True)\n",
    "lgbm_cv.fit(X_train,y_train)"
   ]
  },
  {
   "cell_type": "code",
   "execution_count": 113,
   "metadata": {},
   "outputs": [
    {
     "data": {
      "text/plain": [
       "{'n_estimators': 150}"
      ]
     },
     "execution_count": 113,
     "metadata": {},
     "output_type": "execute_result"
    }
   ],
   "source": [
    "lgbm_cv.best_params_"
   ]
  },
  {
   "cell_type": "code",
   "execution_count": 114,
   "metadata": {},
   "outputs": [
    {
     "data": {
      "text/plain": [
       "0.6541118694885167"
      ]
     },
     "execution_count": 114,
     "metadata": {},
     "output_type": "execute_result"
    }
   ],
   "source": [
    "lgbm_cv.best_score_"
   ]
  },
  {
   "cell_type": "code",
   "execution_count": 115,
   "metadata": {},
   "outputs": [
    {
     "data": {
      "text/plain": [
       "{'mean_fit_time': array([0.27985101, 0.37459865, 0.42865529, 0.69035358]),\n",
       " 'std_fit_time': array([0.02451527, 0.02726615, 0.00820813, 0.08072457]),\n",
       " 'mean_score_time': array([0.00718093, 0.01116934, 0.01056995, 0.01555891]),\n",
       " 'std_score_time': array([0.00171604, 0.0046532 , 0.00324976, 0.00870827]),\n",
       " 'param_n_estimators': masked_array(data=[50, 75, 100, 150],\n",
       "              mask=[False, False, False, False],\n",
       "        fill_value='?',\n",
       "             dtype=object),\n",
       " 'params': [{'n_estimators': 50},\n",
       "  {'n_estimators': 75},\n",
       "  {'n_estimators': 100},\n",
       "  {'n_estimators': 150}],\n",
       " 'split0_test_score': array([0.64488787, 0.65781983, 0.66230235, 0.66549278]),\n",
       " 'split1_test_score': array([0.63455907, 0.64634982, 0.65166214, 0.65579492]),\n",
       " 'split2_test_score': array([0.63398543, 0.64092606, 0.6448364 , 0.64974776]),\n",
       " 'split3_test_score': array([0.62840031, 0.64169983, 0.64721434, 0.65195343]),\n",
       " 'split4_test_score': array([0.63047736, 0.63846722, 0.64396763, 0.64756902]),\n",
       " 'mean_test_score': array([0.63446219, 0.64505284, 0.64999684, 0.65411187]),\n",
       " 'std_test_score': array([0.00568437, 0.00687491, 0.00670708, 0.00630667]),\n",
       " 'rank_test_score': array([4, 3, 2, 1]),\n",
       " 'split0_train_score': array([0.74293783, 0.77679682, 0.79833758, 0.83034609]),\n",
       " 'split1_train_score': array([0.74506027, 0.77800195, 0.79946396, 0.83149336]),\n",
       " 'split2_train_score': array([0.74494411, 0.77775704, 0.8001754 , 0.83323286]),\n",
       " 'split3_train_score': array([0.74123439, 0.77386599, 0.7953651 , 0.82679205]),\n",
       " 'split4_train_score': array([0.7455395 , 0.77825123, 0.80145005, 0.83165618]),\n",
       " 'mean_train_score': array([0.74394322, 0.77693461, 0.79895842, 0.83070411]),\n",
       " 'std_train_score': array([0.00162149, 0.00161149, 0.00206118, 0.00216131])}"
      ]
     },
     "execution_count": 115,
     "metadata": {},
     "output_type": "execute_result"
    }
   ],
   "source": [
    "lgbm_cv.cv_results_"
   ]
  },
  {
   "cell_type": "markdown",
   "metadata": {},
   "source": [
    "Choose n_estimators = 75 as the test score increase little after n_estimators reaches 75"
   ]
  },
  {
   "cell_type": "code",
   "execution_count": 116,
   "metadata": {},
   "outputs": [
    {
     "data": {
      "text/plain": [
       "GridSearchCV(cv=5, error_score='raise-deprecating',\n",
       "             estimator=LGBMRegressor(boosting_type='gbdt', class_weight=None,\n",
       "                                     colsample_bytree=1.0,\n",
       "                                     importance_type='split', learning_rate=0.1,\n",
       "                                     max_depth=-1, metric='l2',\n",
       "                                     min_child_samples=20,\n",
       "                                     min_child_weight=0.001, min_split_gain=0.0,\n",
       "                                     n_estimators=75, n_jobs=-1, num_leaves=31,\n",
       "                                     num_thread=4, objective=None,\n",
       "                                     random_state=None, reg_alpha=0.0,\n",
       "                                     reg_lambda=0.0, silent=True, subsample=1.0,\n",
       "                                     subsample_for_bin=200000,\n",
       "                                     subsample_freq=0),\n",
       "             iid='warn', n_jobs=None,\n",
       "             param_grid={'max_depth': [4, 5, 6, 7],\n",
       "                         'num_leaves': [50, 100, 150]},\n",
       "             pre_dispatch='2*n_jobs', refit=True, return_train_score=True,\n",
       "             scoring=None, verbose=0)"
      ]
     },
     "execution_count": 116,
     "metadata": {},
     "output_type": "execute_result"
    }
   ],
   "source": [
    "lgbm = lgb.LGBMRegressor(num_thread = 4, metric = 'l2',n_estimators = 75)\n",
    "param_grid = {'max_depth':[4,5,6,7],'num_leaves':[50,100,150]}\n",
    "lgbm_cv = GridSearchCV(lgbm,param_grid= param_grid, cv = 5, return_train_score=True)\n",
    "lgbm_cv.fit(X_train,y_train)"
   ]
  },
  {
   "cell_type": "code",
   "execution_count": 117,
   "metadata": {},
   "outputs": [
    {
     "data": {
      "text/plain": [
       "{'max_depth': 7, 'num_leaves': 150}"
      ]
     },
     "execution_count": 117,
     "metadata": {},
     "output_type": "execute_result"
    }
   ],
   "source": [
    "lgbm_cv.best_params_"
   ]
  },
  {
   "cell_type": "code",
   "execution_count": 118,
   "metadata": {},
   "outputs": [
    {
     "data": {
      "text/plain": [
       "0.6456729580105818"
      ]
     },
     "execution_count": 118,
     "metadata": {},
     "output_type": "execute_result"
    }
   ],
   "source": [
    "lgbm_cv.best_score_"
   ]
  },
  {
   "cell_type": "code",
   "execution_count": 119,
   "metadata": {},
   "outputs": [
    {
     "data": {
      "text/plain": [
       "0.802339912326251"
      ]
     },
     "execution_count": 119,
     "metadata": {},
     "output_type": "execute_result"
    }
   ],
   "source": [
    "lgbm_cv.score(X_train,y_train)"
   ]
  },
  {
   "cell_type": "code",
   "execution_count": 120,
   "metadata": {},
   "outputs": [
    {
     "data": {
      "text/plain": [
       "{'mean_fit_time': array([0.18370867, 0.16835084, 0.19029083, 0.268681  , 0.25491805,\n",
       "        0.25691595, 0.35325527, 0.33271046, 0.35146017, 0.45498295,\n",
       "        0.51043515, 0.4888927 ]),\n",
       " 'std_fit_time': array([0.01460865, 0.00116261, 0.02503601, 0.0250216 , 0.03242545,\n",
       "        0.01039851, 0.03639035, 0.01235462, 0.04102704, 0.03571133,\n",
       "        0.0493067 , 0.0570363 ]),\n",
       " 'mean_score_time': array([0.00757976, 0.00638213, 0.00777941, 0.01077108, 0.00738039,\n",
       "        0.00877347, 0.01137018, 0.00857658, 0.00857677, 0.00897603,\n",
       "        0.01077104, 0.01057167]),\n",
       " 'std_score_time': array([0.00184967, 0.00048957, 0.00171585, 0.00569095, 0.00079798,\n",
       "        0.00193661, 0.00299864, 0.00173881, 0.00079794, 0.00063068,\n",
       "        0.00358987, 0.00371045]),\n",
       " 'param_max_depth': masked_array(data=[4, 4, 4, 5, 5, 5, 6, 6, 6, 7, 7, 7],\n",
       "              mask=[False, False, False, False, False, False, False, False,\n",
       "                    False, False, False, False],\n",
       "        fill_value='?',\n",
       "             dtype=object),\n",
       " 'param_num_leaves': masked_array(data=[50, 100, 150, 50, 100, 150, 50, 100, 150, 50, 100, 150],\n",
       "              mask=[False, False, False, False, False, False, False, False,\n",
       "                    False, False, False, False],\n",
       "        fill_value='?',\n",
       "             dtype=object),\n",
       " 'params': [{'max_depth': 4, 'num_leaves': 50},\n",
       "  {'max_depth': 4, 'num_leaves': 100},\n",
       "  {'max_depth': 4, 'num_leaves': 150},\n",
       "  {'max_depth': 5, 'num_leaves': 50},\n",
       "  {'max_depth': 5, 'num_leaves': 100},\n",
       "  {'max_depth': 5, 'num_leaves': 150},\n",
       "  {'max_depth': 6, 'num_leaves': 50},\n",
       "  {'max_depth': 6, 'num_leaves': 100},\n",
       "  {'max_depth': 6, 'num_leaves': 150},\n",
       "  {'max_depth': 7, 'num_leaves': 50},\n",
       "  {'max_depth': 7, 'num_leaves': 100},\n",
       "  {'max_depth': 7, 'num_leaves': 150}],\n",
       " 'split0_test_score': array([0.62040147, 0.62040147, 0.62040147, 0.63632262, 0.63632262,\n",
       "        0.63632262, 0.65279841, 0.65404471, 0.65404471, 0.65624883,\n",
       "        0.65786267, 0.66303597]),\n",
       " 'split1_test_score': array([0.61622633, 0.61622633, 0.61622633, 0.63086833, 0.63086833,\n",
       "        0.63086833, 0.63637071, 0.64285279, 0.64285279, 0.64010891,\n",
       "        0.63716607, 0.63716607]),\n",
       " 'split2_test_score': array([0.62077406, 0.62077406, 0.62077406, 0.636652  , 0.636652  ,\n",
       "        0.636652  , 0.6477456 , 0.64578273, 0.64578273, 0.65152025,\n",
       "        0.65294182, 0.65294182]),\n",
       " 'split3_test_score': array([0.60109566, 0.60109566, 0.60109566, 0.61511423, 0.61511423,\n",
       "        0.61511423, 0.62071298, 0.62396161, 0.62396161, 0.63165965,\n",
       "        0.62739513, 0.6249353 ]),\n",
       " 'split4_test_score': array([0.61926571, 0.61926571, 0.61926571, 0.62821624, 0.62821624,\n",
       "        0.62821624, 0.63736531, 0.64590386, 0.64590386, 0.63968071,\n",
       "        0.6470543 , 0.65028664]),\n",
       " 'mean_test_score': array([0.61555248, 0.61555248, 0.61555248, 0.62943474, 0.62943474,\n",
       "        0.62943474, 0.63899868, 0.64250899, 0.64250899, 0.64384385,\n",
       "        0.64448389, 0.64567296]),\n",
       " 'std_test_score': array([0.00740309, 0.00740309, 0.00740309, 0.00785063, 0.00785063,\n",
       "        0.00785063, 0.01105358, 0.00999458, 0.00999458, 0.0088607 ,\n",
       "        0.0109794 , 0.01325178]),\n",
       " 'rank_test_score': array([10, 10, 10,  7,  7,  7,  6,  4,  4,  3,  2,  1]),\n",
       " 'split0_train_score': array([0.68200847, 0.68200847, 0.68200847, 0.730826  , 0.730826  ,\n",
       "        0.730826  , 0.77342623, 0.77264813, 0.77264813, 0.79428638,\n",
       "        0.81045777, 0.80825557]),\n",
       " 'split1_train_score': array([0.68762932, 0.68762932, 0.68762932, 0.73522564, 0.73522564,\n",
       "        0.73522564, 0.77200664, 0.77552391, 0.77552391, 0.79929321,\n",
       "        0.81170245, 0.81170245]),\n",
       " 'split2_train_score': array([0.68801893, 0.68801893, 0.68801893, 0.73523049, 0.73523049,\n",
       "        0.73523049, 0.77426003, 0.77302756, 0.77302756, 0.79670219,\n",
       "        0.80958785, 0.80958785]),\n",
       " 'split3_train_score': array([0.68430428, 0.68430428, 0.68430428, 0.72974447, 0.72974447,\n",
       "        0.72974447, 0.7700761 , 0.77067176, 0.77067176, 0.79549687,\n",
       "        0.81092827, 0.80995755]),\n",
       " 'split4_train_score': array([0.68663648, 0.68663648, 0.68663648, 0.73957927, 0.73957927,\n",
       "        0.73957927, 0.77903719, 0.77708283, 0.77708283, 0.80408204,\n",
       "        0.81358398, 0.81406431]),\n",
       " 'mean_train_score': array([0.6857195 , 0.6857195 , 0.6857195 , 0.73412117, 0.73412117,\n",
       "        0.73412117, 0.77376124, 0.77379084, 0.77379084, 0.79797214,\n",
       "        0.81125206, 0.81071354]),\n",
       " 'std_train_score': array([0.00226054, 0.00226054, 0.00226054, 0.00352859, 0.00352859,\n",
       "        0.00352859, 0.00299518, 0.00225645, 0.00225645, 0.00347565,\n",
       "        0.00135248, 0.00200429])}"
      ]
     },
     "execution_count": 120,
     "metadata": {},
     "output_type": "execute_result"
    }
   ],
   "source": [
    "lgbm_cv.cv_results_"
   ]
  },
  {
   "cell_type": "markdown",
   "metadata": {},
   "source": [
    "Choose max_depth = 6, num_leaves = 50"
   ]
  },
  {
   "cell_type": "code",
   "execution_count": 121,
   "metadata": {},
   "outputs": [
    {
     "data": {
      "text/plain": [
       "GridSearchCV(cv=5, error_score='raise-deprecating',\n",
       "             estimator=LGBMRegressor(boosting_type='gbdt', class_weight=None,\n",
       "                                     colsample_bytree=1.0,\n",
       "                                     importance_type='split', learning_rate=0.1,\n",
       "                                     max_depth=6, metric='l2',\n",
       "                                     min_child_samples=20,\n",
       "                                     min_child_weight=0.001, min_split_gain=0.0,\n",
       "                                     n_estimators=75, n_jobs=-1, num_leaves=50,\n",
       "                                     num_thread=4, objective=None,\n",
       "                                     random_state=None, reg_alpha=0.0,\n",
       "                                     reg_lambda=0.0, silent=True, subsample=1.0,\n",
       "                                     subsample_for_bin=200000,\n",
       "                                     subsample_freq=0),\n",
       "             iid='warn', n_jobs=None,\n",
       "             param_grid={'learning_rate': [0.01, 0.05, 0.1]},\n",
       "             pre_dispatch='2*n_jobs', refit=True, return_train_score=True,\n",
       "             scoring=None, verbose=0)"
      ]
     },
     "execution_count": 121,
     "metadata": {},
     "output_type": "execute_result"
    }
   ],
   "source": [
    "lgbm = lgb.LGBMRegressor(num_thread = 4, metric = 'l2',n_estimators = 75, max_depth = 6, num_leaves = 50)\n",
    "param_grid = {'learning_rate':[0.01,0.05,0.1]}\n",
    "lgbm_cv = GridSearchCV(lgbm,param_grid= param_grid, cv = 5, return_train_score=True)\n",
    "lgbm_cv.fit(X_train,y_train)"
   ]
  },
  {
   "cell_type": "code",
   "execution_count": 122,
   "metadata": {},
   "outputs": [
    {
     "data": {
      "text/plain": [
       "{'learning_rate': 0.1}"
      ]
     },
     "execution_count": 122,
     "metadata": {},
     "output_type": "execute_result"
    }
   ],
   "source": [
    "lgbm_cv.best_params_"
   ]
  },
  {
   "cell_type": "code",
   "execution_count": 123,
   "metadata": {},
   "outputs": [
    {
     "data": {
      "text/plain": [
       "0.6389986752649587"
      ]
     },
     "execution_count": 123,
     "metadata": {},
     "output_type": "execute_result"
    }
   ],
   "source": [
    "lgbm_cv.best_score_"
   ]
  },
  {
   "cell_type": "code",
   "execution_count": 124,
   "metadata": {
    "scrolled": true
   },
   "outputs": [
    {
     "data": {
      "text/plain": [
       "0.7636859659336838"
      ]
     },
     "execution_count": 124,
     "metadata": {},
     "output_type": "execute_result"
    }
   ],
   "source": [
    "lgbm_cv.score(X_train,y_train)"
   ]
  },
  {
   "cell_type": "code",
   "execution_count": 125,
   "metadata": {},
   "outputs": [
    {
     "data": {
      "text/plain": [
       "{'mean_fit_time': array([0.4085073 , 0.38457193, 0.35505037]),\n",
       " 'std_fit_time': array([0.015827 , 0.0065124, 0.0161312]),\n",
       " 'mean_score_time': array([0.01037216, 0.00797868, 0.01057172]),\n",
       " 'std_score_time': array([2.14829153e-03, 6.03156597e-07, 3.06419953e-03]),\n",
       " 'param_learning_rate': masked_array(data=[0.01, 0.05, 0.1],\n",
       "              mask=[False, False, False],\n",
       "        fill_value='?',\n",
       "             dtype=object),\n",
       " 'params': [{'learning_rate': 0.01},\n",
       "  {'learning_rate': 0.05},\n",
       "  {'learning_rate': 0.1}],\n",
       " 'split0_test_score': array([0.41265543, 0.62939798, 0.65279841]),\n",
       " 'split1_test_score': array([0.39950528, 0.62233301, 0.63637071]),\n",
       " 'split2_test_score': array([0.41422293, 0.62978527, 0.6477456 ]),\n",
       " 'split3_test_score': array([0.38441481, 0.60536612, 0.62071298]),\n",
       " 'split4_test_score': array([0.41482154, 0.61885965, 0.63736531]),\n",
       " 'mean_test_score': array([0.40512357, 0.62114851, 0.63899868]),\n",
       " 'std_test_score': array([0.01178139, 0.00892625, 0.01105358]),\n",
       " 'rank_test_score': array([3, 2, 1]),\n",
       " 'split0_train_score': array([0.44569424, 0.71795686, 0.77342623]),\n",
       " 'split1_train_score': array([0.44741109, 0.72283916, 0.77200664]),\n",
       " 'split2_train_score': array([0.44672097, 0.72216968, 0.77426003]),\n",
       " 'split3_train_score': array([0.44556368, 0.72030182, 0.7700761 ]),\n",
       " 'split4_train_score': array([0.45223022, 0.72694343, 0.77903719]),\n",
       " 'mean_train_score': array([0.44752404, 0.72204219, 0.77376124]),\n",
       " 'std_train_score': array([0.00244937, 0.00297967, 0.00299518])}"
      ]
     },
     "execution_count": 125,
     "metadata": {},
     "output_type": "execute_result"
    }
   ],
   "source": [
    "lgbm_cv.cv_results_"
   ]
  },
  {
   "cell_type": "markdown",
   "metadata": {},
   "source": [
    "Choose learning_rate = 0.1"
   ]
  },
  {
   "cell_type": "code",
   "execution_count": 126,
   "metadata": {},
   "outputs": [
    {
     "data": {
      "text/plain": [
       "0.7636859659336838"
      ]
     },
     "execution_count": 126,
     "metadata": {},
     "output_type": "execute_result"
    }
   ],
   "source": [
    "lgbm = lgb.LGBMRegressor(num_thread = 4, metric = 'l2',n_estimators = 75, max_depth = 6, num_leaves = 50, learning_rate = 0.1).fit(X_train,y_train)\n",
    "lgbm.score(X_train,y_train)"
   ]
  },
  {
   "cell_type": "code",
   "execution_count": 127,
   "metadata": {
    "scrolled": true
   },
   "outputs": [
    {
     "data": {
      "text/plain": [
       "0.6462604721336261"
      ]
     },
     "execution_count": 127,
     "metadata": {},
     "output_type": "execute_result"
    }
   ],
   "source": [
    "lgbm.score(X_test,y_test)"
   ]
  },
  {
   "cell_type": "code",
   "execution_count": 128,
   "metadata": {},
   "outputs": [
    {
     "data": {
      "text/plain": [
       "0.43342735739222926"
      ]
     },
     "execution_count": 128,
     "metadata": {},
     "output_type": "execute_result"
    }
   ],
   "source": [
    "rmsle(y_train,lgbm.predict(X_train))"
   ]
  },
  {
   "cell_type": "code",
   "execution_count": 129,
   "metadata": {},
   "outputs": [
    {
     "data": {
      "text/plain": [
       "0.46927323541439503"
      ]
     },
     "execution_count": 129,
     "metadata": {},
     "output_type": "execute_result"
    }
   ],
   "source": [
    "rmsle(y_test,lgbm.predict(X_test))"
   ]
  },
  {
   "cell_type": "code",
   "execution_count": 130,
   "metadata": {},
   "outputs": [
    {
     "data": {
      "text/plain": [
       "Text(0, 0.5, 'Predicted')"
      ]
     },
     "execution_count": 130,
     "metadata": {},
     "output_type": "execute_result"
    },
    {
     "data": {
      "image/png": "[encoded data removed]",
      "text/plain": [
       "<Figure size 432x288 with 1 Axes>"
      ]
     },
     "metadata": {
      "needs_background": "light"
     },
     "output_type": "display_data"
    }
   ],
   "source": [
    "y_predict_lgbm = lgbm.predict(X_test)\n",
    "plt.scatter(y_test,y_predict_lgbm,alpha=0.3)\n",
    "plt.plot([y_test.min(), y_test.max()], [y_test.min(), y_test.max()], 'k--', lw=2)\n",
    "plt.xlabel('Actual')\n",
    "plt.ylabel('Predicted')"
   ]
  },
  {
   "cell_type": "markdown",
   "metadata": {},
   "source": [
    "# 5. Model ensemble"
   ]
  },
  {
   "cell_type": "code",
   "execution_count": 131,
   "metadata": {},
   "outputs": [],
   "source": [
    "y_predict_df = pd.DataFrame([y_predict_LR,y_predict_ridge,y_predict_lasso,y_predict_glm,y_predict_xgb,y_predict_lgbm]).T\n",
    "y_predict_df.columns = ['LR','Ridge','Lasso','GLM','XGB','LGBM']"
   ]
  },
  {
   "cell_type": "code",
   "execution_count": 132,
   "metadata": {},
   "outputs": [
    {
     "data": {
      "text/html": [
       "<div>\n",
       "<style scoped>\n",
       "    .dataframe tbody tr th:only-of-type {\n",
       "        vertical-align: middle;\n",
       "    }\n",
       "\n",
       "    .dataframe tbody tr th {\n",
       "        vertical-align: top;\n",
       "    }\n",
       "\n",
       "    .dataframe thead th {\n",
       "        text-align: right;\n",
       "    }\n",
       "</style>\n",
       "<table border=\"1\" class=\"dataframe\">\n",
       "  <thead>\n",
       "    <tr style=\"text-align: right;\">\n",
       "      <th></th>\n",
       "      <th>LR</th>\n",
       "      <th>Ridge</th>\n",
       "      <th>Lasso</th>\n",
       "      <th>GLM</th>\n",
       "      <th>XGB</th>\n",
       "      <th>LGBM</th>\n",
       "    </tr>\n",
       "  </thead>\n",
       "  <tbody>\n",
       "    <tr>\n",
       "      <td>0</td>\n",
       "      <td>6.609587e+06</td>\n",
       "      <td>6.607262e+06</td>\n",
       "      <td>6.609675e+06</td>\n",
       "      <td>6.026427e+06</td>\n",
       "      <td>6238165.00</td>\n",
       "      <td>5.905588e+06</td>\n",
       "    </tr>\n",
       "    <tr>\n",
       "      <td>1</td>\n",
       "      <td>3.990810e+06</td>\n",
       "      <td>3.997687e+06</td>\n",
       "      <td>3.991030e+06</td>\n",
       "      <td>4.639670e+06</td>\n",
       "      <td>5464030.50</td>\n",
       "      <td>5.210114e+06</td>\n",
       "    </tr>\n",
       "    <tr>\n",
       "      <td>2</td>\n",
       "      <td>3.375829e+06</td>\n",
       "      <td>3.377350e+06</td>\n",
       "      <td>3.375688e+06</td>\n",
       "      <td>3.768139e+06</td>\n",
       "      <td>5749136.50</td>\n",
       "      <td>5.365344e+06</td>\n",
       "    </tr>\n",
       "    <tr>\n",
       "      <td>3</td>\n",
       "      <td>8.363433e+06</td>\n",
       "      <td>8.368288e+06</td>\n",
       "      <td>8.363651e+06</td>\n",
       "      <td>7.615716e+06</td>\n",
       "      <td>6531491.00</td>\n",
       "      <td>6.555601e+06</td>\n",
       "    </tr>\n",
       "    <tr>\n",
       "      <td>4</td>\n",
       "      <td>9.718638e+06</td>\n",
       "      <td>9.716018e+06</td>\n",
       "      <td>9.718643e+06</td>\n",
       "      <td>9.360229e+06</td>\n",
       "      <td>10250630.00</td>\n",
       "      <td>9.708571e+06</td>\n",
       "    </tr>\n",
       "    <tr>\n",
       "      <td>...</td>\n",
       "      <td>...</td>\n",
       "      <td>...</td>\n",
       "      <td>...</td>\n",
       "      <td>...</td>\n",
       "      <td>...</td>\n",
       "      <td>...</td>\n",
       "    </tr>\n",
       "    <tr>\n",
       "      <td>5662</td>\n",
       "      <td>3.135273e+06</td>\n",
       "      <td>3.140555e+06</td>\n",
       "      <td>3.135973e+06</td>\n",
       "      <td>3.910284e+06</td>\n",
       "      <td>3968444.25</td>\n",
       "      <td>3.913563e+06</td>\n",
       "    </tr>\n",
       "    <tr>\n",
       "      <td>5663</td>\n",
       "      <td>1.216079e+07</td>\n",
       "      <td>1.215854e+07</td>\n",
       "      <td>1.216071e+07</td>\n",
       "      <td>1.111355e+07</td>\n",
       "      <td>10750942.00</td>\n",
       "      <td>9.944764e+06</td>\n",
       "    </tr>\n",
       "    <tr>\n",
       "      <td>5664</td>\n",
       "      <td>6.134493e+06</td>\n",
       "      <td>6.135670e+06</td>\n",
       "      <td>6.133912e+06</td>\n",
       "      <td>5.135887e+06</td>\n",
       "      <td>5833087.50</td>\n",
       "      <td>5.376346e+06</td>\n",
       "    </tr>\n",
       "    <tr>\n",
       "      <td>5665</td>\n",
       "      <td>4.210560e+06</td>\n",
       "      <td>4.213615e+06</td>\n",
       "      <td>4.211164e+06</td>\n",
       "      <td>4.582304e+06</td>\n",
       "      <td>3991026.50</td>\n",
       "      <td>4.015105e+06</td>\n",
       "    </tr>\n",
       "    <tr>\n",
       "      <td>5666</td>\n",
       "      <td>2.760320e+06</td>\n",
       "      <td>2.765454e+06</td>\n",
       "      <td>2.760452e+06</td>\n",
       "      <td>3.774747e+06</td>\n",
       "      <td>3979514.25</td>\n",
       "      <td>4.069117e+06</td>\n",
       "    </tr>\n",
       "  </tbody>\n",
       "</table>\n",
       "<p>5667 rows × 6 columns</p>\n",
       "</div>"
      ],
      "text/plain": [
       "                LR         Ridge         Lasso           GLM          XGB  \\\n",
       "0     6.609587e+06  6.607262e+06  6.609675e+06  6.026427e+06   6238165.00   \n",
       "1     3.990810e+06  3.997687e+06  3.991030e+06  4.639670e+06   5464030.50   \n",
       "2     3.375829e+06  3.377350e+06  3.375688e+06  3.768139e+06   5749136.50   \n",
       "3     8.363433e+06  8.368288e+06  8.363651e+06  7.615716e+06   6531491.00   \n",
       "4     9.718638e+06  9.716018e+06  9.718643e+06  9.360229e+06  10250630.00   \n",
       "...            ...           ...           ...           ...          ...   \n",
       "5662  3.135273e+06  3.140555e+06  3.135973e+06  3.910284e+06   3968444.25   \n",
       "5663  1.216079e+07  1.215854e+07  1.216071e+07  1.111355e+07  10750942.00   \n",
       "5664  6.134493e+06  6.135670e+06  6.133912e+06  5.135887e+06   5833087.50   \n",
       "5665  4.210560e+06  4.213615e+06  4.211164e+06  4.582304e+06   3991026.50   \n",
       "5666  2.760320e+06  2.765454e+06  2.760452e+06  3.774747e+06   3979514.25   \n",
       "\n",
       "              LGBM  \n",
       "0     5.905588e+06  \n",
       "1     5.210114e+06  \n",
       "2     5.365344e+06  \n",
       "3     6.555601e+06  \n",
       "4     9.708571e+06  \n",
       "...            ...  \n",
       "5662  3.913563e+06  \n",
       "5663  9.944764e+06  \n",
       "5664  5.376346e+06  \n",
       "5665  4.015105e+06  \n",
       "5666  4.069117e+06  \n",
       "\n",
       "[5667 rows x 6 columns]"
      ]
     },
     "execution_count": 132,
     "metadata": {},
     "output_type": "execute_result"
    }
   ],
   "source": [
    "y_predict_df"
   ]
  },
  {
   "cell_type": "markdown",
   "metadata": {},
   "source": [
    "## 5.1 Bagging (Average)"
   ]
  },
  {
   "cell_type": "markdown",
   "metadata": {},
   "source": [
    "### a. Base on all models"
   ]
  },
  {
   "cell_type": "code",
   "execution_count": 133,
   "metadata": {
    "scrolled": true
   },
   "outputs": [],
   "source": [
    "y_predict = y_predict_df.mean(axis=1)"
   ]
  },
  {
   "cell_type": "code",
   "execution_count": 134,
   "metadata": {
    "scrolled": true
   },
   "outputs": [
    {
     "data": {
      "text/plain": [
       "7423604891473.464"
      ]
     },
     "execution_count": 134,
     "metadata": {},
     "output_type": "execute_result"
    }
   ],
   "source": [
    "mean_squared_error(y_test,y_predict)"
   ]
  },
  {
   "cell_type": "code",
   "execution_count": 135,
   "metadata": {},
   "outputs": [
    {
     "name": "stdout",
     "output_type": "stream",
     "text": [
      "r2: 0.6031540061665903\n",
      "MSE: 7423604891473.464\n",
      "RMSLE: 0.7562115202013615\n"
     ]
    }
   ],
   "source": [
    "print('r2:',r2_score(y_test,y_predict))\n",
    "print('MSE:',mean_squared_error(y_test,y_predict))\n",
    "print('RMSLE:',rmsle(y_test,y_predict))"
   ]
  },
  {
   "cell_type": "markdown",
   "metadata": {},
   "source": [
    "### b. Base on models exclude GLM"
   ]
  },
  {
   "cell_type": "code",
   "execution_count": 136,
   "metadata": {},
   "outputs": [],
   "source": [
    "y_predict = y_predict_df.drop('GLM',axis=1).mean(axis=1)"
   ]
  },
  {
   "cell_type": "code",
   "execution_count": 137,
   "metadata": {},
   "outputs": [
    {
     "name": "stdout",
     "output_type": "stream",
     "text": [
      "r2: 0.6043155574999199\n",
      "MSE: 7401876315920.747\n",
      "RMSLE: 0.7595912256258369\n"
     ]
    }
   ],
   "source": [
    "print('r2:',r2_score(y_test,y_predict))\n",
    "print('MSE:',mean_squared_error(y_test,y_predict))\n",
    "print('RMSLE:',rmsle(y_test,y_predict))"
   ]
  },
  {
   "cell_type": "markdown",
   "metadata": {},
   "source": [
    "### c. Base on both XGBoost and LightGBM"
   ]
  },
  {
   "cell_type": "code",
   "execution_count": 138,
   "metadata": {},
   "outputs": [
    {
     "name": "stdout",
     "output_type": "stream",
     "text": [
      "r2: 0.6409757760931377\n",
      "MSE: 6716091446475.035\n",
      "RMSLE: 0.739739294651439\n"
     ]
    }
   ],
   "source": [
    "y_predict = y_predict_df[['XGB','LGBM']].mean(axis=1)\n",
    "print('r2:',r2_score(y_test,y_predict))\n",
    "print('MSE:',mean_squared_error(y_test,y_predict))\n",
    "print('RMSLE:',rmsle(y_test,y_predict))"
   ]
  },
  {
   "cell_type": "markdown",
   "metadata": {},
   "source": [
    "### d. Base only on XGBoost"
   ]
  },
  {
   "cell_type": "code",
   "execution_count": 139,
   "metadata": {},
   "outputs": [
    {
     "name": "stdout",
     "output_type": "stream",
     "text": [
      "r2: 0.6231697974171969\n",
      "MSE: 7049179224732.098\n",
      "RMSLE: 0.7371695514754024\n"
     ]
    }
   ],
   "source": [
    "y_predict = y_predict_df[['XGB']].mean(axis=1)\n",
    "print('r2:',r2_score(y_test,y_predict))\n",
    "print('MSE:',mean_squared_error(y_test,y_predict))\n",
    "print('RMSLE:',rmsle(y_test,y_predict))"
   ]
  },
  {
   "cell_type": "markdown",
   "metadata": {},
   "source": [
    "### e. Base only on LightGBM"
   ]
  },
  {
   "cell_type": "code",
   "execution_count": 140,
   "metadata": {},
   "outputs": [
    {
     "name": "stdout",
     "output_type": "stream",
     "text": [
      "r2: 0.6462604721336261\n",
      "MSE: 6617233209310.647\n",
      "RMSLE: 0.7437471416105292\n"
     ]
    }
   ],
   "source": [
    "y_predict = y_predict_df[['LGBM']].mean(axis=1)\n",
    "print('r2:',r2_score(y_test,y_predict))\n",
    "print('MSE:',mean_squared_error(y_test,y_predict))\n",
    "print('RMSLE:',rmsle(y_test,y_predict))"
   ]
  },
  {
   "cell_type": "markdown",
   "metadata": {},
   "source": [
    "## 5.2 Stacking"
   ]
  },
  {
   "cell_type": "code",
   "execution_count": 141,
   "metadata": {},
   "outputs": [],
   "source": [
    "y_train_predict_LR = LR.predict(X_train)\n",
    "y_train_predict_ridge = ridge.predict(X_train)\n",
    "y_train_predict_lasso = lasso.predict(X_train)\n",
    "y_train_predict_xgb = xgb.predict(X_train)\n",
    "y_train_predict_lgbm = lgbm.predict(X_train)\n",
    "\n",
    "y_train_predict_df = pd.DataFrame([y_train_predict_LR,y_train_predict_ridge,y_train_predict_lasso,\n",
    "                                   y_train_predict_xgb,y_train_predict_lgbm]).T\n",
    "y_train_predict_df.columns = ['LR','Ridge','Lasso','XGB','LGBM']"
   ]
  },
  {
   "cell_type": "code",
   "execution_count": 142,
   "metadata": {},
   "outputs": [],
   "source": [
    "y_train_predict = y_train_predict_df.mean(axis=1)"
   ]
  },
  {
   "cell_type": "code",
   "execution_count": 143,
   "metadata": {
    "scrolled": true
   },
   "outputs": [
    {
     "name": "stdout",
     "output_type": "stream",
     "text": [
      "r2: 0.6535459261861545\n",
      "MSE: 5869869870299.294\n"
     ]
    }
   ],
   "source": [
    "print('r2:',r2_score(y_train,y_train_predict))\n",
    "print('MSE:',mean_squared_error(y_train,y_train_predict))"
   ]
  },
  {
   "cell_type": "code",
   "execution_count": 144,
   "metadata": {},
   "outputs": [
    {
     "name": "stdout",
     "output_type": "stream",
     "text": [
      "[21:54:43] WARNING: src/objective/regression_obj.cu:152: reg:linear is now deprecated in favor of reg:squarederror.\n"
     ]
    },
    {
     "data": {
      "text/plain": [
       "XGBRegressor(base_score=0.5, booster='gbtree', colsample_bylevel=1,\n",
       "             colsample_bynode=1, colsample_bytree=1, gamma=0,\n",
       "             importance_type='gain', learning_rate=0.1, max_delta_step=0,\n",
       "             max_depth=3, min_child_weight=1, missing=None, n_estimators=100,\n",
       "             n_jobs=1, nthread=None, objective='reg:linear', random_state=0,\n",
       "             reg_alpha=0, reg_lambda=1, scale_pos_weight=1, seed=None,\n",
       "             silent=None, subsample=1, verbosity=1)"
      ]
     },
     "execution_count": 144,
     "metadata": {},
     "output_type": "execute_result"
    }
   ],
   "source": [
    "xgb_stacking = XGBRegressor()\n",
    "xgb_stacking.fit(y_train_predict_df,y_train)"
   ]
  },
  {
   "cell_type": "code",
   "execution_count": 145,
   "metadata": {},
   "outputs": [
    {
     "data": {
      "text/plain": [
       "0.7958331795569686"
      ]
     },
     "execution_count": 145,
     "metadata": {},
     "output_type": "execute_result"
    }
   ],
   "source": [
    "xgb_stacking.score(y_train_predict_df,y_train)"
   ]
  },
  {
   "cell_type": "code",
   "execution_count": 146,
   "metadata": {
    "scrolled": true
   },
   "outputs": [
    {
     "data": {
      "text/plain": [
       "0.640922760612739"
      ]
     },
     "execution_count": 146,
     "metadata": {},
     "output_type": "execute_result"
    }
   ],
   "source": [
    "y_predict_df_drop_glm = y_predict_df.drop('GLM',axis=1)\n",
    "xgb_stacking.score(y_predict_df_drop_glm,y_test)"
   ]
  },
  {
   "cell_type": "code",
   "execution_count": 147,
   "metadata": {},
   "outputs": [
    {
     "name": "stdout",
     "output_type": "stream",
     "text": [
      "r2: 0.640922760612739\n",
      "MSE: 6717083181268.198\n",
      "RMSLE: 0.4711978816881218\n"
     ]
    }
   ],
   "source": [
    "print('r2:',r2_score(y_test,xgb_stacking.predict(y_predict_df_drop_glm)))\n",
    "print('MSE:',mean_squared_error(y_test,xgb_stacking.predict(y_predict_df_drop_glm)))\n",
    "print('RMSLE:',rmsle(y_test,xgb_stacking.predict(y_predict_df_drop_glm)))"
   ]
  },
  {
   "cell_type": "code",
   "execution_count": 148,
   "metadata": {},
   "outputs": [
    {
     "data": {
      "text/plain": [
       "Text(0, 0.5, 'Predicted')"
      ]
     },
     "execution_count": 148,
     "metadata": {},
     "output_type": "execute_result"
    },
    {
     "data": {
      "image/png": "[encoded data removed]",
      "text/plain": [
       "<Figure size 432x288 with 1 Axes>"
      ]
     },
     "metadata": {
      "needs_background": "light"
     },
     "output_type": "display_data"
    }
   ],
   "source": [
    "plt.scatter(y_test,xgb_stacking.predict(y_predict_df_drop_glm),alpha=0.3)\n",
    "plt.plot([y_test.min(), y_test.max()], [y_test.min(), y_test.max()], 'k--', lw=2)\n",
    "plt.xlabel('Actual')\n",
    "plt.ylabel('Predicted')"
   ]
  },
  {
   "cell_type": "markdown",
   "metadata": {},
   "source": [
    "Final Model: Stack models(Linear Regression, Ridge Regression, Lasso Regression, XGBoost, LightGBM) using XGBoost"
   ]
  }
 ],
 "metadata": {
  "kernelspec": {
   "display_name": "Python 3",
   "language": "python",
   "name": "python3"
  },
  "language_info": {
   "codemirror_mode": {
    "name": "ipython",
    "version": 3
   },
   "file_extension": ".py",
   "mimetype": "text/x-python",
   "name": "python",
   "nbconvert_exporter": "python",
   "pygments_lexer": "ipython3",
   "version": "3.7.4"
  }
 },
 "nbformat": 4,
 "nbformat_minor": 2
}
