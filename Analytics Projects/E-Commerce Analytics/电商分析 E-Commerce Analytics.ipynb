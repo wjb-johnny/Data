{
 "cells": [
  {
   "cell_type": "markdown",
   "metadata": {},
   "source": [
    "### 数据来源 Data Source：CDNOW sales data"
   ]
  },
  {
   "cell_type": "code",
   "execution_count": 1,
   "metadata": {},
   "outputs": [],
   "source": [
    "import pandas as pd\n",
    "import numpy as np\n",
    "import matplotlib.pyplot as plt\n",
    "plt.style.use('ggplot')\n",
    "import datetime\n",
    "import seaborn as sns"
   ]
  },
  {
   "cell_type": "code",
   "execution_count": 2,
   "metadata": {},
   "outputs": [],
   "source": [
    "columns = ['user_id', 'order_dt', 'order_products', 'order_amount']\n",
    "df = pd.read_table('CDNOW_master.txt', sep = '\\s+', names = columns)"
   ]
  },
  {
   "cell_type": "markdown",
   "metadata": {},
   "source": [
    "+ user_id: 用户ID\n",
    "+ order_id: 购买日期\n",
    "+ order_products: 购买产品数\n",
    "+ order_amounts: 购买金额"
   ]
  },
  {
   "cell_type": "code",
   "execution_count": 3,
   "metadata": {},
   "outputs": [
    {
     "data": {
      "text/html": [
       "<div>\n",
       "<style scoped>\n",
       "    .dataframe tbody tr th:only-of-type {\n",
       "        vertical-align: middle;\n",
       "    }\n",
       "\n",
       "    .dataframe tbody tr th {\n",
       "        vertical-align: top;\n",
       "    }\n",
       "\n",
       "    .dataframe thead th {\n",
       "        text-align: right;\n",
       "    }\n",
       "</style>\n",
       "<table border=\"1\" class=\"dataframe\">\n",
       "  <thead>\n",
       "    <tr style=\"text-align: right;\">\n",
       "      <th></th>\n",
       "      <th>user_id</th>\n",
       "      <th>order_dt</th>\n",
       "      <th>order_products</th>\n",
       "      <th>order_amount</th>\n",
       "    </tr>\n",
       "  </thead>\n",
       "  <tbody>\n",
       "    <tr>\n",
       "      <td>0</td>\n",
       "      <td>1</td>\n",
       "      <td>19970101</td>\n",
       "      <td>1</td>\n",
       "      <td>11.77</td>\n",
       "    </tr>\n",
       "    <tr>\n",
       "      <td>1</td>\n",
       "      <td>2</td>\n",
       "      <td>19970112</td>\n",
       "      <td>1</td>\n",
       "      <td>12.00</td>\n",
       "    </tr>\n",
       "    <tr>\n",
       "      <td>2</td>\n",
       "      <td>2</td>\n",
       "      <td>19970112</td>\n",
       "      <td>5</td>\n",
       "      <td>77.00</td>\n",
       "    </tr>\n",
       "    <tr>\n",
       "      <td>3</td>\n",
       "      <td>3</td>\n",
       "      <td>19970102</td>\n",
       "      <td>2</td>\n",
       "      <td>20.76</td>\n",
       "    </tr>\n",
       "    <tr>\n",
       "      <td>4</td>\n",
       "      <td>3</td>\n",
       "      <td>19970330</td>\n",
       "      <td>2</td>\n",
       "      <td>20.76</td>\n",
       "    </tr>\n",
       "    <tr>\n",
       "      <td>...</td>\n",
       "      <td>...</td>\n",
       "      <td>...</td>\n",
       "      <td>...</td>\n",
       "      <td>...</td>\n",
       "    </tr>\n",
       "    <tr>\n",
       "      <td>69654</td>\n",
       "      <td>23568</td>\n",
       "      <td>19970405</td>\n",
       "      <td>4</td>\n",
       "      <td>83.74</td>\n",
       "    </tr>\n",
       "    <tr>\n",
       "      <td>69655</td>\n",
       "      <td>23568</td>\n",
       "      <td>19970422</td>\n",
       "      <td>1</td>\n",
       "      <td>14.99</td>\n",
       "    </tr>\n",
       "    <tr>\n",
       "      <td>69656</td>\n",
       "      <td>23569</td>\n",
       "      <td>19970325</td>\n",
       "      <td>2</td>\n",
       "      <td>25.74</td>\n",
       "    </tr>\n",
       "    <tr>\n",
       "      <td>69657</td>\n",
       "      <td>23570</td>\n",
       "      <td>19970325</td>\n",
       "      <td>3</td>\n",
       "      <td>51.12</td>\n",
       "    </tr>\n",
       "    <tr>\n",
       "      <td>69658</td>\n",
       "      <td>23570</td>\n",
       "      <td>19970326</td>\n",
       "      <td>2</td>\n",
       "      <td>42.96</td>\n",
       "    </tr>\n",
       "  </tbody>\n",
       "</table>\n",
       "<p>69659 rows × 4 columns</p>\n",
       "</div>"
      ],
      "text/plain": [
       "       user_id  order_dt  order_products  order_amount\n",
       "0            1  19970101               1         11.77\n",
       "1            2  19970112               1         12.00\n",
       "2            2  19970112               5         77.00\n",
       "3            3  19970102               2         20.76\n",
       "4            3  19970330               2         20.76\n",
       "...        ...       ...             ...           ...\n",
       "69654    23568  19970405               4         83.74\n",
       "69655    23568  19970422               1         14.99\n",
       "69656    23569  19970325               2         25.74\n",
       "69657    23570  19970325               3         51.12\n",
       "69658    23570  19970326               2         42.96\n",
       "\n",
       "[69659 rows x 4 columns]"
      ]
     },
     "execution_count": 3,
     "metadata": {},
     "output_type": "execute_result"
    }
   ],
   "source": [
    "df"
   ]
  },
  {
   "cell_type": "code",
   "execution_count": 4,
   "metadata": {},
   "outputs": [],
   "source": [
    "df['order_dt'] = pd.to_datetime(df['order_dt'], format = '%Y%m%d')\n",
    "df['order_month'] = df['order_dt'].apply(lambda x:datetime.date(x.year,x.month,1))"
   ]
  },
  {
   "cell_type": "code",
   "execution_count": 5,
   "metadata": {},
   "outputs": [
    {
     "data": {
      "text/html": [
       "<div>\n",
       "<style scoped>\n",
       "    .dataframe tbody tr th:only-of-type {\n",
       "        vertical-align: middle;\n",
       "    }\n",
       "\n",
       "    .dataframe tbody tr th {\n",
       "        vertical-align: top;\n",
       "    }\n",
       "\n",
       "    .dataframe thead th {\n",
       "        text-align: right;\n",
       "    }\n",
       "</style>\n",
       "<table border=\"1\" class=\"dataframe\">\n",
       "  <thead>\n",
       "    <tr style=\"text-align: right;\">\n",
       "      <th></th>\n",
       "      <th>user_id</th>\n",
       "      <th>order_dt</th>\n",
       "      <th>order_products</th>\n",
       "      <th>order_amount</th>\n",
       "      <th>order_month</th>\n",
       "    </tr>\n",
       "  </thead>\n",
       "  <tbody>\n",
       "    <tr>\n",
       "      <td>0</td>\n",
       "      <td>1</td>\n",
       "      <td>1997-01-01</td>\n",
       "      <td>1</td>\n",
       "      <td>11.77</td>\n",
       "      <td>1997-01-01</td>\n",
       "    </tr>\n",
       "    <tr>\n",
       "      <td>1</td>\n",
       "      <td>2</td>\n",
       "      <td>1997-01-12</td>\n",
       "      <td>1</td>\n",
       "      <td>12.00</td>\n",
       "      <td>1997-01-01</td>\n",
       "    </tr>\n",
       "    <tr>\n",
       "      <td>2</td>\n",
       "      <td>2</td>\n",
       "      <td>1997-01-12</td>\n",
       "      <td>5</td>\n",
       "      <td>77.00</td>\n",
       "      <td>1997-01-01</td>\n",
       "    </tr>\n",
       "    <tr>\n",
       "      <td>3</td>\n",
       "      <td>3</td>\n",
       "      <td>1997-01-02</td>\n",
       "      <td>2</td>\n",
       "      <td>20.76</td>\n",
       "      <td>1997-01-01</td>\n",
       "    </tr>\n",
       "    <tr>\n",
       "      <td>4</td>\n",
       "      <td>3</td>\n",
       "      <td>1997-03-30</td>\n",
       "      <td>2</td>\n",
       "      <td>20.76</td>\n",
       "      <td>1997-03-01</td>\n",
       "    </tr>\n",
       "  </tbody>\n",
       "</table>\n",
       "</div>"
      ],
      "text/plain": [
       "   user_id   order_dt  order_products  order_amount order_month\n",
       "0        1 1997-01-01               1         11.77  1997-01-01\n",
       "1        2 1997-01-12               1         12.00  1997-01-01\n",
       "2        2 1997-01-12               5         77.00  1997-01-01\n",
       "3        3 1997-01-02               2         20.76  1997-01-01\n",
       "4        3 1997-03-30               2         20.76  1997-03-01"
      ]
     },
     "execution_count": 5,
     "metadata": {},
     "output_type": "execute_result"
    }
   ],
   "source": [
    "df.head()"
   ]
  },
  {
   "cell_type": "code",
   "execution_count": 6,
   "metadata": {},
   "outputs": [
    {
     "name": "stdout",
     "output_type": "stream",
     "text": [
      "<class 'pandas.core.frame.DataFrame'>\n",
      "RangeIndex: 69659 entries, 0 to 69658\n",
      "Data columns (total 5 columns):\n",
      "user_id           69659 non-null int64\n",
      "order_dt          69659 non-null datetime64[ns]\n",
      "order_products    69659 non-null int64\n",
      "order_amount      69659 non-null float64\n",
      "order_month       69659 non-null object\n",
      "dtypes: datetime64[ns](1), float64(1), int64(2), object(1)\n",
      "memory usage: 2.7+ MB\n"
     ]
    }
   ],
   "source": [
    "df.info()"
   ]
  },
  {
   "cell_type": "code",
   "execution_count": 7,
   "metadata": {
    "scrolled": true
   },
   "outputs": [
    {
     "data": {
      "text/html": [
       "<div>\n",
       "<style scoped>\n",
       "    .dataframe tbody tr th:only-of-type {\n",
       "        vertical-align: middle;\n",
       "    }\n",
       "\n",
       "    .dataframe tbody tr th {\n",
       "        vertical-align: top;\n",
       "    }\n",
       "\n",
       "    .dataframe thead th {\n",
       "        text-align: right;\n",
       "    }\n",
       "</style>\n",
       "<table border=\"1\" class=\"dataframe\">\n",
       "  <thead>\n",
       "    <tr style=\"text-align: right;\">\n",
       "      <th></th>\n",
       "      <th>user_id</th>\n",
       "      <th>order_products</th>\n",
       "      <th>order_amount</th>\n",
       "    </tr>\n",
       "  </thead>\n",
       "  <tbody>\n",
       "    <tr>\n",
       "      <td>count</td>\n",
       "      <td>69659.000000</td>\n",
       "      <td>69659.000000</td>\n",
       "      <td>69659.000000</td>\n",
       "    </tr>\n",
       "    <tr>\n",
       "      <td>mean</td>\n",
       "      <td>11470.854592</td>\n",
       "      <td>2.410040</td>\n",
       "      <td>35.893648</td>\n",
       "    </tr>\n",
       "    <tr>\n",
       "      <td>std</td>\n",
       "      <td>6819.904848</td>\n",
       "      <td>2.333924</td>\n",
       "      <td>36.281942</td>\n",
       "    </tr>\n",
       "    <tr>\n",
       "      <td>min</td>\n",
       "      <td>1.000000</td>\n",
       "      <td>1.000000</td>\n",
       "      <td>0.000000</td>\n",
       "    </tr>\n",
       "    <tr>\n",
       "      <td>25%</td>\n",
       "      <td>5506.000000</td>\n",
       "      <td>1.000000</td>\n",
       "      <td>14.490000</td>\n",
       "    </tr>\n",
       "    <tr>\n",
       "      <td>50%</td>\n",
       "      <td>11410.000000</td>\n",
       "      <td>2.000000</td>\n",
       "      <td>25.980000</td>\n",
       "    </tr>\n",
       "    <tr>\n",
       "      <td>75%</td>\n",
       "      <td>17273.000000</td>\n",
       "      <td>3.000000</td>\n",
       "      <td>43.700000</td>\n",
       "    </tr>\n",
       "    <tr>\n",
       "      <td>max</td>\n",
       "      <td>23570.000000</td>\n",
       "      <td>99.000000</td>\n",
       "      <td>1286.010000</td>\n",
       "    </tr>\n",
       "  </tbody>\n",
       "</table>\n",
       "</div>"
      ],
      "text/plain": [
       "            user_id  order_products  order_amount\n",
       "count  69659.000000    69659.000000  69659.000000\n",
       "mean   11470.854592        2.410040     35.893648\n",
       "std     6819.904848        2.333924     36.281942\n",
       "min        1.000000        1.000000      0.000000\n",
       "25%     5506.000000        1.000000     14.490000\n",
       "50%    11410.000000        2.000000     25.980000\n",
       "75%    17273.000000        3.000000     43.700000\n",
       "max    23570.000000       99.000000   1286.010000"
      ]
     },
     "execution_count": 7,
     "metadata": {},
     "output_type": "execute_result"
    }
   ],
   "source": [
    "df.describe()"
   ]
  },
  {
   "cell_type": "markdown",
   "metadata": {},
   "source": [
    "+ 大量商品只消费了少量商品（平均2.4），有极值干扰\n",
    "+ 用户消费金额比较稳定，基本集中于10-40元左右"
   ]
  },
  {
   "cell_type": "markdown",
   "metadata": {},
   "source": [
    "# 1. 用户消费趋势的分析（按月）\n",
    "+ 每月消费金额\n",
    "+ 每月消费次数\n",
    "+ 每月产品购买量\n",
    "+ 每月消费人数"
   ]
  },
  {
   "cell_type": "markdown",
   "metadata": {},
   "source": [
    "## 1.1 每月消费金额"
   ]
  },
  {
   "cell_type": "code",
   "execution_count": 8,
   "metadata": {},
   "outputs": [
    {
     "data": {
      "text/plain": [
       "order_month\n",
       "1997-01-01    299060.17\n",
       "1997-02-01    379590.03\n",
       "1997-03-01    393155.27\n",
       "1997-04-01    142824.49\n",
       "1997-05-01    107933.30\n",
       "1997-06-01    108395.87\n",
       "1997-07-01    122078.88\n",
       "1997-08-01     88367.69\n",
       "1997-09-01     81948.80\n",
       "1997-10-01     89780.77\n",
       "1997-11-01    115448.64\n",
       "1997-12-01     95577.35\n",
       "1998-01-01     76756.78\n",
       "1998-02-01     77096.96\n",
       "1998-03-01    108970.15\n",
       "1998-04-01     66231.52\n",
       "1998-05-01     70989.66\n",
       "1998-06-01     76109.30\n",
       "Name: order_amount, dtype: float64"
      ]
     },
     "execution_count": 8,
     "metadata": {},
     "output_type": "execute_result"
    }
   ],
   "source": [
    "df.groupby('order_month')['order_amount'].sum()"
   ]
  },
  {
   "cell_type": "code",
   "execution_count": 9,
   "metadata": {},
   "outputs": [
    {
     "data": {
      "text/plain": [
       "<matplotlib.axes._subplots.AxesSubplot at 0x15360021808>"
      ]
     },
     "execution_count": 9,
     "metadata": {},
     "output_type": "execute_result"
    },
    {
     "data": {
      "image/png": "[encoded data removed]",
      "text/plain": [
       "<Figure size 432x288 with 1 Axes>"
      ]
     },
     "metadata": {
      "needs_background": "light"
     },
     "output_type": "display_data"
    }
   ],
   "source": [
    "df.groupby('order_month')['order_amount'].sum().plot()"
   ]
  },
  {
   "cell_type": "markdown",
   "metadata": {},
   "source": [
    "1-3月消费金额较高，4月出现巨大下滑，4月以后消费金额总体比较平稳"
   ]
  },
  {
   "cell_type": "markdown",
   "metadata": {},
   "source": [
    "## 1.2 每月消费次数"
   ]
  },
  {
   "cell_type": "code",
   "execution_count": 10,
   "metadata": {},
   "outputs": [
    {
     "data": {
      "text/plain": [
       "order_month\n",
       "1997-01-01     8928\n",
       "1997-02-01    11272\n",
       "1997-03-01    11598\n",
       "1997-04-01     3781\n",
       "1997-05-01     2895\n",
       "1997-06-01     3054\n",
       "1997-07-01     2942\n",
       "1997-08-01     2320\n",
       "1997-09-01     2296\n",
       "1997-10-01     2562\n",
       "1997-11-01     2750\n",
       "1997-12-01     2504\n",
       "1998-01-01     2032\n",
       "1998-02-01     2026\n",
       "1998-03-01     2793\n",
       "1998-04-01     1878\n",
       "1998-05-01     1985\n",
       "1998-06-01     2043\n",
       "Name: order_amount, dtype: int64"
      ]
     },
     "execution_count": 10,
     "metadata": {},
     "output_type": "execute_result"
    }
   ],
   "source": [
    "df.groupby('order_month')['order_amount'].count()"
   ]
  },
  {
   "cell_type": "code",
   "execution_count": 11,
   "metadata": {},
   "outputs": [
    {
     "data": {
      "text/plain": [
       "<matplotlib.axes._subplots.AxesSubplot at 0x1535ff3c208>"
      ]
     },
     "execution_count": 11,
     "metadata": {},
     "output_type": "execute_result"
    },
    {
     "data": {
      "image/png": "[encoded data removed]",
      "text/plain": [
       "<Figure size 432x288 with 1 Axes>"
      ]
     },
     "metadata": {
      "needs_background": "light"
     },
     "output_type": "display_data"
    }
   ],
   "source": [
    "df.groupby('order_month')['order_amount'].count().plot()"
   ]
  },
  {
   "cell_type": "markdown",
   "metadata": {},
   "source": [
    "1-3月消费次数较多，4月出现巨大下滑，4月以后消费次数总体比较平稳  \n",
    "与消费金额的走势相似"
   ]
  },
  {
   "cell_type": "markdown",
   "metadata": {},
   "source": [
    "## 1.3 每月产品购买量"
   ]
  },
  {
   "cell_type": "code",
   "execution_count": 12,
   "metadata": {},
   "outputs": [
    {
     "data": {
      "text/plain": [
       "order_month\n",
       "1997-01-01    19416\n",
       "1997-02-01    24921\n",
       "1997-03-01    26159\n",
       "1997-04-01     9729\n",
       "1997-05-01     7275\n",
       "1997-06-01     7301\n",
       "1997-07-01     8131\n",
       "1997-08-01     5851\n",
       "1997-09-01     5729\n",
       "1997-10-01     6203\n",
       "1997-11-01     7812\n",
       "1997-12-01     6418\n",
       "1998-01-01     5278\n",
       "1998-02-01     5340\n",
       "1998-03-01     7431\n",
       "1998-04-01     4697\n",
       "1998-05-01     4903\n",
       "1998-06-01     5287\n",
       "Name: order_products, dtype: int64"
      ]
     },
     "execution_count": 12,
     "metadata": {},
     "output_type": "execute_result"
    }
   ],
   "source": [
    "df.groupby('order_month')['order_products'].sum()"
   ]
  },
  {
   "cell_type": "code",
   "execution_count": 13,
   "metadata": {},
   "outputs": [
    {
     "data": {
      "text/plain": [
       "<matplotlib.axes._subplots.AxesSubplot at 0x15360364848>"
      ]
     },
     "execution_count": 13,
     "metadata": {},
     "output_type": "execute_result"
    },
    {
     "data": {
      "image/png": "[encoded data removed]",
      "text/plain": [
       "<Figure size 432x288 with 1 Axes>"
      ]
     },
     "metadata": {
      "needs_background": "light"
     },
     "output_type": "display_data"
    }
   ],
   "source": [
    "df.groupby('order_month')['order_products'].sum().plot()"
   ]
  },
  {
   "cell_type": "markdown",
   "metadata": {},
   "source": [
    "走势与消费金额、消费次数相似"
   ]
  },
  {
   "cell_type": "markdown",
   "metadata": {},
   "source": [
    "## 1.4 每月消费人数"
   ]
  },
  {
   "cell_type": "code",
   "execution_count": 14,
   "metadata": {},
   "outputs": [
    {
     "data": {
      "text/plain": [
       "order_month\n",
       "1997-01-01     8928\n",
       "1997-02-01    11272\n",
       "1997-03-01    11598\n",
       "1997-04-01     3781\n",
       "1997-05-01     2895\n",
       "1997-06-01     3054\n",
       "1997-07-01     2942\n",
       "1997-08-01     2320\n",
       "1997-09-01     2296\n",
       "1997-10-01     2562\n",
       "1997-11-01     2750\n",
       "1997-12-01     2504\n",
       "1998-01-01     2032\n",
       "1998-02-01     2026\n",
       "1998-03-01     2793\n",
       "1998-04-01     1878\n",
       "1998-05-01     1985\n",
       "1998-06-01     2043\n",
       "Name: user_id, dtype: int64"
      ]
     },
     "execution_count": 14,
     "metadata": {},
     "output_type": "execute_result"
    }
   ],
   "source": [
    "df.groupby('order_month')['user_id'].count()"
   ]
  },
  {
   "cell_type": "code",
   "execution_count": 15,
   "metadata": {},
   "outputs": [
    {
     "data": {
      "text/plain": [
       "<matplotlib.axes._subplots.AxesSubplot at 0x153603d9c88>"
      ]
     },
     "execution_count": 15,
     "metadata": {},
     "output_type": "execute_result"
    },
    {
     "data": {
      "image/png": "[encoded data removed]",
      "text/plain": [
       "<Figure size 432x288 with 1 Axes>"
      ]
     },
     "metadata": {
      "needs_background": "light"
     },
     "output_type": "display_data"
    }
   ],
   "source": [
    "df.groupby('order_month')['user_id'].count().plot()"
   ]
  },
  {
   "cell_type": "markdown",
   "metadata": {},
   "source": [
    "走势与前三者相似"
   ]
  },
  {
   "cell_type": "code",
   "execution_count": 16,
   "metadata": {},
   "outputs": [
    {
     "data": {
      "text/html": [
       "<div>\n",
       "<style scoped>\n",
       "    .dataframe tbody tr th:only-of-type {\n",
       "        vertical-align: middle;\n",
       "    }\n",
       "\n",
       "    .dataframe tbody tr th {\n",
       "        vertical-align: top;\n",
       "    }\n",
       "\n",
       "    .dataframe thead th {\n",
       "        text-align: right;\n",
       "    }\n",
       "</style>\n",
       "<table border=\"1\" class=\"dataframe\">\n",
       "  <thead>\n",
       "    <tr style=\"text-align: right;\">\n",
       "      <th></th>\n",
       "      <th>order_amount</th>\n",
       "      <th>order_products</th>\n",
       "      <th>user_id</th>\n",
       "    </tr>\n",
       "    <tr>\n",
       "      <th>order_month</th>\n",
       "      <th></th>\n",
       "      <th></th>\n",
       "      <th></th>\n",
       "    </tr>\n",
       "  </thead>\n",
       "  <tbody>\n",
       "    <tr>\n",
       "      <td>1997-01-01</td>\n",
       "      <td>299060.17</td>\n",
       "      <td>19416</td>\n",
       "      <td>8928</td>\n",
       "    </tr>\n",
       "    <tr>\n",
       "      <td>1997-02-01</td>\n",
       "      <td>379590.03</td>\n",
       "      <td>24921</td>\n",
       "      <td>11272</td>\n",
       "    </tr>\n",
       "    <tr>\n",
       "      <td>1997-03-01</td>\n",
       "      <td>393155.27</td>\n",
       "      <td>26159</td>\n",
       "      <td>11598</td>\n",
       "    </tr>\n",
       "    <tr>\n",
       "      <td>1997-04-01</td>\n",
       "      <td>142824.49</td>\n",
       "      <td>9729</td>\n",
       "      <td>3781</td>\n",
       "    </tr>\n",
       "    <tr>\n",
       "      <td>1997-05-01</td>\n",
       "      <td>107933.30</td>\n",
       "      <td>7275</td>\n",
       "      <td>2895</td>\n",
       "    </tr>\n",
       "    <tr>\n",
       "      <td>1997-06-01</td>\n",
       "      <td>108395.87</td>\n",
       "      <td>7301</td>\n",
       "      <td>3054</td>\n",
       "    </tr>\n",
       "    <tr>\n",
       "      <td>1997-07-01</td>\n",
       "      <td>122078.88</td>\n",
       "      <td>8131</td>\n",
       "      <td>2942</td>\n",
       "    </tr>\n",
       "    <tr>\n",
       "      <td>1997-08-01</td>\n",
       "      <td>88367.69</td>\n",
       "      <td>5851</td>\n",
       "      <td>2320</td>\n",
       "    </tr>\n",
       "    <tr>\n",
       "      <td>1997-09-01</td>\n",
       "      <td>81948.80</td>\n",
       "      <td>5729</td>\n",
       "      <td>2296</td>\n",
       "    </tr>\n",
       "    <tr>\n",
       "      <td>1997-10-01</td>\n",
       "      <td>89780.77</td>\n",
       "      <td>6203</td>\n",
       "      <td>2562</td>\n",
       "    </tr>\n",
       "    <tr>\n",
       "      <td>1997-11-01</td>\n",
       "      <td>115448.64</td>\n",
       "      <td>7812</td>\n",
       "      <td>2750</td>\n",
       "    </tr>\n",
       "    <tr>\n",
       "      <td>1997-12-01</td>\n",
       "      <td>95577.35</td>\n",
       "      <td>6418</td>\n",
       "      <td>2504</td>\n",
       "    </tr>\n",
       "    <tr>\n",
       "      <td>1998-01-01</td>\n",
       "      <td>76756.78</td>\n",
       "      <td>5278</td>\n",
       "      <td>2032</td>\n",
       "    </tr>\n",
       "    <tr>\n",
       "      <td>1998-02-01</td>\n",
       "      <td>77096.96</td>\n",
       "      <td>5340</td>\n",
       "      <td>2026</td>\n",
       "    </tr>\n",
       "    <tr>\n",
       "      <td>1998-03-01</td>\n",
       "      <td>108970.15</td>\n",
       "      <td>7431</td>\n",
       "      <td>2793</td>\n",
       "    </tr>\n",
       "    <tr>\n",
       "      <td>1998-04-01</td>\n",
       "      <td>66231.52</td>\n",
       "      <td>4697</td>\n",
       "      <td>1878</td>\n",
       "    </tr>\n",
       "    <tr>\n",
       "      <td>1998-05-01</td>\n",
       "      <td>70989.66</td>\n",
       "      <td>4903</td>\n",
       "      <td>1985</td>\n",
       "    </tr>\n",
       "    <tr>\n",
       "      <td>1998-06-01</td>\n",
       "      <td>76109.30</td>\n",
       "      <td>5287</td>\n",
       "      <td>2043</td>\n",
       "    </tr>\n",
       "  </tbody>\n",
       "</table>\n",
       "</div>"
      ],
      "text/plain": [
       "             order_amount  order_products  user_id\n",
       "order_month                                       \n",
       "1997-01-01      299060.17           19416     8928\n",
       "1997-02-01      379590.03           24921    11272\n",
       "1997-03-01      393155.27           26159    11598\n",
       "1997-04-01      142824.49            9729     3781\n",
       "1997-05-01      107933.30            7275     2895\n",
       "1997-06-01      108395.87            7301     3054\n",
       "1997-07-01      122078.88            8131     2942\n",
       "1997-08-01       88367.69            5851     2320\n",
       "1997-09-01       81948.80            5729     2296\n",
       "1997-10-01       89780.77            6203     2562\n",
       "1997-11-01      115448.64            7812     2750\n",
       "1997-12-01       95577.35            6418     2504\n",
       "1998-01-01       76756.78            5278     2032\n",
       "1998-02-01       77096.96            5340     2026\n",
       "1998-03-01      108970.15            7431     2793\n",
       "1998-04-01       66231.52            4697     1878\n",
       "1998-05-01       70989.66            4903     1985\n",
       "1998-06-01       76109.30            5287     2043"
      ]
     },
     "execution_count": 16,
     "metadata": {},
     "output_type": "execute_result"
    }
   ],
   "source": [
    "df.pivot_table(index = 'order_month',\n",
    "              values = ['order_products','order_amount','user_id'],\n",
    "              aggfunc={'order_products':'sum',\n",
    "                      'order_amount':'sum',\n",
    "                      'user_id':'count'})"
   ]
  },
  {
   "cell_type": "code",
   "execution_count": 17,
   "metadata": {},
   "outputs": [
    {
     "data": {
      "text/plain": [
       "<matplotlib.axes._subplots.AxesSubplot at 0x153604b2208>"
      ]
     },
     "execution_count": 17,
     "metadata": {},
     "output_type": "execute_result"
    },
    {
     "data": {
      "image/png": "[encoded data removed]",
      "text/plain": [
       "<Figure size 720x360 with 4 Axes>"
      ]
     },
     "metadata": {
      "needs_background": "light"
     },
     "output_type": "display_data"
    }
   ],
   "source": [
    "fig, ax = plt.subplots(2,2,figsize=(10,5), sharex=True)\n",
    "df.groupby('order_month')['order_amount'].sum().plot(ax = ax[0][0], title='Monthly Purchase Amount')\n",
    "df.groupby('order_month')['order_amount'].count().plot(ax = ax[0][1], title='Monthly Purchase Times')\n",
    "df.groupby('order_month')['order_products'].sum().plot(ax = ax[1][0], title='Monthly Purcased Product Amount')\n",
    "df.groupby('order_month')['user_id'].apply(lambda x: len(x.unique())).plot(ax = ax[1][1], title='Monthly Customers')"
   ]
  },
  {
   "cell_type": "markdown",
   "metadata": {},
   "source": [
    "# 2. 用户个体消费分析\n",
    "+ 用户消费金额、消费次数的描述统计\n",
    "+ 用户消费金额和消费次数的散点图\n",
    "+ 用户消费金额的分布图\n",
    "+ 用户消费次数的分布图\n",
    "+ 用户累计消费金额占比"
   ]
  },
  {
   "cell_type": "code",
   "execution_count": 18,
   "metadata": {},
   "outputs": [],
   "source": [
    "grouped_user = df.groupby('user_id')"
   ]
  },
  {
   "cell_type": "markdown",
   "metadata": {},
   "source": [
    "## 2.1 用户消费金额、消费次数的描述统计"
   ]
  },
  {
   "cell_type": "code",
   "execution_count": 19,
   "metadata": {},
   "outputs": [
    {
     "data": {
      "text/html": [
       "<div>\n",
       "<style scoped>\n",
       "    .dataframe tbody tr th:only-of-type {\n",
       "        vertical-align: middle;\n",
       "    }\n",
       "\n",
       "    .dataframe tbody tr th {\n",
       "        vertical-align: top;\n",
       "    }\n",
       "\n",
       "    .dataframe thead th {\n",
       "        text-align: right;\n",
       "    }\n",
       "</style>\n",
       "<table border=\"1\" class=\"dataframe\">\n",
       "  <thead>\n",
       "    <tr style=\"text-align: right;\">\n",
       "      <th></th>\n",
       "      <th>order_amount</th>\n",
       "      <th>order_products</th>\n",
       "    </tr>\n",
       "  </thead>\n",
       "  <tbody>\n",
       "    <tr>\n",
       "      <td>count</td>\n",
       "      <td>23570.000000</td>\n",
       "      <td>23570.000000</td>\n",
       "    </tr>\n",
       "    <tr>\n",
       "      <td>mean</td>\n",
       "      <td>106.080426</td>\n",
       "      <td>7.122656</td>\n",
       "    </tr>\n",
       "    <tr>\n",
       "      <td>std</td>\n",
       "      <td>240.925195</td>\n",
       "      <td>16.983531</td>\n",
       "    </tr>\n",
       "    <tr>\n",
       "      <td>min</td>\n",
       "      <td>0.000000</td>\n",
       "      <td>1.000000</td>\n",
       "    </tr>\n",
       "    <tr>\n",
       "      <td>25%</td>\n",
       "      <td>19.970000</td>\n",
       "      <td>1.000000</td>\n",
       "    </tr>\n",
       "    <tr>\n",
       "      <td>50%</td>\n",
       "      <td>43.395000</td>\n",
       "      <td>3.000000</td>\n",
       "    </tr>\n",
       "    <tr>\n",
       "      <td>75%</td>\n",
       "      <td>106.475000</td>\n",
       "      <td>7.000000</td>\n",
       "    </tr>\n",
       "    <tr>\n",
       "      <td>max</td>\n",
       "      <td>13990.930000</td>\n",
       "      <td>1033.000000</td>\n",
       "    </tr>\n",
       "  </tbody>\n",
       "</table>\n",
       "</div>"
      ],
      "text/plain": [
       "       order_amount  order_products\n",
       "count  23570.000000    23570.000000\n",
       "mean     106.080426        7.122656\n",
       "std      240.925195       16.983531\n",
       "min        0.000000        1.000000\n",
       "25%       19.970000        1.000000\n",
       "50%       43.395000        3.000000\n",
       "75%      106.475000        7.000000\n",
       "max    13990.930000     1033.000000"
      ]
     },
     "execution_count": 19,
     "metadata": {},
     "output_type": "execute_result"
    }
   ],
   "source": [
    "grouped_user['order_amount','order_products'].sum().describe()"
   ]
  },
  {
   "cell_type": "markdown",
   "metadata": {},
   "source": [
    "+ 用户平均消费金额=前25%消费金额，用户平均消费次数=前25%消费次数，说明存在比较狂热的用户，消费金额非常大，次数非常多"
   ]
  },
  {
   "cell_type": "markdown",
   "metadata": {},
   "source": [
    "## 2.2 用户消费金额和消费次数的散点图"
   ]
  },
  {
   "cell_type": "code",
   "execution_count": 20,
   "metadata": {},
   "outputs": [
    {
     "data": {
      "text/plain": [
       "<matplotlib.axes._subplots.AxesSubplot at 0x153606a0f88>"
      ]
     },
     "execution_count": 20,
     "metadata": {},
     "output_type": "execute_result"
    },
    {
     "data": {
      "image/png": "[encoded data removed]",
      "text/plain": [
       "<Figure size 432x288 with 1 Axes>"
      ]
     },
     "metadata": {
      "needs_background": "light"
     },
     "output_type": "display_data"
    }
   ],
   "source": [
    "grouped_user['order_amount','order_products'].sum().query('order_amount<4000').plot.scatter(x = 'order_amount', y='order_products')"
   ]
  },
  {
   "cell_type": "markdown",
   "metadata": {},
   "source": [
    "## 2.3 用户消费金额的分布图"
   ]
  },
  {
   "cell_type": "code",
   "execution_count": 21,
   "metadata": {},
   "outputs": [
    {
     "data": {
      "text/plain": [
       "<matplotlib.axes._subplots.AxesSubplot at 0x153607169c8>"
      ]
     },
     "execution_count": 21,
     "metadata": {},
     "output_type": "execute_result"
    },
    {
     "data": {
      "image/png": "[encoded data removed]",
      "text/plain": [
       "<Figure size 432x288 with 1 Axes>"
      ]
     },
     "metadata": {
      "needs_background": "light"
     },
     "output_type": "display_data"
    }
   ],
   "source": [
    "grouped_user.sum().order_amount.hist(bins=40)"
   ]
  },
  {
   "cell_type": "markdown",
   "metadata": {},
   "source": [
    "用户消费金额绝大多数呈现集中趋势，少部分异常值干扰了判断，可以使用**过滤操作**排除异常"
   ]
  },
  {
   "cell_type": "code",
   "execution_count": 22,
   "metadata": {},
   "outputs": [
    {
     "data": {
      "text/plain": [
       "<matplotlib.axes._subplots.AxesSubplot at 0x15360804088>"
      ]
     },
     "execution_count": 22,
     "metadata": {},
     "output_type": "execute_result"
    },
    {
     "data": {
      "image/png": "[encoded data removed]",
      "text/plain": [
       "<Figure size 432x288 with 1 Axes>"
      ]
     },
     "metadata": {
      "needs_background": "light"
     },
     "output_type": "display_data"
    }
   ],
   "source": [
    "grouped_user.sum().query('order_amount < 1500').order_amount.hist(bins=40)"
   ]
  },
  {
   "cell_type": "markdown",
   "metadata": {},
   "source": [
    "## 2.4 用户消费次数的分布图"
   ]
  },
  {
   "cell_type": "code",
   "execution_count": 23,
   "metadata": {},
   "outputs": [
    {
     "data": {
      "text/plain": [
       "<matplotlib.axes._subplots.AxesSubplot at 0x1536082d208>"
      ]
     },
     "execution_count": 23,
     "metadata": {},
     "output_type": "execute_result"
    },
    {
     "data": {
      "image/png": "[encoded data removed]",
      "text/plain": [
       "<Figure size 432x288 with 1 Axes>"
      ]
     },
     "metadata": {
      "needs_background": "light"
     },
     "output_type": "display_data"
    }
   ],
   "source": [
    "grouped_user.sum().order_products.hist()"
   ]
  },
  {
   "cell_type": "code",
   "execution_count": 24,
   "metadata": {},
   "outputs": [
    {
     "data": {
      "text/plain": [
       "<matplotlib.axes._subplots.AxesSubplot at 0x15360bd8c88>"
      ]
     },
     "execution_count": 24,
     "metadata": {},
     "output_type": "execute_result"
    },
    {
     "data": {
      "image/png": "[encoded data removed]",
      "text/plain": [
       "<Figure size 432x288 with 1 Axes>"
      ]
     },
     "metadata": {
      "needs_background": "light"
     },
     "output_type": "display_data"
    }
   ],
   "source": [
    "grouped_user.sum().query('order_products < 60').order_products.hist(bins = 30)"
   ]
  },
  {
   "cell_type": "markdown",
   "metadata": {},
   "source": [
    "## 2.5 用户累计消费金额占比"
   ]
  },
  {
   "cell_type": "code",
   "execution_count": 25,
   "metadata": {},
   "outputs": [
    {
     "data": {
      "text/plain": [
       "user_id\n",
       "10175    0.000000\n",
       "4559     0.000000\n",
       "1948     0.000000\n",
       "925      0.000000\n",
       "10798    0.000000\n",
       "           ...   \n",
       "7931     0.985405\n",
       "19339    0.988025\n",
       "7983     0.990814\n",
       "14048    0.994404\n",
       "7592     1.000000\n",
       "Name: order_amount, Length: 23570, dtype: float64"
      ]
     },
     "execution_count": 25,
     "metadata": {},
     "output_type": "execute_result"
    }
   ],
   "source": [
    "user_cumsum = grouped_user.sum().sort_values('order_amount',ascending=True).apply(lambda x:x.cumsum()/x.sum()).order_amount\n",
    "user_cumsum"
   ]
  },
  {
   "cell_type": "code",
   "execution_count": 26,
   "metadata": {},
   "outputs": [
    {
     "data": {
      "text/plain": [
       "<matplotlib.axes._subplots.AxesSubplot at 0x15361c77e88>"
      ]
     },
     "execution_count": 26,
     "metadata": {},
     "output_type": "execute_result"
    },
    {
     "data": {
      "image/png": "[encoded data removed]",
      "text/plain": [
       "<Figure size 432x288 with 1 Axes>"
      ]
     },
     "metadata": {
      "needs_background": "light"
     },
     "output_type": "display_data"
    }
   ],
   "source": [
    "user_cumsum.reset_index().order_amount.plot()"
   ]
  },
  {
   "cell_type": "markdown",
   "metadata": {},
   "source": [
    "按照用户消费金额进行升序排列，由图可知后50%的用户仅贡献了15%的消费额度，而排名前5000的用户贡献了40%的消费额度。"
   ]
  },
  {
   "cell_type": "markdown",
   "metadata": {},
   "source": [
    "# 3. 用户消费行为\n",
    "+ 用户第一次消费（首购）\n",
    "+ 用户最后一次消费\n",
    "+ 新老客消费比\n",
    "    + 多少用户仅消费了一次?\n",
    "    + 每月新客占比？\n",
    "+ 用户分层\n",
    "    + RFM\n",
    "    + 新、老、活跃、回流、流失\n",
    "+ 用户购买周期（按订单）\n",
    "    + 用户消费周期描述\n",
    "    + 用户消费周期分布\n",
    "+ 用户生命周期（按第一次&最近一次消费）\n",
    "    + 用户生命周期描述\n",
    "    + 用户生命周期分布\n",
    "    \n",
    "## 3.1 用户第一次消费（首购）"
   ]
  },
  {
   "cell_type": "code",
   "execution_count": 27,
   "metadata": {
    "scrolled": true
   },
   "outputs": [
    {
     "data": {
      "text/plain": [
       "<matplotlib.axes._subplots.AxesSubplot at 0x15361d05b48>"
      ]
     },
     "execution_count": 27,
     "metadata": {},
     "output_type": "execute_result"
    },
    {
     "data": {
      "image/png": "[encoded data removed]",
      "text/plain": [
       "<Figure size 432x288 with 1 Axes>"
      ]
     },
     "metadata": {
      "needs_background": "light"
     },
     "output_type": "display_data"
    }
   ],
   "source": [
    "grouped_user.order_dt.min().value_counts().plot()"
   ]
  },
  {
   "cell_type": "markdown",
   "metadata": {},
   "source": [
    "用户第一次购分布，集中在1-3月，其中2月11-25日有剧烈波动"
   ]
  },
  {
   "cell_type": "markdown",
   "metadata": {},
   "source": [
    "## 3.2 用户最后一次消费"
   ]
  },
  {
   "cell_type": "code",
   "execution_count": 28,
   "metadata": {},
   "outputs": [
    {
     "data": {
      "text/plain": [
       "<matplotlib.axes._subplots.AxesSubplot at 0x15361c49948>"
      ]
     },
     "execution_count": 28,
     "metadata": {},
     "output_type": "execute_result"
    },
    {
     "data": {
      "image/png": "[encoded data removed]",
      "text/plain": [
       "<Figure size 432x288 with 1 Axes>"
      ]
     },
     "metadata": {
      "needs_background": "light"
     },
     "output_type": "display_data"
    }
   ],
   "source": [
    "grouped_user.order_dt.max().value_counts().plot()"
   ]
  },
  {
   "cell_type": "markdown",
   "metadata": {},
   "source": [
    "用户最后一次购买的分布：  \n",
    "大部分最后一次购买集中在前仨个月，说明有很多用户购买完了以后就不再购买了  \n",
    "随着时间的递增，最后一次购买的次数也在递增，说明流失呈现上升情况"
   ]
  },
  {
   "cell_type": "markdown",
   "metadata": {},
   "source": [
    "## 3.3 新老客消费比"
   ]
  },
  {
   "cell_type": "code",
   "execution_count": 29,
   "metadata": {},
   "outputs": [
    {
     "data": {
      "text/plain": [
       "<matplotlib.axes._subplots.AxesSubplot at 0x15361df4508>"
      ]
     },
     "execution_count": 29,
     "metadata": {},
     "output_type": "execute_result"
    },
    {
     "data": {
      "image/png": "[encoded data removed]",
      "text/plain": [
       "<Figure size 432x288 with 1 Axes>"
      ]
     },
     "metadata": {
      "needs_background": "light"
     },
     "output_type": "display_data"
    }
   ],
   "source": [
    "fig,ax = plt.subplots()\n",
    "grouped_user.order_dt.min().value_counts().plot(ax = ax)\n",
    "grouped_user.order_dt.max().value_counts().plot(ax = ax)"
   ]
  },
  {
   "cell_type": "code",
   "execution_count": 30,
   "metadata": {},
   "outputs": [
    {
     "data": {
      "text/plain": [
       "True     12054\n",
       "False    11516\n",
       "dtype: int64"
      ]
     },
     "execution_count": 30,
     "metadata": {},
     "output_type": "execute_result"
    }
   ],
   "source": [
    "user_life = grouped_user.order_dt.agg(['min','max'])\n",
    "(user_life['min'] == user_life['max']).value_counts()"
   ]
  },
  {
   "cell_type": "markdown",
   "metadata": {},
   "source": [
    "有一半的用户只消费了一次"
   ]
  },
  {
   "cell_type": "markdown",
   "metadata": {},
   "source": [
    "## 3.4 用户分层\n",
    "### 3.4.1 RFM"
   ]
  },
  {
   "cell_type": "code",
   "execution_count": 31,
   "metadata": {},
   "outputs": [],
   "source": [
    "rfm = df.pivot_table(index = 'user_id',\n",
    "                    values = ['order_products', 'order_dt', 'order_amount'],\n",
    "                    aggfunc = {'order_products': 'sum',\n",
    "                              'order_dt':'max',\n",
    "                              'order_amount': 'sum'})"
   ]
  },
  {
   "cell_type": "code",
   "execution_count": 32,
   "metadata": {},
   "outputs": [
    {
     "data": {
      "text/html": [
       "<div>\n",
       "<style scoped>\n",
       "    .dataframe tbody tr th:only-of-type {\n",
       "        vertical-align: middle;\n",
       "    }\n",
       "\n",
       "    .dataframe tbody tr th {\n",
       "        vertical-align: top;\n",
       "    }\n",
       "\n",
       "    .dataframe thead th {\n",
       "        text-align: right;\n",
       "    }\n",
       "</style>\n",
       "<table border=\"1\" class=\"dataframe\">\n",
       "  <thead>\n",
       "    <tr style=\"text-align: right;\">\n",
       "      <th></th>\n",
       "      <th>order_amount</th>\n",
       "      <th>order_dt</th>\n",
       "      <th>order_products</th>\n",
       "    </tr>\n",
       "    <tr>\n",
       "      <th>user_id</th>\n",
       "      <th></th>\n",
       "      <th></th>\n",
       "      <th></th>\n",
       "    </tr>\n",
       "  </thead>\n",
       "  <tbody>\n",
       "    <tr>\n",
       "      <td>1</td>\n",
       "      <td>11.77</td>\n",
       "      <td>1997-01-01</td>\n",
       "      <td>1</td>\n",
       "    </tr>\n",
       "    <tr>\n",
       "      <td>2</td>\n",
       "      <td>89.00</td>\n",
       "      <td>1997-01-12</td>\n",
       "      <td>6</td>\n",
       "    </tr>\n",
       "    <tr>\n",
       "      <td>3</td>\n",
       "      <td>156.46</td>\n",
       "      <td>1998-05-28</td>\n",
       "      <td>16</td>\n",
       "    </tr>\n",
       "    <tr>\n",
       "      <td>4</td>\n",
       "      <td>100.50</td>\n",
       "      <td>1997-12-12</td>\n",
       "      <td>7</td>\n",
       "    </tr>\n",
       "    <tr>\n",
       "      <td>5</td>\n",
       "      <td>385.61</td>\n",
       "      <td>1998-01-03</td>\n",
       "      <td>29</td>\n",
       "    </tr>\n",
       "    <tr>\n",
       "      <td>...</td>\n",
       "      <td>...</td>\n",
       "      <td>...</td>\n",
       "      <td>...</td>\n",
       "    </tr>\n",
       "    <tr>\n",
       "      <td>23566</td>\n",
       "      <td>36.00</td>\n",
       "      <td>1997-03-25</td>\n",
       "      <td>2</td>\n",
       "    </tr>\n",
       "    <tr>\n",
       "      <td>23567</td>\n",
       "      <td>20.97</td>\n",
       "      <td>1997-03-25</td>\n",
       "      <td>1</td>\n",
       "    </tr>\n",
       "    <tr>\n",
       "      <td>23568</td>\n",
       "      <td>121.70</td>\n",
       "      <td>1997-04-22</td>\n",
       "      <td>6</td>\n",
       "    </tr>\n",
       "    <tr>\n",
       "      <td>23569</td>\n",
       "      <td>25.74</td>\n",
       "      <td>1997-03-25</td>\n",
       "      <td>2</td>\n",
       "    </tr>\n",
       "    <tr>\n",
       "      <td>23570</td>\n",
       "      <td>94.08</td>\n",
       "      <td>1997-03-26</td>\n",
       "      <td>5</td>\n",
       "    </tr>\n",
       "  </tbody>\n",
       "</table>\n",
       "<p>23570 rows × 3 columns</p>\n",
       "</div>"
      ],
      "text/plain": [
       "         order_amount   order_dt  order_products\n",
       "user_id                                         \n",
       "1               11.77 1997-01-01               1\n",
       "2               89.00 1997-01-12               6\n",
       "3              156.46 1998-05-28              16\n",
       "4              100.50 1997-12-12               7\n",
       "5              385.61 1998-01-03              29\n",
       "...               ...        ...             ...\n",
       "23566           36.00 1997-03-25               2\n",
       "23567           20.97 1997-03-25               1\n",
       "23568          121.70 1997-04-22               6\n",
       "23569           25.74 1997-03-25               2\n",
       "23570           94.08 1997-03-26               5\n",
       "\n",
       "[23570 rows x 3 columns]"
      ]
     },
     "execution_count": 32,
     "metadata": {},
     "output_type": "execute_result"
    }
   ],
   "source": [
    "rfm"
   ]
  },
  {
   "cell_type": "code",
   "execution_count": 33,
   "metadata": {},
   "outputs": [],
   "source": [
    "days = rfm['order_dt'].max() - rfm['order_dt']\n",
    "rfm['recency'] = days.map(lambda x: x.days)"
   ]
  },
  {
   "cell_type": "code",
   "execution_count": 34,
   "metadata": {},
   "outputs": [],
   "source": [
    "def rfm_func(rfm):\n",
    "    rfm = rfm[['order_amount','order_products','recency']].apply(lambda x:x-x.mean(), axis = 0)\n",
    "    for column in rfm:\n",
    "        rfm[column] = rfm[column].apply(lambda x: '0' if x<0 else '1')\n",
    "    label = rfm.apply(lambda x:x[0]+x[1]+x[2], axis = 1)\n",
    "    label_rfm={'111': '重要价值客户',\n",
    "          '011': '一般价值客户',\n",
    "          '101': '重要发展客户',\n",
    "          '110': '重要保持客户',\n",
    "          '001': '一般发展客户',\n",
    "          '010': '一般保持客户',\n",
    "          '100': '重要挽留客户',\n",
    "          '000': '一般挽留客户'}\n",
    "    return label.map(label_rfm)"
   ]
  },
  {
   "cell_type": "code",
   "execution_count": 35,
   "metadata": {},
   "outputs": [
    {
     "data": {
      "text/html": [
       "<div>\n",
       "<style scoped>\n",
       "    .dataframe tbody tr th:only-of-type {\n",
       "        vertical-align: middle;\n",
       "    }\n",
       "\n",
       "    .dataframe tbody tr th {\n",
       "        vertical-align: top;\n",
       "    }\n",
       "\n",
       "    .dataframe thead th {\n",
       "        text-align: right;\n",
       "    }\n",
       "</style>\n",
       "<table border=\"1\" class=\"dataframe\">\n",
       "  <thead>\n",
       "    <tr style=\"text-align: right;\">\n",
       "      <th></th>\n",
       "      <th>order_amount</th>\n",
       "      <th>order_dt</th>\n",
       "      <th>order_products</th>\n",
       "      <th>recency</th>\n",
       "      <th>label</th>\n",
       "    </tr>\n",
       "    <tr>\n",
       "      <th>user_id</th>\n",
       "      <th></th>\n",
       "      <th></th>\n",
       "      <th></th>\n",
       "      <th></th>\n",
       "      <th></th>\n",
       "    </tr>\n",
       "  </thead>\n",
       "  <tbody>\n",
       "    <tr>\n",
       "      <td>1</td>\n",
       "      <td>11.77</td>\n",
       "      <td>1997-01-01</td>\n",
       "      <td>1</td>\n",
       "      <td>545</td>\n",
       "      <td>一般发展客户</td>\n",
       "    </tr>\n",
       "    <tr>\n",
       "      <td>2</td>\n",
       "      <td>89.00</td>\n",
       "      <td>1997-01-12</td>\n",
       "      <td>6</td>\n",
       "      <td>534</td>\n",
       "      <td>一般发展客户</td>\n",
       "    </tr>\n",
       "    <tr>\n",
       "      <td>3</td>\n",
       "      <td>156.46</td>\n",
       "      <td>1998-05-28</td>\n",
       "      <td>16</td>\n",
       "      <td>33</td>\n",
       "      <td>重要保持客户</td>\n",
       "    </tr>\n",
       "    <tr>\n",
       "      <td>4</td>\n",
       "      <td>100.50</td>\n",
       "      <td>1997-12-12</td>\n",
       "      <td>7</td>\n",
       "      <td>200</td>\n",
       "      <td>一般挽留客户</td>\n",
       "    </tr>\n",
       "    <tr>\n",
       "      <td>5</td>\n",
       "      <td>385.61</td>\n",
       "      <td>1998-01-03</td>\n",
       "      <td>29</td>\n",
       "      <td>178</td>\n",
       "      <td>重要保持客户</td>\n",
       "    </tr>\n",
       "  </tbody>\n",
       "</table>\n",
       "</div>"
      ],
      "text/plain": [
       "         order_amount   order_dt  order_products  recency   label\n",
       "user_id                                                          \n",
       "1               11.77 1997-01-01               1      545  一般发展客户\n",
       "2               89.00 1997-01-12               6      534  一般发展客户\n",
       "3              156.46 1998-05-28              16       33  重要保持客户\n",
       "4              100.50 1997-12-12               7      200  一般挽留客户\n",
       "5              385.61 1998-01-03              29      178  重要保持客户"
      ]
     },
     "execution_count": 35,
     "metadata": {},
     "output_type": "execute_result"
    }
   ],
   "source": [
    "rfm['label'] = rfm_func(rfm)\n",
    "rfm.head()"
   ]
  },
  {
   "cell_type": "code",
   "execution_count": 36,
   "metadata": {},
   "outputs": [
    {
     "data": {
      "text/html": [
       "<div>\n",
       "<style scoped>\n",
       "    .dataframe tbody tr th:only-of-type {\n",
       "        vertical-align: middle;\n",
       "    }\n",
       "\n",
       "    .dataframe tbody tr th {\n",
       "        vertical-align: top;\n",
       "    }\n",
       "\n",
       "    .dataframe thead th {\n",
       "        text-align: right;\n",
       "    }\n",
       "</style>\n",
       "<table border=\"1\" class=\"dataframe\">\n",
       "  <thead>\n",
       "    <tr style=\"text-align: right;\">\n",
       "      <th></th>\n",
       "      <th>order_amount</th>\n",
       "      <th>order_products</th>\n",
       "      <th>recency</th>\n",
       "    </tr>\n",
       "    <tr>\n",
       "      <th>label</th>\n",
       "      <th></th>\n",
       "      <th></th>\n",
       "      <th></th>\n",
       "    </tr>\n",
       "  </thead>\n",
       "  <tbody>\n",
       "    <tr>\n",
       "      <td>一般价值客户</td>\n",
       "      <td>7181.28</td>\n",
       "      <td>650</td>\n",
       "      <td>36295</td>\n",
       "    </tr>\n",
       "    <tr>\n",
       "      <td>一般保持客户</td>\n",
       "      <td>19937.45</td>\n",
       "      <td>1712</td>\n",
       "      <td>29448</td>\n",
       "    </tr>\n",
       "    <tr>\n",
       "      <td>一般发展客户</td>\n",
       "      <td>438291.81</td>\n",
       "      <td>29346</td>\n",
       "      <td>6951815</td>\n",
       "    </tr>\n",
       "    <tr>\n",
       "      <td>一般挽留客户</td>\n",
       "      <td>196971.23</td>\n",
       "      <td>13977</td>\n",
       "      <td>591108</td>\n",
       "    </tr>\n",
       "    <tr>\n",
       "      <td>重要价值客户</td>\n",
       "      <td>167080.83</td>\n",
       "      <td>11121</td>\n",
       "      <td>358363</td>\n",
       "    </tr>\n",
       "    <tr>\n",
       "      <td>重要保持客户</td>\n",
       "      <td>1592039.62</td>\n",
       "      <td>107789</td>\n",
       "      <td>517267</td>\n",
       "    </tr>\n",
       "    <tr>\n",
       "      <td>重要发展客户</td>\n",
       "      <td>33028.40</td>\n",
       "      <td>1263</td>\n",
       "      <td>114482</td>\n",
       "    </tr>\n",
       "    <tr>\n",
       "      <td>重要挽留客户</td>\n",
       "      <td>45785.01</td>\n",
       "      <td>2023</td>\n",
       "      <td>56636</td>\n",
       "    </tr>\n",
       "  </tbody>\n",
       "</table>\n",
       "</div>"
      ],
      "text/plain": [
       "        order_amount  order_products  recency\n",
       "label                                        \n",
       "一般价值客户       7181.28             650    36295\n",
       "一般保持客户      19937.45            1712    29448\n",
       "一般发展客户     438291.81           29346  6951815\n",
       "一般挽留客户     196971.23           13977   591108\n",
       "重要价值客户     167080.83           11121   358363\n",
       "重要保持客户    1592039.62          107789   517267\n",
       "重要发展客户      33028.40            1263   114482\n",
       "重要挽留客户      45785.01            2023    56636"
      ]
     },
     "execution_count": 36,
     "metadata": {},
     "output_type": "execute_result"
    }
   ],
   "source": [
    "rfm.groupby('label').sum()"
   ]
  },
  {
   "cell_type": "code",
   "execution_count": 37,
   "metadata": {},
   "outputs": [
    {
     "data": {
      "text/plain": [
       "<matplotlib.axes._subplots.AxesSubplot at 0x15361e88188>"
      ]
     },
     "execution_count": 37,
     "metadata": {},
     "output_type": "execute_result"
    },
    {
     "data": {
      "image/png": "[encoded data removed]",
      "text/plain": [
       "<Figure size 432x288 with 1 Axes>"
      ]
     },
     "metadata": {
      "needs_background": "light"
     },
     "output_type": "display_data"
    }
   ],
   "source": [
    "rfm.loc[rfm['label'] == '重要价值客户', 'color'] = 'g'\n",
    "rfm.loc[rfm['label'] != '重要价值客户', 'color'] = 'r'\n",
    "rfm.plot.scatter('order_products','recency',c=rfm.color)"
   ]
  },
  {
   "cell_type": "markdown",
   "metadata": {},
   "source": [
    "### 3.4.2 新/活跃/回流/流失客"
   ]
  },
  {
   "cell_type": "code",
   "execution_count": 39,
   "metadata": {},
   "outputs": [
    {
     "data": {
      "text/html": [
       "<div>\n",
       "<style scoped>\n",
       "    .dataframe tbody tr th:only-of-type {\n",
       "        vertical-align: middle;\n",
       "    }\n",
       "\n",
       "    .dataframe tbody tr th {\n",
       "        vertical-align: top;\n",
       "    }\n",
       "\n",
       "    .dataframe thead th {\n",
       "        text-align: right;\n",
       "    }\n",
       "</style>\n",
       "<table border=\"1\" class=\"dataframe\">\n",
       "  <thead>\n",
       "    <tr style=\"text-align: right;\">\n",
       "      <th>order_month</th>\n",
       "      <th>1997-01-01</th>\n",
       "      <th>1997-02-01</th>\n",
       "      <th>1997-03-01</th>\n",
       "      <th>1997-04-01</th>\n",
       "      <th>1997-05-01</th>\n",
       "      <th>1997-06-01</th>\n",
       "      <th>1997-07-01</th>\n",
       "      <th>1997-08-01</th>\n",
       "      <th>1997-09-01</th>\n",
       "      <th>1997-10-01</th>\n",
       "      <th>1997-11-01</th>\n",
       "      <th>1997-12-01</th>\n",
       "      <th>1998-01-01</th>\n",
       "      <th>1998-02-01</th>\n",
       "      <th>1998-03-01</th>\n",
       "      <th>1998-04-01</th>\n",
       "      <th>1998-05-01</th>\n",
       "      <th>1998-06-01</th>\n",
       "    </tr>\n",
       "    <tr>\n",
       "      <th>user_id</th>\n",
       "      <th></th>\n",
       "      <th></th>\n",
       "      <th></th>\n",
       "      <th></th>\n",
       "      <th></th>\n",
       "      <th></th>\n",
       "      <th></th>\n",
       "      <th></th>\n",
       "      <th></th>\n",
       "      <th></th>\n",
       "      <th></th>\n",
       "      <th></th>\n",
       "      <th></th>\n",
       "      <th></th>\n",
       "      <th></th>\n",
       "      <th></th>\n",
       "      <th></th>\n",
       "      <th></th>\n",
       "    </tr>\n",
       "  </thead>\n",
       "  <tbody>\n",
       "    <tr>\n",
       "      <td>1</td>\n",
       "      <td>1.0</td>\n",
       "      <td>0.0</td>\n",
       "      <td>0.0</td>\n",
       "      <td>0.0</td>\n",
       "      <td>0.0</td>\n",
       "      <td>0.0</td>\n",
       "      <td>0.0</td>\n",
       "      <td>0.0</td>\n",
       "      <td>0.0</td>\n",
       "      <td>0.0</td>\n",
       "      <td>0.0</td>\n",
       "      <td>0.0</td>\n",
       "      <td>0.0</td>\n",
       "      <td>0.0</td>\n",
       "      <td>0.0</td>\n",
       "      <td>0.0</td>\n",
       "      <td>0.0</td>\n",
       "      <td>0.0</td>\n",
       "    </tr>\n",
       "    <tr>\n",
       "      <td>2</td>\n",
       "      <td>2.0</td>\n",
       "      <td>0.0</td>\n",
       "      <td>0.0</td>\n",
       "      <td>0.0</td>\n",
       "      <td>0.0</td>\n",
       "      <td>0.0</td>\n",
       "      <td>0.0</td>\n",
       "      <td>0.0</td>\n",
       "      <td>0.0</td>\n",
       "      <td>0.0</td>\n",
       "      <td>0.0</td>\n",
       "      <td>0.0</td>\n",
       "      <td>0.0</td>\n",
       "      <td>0.0</td>\n",
       "      <td>0.0</td>\n",
       "      <td>0.0</td>\n",
       "      <td>0.0</td>\n",
       "      <td>0.0</td>\n",
       "    </tr>\n",
       "    <tr>\n",
       "      <td>3</td>\n",
       "      <td>1.0</td>\n",
       "      <td>0.0</td>\n",
       "      <td>1.0</td>\n",
       "      <td>1.0</td>\n",
       "      <td>0.0</td>\n",
       "      <td>0.0</td>\n",
       "      <td>0.0</td>\n",
       "      <td>0.0</td>\n",
       "      <td>0.0</td>\n",
       "      <td>0.0</td>\n",
       "      <td>2.0</td>\n",
       "      <td>0.0</td>\n",
       "      <td>0.0</td>\n",
       "      <td>0.0</td>\n",
       "      <td>0.0</td>\n",
       "      <td>0.0</td>\n",
       "      <td>1.0</td>\n",
       "      <td>0.0</td>\n",
       "    </tr>\n",
       "    <tr>\n",
       "      <td>4</td>\n",
       "      <td>2.0</td>\n",
       "      <td>0.0</td>\n",
       "      <td>0.0</td>\n",
       "      <td>0.0</td>\n",
       "      <td>0.0</td>\n",
       "      <td>0.0</td>\n",
       "      <td>0.0</td>\n",
       "      <td>1.0</td>\n",
       "      <td>0.0</td>\n",
       "      <td>0.0</td>\n",
       "      <td>0.0</td>\n",
       "      <td>1.0</td>\n",
       "      <td>0.0</td>\n",
       "      <td>0.0</td>\n",
       "      <td>0.0</td>\n",
       "      <td>0.0</td>\n",
       "      <td>0.0</td>\n",
       "      <td>0.0</td>\n",
       "    </tr>\n",
       "    <tr>\n",
       "      <td>5</td>\n",
       "      <td>2.0</td>\n",
       "      <td>1.0</td>\n",
       "      <td>0.0</td>\n",
       "      <td>1.0</td>\n",
       "      <td>1.0</td>\n",
       "      <td>1.0</td>\n",
       "      <td>1.0</td>\n",
       "      <td>0.0</td>\n",
       "      <td>1.0</td>\n",
       "      <td>0.0</td>\n",
       "      <td>0.0</td>\n",
       "      <td>2.0</td>\n",
       "      <td>1.0</td>\n",
       "      <td>0.0</td>\n",
       "      <td>0.0</td>\n",
       "      <td>0.0</td>\n",
       "      <td>0.0</td>\n",
       "      <td>0.0</td>\n",
       "    </tr>\n",
       "  </tbody>\n",
       "</table>\n",
       "</div>"
      ],
      "text/plain": [
       "order_month  1997-01-01  1997-02-01  1997-03-01  1997-04-01  1997-05-01  \\\n",
       "user_id                                                                   \n",
       "1                   1.0         0.0         0.0         0.0         0.0   \n",
       "2                   2.0         0.0         0.0         0.0         0.0   \n",
       "3                   1.0         0.0         1.0         1.0         0.0   \n",
       "4                   2.0         0.0         0.0         0.0         0.0   \n",
       "5                   2.0         1.0         0.0         1.0         1.0   \n",
       "\n",
       "order_month  1997-06-01  1997-07-01  1997-08-01  1997-09-01  1997-10-01  \\\n",
       "user_id                                                                   \n",
       "1                   0.0         0.0         0.0         0.0         0.0   \n",
       "2                   0.0         0.0         0.0         0.0         0.0   \n",
       "3                   0.0         0.0         0.0         0.0         0.0   \n",
       "4                   0.0         0.0         1.0         0.0         0.0   \n",
       "5                   1.0         1.0         0.0         1.0         0.0   \n",
       "\n",
       "order_month  1997-11-01  1997-12-01  1998-01-01  1998-02-01  1998-03-01  \\\n",
       "user_id                                                                   \n",
       "1                   0.0         0.0         0.0         0.0         0.0   \n",
       "2                   0.0         0.0         0.0         0.0         0.0   \n",
       "3                   2.0         0.0         0.0         0.0         0.0   \n",
       "4                   0.0         1.0         0.0         0.0         0.0   \n",
       "5                   0.0         2.0         1.0         0.0         0.0   \n",
       "\n",
       "order_month  1998-04-01  1998-05-01  1998-06-01  \n",
       "user_id                                          \n",
       "1                   0.0         0.0         0.0  \n",
       "2                   0.0         0.0         0.0  \n",
       "3                   0.0         1.0         0.0  \n",
       "4                   0.0         0.0         0.0  \n",
       "5                   0.0         0.0         0.0  "
      ]
     },
     "execution_count": 39,
     "metadata": {},
     "output_type": "execute_result"
    }
   ],
   "source": [
    "pivot_counts = df.pivot_table(index = 'user_id',\n",
    "                             columns = 'order_month',\n",
    "                             values = 'order_dt',\n",
    "                             aggfunc = 'count').fillna(0)\n",
    "pivot_counts.head()"
   ]
  },
  {
   "cell_type": "code",
   "execution_count": 40,
   "metadata": {},
   "outputs": [
    {
     "data": {
      "text/html": [
       "<div>\n",
       "<style scoped>\n",
       "    .dataframe tbody tr th:only-of-type {\n",
       "        vertical-align: middle;\n",
       "    }\n",
       "\n",
       "    .dataframe tbody tr th {\n",
       "        vertical-align: top;\n",
       "    }\n",
       "\n",
       "    .dataframe thead th {\n",
       "        text-align: right;\n",
       "    }\n",
       "</style>\n",
       "<table border=\"1\" class=\"dataframe\">\n",
       "  <thead>\n",
       "    <tr style=\"text-align: right;\">\n",
       "      <th>order_month</th>\n",
       "      <th>1997-01-01</th>\n",
       "      <th>1997-02-01</th>\n",
       "      <th>1997-03-01</th>\n",
       "      <th>1997-04-01</th>\n",
       "      <th>1997-05-01</th>\n",
       "      <th>1997-06-01</th>\n",
       "      <th>1997-07-01</th>\n",
       "      <th>1997-08-01</th>\n",
       "      <th>1997-09-01</th>\n",
       "      <th>1997-10-01</th>\n",
       "      <th>1997-11-01</th>\n",
       "      <th>1997-12-01</th>\n",
       "      <th>1998-01-01</th>\n",
       "      <th>1998-02-01</th>\n",
       "      <th>1998-03-01</th>\n",
       "      <th>1998-04-01</th>\n",
       "      <th>1998-05-01</th>\n",
       "      <th>1998-06-01</th>\n",
       "    </tr>\n",
       "    <tr>\n",
       "      <th>user_id</th>\n",
       "      <th></th>\n",
       "      <th></th>\n",
       "      <th></th>\n",
       "      <th></th>\n",
       "      <th></th>\n",
       "      <th></th>\n",
       "      <th></th>\n",
       "      <th></th>\n",
       "      <th></th>\n",
       "      <th></th>\n",
       "      <th></th>\n",
       "      <th></th>\n",
       "      <th></th>\n",
       "      <th></th>\n",
       "      <th></th>\n",
       "      <th></th>\n",
       "      <th></th>\n",
       "      <th></th>\n",
       "    </tr>\n",
       "  </thead>\n",
       "  <tbody>\n",
       "    <tr>\n",
       "      <td>1</td>\n",
       "      <td>1</td>\n",
       "      <td>0</td>\n",
       "      <td>0</td>\n",
       "      <td>0</td>\n",
       "      <td>0</td>\n",
       "      <td>0</td>\n",
       "      <td>0</td>\n",
       "      <td>0</td>\n",
       "      <td>0</td>\n",
       "      <td>0</td>\n",
       "      <td>0</td>\n",
       "      <td>0</td>\n",
       "      <td>0</td>\n",
       "      <td>0</td>\n",
       "      <td>0</td>\n",
       "      <td>0</td>\n",
       "      <td>0</td>\n",
       "      <td>0</td>\n",
       "    </tr>\n",
       "    <tr>\n",
       "      <td>2</td>\n",
       "      <td>1</td>\n",
       "      <td>0</td>\n",
       "      <td>0</td>\n",
       "      <td>0</td>\n",
       "      <td>0</td>\n",
       "      <td>0</td>\n",
       "      <td>0</td>\n",
       "      <td>0</td>\n",
       "      <td>0</td>\n",
       "      <td>0</td>\n",
       "      <td>0</td>\n",
       "      <td>0</td>\n",
       "      <td>0</td>\n",
       "      <td>0</td>\n",
       "      <td>0</td>\n",
       "      <td>0</td>\n",
       "      <td>0</td>\n",
       "      <td>0</td>\n",
       "    </tr>\n",
       "    <tr>\n",
       "      <td>3</td>\n",
       "      <td>1</td>\n",
       "      <td>0</td>\n",
       "      <td>1</td>\n",
       "      <td>1</td>\n",
       "      <td>0</td>\n",
       "      <td>0</td>\n",
       "      <td>0</td>\n",
       "      <td>0</td>\n",
       "      <td>0</td>\n",
       "      <td>0</td>\n",
       "      <td>1</td>\n",
       "      <td>0</td>\n",
       "      <td>0</td>\n",
       "      <td>0</td>\n",
       "      <td>0</td>\n",
       "      <td>0</td>\n",
       "      <td>1</td>\n",
       "      <td>0</td>\n",
       "    </tr>\n",
       "    <tr>\n",
       "      <td>4</td>\n",
       "      <td>1</td>\n",
       "      <td>0</td>\n",
       "      <td>0</td>\n",
       "      <td>0</td>\n",
       "      <td>0</td>\n",
       "      <td>0</td>\n",
       "      <td>0</td>\n",
       "      <td>1</td>\n",
       "      <td>0</td>\n",
       "      <td>0</td>\n",
       "      <td>0</td>\n",
       "      <td>1</td>\n",
       "      <td>0</td>\n",
       "      <td>0</td>\n",
       "      <td>0</td>\n",
       "      <td>0</td>\n",
       "      <td>0</td>\n",
       "      <td>0</td>\n",
       "    </tr>\n",
       "    <tr>\n",
       "      <td>5</td>\n",
       "      <td>1</td>\n",
       "      <td>1</td>\n",
       "      <td>0</td>\n",
       "      <td>1</td>\n",
       "      <td>1</td>\n",
       "      <td>1</td>\n",
       "      <td>1</td>\n",
       "      <td>0</td>\n",
       "      <td>1</td>\n",
       "      <td>0</td>\n",
       "      <td>0</td>\n",
       "      <td>1</td>\n",
       "      <td>1</td>\n",
       "      <td>0</td>\n",
       "      <td>0</td>\n",
       "      <td>0</td>\n",
       "      <td>0</td>\n",
       "      <td>0</td>\n",
       "    </tr>\n",
       "  </tbody>\n",
       "</table>\n",
       "</div>"
      ],
      "text/plain": [
       "order_month  1997-01-01  1997-02-01  1997-03-01  1997-04-01  1997-05-01  \\\n",
       "user_id                                                                   \n",
       "1                     1           0           0           0           0   \n",
       "2                     1           0           0           0           0   \n",
       "3                     1           0           1           1           0   \n",
       "4                     1           0           0           0           0   \n",
       "5                     1           1           0           1           1   \n",
       "\n",
       "order_month  1997-06-01  1997-07-01  1997-08-01  1997-09-01  1997-10-01  \\\n",
       "user_id                                                                   \n",
       "1                     0           0           0           0           0   \n",
       "2                     0           0           0           0           0   \n",
       "3                     0           0           0           0           0   \n",
       "4                     0           0           1           0           0   \n",
       "5                     1           1           0           1           0   \n",
       "\n",
       "order_month  1997-11-01  1997-12-01  1998-01-01  1998-02-01  1998-03-01  \\\n",
       "user_id                                                                   \n",
       "1                     0           0           0           0           0   \n",
       "2                     0           0           0           0           0   \n",
       "3                     1           0           0           0           0   \n",
       "4                     0           1           0           0           0   \n",
       "5                     0           1           1           0           0   \n",
       "\n",
       "order_month  1998-04-01  1998-05-01  1998-06-01  \n",
       "user_id                                          \n",
       "1                     0           0           0  \n",
       "2                     0           0           0  \n",
       "3                     0           1           0  \n",
       "4                     0           0           0  \n",
       "5                     0           0           0  "
      ]
     },
     "execution_count": 40,
     "metadata": {},
     "output_type": "execute_result"
    }
   ],
   "source": [
    "df_purchase = pivot_counts.applymap(lambda x:1 if x > 0 else 0)\n",
    "month_index = df_purchase.columns\n",
    "df_purchase.head()"
   ]
  },
  {
   "cell_type": "code",
   "execution_count": 41,
   "metadata": {},
   "outputs": [],
   "source": [
    "def customer_status_func(customer):\n",
    "    purchase_cum = customer.cumsum()\n",
    "    state = []\n",
    "    for month in range(0,len(purchase_cum)):\n",
    "        cum_current_month = purchase_cum[month]\n",
    "        current_month = customer[month]\n",
    "        last_month = customer[max(month-1, 0)]\n",
    "        if cum_current_month == 0: state.append('Not Registered')\n",
    "        elif current_month == 0: state.append('Unactive')\n",
    "        elif cum_current_month == 1 & current_month == 1: state.append('New')\n",
    "        elif (1-last_month)*current_month == 1 : state.append('Return')\n",
    "        else: state.append('Active')\n",
    "    return state"
   ]
  },
  {
   "cell_type": "code",
   "execution_count": 42,
   "metadata": {},
   "outputs": [
    {
     "data": {
      "text/plain": [
       "['New',\n",
       " 'Unactive',\n",
       " 'Return',\n",
       " 'Active',\n",
       " 'Unactive',\n",
       " 'Unactive',\n",
       " 'Unactive',\n",
       " 'Unactive',\n",
       " 'Unactive',\n",
       " 'Unactive',\n",
       " 'Return',\n",
       " 'Unactive',\n",
       " 'Unactive',\n",
       " 'Unactive',\n",
       " 'Unactive',\n",
       " 'Unactive',\n",
       " 'Return',\n",
       " 'Unactive']"
      ]
     },
     "execution_count": 42,
     "metadata": {},
     "output_type": "execute_result"
    }
   ],
   "source": [
    "customer_status_func(df_purchase.loc[3])"
   ]
  },
  {
   "cell_type": "code",
   "execution_count": 43,
   "metadata": {},
   "outputs": [],
   "source": [
    "customer_status = pd.DataFrame(df_purchase.apply(customer_status_func, axis = 1))\n",
    "customer_status = pd.DataFrame(customer_status[0].str).T\n",
    "customer_status.columns = month_index"
   ]
  },
  {
   "cell_type": "code",
   "execution_count": 45,
   "metadata": {},
   "outputs": [
    {
     "data": {
      "text/html": [
       "<div>\n",
       "<style scoped>\n",
       "    .dataframe tbody tr th:only-of-type {\n",
       "        vertical-align: middle;\n",
       "    }\n",
       "\n",
       "    .dataframe tbody tr th {\n",
       "        vertical-align: top;\n",
       "    }\n",
       "\n",
       "    .dataframe thead th {\n",
       "        text-align: right;\n",
       "    }\n",
       "</style>\n",
       "<table border=\"1\" class=\"dataframe\">\n",
       "  <thead>\n",
       "    <tr style=\"text-align: right;\">\n",
       "      <th>order_month</th>\n",
       "      <th>1997-01-01</th>\n",
       "      <th>1997-02-01</th>\n",
       "      <th>1997-03-01</th>\n",
       "      <th>1997-04-01</th>\n",
       "      <th>1997-05-01</th>\n",
       "      <th>1997-06-01</th>\n",
       "      <th>1997-07-01</th>\n",
       "      <th>1997-08-01</th>\n",
       "      <th>1997-09-01</th>\n",
       "      <th>1997-10-01</th>\n",
       "      <th>1997-11-01</th>\n",
       "      <th>1997-12-01</th>\n",
       "      <th>1998-01-01</th>\n",
       "      <th>1998-02-01</th>\n",
       "      <th>1998-03-01</th>\n",
       "      <th>1998-04-01</th>\n",
       "      <th>1998-05-01</th>\n",
       "      <th>1998-06-01</th>\n",
       "    </tr>\n",
       "    <tr>\n",
       "      <th>user_id</th>\n",
       "      <th></th>\n",
       "      <th></th>\n",
       "      <th></th>\n",
       "      <th></th>\n",
       "      <th></th>\n",
       "      <th></th>\n",
       "      <th></th>\n",
       "      <th></th>\n",
       "      <th></th>\n",
       "      <th></th>\n",
       "      <th></th>\n",
       "      <th></th>\n",
       "      <th></th>\n",
       "      <th></th>\n",
       "      <th></th>\n",
       "      <th></th>\n",
       "      <th></th>\n",
       "      <th></th>\n",
       "    </tr>\n",
       "  </thead>\n",
       "  <tbody>\n",
       "    <tr>\n",
       "      <td>1</td>\n",
       "      <td>New</td>\n",
       "      <td>Unactive</td>\n",
       "      <td>Unactive</td>\n",
       "      <td>Unactive</td>\n",
       "      <td>Unactive</td>\n",
       "      <td>Unactive</td>\n",
       "      <td>Unactive</td>\n",
       "      <td>Unactive</td>\n",
       "      <td>Unactive</td>\n",
       "      <td>Unactive</td>\n",
       "      <td>Unactive</td>\n",
       "      <td>Unactive</td>\n",
       "      <td>Unactive</td>\n",
       "      <td>Unactive</td>\n",
       "      <td>Unactive</td>\n",
       "      <td>Unactive</td>\n",
       "      <td>Unactive</td>\n",
       "      <td>Unactive</td>\n",
       "    </tr>\n",
       "    <tr>\n",
       "      <td>2</td>\n",
       "      <td>New</td>\n",
       "      <td>Unactive</td>\n",
       "      <td>Unactive</td>\n",
       "      <td>Unactive</td>\n",
       "      <td>Unactive</td>\n",
       "      <td>Unactive</td>\n",
       "      <td>Unactive</td>\n",
       "      <td>Unactive</td>\n",
       "      <td>Unactive</td>\n",
       "      <td>Unactive</td>\n",
       "      <td>Unactive</td>\n",
       "      <td>Unactive</td>\n",
       "      <td>Unactive</td>\n",
       "      <td>Unactive</td>\n",
       "      <td>Unactive</td>\n",
       "      <td>Unactive</td>\n",
       "      <td>Unactive</td>\n",
       "      <td>Unactive</td>\n",
       "    </tr>\n",
       "    <tr>\n",
       "      <td>3</td>\n",
       "      <td>New</td>\n",
       "      <td>Unactive</td>\n",
       "      <td>Return</td>\n",
       "      <td>Active</td>\n",
       "      <td>Unactive</td>\n",
       "      <td>Unactive</td>\n",
       "      <td>Unactive</td>\n",
       "      <td>Unactive</td>\n",
       "      <td>Unactive</td>\n",
       "      <td>Unactive</td>\n",
       "      <td>Return</td>\n",
       "      <td>Unactive</td>\n",
       "      <td>Unactive</td>\n",
       "      <td>Unactive</td>\n",
       "      <td>Unactive</td>\n",
       "      <td>Unactive</td>\n",
       "      <td>Return</td>\n",
       "      <td>Unactive</td>\n",
       "    </tr>\n",
       "    <tr>\n",
       "      <td>4</td>\n",
       "      <td>New</td>\n",
       "      <td>Unactive</td>\n",
       "      <td>Unactive</td>\n",
       "      <td>Unactive</td>\n",
       "      <td>Unactive</td>\n",
       "      <td>Unactive</td>\n",
       "      <td>Unactive</td>\n",
       "      <td>Return</td>\n",
       "      <td>Unactive</td>\n",
       "      <td>Unactive</td>\n",
       "      <td>Unactive</td>\n",
       "      <td>Return</td>\n",
       "      <td>Unactive</td>\n",
       "      <td>Unactive</td>\n",
       "      <td>Unactive</td>\n",
       "      <td>Unactive</td>\n",
       "      <td>Unactive</td>\n",
       "      <td>Unactive</td>\n",
       "    </tr>\n",
       "    <tr>\n",
       "      <td>5</td>\n",
       "      <td>New</td>\n",
       "      <td>Active</td>\n",
       "      <td>Unactive</td>\n",
       "      <td>Return</td>\n",
       "      <td>Active</td>\n",
       "      <td>Active</td>\n",
       "      <td>Active</td>\n",
       "      <td>Unactive</td>\n",
       "      <td>Return</td>\n",
       "      <td>Unactive</td>\n",
       "      <td>Unactive</td>\n",
       "      <td>Return</td>\n",
       "      <td>Active</td>\n",
       "      <td>Unactive</td>\n",
       "      <td>Unactive</td>\n",
       "      <td>Unactive</td>\n",
       "      <td>Unactive</td>\n",
       "      <td>Unactive</td>\n",
       "    </tr>\n",
       "  </tbody>\n",
       "</table>\n",
       "</div>"
      ],
      "text/plain": [
       "order_month 1997-01-01 1997-02-01 1997-03-01 1997-04-01 1997-05-01 1997-06-01  \\\n",
       "user_id                                                                         \n",
       "1                  New   Unactive   Unactive   Unactive   Unactive   Unactive   \n",
       "2                  New   Unactive   Unactive   Unactive   Unactive   Unactive   \n",
       "3                  New   Unactive     Return     Active   Unactive   Unactive   \n",
       "4                  New   Unactive   Unactive   Unactive   Unactive   Unactive   \n",
       "5                  New     Active   Unactive     Return     Active     Active   \n",
       "\n",
       "order_month 1997-07-01 1997-08-01 1997-09-01 1997-10-01 1997-11-01 1997-12-01  \\\n",
       "user_id                                                                         \n",
       "1             Unactive   Unactive   Unactive   Unactive   Unactive   Unactive   \n",
       "2             Unactive   Unactive   Unactive   Unactive   Unactive   Unactive   \n",
       "3             Unactive   Unactive   Unactive   Unactive     Return   Unactive   \n",
       "4             Unactive     Return   Unactive   Unactive   Unactive     Return   \n",
       "5               Active   Unactive     Return   Unactive   Unactive     Return   \n",
       "\n",
       "order_month 1998-01-01 1998-02-01 1998-03-01 1998-04-01 1998-05-01 1998-06-01  \n",
       "user_id                                                                        \n",
       "1             Unactive   Unactive   Unactive   Unactive   Unactive   Unactive  \n",
       "2             Unactive   Unactive   Unactive   Unactive   Unactive   Unactive  \n",
       "3             Unactive   Unactive   Unactive   Unactive     Return   Unactive  \n",
       "4             Unactive   Unactive   Unactive   Unactive   Unactive   Unactive  \n",
       "5               Active   Unactive   Unactive   Unactive   Unactive   Unactive  "
      ]
     },
     "execution_count": 45,
     "metadata": {},
     "output_type": "execute_result"
    }
   ],
   "source": [
    "customer_status.head()"
   ]
  },
  {
   "cell_type": "code",
   "execution_count": 46,
   "metadata": {},
   "outputs": [
    {
     "data": {
      "text/html": [
       "<div>\n",
       "<style scoped>\n",
       "    .dataframe tbody tr th:only-of-type {\n",
       "        vertical-align: middle;\n",
       "    }\n",
       "\n",
       "    .dataframe tbody tr th {\n",
       "        vertical-align: top;\n",
       "    }\n",
       "\n",
       "    .dataframe thead th {\n",
       "        text-align: right;\n",
       "    }\n",
       "</style>\n",
       "<table border=\"1\" class=\"dataframe\">\n",
       "  <thead>\n",
       "    <tr style=\"text-align: right;\">\n",
       "      <th>order_month</th>\n",
       "      <th>1997-01-01</th>\n",
       "      <th>1997-02-01</th>\n",
       "      <th>1997-03-01</th>\n",
       "      <th>1997-04-01</th>\n",
       "      <th>1997-05-01</th>\n",
       "      <th>1997-06-01</th>\n",
       "      <th>1997-07-01</th>\n",
       "      <th>1997-08-01</th>\n",
       "      <th>1997-09-01</th>\n",
       "      <th>1997-10-01</th>\n",
       "      <th>1997-11-01</th>\n",
       "      <th>1997-12-01</th>\n",
       "      <th>1998-01-01</th>\n",
       "      <th>1998-02-01</th>\n",
       "      <th>1998-03-01</th>\n",
       "      <th>1998-04-01</th>\n",
       "      <th>1998-05-01</th>\n",
       "      <th>1998-06-01</th>\n",
       "    </tr>\n",
       "    <tr>\n",
       "      <th>user_id</th>\n",
       "      <th></th>\n",
       "      <th></th>\n",
       "      <th></th>\n",
       "      <th></th>\n",
       "      <th></th>\n",
       "      <th></th>\n",
       "      <th></th>\n",
       "      <th></th>\n",
       "      <th></th>\n",
       "      <th></th>\n",
       "      <th></th>\n",
       "      <th></th>\n",
       "      <th></th>\n",
       "      <th></th>\n",
       "      <th></th>\n",
       "      <th></th>\n",
       "      <th></th>\n",
       "      <th></th>\n",
       "    </tr>\n",
       "  </thead>\n",
       "  <tbody>\n",
       "    <tr>\n",
       "      <td>23566</td>\n",
       "      <td>Not Registered</td>\n",
       "      <td>Not Registered</td>\n",
       "      <td>New</td>\n",
       "      <td>Unactive</td>\n",
       "      <td>Unactive</td>\n",
       "      <td>Unactive</td>\n",
       "      <td>Unactive</td>\n",
       "      <td>Unactive</td>\n",
       "      <td>Unactive</td>\n",
       "      <td>Unactive</td>\n",
       "      <td>Unactive</td>\n",
       "      <td>Unactive</td>\n",
       "      <td>Unactive</td>\n",
       "      <td>Unactive</td>\n",
       "      <td>Unactive</td>\n",
       "      <td>Unactive</td>\n",
       "      <td>Unactive</td>\n",
       "      <td>Unactive</td>\n",
       "    </tr>\n",
       "    <tr>\n",
       "      <td>23567</td>\n",
       "      <td>Not Registered</td>\n",
       "      <td>Not Registered</td>\n",
       "      <td>New</td>\n",
       "      <td>Unactive</td>\n",
       "      <td>Unactive</td>\n",
       "      <td>Unactive</td>\n",
       "      <td>Unactive</td>\n",
       "      <td>Unactive</td>\n",
       "      <td>Unactive</td>\n",
       "      <td>Unactive</td>\n",
       "      <td>Unactive</td>\n",
       "      <td>Unactive</td>\n",
       "      <td>Unactive</td>\n",
       "      <td>Unactive</td>\n",
       "      <td>Unactive</td>\n",
       "      <td>Unactive</td>\n",
       "      <td>Unactive</td>\n",
       "      <td>Unactive</td>\n",
       "    </tr>\n",
       "    <tr>\n",
       "      <td>23568</td>\n",
       "      <td>Not Registered</td>\n",
       "      <td>Not Registered</td>\n",
       "      <td>New</td>\n",
       "      <td>Active</td>\n",
       "      <td>Unactive</td>\n",
       "      <td>Unactive</td>\n",
       "      <td>Unactive</td>\n",
       "      <td>Unactive</td>\n",
       "      <td>Unactive</td>\n",
       "      <td>Unactive</td>\n",
       "      <td>Unactive</td>\n",
       "      <td>Unactive</td>\n",
       "      <td>Unactive</td>\n",
       "      <td>Unactive</td>\n",
       "      <td>Unactive</td>\n",
       "      <td>Unactive</td>\n",
       "      <td>Unactive</td>\n",
       "      <td>Unactive</td>\n",
       "    </tr>\n",
       "    <tr>\n",
       "      <td>23569</td>\n",
       "      <td>Not Registered</td>\n",
       "      <td>Not Registered</td>\n",
       "      <td>New</td>\n",
       "      <td>Unactive</td>\n",
       "      <td>Unactive</td>\n",
       "      <td>Unactive</td>\n",
       "      <td>Unactive</td>\n",
       "      <td>Unactive</td>\n",
       "      <td>Unactive</td>\n",
       "      <td>Unactive</td>\n",
       "      <td>Unactive</td>\n",
       "      <td>Unactive</td>\n",
       "      <td>Unactive</td>\n",
       "      <td>Unactive</td>\n",
       "      <td>Unactive</td>\n",
       "      <td>Unactive</td>\n",
       "      <td>Unactive</td>\n",
       "      <td>Unactive</td>\n",
       "    </tr>\n",
       "    <tr>\n",
       "      <td>23570</td>\n",
       "      <td>Not Registered</td>\n",
       "      <td>Not Registered</td>\n",
       "      <td>New</td>\n",
       "      <td>Unactive</td>\n",
       "      <td>Unactive</td>\n",
       "      <td>Unactive</td>\n",
       "      <td>Unactive</td>\n",
       "      <td>Unactive</td>\n",
       "      <td>Unactive</td>\n",
       "      <td>Unactive</td>\n",
       "      <td>Unactive</td>\n",
       "      <td>Unactive</td>\n",
       "      <td>Unactive</td>\n",
       "      <td>Unactive</td>\n",
       "      <td>Unactive</td>\n",
       "      <td>Unactive</td>\n",
       "      <td>Unactive</td>\n",
       "      <td>Unactive</td>\n",
       "    </tr>\n",
       "  </tbody>\n",
       "</table>\n",
       "</div>"
      ],
      "text/plain": [
       "order_month      1997-01-01      1997-02-01 1997-03-01 1997-04-01 1997-05-01  \\\n",
       "user_id                                                                        \n",
       "23566        Not Registered  Not Registered        New   Unactive   Unactive   \n",
       "23567        Not Registered  Not Registered        New   Unactive   Unactive   \n",
       "23568        Not Registered  Not Registered        New     Active   Unactive   \n",
       "23569        Not Registered  Not Registered        New   Unactive   Unactive   \n",
       "23570        Not Registered  Not Registered        New   Unactive   Unactive   \n",
       "\n",
       "order_month 1997-06-01 1997-07-01 1997-08-01 1997-09-01 1997-10-01 1997-11-01  \\\n",
       "user_id                                                                         \n",
       "23566         Unactive   Unactive   Unactive   Unactive   Unactive   Unactive   \n",
       "23567         Unactive   Unactive   Unactive   Unactive   Unactive   Unactive   \n",
       "23568         Unactive   Unactive   Unactive   Unactive   Unactive   Unactive   \n",
       "23569         Unactive   Unactive   Unactive   Unactive   Unactive   Unactive   \n",
       "23570         Unactive   Unactive   Unactive   Unactive   Unactive   Unactive   \n",
       "\n",
       "order_month 1997-12-01 1998-01-01 1998-02-01 1998-03-01 1998-04-01 1998-05-01  \\\n",
       "user_id                                                                         \n",
       "23566         Unactive   Unactive   Unactive   Unactive   Unactive   Unactive   \n",
       "23567         Unactive   Unactive   Unactive   Unactive   Unactive   Unactive   \n",
       "23568         Unactive   Unactive   Unactive   Unactive   Unactive   Unactive   \n",
       "23569         Unactive   Unactive   Unactive   Unactive   Unactive   Unactive   \n",
       "23570         Unactive   Unactive   Unactive   Unactive   Unactive   Unactive   \n",
       "\n",
       "order_month 1998-06-01  \n",
       "user_id                 \n",
       "23566         Unactive  \n",
       "23567         Unactive  \n",
       "23568         Unactive  \n",
       "23569         Unactive  \n",
       "23570         Unactive  "
      ]
     },
     "execution_count": 46,
     "metadata": {},
     "output_type": "execute_result"
    }
   ],
   "source": [
    "customer_status.tail()"
   ]
  },
  {
   "cell_type": "code",
   "execution_count": 59,
   "metadata": {},
   "outputs": [
    {
     "data": {
      "text/html": [
       "<div>\n",
       "<style scoped>\n",
       "    .dataframe tbody tr th:only-of-type {\n",
       "        vertical-align: middle;\n",
       "    }\n",
       "\n",
       "    .dataframe tbody tr th {\n",
       "        vertical-align: top;\n",
       "    }\n",
       "\n",
       "    .dataframe thead th {\n",
       "        text-align: right;\n",
       "    }\n",
       "</style>\n",
       "<table border=\"1\" class=\"dataframe\">\n",
       "  <thead>\n",
       "    <tr style=\"text-align: right;\">\n",
       "      <th></th>\n",
       "      <th>Active</th>\n",
       "      <th>New</th>\n",
       "      <th>Return</th>\n",
       "      <th>Unactive</th>\n",
       "    </tr>\n",
       "    <tr>\n",
       "      <th>order_month</th>\n",
       "      <th></th>\n",
       "      <th></th>\n",
       "      <th></th>\n",
       "      <th></th>\n",
       "    </tr>\n",
       "  </thead>\n",
       "  <tbody>\n",
       "    <tr>\n",
       "      <td>1997-01-01</td>\n",
       "      <td>0.0</td>\n",
       "      <td>7846.0</td>\n",
       "      <td>0.0</td>\n",
       "      <td>0.0</td>\n",
       "    </tr>\n",
       "    <tr>\n",
       "      <td>1997-02-01</td>\n",
       "      <td>1157.0</td>\n",
       "      <td>8476.0</td>\n",
       "      <td>0.0</td>\n",
       "      <td>6689.0</td>\n",
       "    </tr>\n",
       "    <tr>\n",
       "      <td>1997-03-01</td>\n",
       "      <td>1681.0</td>\n",
       "      <td>7248.0</td>\n",
       "      <td>595.0</td>\n",
       "      <td>14046.0</td>\n",
       "    </tr>\n",
       "    <tr>\n",
       "      <td>1997-04-01</td>\n",
       "      <td>1773.0</td>\n",
       "      <td>0.0</td>\n",
       "      <td>1049.0</td>\n",
       "      <td>20748.0</td>\n",
       "    </tr>\n",
       "    <tr>\n",
       "      <td>1997-05-01</td>\n",
       "      <td>852.0</td>\n",
       "      <td>0.0</td>\n",
       "      <td>1362.0</td>\n",
       "      <td>21356.0</td>\n",
       "    </tr>\n",
       "    <tr>\n",
       "      <td>1997-06-01</td>\n",
       "      <td>747.0</td>\n",
       "      <td>0.0</td>\n",
       "      <td>1592.0</td>\n",
       "      <td>21231.0</td>\n",
       "    </tr>\n",
       "    <tr>\n",
       "      <td>1997-07-01</td>\n",
       "      <td>746.0</td>\n",
       "      <td>0.0</td>\n",
       "      <td>1434.0</td>\n",
       "      <td>21390.0</td>\n",
       "    </tr>\n",
       "    <tr>\n",
       "      <td>1997-08-01</td>\n",
       "      <td>604.0</td>\n",
       "      <td>0.0</td>\n",
       "      <td>1168.0</td>\n",
       "      <td>21798.0</td>\n",
       "    </tr>\n",
       "    <tr>\n",
       "      <td>1997-09-01</td>\n",
       "      <td>528.0</td>\n",
       "      <td>0.0</td>\n",
       "      <td>1211.0</td>\n",
       "      <td>21831.0</td>\n",
       "    </tr>\n",
       "    <tr>\n",
       "      <td>1997-10-01</td>\n",
       "      <td>532.0</td>\n",
       "      <td>0.0</td>\n",
       "      <td>1307.0</td>\n",
       "      <td>21731.0</td>\n",
       "    </tr>\n",
       "    <tr>\n",
       "      <td>1997-11-01</td>\n",
       "      <td>624.0</td>\n",
       "      <td>0.0</td>\n",
       "      <td>1404.0</td>\n",
       "      <td>21542.0</td>\n",
       "    </tr>\n",
       "    <tr>\n",
       "      <td>1997-12-01</td>\n",
       "      <td>632.0</td>\n",
       "      <td>0.0</td>\n",
       "      <td>1232.0</td>\n",
       "      <td>21706.0</td>\n",
       "    </tr>\n",
       "    <tr>\n",
       "      <td>1998-01-01</td>\n",
       "      <td>512.0</td>\n",
       "      <td>0.0</td>\n",
       "      <td>1025.0</td>\n",
       "      <td>22033.0</td>\n",
       "    </tr>\n",
       "    <tr>\n",
       "      <td>1998-02-01</td>\n",
       "      <td>472.0</td>\n",
       "      <td>0.0</td>\n",
       "      <td>1079.0</td>\n",
       "      <td>22019.0</td>\n",
       "    </tr>\n",
       "    <tr>\n",
       "      <td>1998-03-01</td>\n",
       "      <td>571.0</td>\n",
       "      <td>0.0</td>\n",
       "      <td>1489.0</td>\n",
       "      <td>21510.0</td>\n",
       "    </tr>\n",
       "    <tr>\n",
       "      <td>1998-04-01</td>\n",
       "      <td>518.0</td>\n",
       "      <td>0.0</td>\n",
       "      <td>919.0</td>\n",
       "      <td>22133.0</td>\n",
       "    </tr>\n",
       "    <tr>\n",
       "      <td>1998-05-01</td>\n",
       "      <td>459.0</td>\n",
       "      <td>0.0</td>\n",
       "      <td>1029.0</td>\n",
       "      <td>22082.0</td>\n",
       "    </tr>\n",
       "    <tr>\n",
       "      <td>1998-06-01</td>\n",
       "      <td>446.0</td>\n",
       "      <td>0.0</td>\n",
       "      <td>1060.0</td>\n",
       "      <td>22064.0</td>\n",
       "    </tr>\n",
       "  </tbody>\n",
       "</table>\n",
       "</div>"
      ],
      "text/plain": [
       "             Active     New  Return  Unactive\n",
       "order_month                                  \n",
       "1997-01-01      0.0  7846.0     0.0       0.0\n",
       "1997-02-01   1157.0  8476.0     0.0    6689.0\n",
       "1997-03-01   1681.0  7248.0   595.0   14046.0\n",
       "1997-04-01   1773.0     0.0  1049.0   20748.0\n",
       "1997-05-01    852.0     0.0  1362.0   21356.0\n",
       "1997-06-01    747.0     0.0  1592.0   21231.0\n",
       "1997-07-01    746.0     0.0  1434.0   21390.0\n",
       "1997-08-01    604.0     0.0  1168.0   21798.0\n",
       "1997-09-01    528.0     0.0  1211.0   21831.0\n",
       "1997-10-01    532.0     0.0  1307.0   21731.0\n",
       "1997-11-01    624.0     0.0  1404.0   21542.0\n",
       "1997-12-01    632.0     0.0  1232.0   21706.0\n",
       "1998-01-01    512.0     0.0  1025.0   22033.0\n",
       "1998-02-01    472.0     0.0  1079.0   22019.0\n",
       "1998-03-01    571.0     0.0  1489.0   21510.0\n",
       "1998-04-01    518.0     0.0   919.0   22133.0\n",
       "1998-05-01    459.0     0.0  1029.0   22082.0\n",
       "1998-06-01    446.0     0.0  1060.0   22064.0"
      ]
     },
     "execution_count": 59,
     "metadata": {},
     "output_type": "execute_result"
    }
   ],
   "source": [
    "purchase_state = customer_status.apply(lambda x:pd.value_counts(x)).drop('Not Registered').fillna(0).T\n",
    "purchase_state"
   ]
  },
  {
   "cell_type": "code",
   "execution_count": 60,
   "metadata": {},
   "outputs": [
    {
     "data": {
      "text/plain": [
       "<matplotlib.axes._subplots.AxesSubplot at 0x15366a21dc8>"
      ]
     },
     "execution_count": 60,
     "metadata": {},
     "output_type": "execute_result"
    },
    {
     "data": {
      "image/png": "[encoded data removed]",
      "text/plain": [
       "<Figure size 720x360 with 1 Axes>"
      ]
     },
     "metadata": {
      "needs_background": "light"
     },
     "output_type": "display_data"
    }
   ],
   "source": [
    "purchase_state.plot.area(figsize=(10,5))"
   ]
  },
  {
   "cell_type": "code",
   "execution_count": 63,
   "metadata": {},
   "outputs": [
    {
     "data": {
      "text/html": [
       "<div>\n",
       "<style scoped>\n",
       "    .dataframe tbody tr th:only-of-type {\n",
       "        vertical-align: middle;\n",
       "    }\n",
       "\n",
       "    .dataframe tbody tr th {\n",
       "        vertical-align: top;\n",
       "    }\n",
       "\n",
       "    .dataframe thead th {\n",
       "        text-align: right;\n",
       "    }\n",
       "</style>\n",
       "<table border=\"1\" class=\"dataframe\">\n",
       "  <thead>\n",
       "    <tr style=\"text-align: right;\">\n",
       "      <th></th>\n",
       "      <th>Active</th>\n",
       "      <th>New</th>\n",
       "      <th>Return</th>\n",
       "      <th>Unactive</th>\n",
       "    </tr>\n",
       "    <tr>\n",
       "      <th>order_month</th>\n",
       "      <th></th>\n",
       "      <th></th>\n",
       "      <th></th>\n",
       "      <th></th>\n",
       "    </tr>\n",
       "  </thead>\n",
       "  <tbody>\n",
       "    <tr>\n",
       "      <td>1997-01-01</td>\n",
       "      <td>0.000000</td>\n",
       "      <td>1.000000</td>\n",
       "      <td>0.000000</td>\n",
       "      <td>0.000000</td>\n",
       "    </tr>\n",
       "    <tr>\n",
       "      <td>1997-02-01</td>\n",
       "      <td>0.070886</td>\n",
       "      <td>0.519299</td>\n",
       "      <td>0.000000</td>\n",
       "      <td>0.409815</td>\n",
       "    </tr>\n",
       "    <tr>\n",
       "      <td>1997-03-01</td>\n",
       "      <td>0.071319</td>\n",
       "      <td>0.307510</td>\n",
       "      <td>0.025244</td>\n",
       "      <td>0.595927</td>\n",
       "    </tr>\n",
       "    <tr>\n",
       "      <td>1997-04-01</td>\n",
       "      <td>0.075223</td>\n",
       "      <td>0.000000</td>\n",
       "      <td>0.044506</td>\n",
       "      <td>0.880272</td>\n",
       "    </tr>\n",
       "    <tr>\n",
       "      <td>1997-05-01</td>\n",
       "      <td>0.036148</td>\n",
       "      <td>0.000000</td>\n",
       "      <td>0.057785</td>\n",
       "      <td>0.906067</td>\n",
       "    </tr>\n",
       "    <tr>\n",
       "      <td>1997-06-01</td>\n",
       "      <td>0.031693</td>\n",
       "      <td>0.000000</td>\n",
       "      <td>0.067543</td>\n",
       "      <td>0.900764</td>\n",
       "    </tr>\n",
       "    <tr>\n",
       "      <td>1997-07-01</td>\n",
       "      <td>0.031650</td>\n",
       "      <td>0.000000</td>\n",
       "      <td>0.060840</td>\n",
       "      <td>0.907510</td>\n",
       "    </tr>\n",
       "    <tr>\n",
       "      <td>1997-08-01</td>\n",
       "      <td>0.025626</td>\n",
       "      <td>0.000000</td>\n",
       "      <td>0.049555</td>\n",
       "      <td>0.924820</td>\n",
       "    </tr>\n",
       "    <tr>\n",
       "      <td>1997-09-01</td>\n",
       "      <td>0.022401</td>\n",
       "      <td>0.000000</td>\n",
       "      <td>0.051379</td>\n",
       "      <td>0.926220</td>\n",
       "    </tr>\n",
       "    <tr>\n",
       "      <td>1997-10-01</td>\n",
       "      <td>0.022571</td>\n",
       "      <td>0.000000</td>\n",
       "      <td>0.055452</td>\n",
       "      <td>0.921977</td>\n",
       "    </tr>\n",
       "    <tr>\n",
       "      <td>1997-11-01</td>\n",
       "      <td>0.026474</td>\n",
       "      <td>0.000000</td>\n",
       "      <td>0.059567</td>\n",
       "      <td>0.913958</td>\n",
       "    </tr>\n",
       "    <tr>\n",
       "      <td>1997-12-01</td>\n",
       "      <td>0.026814</td>\n",
       "      <td>0.000000</td>\n",
       "      <td>0.052270</td>\n",
       "      <td>0.920916</td>\n",
       "    </tr>\n",
       "    <tr>\n",
       "      <td>1998-01-01</td>\n",
       "      <td>0.021723</td>\n",
       "      <td>0.000000</td>\n",
       "      <td>0.043487</td>\n",
       "      <td>0.934790</td>\n",
       "    </tr>\n",
       "    <tr>\n",
       "      <td>1998-02-01</td>\n",
       "      <td>0.020025</td>\n",
       "      <td>0.000000</td>\n",
       "      <td>0.045779</td>\n",
       "      <td>0.934196</td>\n",
       "    </tr>\n",
       "    <tr>\n",
       "      <td>1998-03-01</td>\n",
       "      <td>0.024226</td>\n",
       "      <td>0.000000</td>\n",
       "      <td>0.063174</td>\n",
       "      <td>0.912601</td>\n",
       "    </tr>\n",
       "    <tr>\n",
       "      <td>1998-04-01</td>\n",
       "      <td>0.021977</td>\n",
       "      <td>0.000000</td>\n",
       "      <td>0.038990</td>\n",
       "      <td>0.939033</td>\n",
       "    </tr>\n",
       "    <tr>\n",
       "      <td>1998-05-01</td>\n",
       "      <td>0.019474</td>\n",
       "      <td>0.000000</td>\n",
       "      <td>0.043657</td>\n",
       "      <td>0.936869</td>\n",
       "    </tr>\n",
       "    <tr>\n",
       "      <td>1998-06-01</td>\n",
       "      <td>0.018922</td>\n",
       "      <td>0.000000</td>\n",
       "      <td>0.044972</td>\n",
       "      <td>0.936105</td>\n",
       "    </tr>\n",
       "  </tbody>\n",
       "</table>\n",
       "</div>"
      ],
      "text/plain": [
       "               Active       New    Return  Unactive\n",
       "order_month                                        \n",
       "1997-01-01   0.000000  1.000000  0.000000  0.000000\n",
       "1997-02-01   0.070886  0.519299  0.000000  0.409815\n",
       "1997-03-01   0.071319  0.307510  0.025244  0.595927\n",
       "1997-04-01   0.075223  0.000000  0.044506  0.880272\n",
       "1997-05-01   0.036148  0.000000  0.057785  0.906067\n",
       "1997-06-01   0.031693  0.000000  0.067543  0.900764\n",
       "1997-07-01   0.031650  0.000000  0.060840  0.907510\n",
       "1997-08-01   0.025626  0.000000  0.049555  0.924820\n",
       "1997-09-01   0.022401  0.000000  0.051379  0.926220\n",
       "1997-10-01   0.022571  0.000000  0.055452  0.921977\n",
       "1997-11-01   0.026474  0.000000  0.059567  0.913958\n",
       "1997-12-01   0.026814  0.000000  0.052270  0.920916\n",
       "1998-01-01   0.021723  0.000000  0.043487  0.934790\n",
       "1998-02-01   0.020025  0.000000  0.045779  0.934196\n",
       "1998-03-01   0.024226  0.000000  0.063174  0.912601\n",
       "1998-04-01   0.021977  0.000000  0.038990  0.939033\n",
       "1998-05-01   0.019474  0.000000  0.043657  0.936869\n",
       "1998-06-01   0.018922  0.000000  0.044972  0.936105"
      ]
     },
     "execution_count": 63,
     "metadata": {},
     "output_type": "execute_result"
    }
   ],
   "source": [
    "purchase_state.apply(lambda x: x/sum(x),axis = 1)"
   ]
  },
  {
   "cell_type": "code",
   "execution_count": 64,
   "metadata": {},
   "outputs": [
    {
     "data": {
      "text/plain": [
       "<matplotlib.axes._subplots.AxesSubplot at 0x153673fadc8>"
      ]
     },
     "execution_count": 64,
     "metadata": {},
     "output_type": "execute_result"
    },
    {
     "data": {
      "image/png": "[encoded data removed]",
      "text/plain": [
       "<Figure size 720x360 with 1 Axes>"
      ]
     },
     "metadata": {
      "needs_background": "light"
     },
     "output_type": "display_data"
    }
   ],
   "source": [
    "purchase_state.apply(lambda x: x/sum(x), axis = 1).plot.area(figsize=(10,5))"
   ]
  },
  {
   "cell_type": "markdown",
   "metadata": {},
   "source": [
    "## 3.5 用户购买周期（按订单）"
   ]
  },
  {
   "cell_type": "code",
   "execution_count": 66,
   "metadata": {},
   "outputs": [
    {
     "data": {
      "text/plain": [
       "user_id       \n",
       "1        0           NaT\n",
       "2        1           NaT\n",
       "         2        0 days\n",
       "3        3           NaT\n",
       "         4       87 days\n",
       "                   ...  \n",
       "23568    69654   11 days\n",
       "         69655   17 days\n",
       "23569    69656       NaT\n",
       "23570    69657       NaT\n",
       "         69658    1 days\n",
       "Name: order_dt, Length: 69659, dtype: timedelta64[ns]"
      ]
     },
     "execution_count": 66,
     "metadata": {},
     "output_type": "execute_result"
    }
   ],
   "source": [
    "order_diff = grouped_user.apply(lambda x: x.order_dt - x.order_dt.shift(1))\n",
    "order_diff"
   ]
  },
  {
   "cell_type": "code",
   "execution_count": 67,
   "metadata": {},
   "outputs": [
    {
     "data": {
      "text/plain": [
       "count                      46089\n",
       "mean     68 days 23:22:13.567662\n",
       "std      91 days 00:47:33.924168\n",
       "min              0 days 00:00:00\n",
       "25%             10 days 00:00:00\n",
       "50%             31 days 00:00:00\n",
       "75%             89 days 00:00:00\n",
       "max            533 days 00:00:00\n",
       "Name: order_dt, dtype: object"
      ]
     },
     "execution_count": 67,
     "metadata": {},
     "output_type": "execute_result"
    }
   ],
   "source": [
    "order_diff.describe()"
   ]
  },
  {
   "cell_type": "code",
   "execution_count": 76,
   "metadata": {},
   "outputs": [
    {
     "data": {
      "text/plain": [
       "<matplotlib.axes._subplots.AxesSubplot at 0x15367ed1048>"
      ]
     },
     "execution_count": 76,
     "metadata": {},
     "output_type": "execute_result"
    },
    {
     "data": {
      "image/png": "[encoded data removed]",
      "text/plain": [
       "<Figure size 432x288 with 1 Axes>"
      ]
     },
     "metadata": {
      "needs_background": "light"
     },
     "output_type": "display_data"
    }
   ],
   "source": [
    "order_diff.apply(lambda x:x.days).hist(bins = 30)"
   ]
  },
  {
   "cell_type": "markdown",
   "metadata": {},
   "source": [
    "+ 订单周期呈指数分布\n",
    "+ 用户平均购买周期是68天\n",
    "+ 绝大部分用户购买周期低于100天"
   ]
  },
  {
   "cell_type": "markdown",
   "metadata": {},
   "source": [
    "## 3.6 用户生命周期（第一次&最后一次消费）"
   ]
  },
  {
   "cell_type": "code",
   "execution_count": 77,
   "metadata": {},
   "outputs": [
    {
     "data": {
      "text/html": [
       "<div>\n",
       "<style scoped>\n",
       "    .dataframe tbody tr th:only-of-type {\n",
       "        vertical-align: middle;\n",
       "    }\n",
       "\n",
       "    .dataframe tbody tr th {\n",
       "        vertical-align: top;\n",
       "    }\n",
       "\n",
       "    .dataframe thead th {\n",
       "        text-align: right;\n",
       "    }\n",
       "</style>\n",
       "<table border=\"1\" class=\"dataframe\">\n",
       "  <thead>\n",
       "    <tr style=\"text-align: right;\">\n",
       "      <th></th>\n",
       "      <th>min</th>\n",
       "      <th>max</th>\n",
       "    </tr>\n",
       "    <tr>\n",
       "      <th>user_id</th>\n",
       "      <th></th>\n",
       "      <th></th>\n",
       "    </tr>\n",
       "  </thead>\n",
       "  <tbody>\n",
       "    <tr>\n",
       "      <td>1</td>\n",
       "      <td>1997-01-01</td>\n",
       "      <td>1997-01-01</td>\n",
       "    </tr>\n",
       "    <tr>\n",
       "      <td>2</td>\n",
       "      <td>1997-01-12</td>\n",
       "      <td>1997-01-12</td>\n",
       "    </tr>\n",
       "    <tr>\n",
       "      <td>3</td>\n",
       "      <td>1997-01-02</td>\n",
       "      <td>1998-05-28</td>\n",
       "    </tr>\n",
       "    <tr>\n",
       "      <td>4</td>\n",
       "      <td>1997-01-01</td>\n",
       "      <td>1997-12-12</td>\n",
       "    </tr>\n",
       "    <tr>\n",
       "      <td>5</td>\n",
       "      <td>1997-01-01</td>\n",
       "      <td>1998-01-03</td>\n",
       "    </tr>\n",
       "  </tbody>\n",
       "</table>\n",
       "</div>"
      ],
      "text/plain": [
       "               min        max\n",
       "user_id                      \n",
       "1       1997-01-01 1997-01-01\n",
       "2       1997-01-12 1997-01-12\n",
       "3       1997-01-02 1998-05-28\n",
       "4       1997-01-01 1997-12-12\n",
       "5       1997-01-01 1998-01-03"
      ]
     },
     "execution_count": 77,
     "metadata": {},
     "output_type": "execute_result"
    }
   ],
   "source": [
    "user_life = grouped_user.order_dt.agg(['min','max'])\n",
    "user_life.head()"
   ]
  },
  {
   "cell_type": "code",
   "execution_count": 80,
   "metadata": {},
   "outputs": [
    {
     "data": {
      "text/plain": [
       "True     12054\n",
       "False    11516\n",
       "dtype: int64"
      ]
     },
     "execution_count": 80,
     "metadata": {},
     "output_type": "execute_result"
    }
   ],
   "source": [
    "(user_life['min'] == user_life['max']).value_counts()"
   ]
  },
  {
   "cell_type": "code",
   "execution_count": 81,
   "metadata": {},
   "outputs": [
    {
     "data": {
      "text/plain": [
       "<matplotlib.axes._subplots.AxesSubplot at 0x153690833c8>"
      ]
     },
     "execution_count": 81,
     "metadata": {},
     "output_type": "execute_result"
    },
    {
     "data": {
      "image/png": "[encoded data removed]",
      "text/plain": [
       "<Figure size 432x288 with 1 Axes>"
      ]
     },
     "metadata": {
      "needs_background": "light"
     },
     "output_type": "display_data"
    }
   ],
   "source": [
    "(user_life['max'] - user_life['min']).apply(lambda x:x.days).hist(bins = 30)"
   ]
  },
  {
   "cell_type": "markdown",
   "metadata": {},
   "source": [
    "+ 用户生命周期受只够买一次的用户影响比较厉害（可以排除）\n",
    "+ 用户平均消费134天，中位数0天"
   ]
  },
  {
   "cell_type": "code",
   "execution_count": 103,
   "metadata": {},
   "outputs": [
    {
     "data": {
      "text/plain": [
       "<matplotlib.axes._subplots.AxesSubplot at 0x1536aff1b08>"
      ]
     },
     "execution_count": 103,
     "metadata": {},
     "output_type": "execute_result"
    },
    {
     "data": {
      "image/png": "[encoded data removed]",
      "text/plain": [
       "<Figure size 432x288 with 1 Axes>"
      ]
     },
     "metadata": {
      "needs_background": "light"
     },
     "output_type": "display_data"
    }
   ],
   "source": [
    "(user_life['max'] - user_life['min']).apply(lambda x: x.days).replace(0,np.nan).dropna().hist(bins = 30)"
   ]
  },
  {
   "cell_type": "markdown",
   "metadata": {},
   "source": [
    "# 4. 回购率和复购率"
   ]
  },
  {
   "cell_type": "markdown",
   "metadata": {},
   "source": [
    "+ 复购率：自然月内，购买多次的用户占比\n",
    "+ 回购率：曾经购买过的用户在某一时期内的再次购买的占比"
   ]
  },
  {
   "cell_type": "code",
   "execution_count": 104,
   "metadata": {},
   "outputs": [
    {
     "data": {
      "text/html": [
       "<div>\n",
       "<style scoped>\n",
       "    .dataframe tbody tr th:only-of-type {\n",
       "        vertical-align: middle;\n",
       "    }\n",
       "\n",
       "    .dataframe tbody tr th {\n",
       "        vertical-align: top;\n",
       "    }\n",
       "\n",
       "    .dataframe thead th {\n",
       "        text-align: right;\n",
       "    }\n",
       "</style>\n",
       "<table border=\"1\" class=\"dataframe\">\n",
       "  <thead>\n",
       "    <tr style=\"text-align: right;\">\n",
       "      <th>order_month</th>\n",
       "      <th>1997-01-01</th>\n",
       "      <th>1997-02-01</th>\n",
       "      <th>1997-03-01</th>\n",
       "      <th>1997-04-01</th>\n",
       "      <th>1997-05-01</th>\n",
       "      <th>1997-06-01</th>\n",
       "      <th>1997-07-01</th>\n",
       "      <th>1997-08-01</th>\n",
       "      <th>1997-09-01</th>\n",
       "      <th>1997-10-01</th>\n",
       "      <th>1997-11-01</th>\n",
       "      <th>1997-12-01</th>\n",
       "      <th>1998-01-01</th>\n",
       "      <th>1998-02-01</th>\n",
       "      <th>1998-03-01</th>\n",
       "      <th>1998-04-01</th>\n",
       "      <th>1998-05-01</th>\n",
       "      <th>1998-06-01</th>\n",
       "    </tr>\n",
       "    <tr>\n",
       "      <th>user_id</th>\n",
       "      <th></th>\n",
       "      <th></th>\n",
       "      <th></th>\n",
       "      <th></th>\n",
       "      <th></th>\n",
       "      <th></th>\n",
       "      <th></th>\n",
       "      <th></th>\n",
       "      <th></th>\n",
       "      <th></th>\n",
       "      <th></th>\n",
       "      <th></th>\n",
       "      <th></th>\n",
       "      <th></th>\n",
       "      <th></th>\n",
       "      <th></th>\n",
       "      <th></th>\n",
       "      <th></th>\n",
       "    </tr>\n",
       "  </thead>\n",
       "  <tbody>\n",
       "    <tr>\n",
       "      <td>1</td>\n",
       "      <td>1.0</td>\n",
       "      <td>0.0</td>\n",
       "      <td>0.0</td>\n",
       "      <td>0.0</td>\n",
       "      <td>0.0</td>\n",
       "      <td>0.0</td>\n",
       "      <td>0.0</td>\n",
       "      <td>0.0</td>\n",
       "      <td>0.0</td>\n",
       "      <td>0.0</td>\n",
       "      <td>0.0</td>\n",
       "      <td>0.0</td>\n",
       "      <td>0.0</td>\n",
       "      <td>0.0</td>\n",
       "      <td>0.0</td>\n",
       "      <td>0.0</td>\n",
       "      <td>0.0</td>\n",
       "      <td>0.0</td>\n",
       "    </tr>\n",
       "    <tr>\n",
       "      <td>2</td>\n",
       "      <td>2.0</td>\n",
       "      <td>0.0</td>\n",
       "      <td>0.0</td>\n",
       "      <td>0.0</td>\n",
       "      <td>0.0</td>\n",
       "      <td>0.0</td>\n",
       "      <td>0.0</td>\n",
       "      <td>0.0</td>\n",
       "      <td>0.0</td>\n",
       "      <td>0.0</td>\n",
       "      <td>0.0</td>\n",
       "      <td>0.0</td>\n",
       "      <td>0.0</td>\n",
       "      <td>0.0</td>\n",
       "      <td>0.0</td>\n",
       "      <td>0.0</td>\n",
       "      <td>0.0</td>\n",
       "      <td>0.0</td>\n",
       "    </tr>\n",
       "    <tr>\n",
       "      <td>3</td>\n",
       "      <td>1.0</td>\n",
       "      <td>0.0</td>\n",
       "      <td>1.0</td>\n",
       "      <td>1.0</td>\n",
       "      <td>0.0</td>\n",
       "      <td>0.0</td>\n",
       "      <td>0.0</td>\n",
       "      <td>0.0</td>\n",
       "      <td>0.0</td>\n",
       "      <td>0.0</td>\n",
       "      <td>2.0</td>\n",
       "      <td>0.0</td>\n",
       "      <td>0.0</td>\n",
       "      <td>0.0</td>\n",
       "      <td>0.0</td>\n",
       "      <td>0.0</td>\n",
       "      <td>1.0</td>\n",
       "      <td>0.0</td>\n",
       "    </tr>\n",
       "    <tr>\n",
       "      <td>4</td>\n",
       "      <td>2.0</td>\n",
       "      <td>0.0</td>\n",
       "      <td>0.0</td>\n",
       "      <td>0.0</td>\n",
       "      <td>0.0</td>\n",
       "      <td>0.0</td>\n",
       "      <td>0.0</td>\n",
       "      <td>1.0</td>\n",
       "      <td>0.0</td>\n",
       "      <td>0.0</td>\n",
       "      <td>0.0</td>\n",
       "      <td>1.0</td>\n",
       "      <td>0.0</td>\n",
       "      <td>0.0</td>\n",
       "      <td>0.0</td>\n",
       "      <td>0.0</td>\n",
       "      <td>0.0</td>\n",
       "      <td>0.0</td>\n",
       "    </tr>\n",
       "    <tr>\n",
       "      <td>5</td>\n",
       "      <td>2.0</td>\n",
       "      <td>1.0</td>\n",
       "      <td>0.0</td>\n",
       "      <td>1.0</td>\n",
       "      <td>1.0</td>\n",
       "      <td>1.0</td>\n",
       "      <td>1.0</td>\n",
       "      <td>0.0</td>\n",
       "      <td>1.0</td>\n",
       "      <td>0.0</td>\n",
       "      <td>0.0</td>\n",
       "      <td>2.0</td>\n",
       "      <td>1.0</td>\n",
       "      <td>0.0</td>\n",
       "      <td>0.0</td>\n",
       "      <td>0.0</td>\n",
       "      <td>0.0</td>\n",
       "      <td>0.0</td>\n",
       "    </tr>\n",
       "    <tr>\n",
       "      <td>...</td>\n",
       "      <td>...</td>\n",
       "      <td>...</td>\n",
       "      <td>...</td>\n",
       "      <td>...</td>\n",
       "      <td>...</td>\n",
       "      <td>...</td>\n",
       "      <td>...</td>\n",
       "      <td>...</td>\n",
       "      <td>...</td>\n",
       "      <td>...</td>\n",
       "      <td>...</td>\n",
       "      <td>...</td>\n",
       "      <td>...</td>\n",
       "      <td>...</td>\n",
       "      <td>...</td>\n",
       "      <td>...</td>\n",
       "      <td>...</td>\n",
       "      <td>...</td>\n",
       "    </tr>\n",
       "    <tr>\n",
       "      <td>23566</td>\n",
       "      <td>0.0</td>\n",
       "      <td>0.0</td>\n",
       "      <td>1.0</td>\n",
       "      <td>0.0</td>\n",
       "      <td>0.0</td>\n",
       "      <td>0.0</td>\n",
       "      <td>0.0</td>\n",
       "      <td>0.0</td>\n",
       "      <td>0.0</td>\n",
       "      <td>0.0</td>\n",
       "      <td>0.0</td>\n",
       "      <td>0.0</td>\n",
       "      <td>0.0</td>\n",
       "      <td>0.0</td>\n",
       "      <td>0.0</td>\n",
       "      <td>0.0</td>\n",
       "      <td>0.0</td>\n",
       "      <td>0.0</td>\n",
       "    </tr>\n",
       "    <tr>\n",
       "      <td>23567</td>\n",
       "      <td>0.0</td>\n",
       "      <td>0.0</td>\n",
       "      <td>1.0</td>\n",
       "      <td>0.0</td>\n",
       "      <td>0.0</td>\n",
       "      <td>0.0</td>\n",
       "      <td>0.0</td>\n",
       "      <td>0.0</td>\n",
       "      <td>0.0</td>\n",
       "      <td>0.0</td>\n",
       "      <td>0.0</td>\n",
       "      <td>0.0</td>\n",
       "      <td>0.0</td>\n",
       "      <td>0.0</td>\n",
       "      <td>0.0</td>\n",
       "      <td>0.0</td>\n",
       "      <td>0.0</td>\n",
       "      <td>0.0</td>\n",
       "    </tr>\n",
       "    <tr>\n",
       "      <td>23568</td>\n",
       "      <td>0.0</td>\n",
       "      <td>0.0</td>\n",
       "      <td>1.0</td>\n",
       "      <td>2.0</td>\n",
       "      <td>0.0</td>\n",
       "      <td>0.0</td>\n",
       "      <td>0.0</td>\n",
       "      <td>0.0</td>\n",
       "      <td>0.0</td>\n",
       "      <td>0.0</td>\n",
       "      <td>0.0</td>\n",
       "      <td>0.0</td>\n",
       "      <td>0.0</td>\n",
       "      <td>0.0</td>\n",
       "      <td>0.0</td>\n",
       "      <td>0.0</td>\n",
       "      <td>0.0</td>\n",
       "      <td>0.0</td>\n",
       "    </tr>\n",
       "    <tr>\n",
       "      <td>23569</td>\n",
       "      <td>0.0</td>\n",
       "      <td>0.0</td>\n",
       "      <td>1.0</td>\n",
       "      <td>0.0</td>\n",
       "      <td>0.0</td>\n",
       "      <td>0.0</td>\n",
       "      <td>0.0</td>\n",
       "      <td>0.0</td>\n",
       "      <td>0.0</td>\n",
       "      <td>0.0</td>\n",
       "      <td>0.0</td>\n",
       "      <td>0.0</td>\n",
       "      <td>0.0</td>\n",
       "      <td>0.0</td>\n",
       "      <td>0.0</td>\n",
       "      <td>0.0</td>\n",
       "      <td>0.0</td>\n",
       "      <td>0.0</td>\n",
       "    </tr>\n",
       "    <tr>\n",
       "      <td>23570</td>\n",
       "      <td>0.0</td>\n",
       "      <td>0.0</td>\n",
       "      <td>2.0</td>\n",
       "      <td>0.0</td>\n",
       "      <td>0.0</td>\n",
       "      <td>0.0</td>\n",
       "      <td>0.0</td>\n",
       "      <td>0.0</td>\n",
       "      <td>0.0</td>\n",
       "      <td>0.0</td>\n",
       "      <td>0.0</td>\n",
       "      <td>0.0</td>\n",
       "      <td>0.0</td>\n",
       "      <td>0.0</td>\n",
       "      <td>0.0</td>\n",
       "      <td>0.0</td>\n",
       "      <td>0.0</td>\n",
       "      <td>0.0</td>\n",
       "    </tr>\n",
       "  </tbody>\n",
       "</table>\n",
       "<p>23570 rows × 18 columns</p>\n",
       "</div>"
      ],
      "text/plain": [
       "order_month  1997-01-01  1997-02-01  1997-03-01  1997-04-01  1997-05-01  \\\n",
       "user_id                                                                   \n",
       "1                   1.0         0.0         0.0         0.0         0.0   \n",
       "2                   2.0         0.0         0.0         0.0         0.0   \n",
       "3                   1.0         0.0         1.0         1.0         0.0   \n",
       "4                   2.0         0.0         0.0         0.0         0.0   \n",
       "5                   2.0         1.0         0.0         1.0         1.0   \n",
       "...                 ...         ...         ...         ...         ...   \n",
       "23566               0.0         0.0         1.0         0.0         0.0   \n",
       "23567               0.0         0.0         1.0         0.0         0.0   \n",
       "23568               0.0         0.0         1.0         2.0         0.0   \n",
       "23569               0.0         0.0         1.0         0.0         0.0   \n",
       "23570               0.0         0.0         2.0         0.0         0.0   \n",
       "\n",
       "order_month  1997-06-01  1997-07-01  1997-08-01  1997-09-01  1997-10-01  \\\n",
       "user_id                                                                   \n",
       "1                   0.0         0.0         0.0         0.0         0.0   \n",
       "2                   0.0         0.0         0.0         0.0         0.0   \n",
       "3                   0.0         0.0         0.0         0.0         0.0   \n",
       "4                   0.0         0.0         1.0         0.0         0.0   \n",
       "5                   1.0         1.0         0.0         1.0         0.0   \n",
       "...                 ...         ...         ...         ...         ...   \n",
       "23566               0.0         0.0         0.0         0.0         0.0   \n",
       "23567               0.0         0.0         0.0         0.0         0.0   \n",
       "23568               0.0         0.0         0.0         0.0         0.0   \n",
       "23569               0.0         0.0         0.0         0.0         0.0   \n",
       "23570               0.0         0.0         0.0         0.0         0.0   \n",
       "\n",
       "order_month  1997-11-01  1997-12-01  1998-01-01  1998-02-01  1998-03-01  \\\n",
       "user_id                                                                   \n",
       "1                   0.0         0.0         0.0         0.0         0.0   \n",
       "2                   0.0         0.0         0.0         0.0         0.0   \n",
       "3                   2.0         0.0         0.0         0.0         0.0   \n",
       "4                   0.0         1.0         0.0         0.0         0.0   \n",
       "5                   0.0         2.0         1.0         0.0         0.0   \n",
       "...                 ...         ...         ...         ...         ...   \n",
       "23566               0.0         0.0         0.0         0.0         0.0   \n",
       "23567               0.0         0.0         0.0         0.0         0.0   \n",
       "23568               0.0         0.0         0.0         0.0         0.0   \n",
       "23569               0.0         0.0         0.0         0.0         0.0   \n",
       "23570               0.0         0.0         0.0         0.0         0.0   \n",
       "\n",
       "order_month  1998-04-01  1998-05-01  1998-06-01  \n",
       "user_id                                          \n",
       "1                   0.0         0.0         0.0  \n",
       "2                   0.0         0.0         0.0  \n",
       "3                   0.0         1.0         0.0  \n",
       "4                   0.0         0.0         0.0  \n",
       "5                   0.0         0.0         0.0  \n",
       "...                 ...         ...         ...  \n",
       "23566               0.0         0.0         0.0  \n",
       "23567               0.0         0.0         0.0  \n",
       "23568               0.0         0.0         0.0  \n",
       "23569               0.0         0.0         0.0  \n",
       "23570               0.0         0.0         0.0  \n",
       "\n",
       "[23570 rows x 18 columns]"
      ]
     },
     "execution_count": 104,
     "metadata": {},
     "output_type": "execute_result"
    }
   ],
   "source": [
    "pivot_counts"
   ]
  },
  {
   "cell_type": "code",
   "execution_count": 106,
   "metadata": {},
   "outputs": [],
   "source": [
    "def repurchase_rate_in_one_month(x):\n",
    "    num_once_purchase = sum(x.apply(lambda x:1 if x == 1 else 0))\n",
    "    num_multi_purchase = sum(x.apply(lambda x:1 if x > 1 else 0))\n",
    "    return num_multi_purchase/(num_multi_purchase+num_once_purchase)"
   ]
  },
  {
   "cell_type": "code",
   "execution_count": 108,
   "metadata": {},
   "outputs": [
    {
     "data": {
      "text/plain": [
       "order_month\n",
       "1997-01-01    0.107571\n",
       "1997-02-01    0.122288\n",
       "1997-03-01    0.155292\n",
       "1997-04-01    0.223600\n",
       "1997-05-01    0.196929\n",
       "1997-06-01    0.195810\n",
       "1997-07-01    0.215138\n",
       "1997-08-01    0.200339\n",
       "1997-09-01    0.202415\n",
       "1997-10-01    0.206634\n",
       "1997-11-01    0.202170\n",
       "1997-12-01    0.219957\n",
       "1998-01-01    0.210800\n",
       "1998-02-01    0.203095\n",
       "1998-03-01    0.229612\n",
       "1998-04-01    0.199026\n",
       "1998-05-01    0.200269\n",
       "1998-06-01    0.214475\n",
       "dtype: float64"
      ]
     },
     "execution_count": 108,
     "metadata": {},
     "output_type": "execute_result"
    }
   ],
   "source": [
    "pivot_counts.apply(repurchase_rate_in_one_month, axis = 0)"
   ]
  },
  {
   "cell_type": "code",
   "execution_count": 110,
   "metadata": {},
   "outputs": [
    {
     "data": {
      "text/plain": [
       "<matplotlib.axes._subplots.AxesSubplot at 0x15369518288>"
      ]
     },
     "execution_count": 110,
     "metadata": {},
     "output_type": "execute_result"
    },
    {
     "data": {
      "image/png": "[encoded data removed]",
      "text/plain": [
       "<Figure size 720x360 with 1 Axes>"
      ]
     },
     "metadata": {
      "needs_background": "light"
     },
     "output_type": "display_data"
    }
   ],
   "source": [
    "pivot_counts.apply(repurchase_rate_in_one_month, axis = 0).plot(figsize=(10,5))"
   ]
  },
  {
   "cell_type": "markdown",
   "metadata": {},
   "source": [
    "复购率稳定在20%左右，前三个月因有大量新用户涌入，而这批用户只购买量一次，所以导致复购率较低"
   ]
  },
  {
   "cell_type": "code",
   "execution_count": 136,
   "metadata": {},
   "outputs": [],
   "source": [
    "def repurchase_in_next_month(customer):\n",
    "    return (customer*(customer.shift(-1)+0.5)).fillna(0).map({0:np.nan, 0.5:0, 1.5:1})"
   ]
  },
  {
   "cell_type": "code",
   "execution_count": 138,
   "metadata": {
    "scrolled": true
   },
   "outputs": [
    {
     "data": {
      "text/html": [
       "<div>\n",
       "<style scoped>\n",
       "    .dataframe tbody tr th:only-of-type {\n",
       "        vertical-align: middle;\n",
       "    }\n",
       "\n",
       "    .dataframe tbody tr th {\n",
       "        vertical-align: top;\n",
       "    }\n",
       "\n",
       "    .dataframe thead th {\n",
       "        text-align: right;\n",
       "    }\n",
       "</style>\n",
       "<table border=\"1\" class=\"dataframe\">\n",
       "  <thead>\n",
       "    <tr style=\"text-align: right;\">\n",
       "      <th>order_month</th>\n",
       "      <th>1997-01-01</th>\n",
       "      <th>1997-02-01</th>\n",
       "      <th>1997-03-01</th>\n",
       "      <th>1997-04-01</th>\n",
       "      <th>1997-05-01</th>\n",
       "      <th>1997-06-01</th>\n",
       "      <th>1997-07-01</th>\n",
       "      <th>1997-08-01</th>\n",
       "      <th>1997-09-01</th>\n",
       "      <th>1997-10-01</th>\n",
       "      <th>1997-11-01</th>\n",
       "      <th>1997-12-01</th>\n",
       "      <th>1998-01-01</th>\n",
       "      <th>1998-02-01</th>\n",
       "      <th>1998-03-01</th>\n",
       "      <th>1998-04-01</th>\n",
       "      <th>1998-05-01</th>\n",
       "      <th>1998-06-01</th>\n",
       "    </tr>\n",
       "    <tr>\n",
       "      <th>user_id</th>\n",
       "      <th></th>\n",
       "      <th></th>\n",
       "      <th></th>\n",
       "      <th></th>\n",
       "      <th></th>\n",
       "      <th></th>\n",
       "      <th></th>\n",
       "      <th></th>\n",
       "      <th></th>\n",
       "      <th></th>\n",
       "      <th></th>\n",
       "      <th></th>\n",
       "      <th></th>\n",
       "      <th></th>\n",
       "      <th></th>\n",
       "      <th></th>\n",
       "      <th></th>\n",
       "      <th></th>\n",
       "    </tr>\n",
       "  </thead>\n",
       "  <tbody>\n",
       "    <tr>\n",
       "      <td>1</td>\n",
       "      <td>0.0</td>\n",
       "      <td>NaN</td>\n",
       "      <td>NaN</td>\n",
       "      <td>NaN</td>\n",
       "      <td>NaN</td>\n",
       "      <td>NaN</td>\n",
       "      <td>NaN</td>\n",
       "      <td>NaN</td>\n",
       "      <td>NaN</td>\n",
       "      <td>NaN</td>\n",
       "      <td>NaN</td>\n",
       "      <td>NaN</td>\n",
       "      <td>NaN</td>\n",
       "      <td>NaN</td>\n",
       "      <td>NaN</td>\n",
       "      <td>NaN</td>\n",
       "      <td>NaN</td>\n",
       "      <td>NaN</td>\n",
       "    </tr>\n",
       "    <tr>\n",
       "      <td>2</td>\n",
       "      <td>0.0</td>\n",
       "      <td>NaN</td>\n",
       "      <td>NaN</td>\n",
       "      <td>NaN</td>\n",
       "      <td>NaN</td>\n",
       "      <td>NaN</td>\n",
       "      <td>NaN</td>\n",
       "      <td>NaN</td>\n",
       "      <td>NaN</td>\n",
       "      <td>NaN</td>\n",
       "      <td>NaN</td>\n",
       "      <td>NaN</td>\n",
       "      <td>NaN</td>\n",
       "      <td>NaN</td>\n",
       "      <td>NaN</td>\n",
       "      <td>NaN</td>\n",
       "      <td>NaN</td>\n",
       "      <td>NaN</td>\n",
       "    </tr>\n",
       "    <tr>\n",
       "      <td>3</td>\n",
       "      <td>0.0</td>\n",
       "      <td>NaN</td>\n",
       "      <td>1.0</td>\n",
       "      <td>0.0</td>\n",
       "      <td>NaN</td>\n",
       "      <td>NaN</td>\n",
       "      <td>NaN</td>\n",
       "      <td>NaN</td>\n",
       "      <td>NaN</td>\n",
       "      <td>NaN</td>\n",
       "      <td>0.0</td>\n",
       "      <td>NaN</td>\n",
       "      <td>NaN</td>\n",
       "      <td>NaN</td>\n",
       "      <td>NaN</td>\n",
       "      <td>NaN</td>\n",
       "      <td>0.0</td>\n",
       "      <td>NaN</td>\n",
       "    </tr>\n",
       "    <tr>\n",
       "      <td>4</td>\n",
       "      <td>0.0</td>\n",
       "      <td>NaN</td>\n",
       "      <td>NaN</td>\n",
       "      <td>NaN</td>\n",
       "      <td>NaN</td>\n",
       "      <td>NaN</td>\n",
       "      <td>NaN</td>\n",
       "      <td>0.0</td>\n",
       "      <td>NaN</td>\n",
       "      <td>NaN</td>\n",
       "      <td>NaN</td>\n",
       "      <td>0.0</td>\n",
       "      <td>NaN</td>\n",
       "      <td>NaN</td>\n",
       "      <td>NaN</td>\n",
       "      <td>NaN</td>\n",
       "      <td>NaN</td>\n",
       "      <td>NaN</td>\n",
       "    </tr>\n",
       "    <tr>\n",
       "      <td>5</td>\n",
       "      <td>1.0</td>\n",
       "      <td>0.0</td>\n",
       "      <td>NaN</td>\n",
       "      <td>1.0</td>\n",
       "      <td>1.0</td>\n",
       "      <td>1.0</td>\n",
       "      <td>0.0</td>\n",
       "      <td>NaN</td>\n",
       "      <td>0.0</td>\n",
       "      <td>NaN</td>\n",
       "      <td>NaN</td>\n",
       "      <td>1.0</td>\n",
       "      <td>0.0</td>\n",
       "      <td>NaN</td>\n",
       "      <td>NaN</td>\n",
       "      <td>NaN</td>\n",
       "      <td>NaN</td>\n",
       "      <td>NaN</td>\n",
       "    </tr>\n",
       "  </tbody>\n",
       "</table>\n",
       "</div>"
      ],
      "text/plain": [
       "order_month  1997-01-01  1997-02-01  1997-03-01  1997-04-01  1997-05-01  \\\n",
       "user_id                                                                   \n",
       "1                   0.0         NaN         NaN         NaN         NaN   \n",
       "2                   0.0         NaN         NaN         NaN         NaN   \n",
       "3                   0.0         NaN         1.0         0.0         NaN   \n",
       "4                   0.0         NaN         NaN         NaN         NaN   \n",
       "5                   1.0         0.0         NaN         1.0         1.0   \n",
       "\n",
       "order_month  1997-06-01  1997-07-01  1997-08-01  1997-09-01  1997-10-01  \\\n",
       "user_id                                                                   \n",
       "1                   NaN         NaN         NaN         NaN         NaN   \n",
       "2                   NaN         NaN         NaN         NaN         NaN   \n",
       "3                   NaN         NaN         NaN         NaN         NaN   \n",
       "4                   NaN         NaN         0.0         NaN         NaN   \n",
       "5                   1.0         0.0         NaN         0.0         NaN   \n",
       "\n",
       "order_month  1997-11-01  1997-12-01  1998-01-01  1998-02-01  1998-03-01  \\\n",
       "user_id                                                                   \n",
       "1                   NaN         NaN         NaN         NaN         NaN   \n",
       "2                   NaN         NaN         NaN         NaN         NaN   \n",
       "3                   0.0         NaN         NaN         NaN         NaN   \n",
       "4                   NaN         0.0         NaN         NaN         NaN   \n",
       "5                   NaN         1.0         0.0         NaN         NaN   \n",
       "\n",
       "order_month  1998-04-01  1998-05-01  1998-06-01  \n",
       "user_id                                          \n",
       "1                   NaN         NaN         NaN  \n",
       "2                   NaN         NaN         NaN  \n",
       "3                   NaN         0.0         NaN  \n",
       "4                   NaN         NaN         NaN  \n",
       "5                   NaN         NaN         NaN  "
      ]
     },
     "execution_count": 138,
     "metadata": {},
     "output_type": "execute_result"
    }
   ],
   "source": [
    "repurchase_in_next_month_df = df_purchase.apply(repurchase_in_next_month, axis = 1)\n",
    "repurchase_in_next_month_df.head()"
   ]
  },
  {
   "cell_type": "code",
   "execution_count": 140,
   "metadata": {},
   "outputs": [
    {
     "data": {
      "text/plain": [
       "<matplotlib.axes._subplots.AxesSubplot at 0x1536e3dbd08>"
      ]
     },
     "execution_count": 140,
     "metadata": {},
     "output_type": "execute_result"
    },
    {
     "data": {
      "image/png": "[encoded data removed]",
      "text/plain": [
       "<Figure size 720x360 with 1 Axes>"
      ]
     },
     "metadata": {
      "needs_background": "light"
     },
     "output_type": "display_data"
    }
   ],
   "source": [
    "(repurchase_in_next_month_df.sum()/repurchase_in_next_month_df.count()).plot(figsize=(10,5))"
   ]
  }
 ],
 "metadata": {
  "kernelspec": {
   "display_name": "Python 3",
   "language": "python",
   "name": "python3"
  },
  "language_info": {
   "codemirror_mode": {
    "name": "ipython",
    "version": 3
   },
   "file_extension": ".py",
   "mimetype": "text/x-python",
   "name": "python",
   "nbconvert_exporter": "python",
   "pygments_lexer": "ipython3",
   "version": "3.7.4"
  }
 },
 "nbformat": 4,
 "nbformat_minor": 2
}
