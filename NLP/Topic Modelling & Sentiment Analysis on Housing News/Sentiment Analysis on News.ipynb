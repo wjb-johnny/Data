{
 "cells": [
  {
   "cell_type": "markdown",
   "metadata": {},
   "source": [
    "# Sentiment Analysis on News"
   ]
  },
  {
   "cell_type": "code",
   "execution_count": 1,
   "metadata": {
    "pycharm": {
     "is_executing": false,
     "name": "#%%\n"
    }
   },
   "outputs": [],
   "source": [
    "# Import packages\n",
    "import pandas as pd\n",
    "from datetime import datetime\n",
    "from datetime import date\n",
    "import xlrd\n",
    "import numpy as np\n",
    "import re\n",
    "# Some functions built by the user\n",
    "import myfunction as mf\n",
    "import nltk\n",
    "nltk.download('stopwords')"
   ]
  },
  {
   "cell_type": "code",
   "execution_count": 2,
   "metadata": {
    "pycharm": {
     "is_executing": false,
     "name": "#%%\n"
    }
   },
   "outputs": [
    {
     "data": {
      "text/html": [
       "<div>\n",
       "<style scoped>\n",
       "    .dataframe tbody tr th:only-of-type {\n",
       "        vertical-align: middle;\n",
       "    }\n",
       "\n",
       "    .dataframe tbody tr th {\n",
       "        vertical-align: top;\n",
       "    }\n",
       "\n",
       "    .dataframe thead th {\n",
       "        text-align: right;\n",
       "    }\n",
       "</style>\n",
       "<table border=\"1\" class=\"dataframe\">\n",
       "  <thead>\n",
       "    <tr style=\"text-align: right;\">\n",
       "      <th></th>\n",
       "      <th>Unnamed: 0</th>\n",
       "      <th>headline</th>\n",
       "    </tr>\n",
       "    <tr>\n",
       "      <th>Dates</th>\n",
       "      <th></th>\n",
       "      <th></th>\n",
       "    </tr>\n",
       "  </thead>\n",
       "  <tbody>\n",
       "    <tr>\n",
       "      <td>2020-01-29</td>\n",
       "      <td>0</td>\n",
       "      <td>A tale of two property figures...</td>\n",
       "    </tr>\n",
       "    <tr>\n",
       "      <td>2020-01-29</td>\n",
       "      <td>1</td>\n",
       "      <td>UK house price growth 'at 14-month high'</td>\n",
       "    </tr>\n",
       "    <tr>\n",
       "      <td>2020-01-29</td>\n",
       "      <td>2</td>\n",
       "      <td>Annual house price growth hits 14-month high</td>\n",
       "    </tr>\n",
       "    <tr>\n",
       "      <td>2020-01-25</td>\n",
       "      <td>3</td>\n",
       "      <td>Home sellers risk losing money over quick sales</td>\n",
       "    </tr>\n",
       "    <tr>\n",
       "      <td>2020-01-22</td>\n",
       "      <td>4</td>\n",
       "      <td>Super-rich elites making London 'off-limits'</td>\n",
       "    </tr>\n",
       "  </tbody>\n",
       "</table>\n",
       "</div>"
      ],
      "text/plain": [
       "            Unnamed: 0                                         headline\n",
       "Dates                                                                  \n",
       "2020-01-29           0                A tale of two property figures...\n",
       "2020-01-29           1         UK house price growth 'at 14-month high'\n",
       "2020-01-29           2     Annual house price growth hits 14-month high\n",
       "2020-01-25           3  Home sellers risk losing money over quick sales\n",
       "2020-01-22           4     Super-rich elites making London 'off-limits'"
      ]
     },
     "execution_count": 2,
     "metadata": {},
     "output_type": "execute_result"
    }
   ],
   "source": [
    "# Import dataset - collected in part 1\n",
    "df_row = pd.read_csv(\"Headlines_HMUK.csv\")\n",
    "# Get dates and convert them from excel to python dates\n",
    "excel_dates = np.asarray(df_row[\"date\"])\n",
    "python_date = []\n",
    "for j in range(len(excel_dates)):\n",
    "    python_date.append(date(int(excel_dates[j][:4]),int(excel_dates[j][5:7]),int(excel_dates[j][8:10])))\n",
    "# Reset index to converted dates\n",
    "df_row[\"Dates\"] = python_date\n",
    "df_row = df_row.set_index('Dates')\n",
    "df_row = df_row.drop([\"date\"], axis = 1)\n",
    "df_row.head()"
   ]
  },
  {
   "cell_type": "code",
   "execution_count": 3,
   "metadata": {},
   "outputs": [
    {
     "name": "stderr",
     "output_type": "stream",
     "text": [
      "C:\\Users\\user\\Anaconda3\\lib\\site-packages\\ipykernel_launcher.py:15: SettingWithCopyWarning: \n",
      "A value is trying to be set on a copy of a slice from a DataFrame\n",
      "\n",
      "See the caveats in the documentation: http://pandas.pydata.org/pandas-docs/stable/user_guide/indexing.html#returning-a-view-versus-a-copy\n",
      "  from ipykernel import kernelapp as app\n"
     ]
    },
    {
     "data": {
      "text/html": [
       "<div>\n",
       "<style scoped>\n",
       "    .dataframe tbody tr th:only-of-type {\n",
       "        vertical-align: middle;\n",
       "    }\n",
       "\n",
       "    .dataframe tbody tr th {\n",
       "        vertical-align: top;\n",
       "    }\n",
       "\n",
       "    .dataframe thead th {\n",
       "        text-align: right;\n",
       "    }\n",
       "</style>\n",
       "<table border=\"1\" class=\"dataframe\">\n",
       "  <thead>\n",
       "    <tr style=\"text-align: right;\">\n",
       "      <th></th>\n",
       "      <th>document</th>\n",
       "    </tr>\n",
       "    <tr>\n",
       "      <th>Dates</th>\n",
       "      <th></th>\n",
       "    </tr>\n",
       "  </thead>\n",
       "  <tbody>\n",
       "    <tr>\n",
       "      <td>2019-12-31</td>\n",
       "      <td>A tale of two property figures... UK house pri...</td>\n",
       "    </tr>\n",
       "    <tr>\n",
       "      <td>2019-11-30</td>\n",
       "      <td>'We just can't afford to live in Dublin' House...</td>\n",
       "    </tr>\n",
       "    <tr>\n",
       "      <td>2019-10-31</td>\n",
       "      <td>Final day for Help to Buy Isa applications You...</td>\n",
       "    </tr>\n",
       "    <tr>\n",
       "      <td>2019-09-30</td>\n",
       "      <td>'Endless wrangling about Brexit' is hitting ho...</td>\n",
       "    </tr>\n",
       "    <tr>\n",
       "      <td>2019-08-31</td>\n",
       "      <td>London Assembly warned of rent control 'conseq...</td>\n",
       "    </tr>\n",
       "  </tbody>\n",
       "</table>\n",
       "</div>"
      ],
      "text/plain": [
       "                                                     document\n",
       "Dates                                                        \n",
       "2019-12-31  A tale of two property figures... UK house pri...\n",
       "2019-11-30  'We just can't afford to live in Dublin' House...\n",
       "2019-10-31  Final day for Help to Buy Isa applications You...\n",
       "2019-09-30  'Endless wrangling about Brexit' is hitting ho...\n",
       "2019-08-31  London Assembly warned of rent control 'conseq..."
      ]
     },
     "execution_count": 3,
     "metadata": {},
     "output_type": "execute_result"
    }
   ],
   "source": [
    "# Create a monthly document based on time etherogenous frequencies headlines\n",
    "months = []\n",
    "for t in range(len(python_date)):\n",
    "    months.append(python_date[t].month)\n",
    "df = pd.DataFrame()\n",
    "df[\"months\"] = months\n",
    "df[\"document\"] = \"\"\n",
    "df[\"Dates\"] = python_date\n",
    "df[\"Dates\"] = df[\"Dates\"] - pd.tseries.offsets.MonthEnd()\n",
    "# Add the monthly index to the original data\n",
    "df_row[\"months\"] = months\n",
    "# merging \"daily\" headlines into a monthly document\n",
    "for m in np.unique(months):\n",
    "    this_month_document = df_row[\"headline\"][df_row[\"months\"]==m]\n",
    "    df[\"document\"][df[\"months\"]==m] = ' '.join(this_month_document)\n",
    "df = df.set_index('Dates')\n",
    "df = df.drop([\"months\"], axis = 1)\n",
    "df.drop_duplicates(inplace = True)\n",
    "df.head()"
   ]
  },
  {
   "cell_type": "code",
   "execution_count": 4,
   "metadata": {
    "pycharm": {
     "is_executing": false,
     "name": "#%%\n"
    }
   },
   "outputs": [],
   "source": [
    "# Clean text from punctuation and convert to lower case\n",
    "documents = df[\"document\"]\n",
    "for i in range(len(documents)):\n",
    "    # convert to lower case\n",
    "    documents[i] = documents[i].lower()\n",
    "    # take out non words\n",
    "    documents[i] = re.sub(r'\\W',' ',documents[i])\n",
    "    # drop multiple spaces\n",
    "    documents[i] = re.sub(r'\\s+',' ',documents[i])"
   ]
  },
  {
   "cell_type": "code",
   "execution_count": 5,
   "metadata": {
    "pycharm": {
     "is_executing": false,
     "name": "#%% \n"
    }
   },
   "outputs": [],
   "source": [
    "# Remove stopwords (words that do not add any value) and empty\n",
    "from nltk.corpus import stopwords\n",
    "stop_words = set(stopwords.words('english')).union([\"\"])\n",
    "import copy\n",
    "filtered_documents = copy.deepcopy(documents)\n",
    "for j in range(len(documents)):\n",
    "    filtered_documents[j] = [w for w in documents[j].split(\" \") if not w in stop_words]"
   ]
  },
  {
   "cell_type": "code",
   "execution_count": 6,
   "metadata": {
    "pycharm": {
     "is_executing": false,
     "name": "#%%\n"
    }
   },
   "outputs": [],
   "source": [
    "# Split documents into words-components and put them into a list + create a set with all the words (non duplicates)\n",
    "list_documents = []\n",
    "total = []\n",
    "for j in range(len(filtered_documents)):\n",
    "    this_document = filtered_documents[j]\n",
    "    list_documents.append(this_document)\n",
    "    total = set(total).union(set(this_document))"
   ]
  },
  {
   "cell_type": "code",
   "execution_count": 7,
   "metadata": {
    "pycharm": {
     "is_executing": false,
     "name": "#%%\n"
    }
   },
   "outputs": [],
   "source": [
    "# Count words in each sentence\n",
    "wordDict = []\n",
    "# Create a dictionary with all words\n",
    "Doc_count_word = dict.fromkeys(total, 0)\n",
    "for j in range(len(filtered_documents)):\n",
    "    this_wordDict = dict.fromkeys(total, 0) \n",
    "    #print(this_wordDict)\n",
    "    for word in filtered_documents[j]:\n",
    "        #print(word)\n",
    "        #print(this_wordDict[word])\n",
    "        # count how many documents contain the word\n",
    "        if this_wordDict[word] == 0 : Doc_count_word[word] += 1\n",
    "        #print(word)\n",
    "        # plus count how many times the word is contained into the document\n",
    "        this_wordDict[word] += 1\n",
    "        #print(this_wordDict[word])\n",
    "    wordDict.append(this_wordDict) "
   ]
  },
  {
   "cell_type": "code",
   "execution_count": 8,
   "metadata": {
    "pycharm": {
     "is_executing": false,
     "name": "#%%\n"
    }
   },
   "outputs": [],
   "source": [
    "# compute the term frequency (n times words / total words)\n",
    "# https://www.freecodecamp.org/news/how-to-process-textual-data-using-tf-idf-in-python-cd2bbc0a94a3/\n",
    "tfAll = []\n",
    "for j in range(len(wordDict)):\n",
    "    tfAll.append(mf.computeTF(wordDict[j], list_documents[j]))"
   ]
  },
  {
   "cell_type": "code",
   "execution_count": 9,
   "metadata": {
    "pycharm": {
     "is_executing": false,
     "name": "#%%\n"
    }
   },
   "outputs": [],
   "source": [
    "# compute Inverse Data Frequency (idf) log10(number of documents on / number of documents containing the word)\n",
    "idfs = mf.computeIDF(Doc_count_word, len(wordDict))\n",
    "# Compute TFidf\n",
    "TFidf = []\n",
    "for j in range(len(wordDict)):\n",
    "    TFidf.append(mf.computeTFIDF(tfAll[j], idfs))\n",
    "df_TFidf = pd.DataFrame(TFidf)"
   ]
  },
  {
   "cell_type": "code",
   "execution_count": 10,
   "metadata": {
    "pycharm": {
     "is_executing": false,
     "name": "#%%\n"
    }
   },
   "outputs": [],
   "source": [
    "# Import dictionaries (words)\n",
    "positives_all = list(pd.read_csv(\"Positive.csv\")[\"both\"].dropna())\n",
    "negatives_all = list(pd.read_csv(\"Negative.csv\")[\"both\"].dropna())\n",
    "positives_LM = list(pd.read_csv(\"Positive.csv\")[\"LM\"].dropna())\n",
    "negatives_LM = list(pd.read_csv(\"Negative.csv\")[\"LM\"].dropna())\n",
    "positives_GI = list(pd.read_csv(\"Positive.csv\")[\"GI\"].dropna())\n",
    "negatives_GI = list(pd.read_csv(\"Negative.csv\")[\"GI\"].dropna())"
   ]
  },
  {
   "cell_type": "code",
   "execution_count": 11,
   "metadata": {
    "pycharm": {
     "is_executing": false,
     "name": "#%%\n"
    }
   },
   "outputs": [],
   "source": [
    "# Map words to numbers using the three dictionaries\n",
    "Doc_word_LM = mf.map_word_to_sent(Doc_count_word, positives_LM, negatives_LM, similarity_check = False)\n",
    "Doc_word_GI = mf.map_word_to_sent(Doc_count_word, positives_GI, negatives_GI, similarity_check = False)\n",
    "Doc_word_all = mf.map_word_to_sent(Doc_count_word, positives_all, negatives_all, similarity_check = True)"
   ]
  },
  {
   "cell_type": "code",
   "execution_count": 12,
   "metadata": {
    "pycharm": {
     "is_executing": false,
     "name": "#%%\n"
    }
   },
   "outputs": [],
   "source": [
    "# Compute scores by weighting the words by the weights obtaining using TFidf\n",
    "df_scores_GI = copy.deepcopy(df_TFidf)\n",
    "df_scores_LM = copy.deepcopy(df_TFidf)\n",
    "df_scores_all = copy.deepcopy(df_TFidf)\n",
    "for this_key in df_scores_all.keys():\n",
    "    df_scores_GI[this_key] = df_scores_GI[this_key]*Doc_word_GI[this_key]\n",
    "    df_scores_LM[this_key] = df_scores_LM[this_key]*Doc_word_LM[this_key]\n",
    "    df_scores_all[this_key] = df_scores_all[this_key]*Doc_word_all[this_key]"
   ]
  },
  {
   "cell_type": "code",
   "execution_count": 13,
   "metadata": {
    "pycharm": {
     "is_executing": false,
     "name": "#%%\n"
    }
   },
   "outputs": [],
   "source": [
    "# Put in a unique dataframe\n",
    "final_df = pd.DataFrame()\n",
    "final_df[\"sentiment_index_GI\"] = df_scores_GI.sum(axis = 1)\n",
    "final_df[\"sentiment_index_LM\"] = df_scores_LM.sum(axis = 1)\n",
    "final_df[\"sentiment_index_all\"] = df_scores_all.sum(axis = 1)\n",
    "final_df[\"Dates\"] = df.index\n",
    "final_df = final_df.set_index('Dates')"
   ]
  },
  {
   "cell_type": "code",
   "execution_count": 14,
   "metadata": {
    "pycharm": {
     "is_executing": false,
     "name": "#%%\n"
    }
   },
   "outputs": [],
   "source": [
    "# Import UK House Prices and convert excel dates to python dates\n",
    "HP_index = pd.read_csv(\"UK_HP.csv\")\n",
    "excel_dates = np.asarray(HP_index[\"date\"])\n",
    "python_date_new = []\n",
    "for j in range(len(excel_dates)):\n",
    "    this_date = datetime(*xlrd.xldate_as_tuple(excel_dates[j], 0))\n",
    "    python_date_new.append(this_date)\n",
    "# Reset index to converted dates\n",
    "HP_index[\"Dates\"] = python_date_new\n",
    "HP_index = HP_index.set_index('Dates')\n",
    "HP_index = HP_index.drop([\"date\"], axis = 1)\n",
    "# Standardize for plot\n",
    "HP_index[\"HP Index std\"] = (HP_index[\"HP Index\"]-np.mean(HP_index[\"HP Index\"]))/np.std(HP_index[\"HP Index\"])"
   ]
  },
  {
   "cell_type": "code",
   "execution_count": 16,
   "metadata": {
    "pycharm": {
     "is_executing": false,
     "name": "#%%\n"
    }
   },
   "outputs": [
    {
     "data": {
      "image/png": "[encoded data removed]",
      "text/plain": [
       "<Figure size 1152x648 with 1 Axes>"
      ]
     },
     "metadata": {
      "needs_background": "light"
     },
     "output_type": "display_data"
    }
   ],
   "source": [
    "# Plot all of them - if plot does not show, just run this block a second time\n",
    "import matplotlib.pyplot as plt\n",
    "fig, ax = plt.subplots(figsize=(16,9))\n",
    "ax.plot(final_df[\"sentiment_index_GI\"]*10, label = \"sentiment index GI * 10\")\n",
    "ax.plot(final_df[\"sentiment_index_LM\"]*10, label = \"sentiment index LM * 10\")\n",
    "ax.plot(final_df[\"sentiment_index_all\"]*10, label = \"sentiment index all * 10\")\n",
    "ax.plot(HP_index[\"HP Index std\"], label = \"House Price Index standardized\")\n",
    "ax.set_xlabel('Date')\n",
    "ax.legend()\n",
    "ax.grid()\n",
    "plt.show()"
   ]
  },
  {
   "cell_type": "code",
   "execution_count": null,
   "metadata": {},
   "outputs": [],
   "source": []
  }
 ],
 "metadata": {
  "@webio": {
   "lastCommId": null,
   "lastKernelId": null
  },
  "kernelspec": {
   "display_name": "Python 3",
   "language": "python",
   "name": "python3"
  },
  "language_info": {
   "codemirror_mode": {
    "name": "ipython",
    "version": 3
   },
   "file_extension": ".py",
   "mimetype": "text/x-python",
   "name": "python",
   "nbconvert_exporter": "python",
   "pygments_lexer": "ipython3",
   "version": "3.7.4"
  },
  "pycharm": {
   "stem_cell": {
    "cell_type": "raw",
    "metadata": {
     "collapsed": false
    },
    "source": []
   }
  }
 },
 "nbformat": 4,
 "nbformat_minor": 4
}
