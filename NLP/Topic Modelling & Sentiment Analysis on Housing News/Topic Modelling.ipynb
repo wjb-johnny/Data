{
 "cells": [
  {
   "cell_type": "markdown",
   "metadata": {},
   "source": [
    "# NLP: News Topic Modelling\n",
    "## By Junbo Wang"
   ]
  },
  {
   "cell_type": "markdown",
   "metadata": {},
   "source": [
    "1. Clean text (stopwords, whitespace characters, WordNetLemmatizer)\n",
    "2. Build Bigram & Trigram models\n",
    "3. LDA model & visualisation\n",
    "4. Choose optiomal No. of topics\n",
    "5. Analyse each topic"
   ]
  },
  {
   "cell_type": "markdown",
   "metadata": {},
   "source": [
    "### Import packages"
   ]
  },
  {
   "cell_type": "code",
   "execution_count": 1,
   "metadata": {},
   "outputs": [],
   "source": [
    "import nltk\n",
    "import re\n",
    "import pandas as pd\n",
    "import numpy as np\n",
    "from pprint import pprint\n",
    "\n",
    "# Gensim\n",
    "import gensim\n",
    "import gensim.corpora as corpora\n",
    "from gensim.utils import simple_preprocess\n",
    "from gensim.models import CoherenceModel\n",
    "\n",
    "# lemmatization\n",
    "from nltk.stem import WordNetLemmatizer\n",
    "# import spacy\n",
    "\n",
    "# Plotting tools\n",
    "import pyLDAvis\n",
    "import pyLDAvis.gensim\n",
    "import matplotlib.pyplot as plt\n",
    "%matplotlib inline\n",
    "plt.style.use('ggplot')\n",
    "\n",
    "# Enable logging for gensim\n",
    "import logging\n",
    "logging.basicConfig(format='%(asctime)s : %(levelname)s : %(message)s', level = logging.ERROR)\n",
    "\n",
    "import warnings\n",
    "warnings.filterwarnings(\"ignore\",category = DeprecationWarning)"
   ]
  },
  {
   "cell_type": "markdown",
   "metadata": {},
   "source": [
    "## Prepare stopwords"
   ]
  },
  {
   "cell_type": "code",
   "execution_count": 2,
   "metadata": {},
   "outputs": [],
   "source": [
    "from nltk.corpus import stopwords\n",
    "stop_words = stopwords.words('english')\n",
    "stop_words.extend(['from', 'subject', 're', 'edu', 'use'])"
   ]
  },
  {
   "cell_type": "markdown",
   "metadata": {},
   "source": [
    "## Use 20 newsgroups text dataset\n",
    "Contains 11,000 pieces of news from 20 topics"
   ]
  },
  {
   "cell_type": "code",
   "execution_count": 3,
   "metadata": {},
   "outputs": [],
   "source": [
    "# Import data\n",
    "df = pd.read_json('https://raw.githubusercontent.com/selva86/datasets/master/newsgroups.json')"
   ]
  },
  {
   "cell_type": "code",
   "execution_count": 4,
   "metadata": {},
   "outputs": [
    {
     "data": {
      "text/html": [
       "<div>\n",
       "<style scoped>\n",
       "    .dataframe tbody tr th:only-of-type {\n",
       "        vertical-align: middle;\n",
       "    }\n",
       "\n",
       "    .dataframe tbody tr th {\n",
       "        vertical-align: top;\n",
       "    }\n",
       "\n",
       "    .dataframe thead th {\n",
       "        text-align: right;\n",
       "    }\n",
       "</style>\n",
       "<table border=\"1\" class=\"dataframe\">\n",
       "  <thead>\n",
       "    <tr style=\"text-align: right;\">\n",
       "      <th></th>\n",
       "      <th>content</th>\n",
       "      <th>target</th>\n",
       "      <th>target_names</th>\n",
       "    </tr>\n",
       "  </thead>\n",
       "  <tbody>\n",
       "    <tr>\n",
       "      <td>0</td>\n",
       "      <td>From: lerxst@wam.umd.edu (where's my thing)\\nS...</td>\n",
       "      <td>7</td>\n",
       "      <td>rec.autos</td>\n",
       "    </tr>\n",
       "    <tr>\n",
       "      <td>1</td>\n",
       "      <td>From: guykuo@carson.u.washington.edu (Guy Kuo)...</td>\n",
       "      <td>4</td>\n",
       "      <td>comp.sys.mac.hardware</td>\n",
       "    </tr>\n",
       "    <tr>\n",
       "      <td>2</td>\n",
       "      <td>From: twillis@ec.ecn.purdue.edu (Thomas E Will...</td>\n",
       "      <td>4</td>\n",
       "      <td>comp.sys.mac.hardware</td>\n",
       "    </tr>\n",
       "    <tr>\n",
       "      <td>3</td>\n",
       "      <td>From: jgreen@amber (Joe Green)\\nSubject: Re: W...</td>\n",
       "      <td>1</td>\n",
       "      <td>comp.graphics</td>\n",
       "    </tr>\n",
       "    <tr>\n",
       "      <td>4</td>\n",
       "      <td>From: jcm@head-cfa.harvard.edu (Jonathan McDow...</td>\n",
       "      <td>14</td>\n",
       "      <td>sci.space</td>\n",
       "    </tr>\n",
       "  </tbody>\n",
       "</table>\n",
       "</div>"
      ],
      "text/plain": [
       "                                             content  target  \\\n",
       "0  From: lerxst@wam.umd.edu (where's my thing)\\nS...       7   \n",
       "1  From: guykuo@carson.u.washington.edu (Guy Kuo)...       4   \n",
       "2  From: twillis@ec.ecn.purdue.edu (Thomas E Will...       4   \n",
       "3  From: jgreen@amber (Joe Green)\\nSubject: Re: W...       1   \n",
       "4  From: jcm@head-cfa.harvard.edu (Jonathan McDow...      14   \n",
       "\n",
       "            target_names  \n",
       "0              rec.autos  \n",
       "1  comp.sys.mac.hardware  \n",
       "2  comp.sys.mac.hardware  \n",
       "3          comp.graphics  \n",
       "4              sci.space  "
      ]
     },
     "execution_count": 4,
     "metadata": {},
     "output_type": "execute_result"
    }
   ],
   "source": [
    "df.head()"
   ]
  },
  {
   "cell_type": "code",
   "execution_count": 5,
   "metadata": {},
   "outputs": [
    {
     "data": {
      "text/plain": [
       "array(['rec.autos', 'comp.sys.mac.hardware', 'comp.graphics', 'sci.space',\n",
       "       'talk.politics.guns', 'sci.med', 'comp.sys.ibm.pc.hardware',\n",
       "       'comp.os.ms-windows.misc', 'rec.motorcycles', 'talk.religion.misc',\n",
       "       'misc.forsale', 'alt.atheism', 'sci.electronics', 'comp.windows.x',\n",
       "       'rec.sport.hockey', 'rec.sport.baseball', 'soc.religion.christian',\n",
       "       'talk.politics.mideast', 'talk.politics.misc', 'sci.crypt'],\n",
       "      dtype=object)"
      ]
     },
     "execution_count": 5,
     "metadata": {},
     "output_type": "execute_result"
    }
   ],
   "source": [
    "df.target_names.unique()"
   ]
  },
  {
   "cell_type": "code",
   "execution_count": 6,
   "metadata": {},
   "outputs": [
    {
     "data": {
      "text/plain": [
       "20"
      ]
     },
     "execution_count": 6,
     "metadata": {},
     "output_type": "execute_result"
    }
   ],
   "source": [
    "len(df.target_names.unique())"
   ]
  },
  {
   "cell_type": "markdown",
   "metadata": {},
   "source": [
    "## Clean texts"
   ]
  },
  {
   "cell_type": "code",
   "execution_count": 7,
   "metadata": {},
   "outputs": [
    {
     "data": {
      "text/plain": [
       "'From: twillis@ec.ecn.purdue.edu (Thomas E Willis)\\nSubject: PB questions...\\nOrganization: Purdue University Engineering Computer Network\\nDistribution: usa\\nLines: 36\\n\\nwell folks, my mac plus finally gav'"
      ]
     },
     "execution_count": 7,
     "metadata": {},
     "output_type": "execute_result"
    }
   ],
   "source": [
    "data = df.content.tolist()\n",
    "data[2][:200]"
   ]
  },
  {
   "cell_type": "code",
   "execution_count": 8,
   "metadata": {},
   "outputs": [],
   "source": [
    "# Delete emails\n",
    "data = [re.sub('\\S+@\\S+','',text) for text in data]"
   ]
  },
  {
   "cell_type": "code",
   "execution_count": 9,
   "metadata": {},
   "outputs": [],
   "source": [
    "# Delete whitespace characters\n",
    "data = [re.sub(r'\\s+',' ',text) for text in data]"
   ]
  },
  {
   "cell_type": "code",
   "execution_count": 10,
   "metadata": {},
   "outputs": [],
   "source": [
    "# Delete other characters\n",
    "data = [re.sub(r\"\\'\",' ',text) for text in data]"
   ]
  },
  {
   "cell_type": "code",
   "execution_count": 11,
   "metadata": {},
   "outputs": [
    {
     "data": {
      "text/plain": [
       "'From: (Thomas E Willis) Subject: PB questions... Organization: Purdue University Engineering Computer Network Distribution: usa Lines: 36 well folks, my mac plus finally gave up the ghost this weekend'"
      ]
     },
     "execution_count": 11,
     "metadata": {},
     "output_type": "execute_result"
    }
   ],
   "source": [
    "data[2][:200]"
   ]
  },
  {
   "cell_type": "code",
   "execution_count": 12,
   "metadata": {},
   "outputs": [],
   "source": [
    "# Clean different forms\n",
    "WNlemmatizer = WordNetLemmatizer()\n",
    "data_stem = [WNlemmatizer.lemmatize(doc) for doc in data]"
   ]
  },
  {
   "cell_type": "code",
   "execution_count": 13,
   "metadata": {},
   "outputs": [],
   "source": [
    "# Tokenize text\n",
    "# Delete meaningless words & convert to lowercases & de-accents\n",
    "# deacc = True removes punctuations\n",
    "data_token = [gensim.utils.simple_preprocess(one_news, deacc=True) for one_news in data_stem]"
   ]
  },
  {
   "cell_type": "code",
   "execution_count": 14,
   "metadata": {},
   "outputs": [
    {
     "name": "stdout",
     "output_type": "stream",
     "text": [
      "['from', 'thomas', 'willis', 'subject', 'pb', 'questions', 'organization', 'purdue', 'university', 'engineering']\n"
     ]
    }
   ],
   "source": [
    "print(data_token[2][:10])"
   ]
  },
  {
   "cell_type": "code",
   "execution_count": 15,
   "metadata": {},
   "outputs": [],
   "source": [
    "data_no_stopwords = [[word for word in doc if word not in stop_words] for doc in data_token]"
   ]
  },
  {
   "cell_type": "markdown",
   "metadata": {},
   "source": [
    "## Build bigram and trigram models"
   ]
  },
  {
   "cell_type": "code",
   "execution_count": 16,
   "metadata": {},
   "outputs": [],
   "source": [
    "# min_count – Ignore all words and bigrams with total collected count lower than this value.\n",
    "# threshold – Represent a score threshold for forming the phrases (higher means fewer phrases).\n",
    "bigram = gensim.models.Phrases(data_no_stopwords, min_count = 5, threshold = 100)\n",
    "trigram = gensim.models.Phrases(bigram[data_no_stopwords],threshold = 100)"
   ]
  },
  {
   "cell_type": "code",
   "execution_count": 17,
   "metadata": {},
   "outputs": [],
   "source": [
    "bigram_mod = gensim.models.phrases.Phraser(bigram)\n",
    "trigram_mod = gensim.models.phrases.Phraser(trigram)"
   ]
  },
  {
   "cell_type": "code",
   "execution_count": 18,
   "metadata": {},
   "outputs": [
    {
     "name": "stdout",
     "output_type": "stream",
     "text": [
      "['thing', 'car', 'nntp_posting_host', 'rac_wam_umd', 'organization', 'university_maryland_college', 'park', 'lines', 'wondering', 'anyone', 'could', 'enlighten', 'car', 'saw', 'day']\n"
     ]
    }
   ],
   "source": [
    "print(trigram_mod[bigram_mod[data_no_stopwords[0]]][:15])"
   ]
  },
  {
   "cell_type": "code",
   "execution_count": 19,
   "metadata": {},
   "outputs": [],
   "source": [
    "data_bigram = [bigram_mod[doc] for doc in data_no_stopwords]\n",
    "data_trigram = [trigram_mod[bigram_mod[doc]] for doc in data_no_stopwords]"
   ]
  },
  {
   "cell_type": "markdown",
   "metadata": {},
   "source": [
    "## Dictionary and Corpus"
   ]
  },
  {
   "cell_type": "code",
   "execution_count": 20,
   "metadata": {},
   "outputs": [],
   "source": [
    "id2word = corpora.Dictionary(data_bigram)\n",
    "corpus = [id2word.doc2bow(text) for text in data_bigram] #Term Document Frequency"
   ]
  },
  {
   "cell_type": "code",
   "execution_count": 21,
   "metadata": {},
   "outputs": [
    {
     "name": "stdout",
     "output_type": "stream",
     "text": [
      "[(0, 1), (1, 2), (2, 1), (3, 1), (4, 1), (5, 1), (6, 5), (7, 1), (8, 1), (9, 1), (10, 1), (11, 1), (12, 1), (13, 1), (14, 1), (15, 1), (16, 1), (17, 1), (18, 1), (19, 1), (20, 1), (21, 1), (22, 1), (23, 1), (24, 1), (25, 1), (26, 1), (27, 1), (28, 1), (29, 1), (30, 1), (31, 1), (32, 1), (33, 1), (34, 1), (35, 1), (36, 1), (37, 1), (38, 1), (39, 1), (40, 1), (41, 1), (42, 1), (43, 1), (44, 1), (45, 1), (46, 1), (47, 1), (48, 1), (49, 1), (50, 1), (51, 1), (52, 1)]\n"
     ]
    }
   ],
   "source": [
    "print(corpus[0])"
   ]
  },
  {
   "cell_type": "code",
   "execution_count": 22,
   "metadata": {},
   "outputs": [
    {
     "name": "stdout",
     "output_type": "stream",
     "text": [
      "[('addition', 1), ('anyone', 2), ('body', 1), ('bricklin', 1), ('brought', 1), ('called', 1), ('car', 5), ('could', 1), ('day', 1), ('door', 1), ('doors', 1), ('early', 1), ('engine', 1), ('enlighten', 1), ('front_bumper', 1)]\n"
     ]
    }
   ],
   "source": [
    "# Human readable format of corpus (DF)\n",
    "print([[(id2word[ids],freq) for ids, freq in cp] for cp in corpus[:1]][0][:15])"
   ]
  },
  {
   "cell_type": "markdown",
   "metadata": {},
   "source": [
    "## LDA Model"
   ]
  },
  {
   "cell_type": "code",
   "execution_count": 23,
   "metadata": {},
   "outputs": [],
   "source": [
    "lda_model = gensim.models.ldamodel.LdaModel(corpus = corpus,\n",
    "                                           id2word = id2word,\n",
    "                                           num_topics = 20,\n",
    "                                           update_every = 1,\n",
    "                                           chunksize = 100,\n",
    "                                           passes = 10,\n",
    "                                           alpha = 'auto',\n",
    "                                           per_word_topics = True)"
   ]
  },
  {
   "cell_type": "code",
   "execution_count": 24,
   "metadata": {},
   "outputs": [
    {
     "name": "stdout",
     "output_type": "stream",
     "text": [
      "[(0,\n",
      "  '0.028*\"research\" + 0.026*\"information\" + 0.021*\"senses\" + 0.014*\"talking\" + '\n",
      "  '0.014*\"center\" + 0.013*\"national\" + 0.012*\"via\" + 0.011*\"distribution\" + '\n",
      "  '0.011*\"patient\" + 0.011*\"md\"'),\n",
      " (1,\n",
      "  '0.019*\"first\" + 0.018*\"year\" + 0.013*\"two\" + 0.013*\"last\" + 0.011*\"team\" + '\n",
      "  '0.010*\"next\" + 0.009*\"game\" + 0.009*\"time\" + 0.008*\"day\" + 0.008*\"second\"'),\n",
      " (2,\n",
      "  '0.047*\"algorithm\" + 0.042*\"weapons\" + 0.022*\"amendment\" + 0.020*\"militia\" + '\n",
      "  '0.017*\"reduced\" + 0.016*\"packet\" + 0.016*\"keep_bear\" + 0.012*\"black_white\" '\n",
      "  '+ 0.010*\"restrictions\" + 0.009*\"tavares\"'),\n",
      " (3,\n",
      "  '0.046*\"texas\" + 0.025*\"cds\" + 0.025*\"san_francisco\" + 0.025*\"nt\" + '\n",
      "  '0.019*\"sys\" + 0.013*\"kit\" + 0.011*\"navy\" + 0.009*\"helsinki\" + '\n",
      "  '0.007*\"singapore\" + 0.007*\"press_release\"'),\n",
      " (4,\n",
      "  '0.016*\"timing\" + 0.008*\"der\" + 0.004*\"integra\" + 0.002*\"shaft\" + '\n",
      "  '0.002*\"ns_simms\" + 0.000*\"snow\" + 0.000*\"atheist\" + 0.000*\"timer\" + '\n",
      "  '0.000*\"crystal\" + 0.000*\"moonroof\"'),\n",
      " (5,\n",
      "  '0.033*\"home\" + 0.030*\"internet\" + 0.021*\"copy\" + 0.017*\"section\" + '\n",
      "  '0.017*\"solution\" + 0.017*\"science\" + 0.016*\"la\" + 0.014*\"ed\" + 0.014*\"dr\" + '\n",
      "  '0.013*\"id\"'),\n",
      " (6,\n",
      "  '0.038*\"greek\" + 0.033*\"armenians\" + 0.028*\"turkish\" + 0.028*\"turks\" + '\n",
      "  '0.026*\"armenian\" + 0.024*\"turkey\" + 0.021*\"responses\" + 0.020*\"blind\" + '\n",
      "  '0.015*\"armenia\" + 0.012*\"cap\"'),\n",
      " (7,\n",
      "  '0.091*\"physical\" + 0.040*\"sounds\" + 0.037*\"family\" + 0.029*\"page\" + '\n",
      "  '0.027*\"larger\" + 0.026*\"direct\" + 0.021*\"intel\" + 0.020*\"zone\" + '\n",
      "  '0.017*\"decent\" + 0.017*\"pd\"'),\n",
      " (8,\n",
      "  '0.021*\"people\" + 0.019*\"evidence\" + 0.010*\"government\" + 0.010*\"said\" + '\n",
      "  '0.010*\"us\" + 0.009*\"state\" + 0.009*\"law\" + 0.007*\"public\" + '\n",
      "  '0.007*\"children\" + 0.006*\"death\"'),\n",
      " (9,\n",
      "  '0.682*\"ax\" + 0.055*\"max\" + 0.008*\"update\" + 0.007*\"dual\" + 0.006*\"sunday\" + '\n",
      "  '0.005*\"ub\" + 0.004*\"arizona\" + 0.004*\"removing\" + 0.004*\"devils\" + '\n",
      "  '0.004*\"purdue_university\"'),\n",
      " (10,\n",
      "  '0.109*\"israel\" + 0.047*\"jews\" + 0.043*\"israeli\" + 0.034*\"jewish\" + '\n",
      "  '0.031*\"soldiers\" + 0.022*\"arab\" + 0.021*\"villages\" + 0.016*\"corp\" + '\n",
      "  '0.014*\"arabs\" + 0.013*\"super\"'),\n",
      " (11,\n",
      "  '0.023*\"one\" + 0.021*\"would\" + 0.015*\"god\" + 0.015*\"think\" + 0.011*\"people\" '\n",
      "  '+ 0.010*\"may\" + 0.010*\"know\" + 0.010*\"see\" + 0.009*\"say\" + 0.009*\"way\"'),\n",
      " (12,\n",
      "  '0.055*\"pa\" + 0.036*\"van\" + 0.033*\"al\" + 0.027*\"cable\" + 0.025*\"ice\" + '\n",
      "  '0.021*\"detroit\" + 0.020*\"rob\" + 0.019*\"alan\" + 0.018*\"throw\" + '\n",
      "  '0.016*\"last_night\"'),\n",
      " (13,\n",
      "  '0.079*\"space\" + 0.022*\"earth\" + 0.021*\"em\" + 0.019*\"nasa\" + 0.018*\"moon\" + '\n",
      "  '0.016*\"mr\" + 0.016*\"orbit\" + 0.016*\"pl\" + 0.014*\"launch\" + 0.014*\"mission\"'),\n",
      " (14,\n",
      "  '0.071*\"books\" + 0.033*\"iran\" + 0.031*\"islam\" + 0.022*\"uk\" + '\n",
      "  '0.020*\"criminal\" + 0.019*\"islamic\" + 0.018*\"muslims\" + 0.017*\"prize\" + '\n",
      "  '0.016*\"issued\" + 0.015*\"roger\"'),\n",
      " (15,\n",
      "  '0.107*\"key\" + 0.041*\"encryption\" + 0.032*\"drives\" + 0.032*\"clipper\" + '\n",
      "  '0.029*\"security\" + 0.024*\"public\" + 0.023*\"clipper_chip\" + 0.023*\"rsa\" + '\n",
      "  '0.022*\"chips\" + 0.021*\"nsa\"'),\n",
      " (16,\n",
      "  '0.015*\"system\" + 0.014*\"mail\" + 0.013*\"drive\" + 0.012*\"thanks\" + '\n",
      "  '0.011*\"computer\" + 0.011*\"please\" + 0.011*\"using\" + 0.011*\"program\" + '\n",
      "  '0.010*\"windows\" + 0.009*\"also\"'),\n",
      " (17,\n",
      "  '0.028*\"door\" + 0.026*\"case_western\" + 0.025*\"reserve_university\" + '\n",
      "  '0.021*\"production\" + 0.020*\"solutions\" + 0.016*\"specs\" + 0.015*\"sony\" + '\n",
      "  '0.015*\"ins_cwru\" + 0.014*\"beautiful\" + 0.013*\"england\"'),\n",
      " (18,\n",
      "  '0.048*\"atheists\" + 0.044*\"clearly\" + 0.026*\"motto\" + 0.023*\"keith\" + '\n",
      "  '0.022*\"california_institute\" + 0.022*\"collins\" + 0.022*\"helmet\" + '\n",
      "  '0.022*\"technology_pasadena\" + 0.017*\"stephen\" + 0.016*\"guilty\"'),\n",
      " (19,\n",
      "  '0.063*\"lines\" + 0.062*\"organization\" + 0.040*\"writes\" + 0.038*\"article\" + '\n",
      "  '0.027*\"nntp_posting\" + 0.023*\"university\" + 0.022*\"host\" + 0.021*\"like\" + '\n",
      "  '0.018*\"get\" + 0.016*\"would\"')]\n"
     ]
    }
   ],
   "source": [
    "pprint(lda_model.print_topics())"
   ]
  },
  {
   "cell_type": "code",
   "execution_count": 25,
   "metadata": {},
   "outputs": [],
   "source": [
    "doc_lda = lda_model[corpus]"
   ]
  },
  {
   "cell_type": "markdown",
   "metadata": {},
   "source": [
    "## Measure model"
   ]
  },
  {
   "cell_type": "code",
   "execution_count": 26,
   "metadata": {},
   "outputs": [
    {
     "name": "stdout",
     "output_type": "stream",
     "text": [
      "Coherence Score:  0.4646842221133343\n"
     ]
    }
   ],
   "source": [
    "# Coherence Score\n",
    "coherence_model_lda = CoherenceModel(model = lda_model, texts = data_bigram, dictionary = id2word, coherence = 'c_v')\n",
    "print('Coherence Score: ', coherence_model_lda.get_coherence())"
   ]
  },
  {
   "cell_type": "markdown",
   "metadata": {},
   "source": [
    "# Topic visualisation"
   ]
  },
  {
   "cell_type": "code",
   "execution_count": 27,
   "metadata": {},
   "outputs": [
    {
     "name": "stderr",
     "output_type": "stream",
     "text": [
      "C:\\Users\\Junbo\\Anaconda3\\lib\\site-packages\\pyLDAvis\\_prepare.py:257: FutureWarning: Sorting because non-concatenation axis is not aligned. A future version\n",
      "of pandas will change to not sort by default.\n",
      "\n",
      "To accept the future behavior, pass 'sort=False'.\n",
      "\n",
      "To retain the current behavior and silence the warning, pass 'sort=True'.\n",
      "\n",
      "  return pd.concat([default_term_info] + list(topic_dfs))\n"
     ]
    },
    {
     "data": {
      "text/html": [
       "\n",
       "<link rel=\"stylesheet\" type=\"text/css\" href=\"https://cdn.rawgit.com/bmabey/pyLDAvis/files/ldavis.v1.0.0.css\">\n",
       "\n",
       "\n",
       "<div id=\"ldavis_el200417008120130009219974413\"></div>\n",
       "<script type=\"text/javascript\">\n",
       "\n",
       "var ldavis_el200417008120130009219974413_data = {\"mdsDat\": {\"x\": [-0.3853373486923016, -0.34777381660096895, -0.2820008418773834, -0.2905601349583247, -0.26892668523061747, 0.012409752973172252, -0.10193237770893009, 0.011601116716242952, 0.05663603966305747, 0.0703960371200675, 0.10986091565436415, 0.13687025887062923, 0.14016947990111892, 0.14899864575803262, 0.15251873489957152, 0.15741634682993308, 0.15587232610495166, 0.1660112145159736, 0.17455454238415533, 0.18321579367725582], \"y\": [0.12469825964229797, 0.18089761679660332, -0.20648432432626732, 0.09810465869770803, -0.04261113620746055, -0.0567131136841328, -0.30484830856668826, -0.026939628569627443, 0.005355493724621972, -0.04296910519378445, 0.006651552257831171, 0.021885642048157947, 0.03054718489501814, 0.03180467036484542, 0.031231331225638852, 0.03175913863036269, 0.030999854856574267, 0.0300339412445501, 0.029254948177953426, 0.027341323985796744], \"topics\": [1, 2, 3, 4, 5, 6, 7, 8, 9, 10, 11, 12, 13, 14, 15, 16, 17, 18, 19, 20], \"cluster\": [1, 1, 1, 1, 1, 1, 1, 1, 1, 1, 1, 1, 1, 1, 1, 1, 1, 1, 1, 1], \"Freq\": [25.790613174438477, 17.700061798095703, 13.463226318359375, 12.468544006347656, 11.663859367370605, 4.839155673980713, 4.297887325286865, 2.721151351928711, 1.7851179838180542, 1.001299500465393, 0.7949861884117126, 0.7497820258140564, 0.566471517086029, 0.5471585988998413, 0.4286454916000366, 0.3896162211894989, 0.35245898365974426, 0.2502635717391968, 0.16309674084186554, 0.026615824550390244]}, \"tinfo\": {\"Category\": [\"Default\", \"Default\", \"Default\", \"Default\", \"Default\", \"Default\", \"Default\", \"Default\", \"Default\", \"Default\", \"Default\", \"Default\", \"Default\", \"Default\", \"Default\", \"Default\", \"Default\", \"Default\", \"Default\", \"Default\", \"Default\", \"Default\", \"Default\", \"Default\", \"Default\", \"Default\", \"Default\", \"Default\", \"Default\", \"Default\", \"Topic1\", \"Topic1\", \"Topic1\", \"Topic1\", \"Topic1\", \"Topic1\", \"Topic1\", \"Topic1\", \"Topic1\", \"Topic1\", \"Topic1\", \"Topic1\", \"Topic1\", \"Topic1\", \"Topic1\", \"Topic1\", \"Topic1\", \"Topic1\", \"Topic1\", \"Topic1\", \"Topic1\", \"Topic1\", \"Topic1\", \"Topic1\", \"Topic1\", \"Topic1\", \"Topic1\", \"Topic1\", \"Topic1\", \"Topic1\", \"Topic1\", \"Topic1\", \"Topic1\", \"Topic1\", \"Topic1\", \"Topic1\", \"Topic1\", \"Topic1\", \"Topic1\", \"Topic1\", \"Topic1\", \"Topic1\", \"Topic1\", \"Topic1\", \"Topic1\", \"Topic1\", \"Topic1\", \"Topic1\", \"Topic1\", \"Topic1\", \"Topic1\", \"Topic1\", \"Topic1\", \"Topic1\", \"Topic1\", \"Topic1\", \"Topic1\", \"Topic2\", \"Topic2\", \"Topic2\", \"Topic2\", \"Topic2\", \"Topic2\", \"Topic2\", \"Topic2\", \"Topic2\", \"Topic2\", \"Topic2\", \"Topic2\", \"Topic2\", \"Topic2\", \"Topic2\", \"Topic2\", \"Topic2\", \"Topic2\", \"Topic2\", \"Topic2\", \"Topic2\", \"Topic2\", \"Topic2\", \"Topic2\", \"Topic2\", \"Topic2\", \"Topic2\", \"Topic2\", \"Topic2\", \"Topic2\", \"Topic2\", \"Topic2\", \"Topic2\", \"Topic2\", \"Topic2\", \"Topic2\", \"Topic2\", \"Topic2\", \"Topic2\", \"Topic2\", \"Topic2\", \"Topic2\", \"Topic2\", \"Topic2\", \"Topic2\", \"Topic2\", \"Topic2\", \"Topic2\", \"Topic2\", \"Topic2\", \"Topic2\", \"Topic2\", \"Topic2\", \"Topic2\", \"Topic2\", \"Topic2\", \"Topic2\", \"Topic2\", \"Topic2\", \"Topic2\", \"Topic2\", \"Topic2\", \"Topic2\", \"Topic2\", \"Topic2\", \"Topic3\", \"Topic3\", \"Topic3\", \"Topic3\", \"Topic3\", \"Topic3\", \"Topic3\", \"Topic3\", \"Topic3\", \"Topic3\", \"Topic3\", \"Topic3\", \"Topic3\", \"Topic3\", \"Topic3\", \"Topic3\", \"Topic3\", \"Topic3\", \"Topic3\", \"Topic3\", \"Topic3\", \"Topic3\", \"Topic3\", \"Topic3\", \"Topic3\", \"Topic3\", \"Topic3\", \"Topic3\", \"Topic3\", \"Topic3\", \"Topic3\", \"Topic3\", \"Topic3\", \"Topic3\", \"Topic3\", \"Topic3\", \"Topic3\", \"Topic3\", \"Topic3\", \"Topic3\", \"Topic3\", \"Topic3\", \"Topic3\", \"Topic3\", \"Topic3\", \"Topic4\", \"Topic4\", \"Topic4\", \"Topic4\", \"Topic4\", \"Topic4\", \"Topic4\", \"Topic4\", \"Topic4\", \"Topic4\", \"Topic4\", \"Topic4\", \"Topic4\", \"Topic4\", \"Topic4\", \"Topic4\", \"Topic4\", \"Topic4\", \"Topic4\", \"Topic4\", \"Topic4\", \"Topic4\", \"Topic4\", \"Topic4\", \"Topic4\", \"Topic4\", \"Topic4\", \"Topic4\", \"Topic4\", \"Topic4\", \"Topic4\", \"Topic4\", \"Topic4\", \"Topic4\", \"Topic4\", \"Topic4\", \"Topic4\", \"Topic4\", \"Topic4\", \"Topic4\", \"Topic4\", \"Topic4\", \"Topic4\", \"Topic4\", \"Topic4\", \"Topic4\", \"Topic4\", \"Topic4\", \"Topic4\", \"Topic5\", \"Topic5\", \"Topic5\", \"Topic5\", \"Topic5\", \"Topic5\", \"Topic5\", \"Topic5\", \"Topic5\", \"Topic5\", \"Topic5\", \"Topic5\", \"Topic5\", \"Topic5\", \"Topic5\", \"Topic5\", \"Topic5\", \"Topic5\", \"Topic5\", \"Topic5\", \"Topic5\", \"Topic5\", \"Topic5\", \"Topic5\", \"Topic5\", \"Topic5\", \"Topic5\", \"Topic5\", \"Topic5\", \"Topic5\", \"Topic5\", \"Topic5\", \"Topic5\", \"Topic5\", \"Topic5\", \"Topic5\", \"Topic5\", \"Topic5\", \"Topic5\", \"Topic5\", \"Topic5\", \"Topic5\", \"Topic5\", \"Topic5\", \"Topic5\", \"Topic5\", \"Topic5\", \"Topic5\", \"Topic5\", \"Topic5\", \"Topic6\", \"Topic6\", \"Topic6\", \"Topic6\", \"Topic6\", \"Topic6\", \"Topic6\", \"Topic6\", \"Topic6\", \"Topic6\", \"Topic6\", \"Topic6\", \"Topic6\", \"Topic6\", \"Topic6\", \"Topic6\", \"Topic6\", \"Topic6\", \"Topic6\", \"Topic6\", \"Topic6\", \"Topic6\", \"Topic6\", \"Topic6\", \"Topic6\", \"Topic6\", \"Topic6\", \"Topic6\", \"Topic6\", \"Topic6\", \"Topic7\", \"Topic7\", \"Topic7\", \"Topic7\", \"Topic7\", \"Topic7\", \"Topic7\", \"Topic7\", \"Topic7\", \"Topic7\", \"Topic7\", \"Topic7\", \"Topic7\", \"Topic7\", \"Topic7\", \"Topic7\", \"Topic7\", \"Topic7\", \"Topic7\", \"Topic7\", \"Topic7\", \"Topic7\", \"Topic7\", \"Topic7\", \"Topic7\", \"Topic7\", \"Topic7\", \"Topic7\", \"Topic7\", \"Topic7\", \"Topic7\", \"Topic7\", \"Topic7\", \"Topic7\", \"Topic7\", \"Topic7\", \"Topic7\", \"Topic7\", \"Topic7\", \"Topic7\", \"Topic7\", \"Topic7\", \"Topic7\", \"Topic7\", \"Topic7\", \"Topic7\", \"Topic7\", \"Topic8\", \"Topic8\", \"Topic8\", \"Topic8\", \"Topic8\", \"Topic8\", \"Topic8\", \"Topic8\", \"Topic8\", \"Topic8\", \"Topic8\", \"Topic8\", \"Topic8\", \"Topic8\", \"Topic8\", \"Topic8\", \"Topic8\", \"Topic8\", \"Topic8\", \"Topic8\", \"Topic8\", \"Topic8\", \"Topic8\", \"Topic8\", \"Topic8\", \"Topic8\", \"Topic8\", \"Topic8\", \"Topic8\", \"Topic8\", \"Topic8\", \"Topic8\", \"Topic8\", \"Topic8\", \"Topic8\", \"Topic8\", \"Topic9\", \"Topic9\", \"Topic9\", \"Topic9\", \"Topic9\", \"Topic9\", \"Topic9\", \"Topic9\", \"Topic9\", \"Topic9\", \"Topic9\", \"Topic9\", \"Topic9\", \"Topic9\", \"Topic9\", \"Topic9\", \"Topic9\", \"Topic9\", \"Topic9\", \"Topic9\", \"Topic9\", \"Topic9\", \"Topic9\", \"Topic9\", \"Topic9\", \"Topic9\", \"Topic9\", \"Topic9\", \"Topic9\", \"Topic9\", \"Topic9\", \"Topic9\", \"Topic9\", \"Topic9\", \"Topic9\", \"Topic9\", \"Topic9\", \"Topic10\", \"Topic10\", \"Topic10\", \"Topic10\", \"Topic10\", \"Topic10\", \"Topic10\", \"Topic10\", \"Topic10\", \"Topic10\", \"Topic10\", \"Topic10\", \"Topic10\", \"Topic10\", \"Topic10\", \"Topic10\", \"Topic10\", \"Topic10\", \"Topic10\", \"Topic10\", \"Topic10\", \"Topic10\", \"Topic10\", \"Topic10\", \"Topic10\", \"Topic10\", \"Topic10\", \"Topic10\", \"Topic10\", \"Topic10\", \"Topic10\", \"Topic10\", \"Topic10\", \"Topic10\", \"Topic10\", \"Topic10\", \"Topic10\", \"Topic10\", \"Topic10\", \"Topic10\", \"Topic10\", \"Topic11\", \"Topic11\", \"Topic11\", \"Topic11\", \"Topic11\", \"Topic11\", \"Topic11\", \"Topic11\", \"Topic11\", \"Topic11\", \"Topic11\", \"Topic11\", \"Topic11\", \"Topic11\", \"Topic11\", \"Topic11\", \"Topic11\", \"Topic11\", \"Topic11\", \"Topic11\", \"Topic11\", \"Topic11\", \"Topic11\", \"Topic11\", \"Topic11\", \"Topic11\", \"Topic11\", \"Topic11\", \"Topic11\", \"Topic11\", \"Topic11\", \"Topic11\", \"Topic11\", \"Topic11\", \"Topic11\", \"Topic11\", \"Topic11\", \"Topic11\", \"Topic11\", \"Topic12\", \"Topic12\", \"Topic12\", \"Topic12\", \"Topic12\", \"Topic12\", \"Topic12\", \"Topic12\", \"Topic12\", \"Topic12\", \"Topic12\", \"Topic12\", \"Topic12\", \"Topic12\", \"Topic12\", \"Topic12\", \"Topic12\", \"Topic12\", \"Topic12\", \"Topic12\", \"Topic12\", \"Topic12\", \"Topic12\", \"Topic12\", \"Topic12\", \"Topic12\", \"Topic12\", \"Topic12\", \"Topic12\", \"Topic12\", \"Topic12\", \"Topic12\", \"Topic12\", \"Topic12\", \"Topic12\", \"Topic12\", \"Topic12\", \"Topic13\", \"Topic13\", \"Topic13\", \"Topic13\", \"Topic13\", \"Topic13\", \"Topic13\", \"Topic13\", \"Topic13\", \"Topic13\", \"Topic13\", \"Topic13\", \"Topic13\", \"Topic13\", \"Topic13\", \"Topic13\", \"Topic13\", \"Topic13\", \"Topic13\", \"Topic13\", \"Topic13\", \"Topic13\", \"Topic13\", \"Topic13\", \"Topic13\", \"Topic13\", \"Topic13\", \"Topic13\", \"Topic13\", \"Topic13\", \"Topic13\", \"Topic14\", \"Topic14\", \"Topic14\", \"Topic14\", \"Topic14\", \"Topic14\", \"Topic14\", \"Topic14\", \"Topic14\", \"Topic14\", \"Topic14\", \"Topic14\", \"Topic14\", \"Topic14\", \"Topic14\", \"Topic14\", \"Topic14\", \"Topic14\", \"Topic14\", \"Topic14\", \"Topic14\", \"Topic14\", \"Topic14\", \"Topic14\", \"Topic14\", \"Topic14\", \"Topic14\", \"Topic14\", \"Topic14\", \"Topic14\", \"Topic14\", \"Topic14\", \"Topic15\", \"Topic15\", \"Topic15\", \"Topic15\", \"Topic15\", \"Topic15\", \"Topic15\", \"Topic15\", \"Topic15\", \"Topic15\", \"Topic15\", \"Topic15\", \"Topic15\", \"Topic15\", \"Topic15\", \"Topic15\", \"Topic15\", \"Topic15\", \"Topic15\", \"Topic15\", \"Topic15\", \"Topic15\", \"Topic15\", \"Topic15\", \"Topic15\", \"Topic15\", \"Topic15\", \"Topic15\", \"Topic15\", \"Topic15\", \"Topic15\", \"Topic15\", \"Topic16\", \"Topic16\", \"Topic16\", \"Topic16\", \"Topic16\", \"Topic16\", \"Topic16\", \"Topic16\", \"Topic16\", \"Topic16\", \"Topic16\", \"Topic16\", \"Topic16\", \"Topic16\", \"Topic16\", \"Topic16\", \"Topic16\", \"Topic16\", \"Topic16\", \"Topic16\", \"Topic16\", \"Topic16\", \"Topic16\", \"Topic16\", \"Topic16\", \"Topic16\", \"Topic16\", \"Topic16\", \"Topic16\", \"Topic16\", \"Topic16\", \"Topic16\", \"Topic17\", \"Topic17\", \"Topic17\", \"Topic17\", \"Topic17\", \"Topic17\", \"Topic17\", \"Topic17\", \"Topic17\", \"Topic17\", \"Topic17\", \"Topic17\", \"Topic17\", \"Topic17\", \"Topic17\", \"Topic17\", \"Topic17\", \"Topic17\", \"Topic17\", \"Topic17\", \"Topic17\", \"Topic17\", \"Topic17\", \"Topic17\", \"Topic17\", \"Topic17\", \"Topic17\", \"Topic17\", \"Topic17\", \"Topic17\", \"Topic17\", \"Topic17\", \"Topic18\", \"Topic18\", \"Topic18\", \"Topic18\", \"Topic18\", \"Topic18\", \"Topic18\", \"Topic18\", \"Topic18\", \"Topic18\", \"Topic18\", \"Topic18\", \"Topic18\", \"Topic18\", \"Topic18\", \"Topic18\", \"Topic18\", \"Topic18\", \"Topic18\", \"Topic18\", \"Topic18\", \"Topic18\", \"Topic18\", \"Topic18\", \"Topic18\", \"Topic18\", \"Topic18\", \"Topic18\", \"Topic18\", \"Topic18\", \"Topic18\", \"Topic18\", \"Topic19\", \"Topic19\", \"Topic19\", \"Topic19\", \"Topic19\", \"Topic19\", \"Topic19\", \"Topic19\", \"Topic19\", \"Topic19\", \"Topic19\", \"Topic19\", \"Topic19\", \"Topic19\", \"Topic19\", \"Topic19\", \"Topic19\", \"Topic19\", \"Topic19\", \"Topic19\", \"Topic19\", \"Topic19\", \"Topic19\", \"Topic19\", \"Topic19\", \"Topic19\", \"Topic19\", \"Topic19\", \"Topic19\", \"Topic19\", \"Topic19\", \"Topic19\", \"Topic19\", \"Topic20\", \"Topic20\", \"Topic20\", \"Topic20\", \"Topic20\", \"Topic20\", \"Topic20\", \"Topic20\", \"Topic20\", \"Topic20\", \"Topic20\", \"Topic20\", \"Topic20\", \"Topic20\", \"Topic20\", \"Topic20\", \"Topic20\", \"Topic20\", \"Topic20\", \"Topic20\", \"Topic20\", \"Topic20\", \"Topic20\", \"Topic20\", \"Topic20\", \"Topic20\", \"Topic20\", \"Topic20\", \"Topic20\", \"Topic20\", \"Topic20\", \"Topic20\", \"Topic20\", \"Topic20\", \"Topic20\", \"Topic20\", \"Topic20\", \"Topic20\", \"Topic20\", \"Topic20\", \"Topic20\", \"Topic20\", \"Topic20\", \"Topic20\", \"Topic20\", \"Topic20\", \"Topic20\", \"Topic20\", \"Topic20\", \"Topic20\", \"Topic20\"], \"Freq\": [54859.0, 18286.0, 18970.0, 12213.0, 11612.0, 7887.0, 4403.0, 9048.0, 6896.0, 13755.0, 6626.0, 9819.0, 2359.0, 6502.0, 4334.0, 1776.0, 3699.0, 13100.0, 3680.0, 4790.0, 2698.0, 1441.0, 7769.0, 2261.0, 7348.0, 5106.0, 1849.0, 6965.0, 4061.0, 2042.0, 6501.595703125, 3827.845458984375, 3450.9111328125, 3337.076904296875, 2816.626708984375, 2615.98486328125, 1943.581298828125, 1754.489501953125, 1748.0849609375, 1726.5113525390625, 1683.4432373046875, 1664.207275390625, 1583.9317626953125, 1579.86083984375, 1518.3314208984375, 1435.15087890625, 1431.628173828125, 1375.8984375, 1358.927490234375, 1321.3160400390625, 1280.060791015625, 1239.3475341796875, 1215.72021484375, 1203.2322998046875, 1174.9775390625, 1048.907958984375, 1035.91552734375, 1015.4111328125, 974.0706176757812, 944.4503784179688, 1584.327880859375, 1615.2333984375, 6228.1201171875, 4233.95361328125, 2517.344482421875, 3794.58984375, 9732.5400390625, 3794.03759765625, 3762.35107421875, 2393.448974609375, 8935.705078125, 2825.86279296875, 4289.951171875, 2226.587646484375, 2079.828125, 4907.37109375, 4244.17919921875, 2942.909912109375, 3283.545654296875, 3552.622802734375, 2366.110107421875, 3014.48046875, 2196.293212890625, 3193.1328125, 2851.239013671875, 3625.8037109375, 2165.44775390625, 7886.76513671875, 1779.315185546875, 1192.2044677734375, 854.461181640625, 769.0867919921875, 760.070556640625, 736.5762329101562, 717.1132202148438, 709.6357421875, 690.8239135742188, 665.3323974609375, 642.228759765625, 598.7142333984375, 588.450439453125, 584.0609741210938, 583.5045776367188, 559.1372680664062, 552.2974853515625, 518.2581176757812, 508.3740539550781, 480.5993957519531, 473.15545654296875, 472.74810791015625, 433.1646728515625, 407.8153076171875, 406.0673828125, 405.9565124511719, 405.310302734375, 403.15240478515625, 389.8658142089844, 18228.3125, 18547.0390625, 11317.7412109375, 1432.1607666015625, 11818.822265625, 6709.17431640625, 6385.88623046875, 3920.85498046875, 3184.564453125, 903.5790405273438, 1350.1787109375, 5201.8837890625, 1261.84130859375, 6141.63720703125, 794.4862060546875, 1593.0972900390625, 1131.5052490234375, 1560.11474609375, 3292.38525390625, 1120.1285400390625, 1118.7530517578125, 2131.464599609375, 3523.85498046875, 4702.568359375, 2345.00830078125, 2155.905029296875, 1319.24560546875, 2260.7333984375, 1163.7847900390625, 1663.8701171875, 1587.4949951171875, 2358.0673828125, 1580.2020263671875, 1246.1671142578125, 1263.9442138671875, 3045.997314453125, 2607.806884765625, 2497.367431640625, 2364.005126953125, 2256.86279296875, 1955.6220703125, 1807.242431640625, 1658.3995361328125, 1657.4473876953125, 1595.15771484375, 1572.29931640625, 1537.6065673828125, 1458.123779296875, 1395.8719482421875, 1478.3470458984375, 1202.1356201171875, 1201.599853515625, 1191.904541015625, 1186.6160888671875, 1156.6455078125, 1129.0657958984375, 1103.552978515625, 1102.2130126953125, 1080.6787109375, 1049.5565185546875, 1047.3326416015625, 995.5946655273438, 994.1484375, 986.9022216796875, 970.80859375, 2912.59619140625, 1351.431396484375, 2475.27685546875, 3273.6513671875, 1431.7711181640625, 2476.983642578125, 1740.4713134765625, 1861.853759765625, 1531.5911865234375, 2126.68798828125, 1588.129638671875, 1520.57177734375, 1355.7037353515625, 1411.271240234375, 1268.931884765625, 3679.03076171875, 2306.93212890625, 1910.4503173828125, 1567.7489013671875, 1453.1356201171875, 1251.760986328125, 1122.0726318359375, 1120.7659912109375, 971.9342651367188, 946.8026733398438, 942.0125122070312, 930.7023315429688, 883.5662231445312, 881.1580200195312, 876.6234130859375, 868.2998046875, 863.3848266601562, 843.4049682617188, 799.2996826171875, 793.1463012695312, 778.4210205078125, 774.4421997070312, 764.14990234375, 705.83203125, 669.2587890625, 668.765380859375, 643.1517944335938, 632.0458374023438, 603.7733764648438, 600.0081176757812, 2690.781494140625, 1225.8463134765625, 1263.5509033203125, 805.4109497070312, 3904.296142578125, 1982.6842041015625, 867.3621215820312, 1445.245849609375, 1677.39990234375, 1277.028564453125, 2703.2041015625, 1158.963134765625, 1029.365478515625, 1778.7847900390625, 1317.22265625, 1084.9945068359375, 1146.0947265625, 903.3171997070312, 911.2291259765625, 3698.59521484375, 1676.3592529296875, 1284.883056640625, 1245.45068359375, 1106.1524658203125, 1045.81787109375, 856.4271850585938, 794.178955078125, 788.3750610351562, 777.3446044921875, 767.7933959960938, 726.3204345703125, 726.1828002929688, 716.8536987304688, 712.5805053710938, 711.5369873046875, 664.0186157226562, 662.1077880859375, 660.8504638671875, 658.4465942382812, 651.9168701171875, 649.60400390625, 648.9696655273438, 645.0757446289062, 695.0939331054688, 602.5988159179688, 595.8793334960938, 592.8961791992188, 590.8508911132812, 568.01611328125, 1100.3828125, 921.6784057617188, 2015.7421875, 798.947265625, 1445.8402099609375, 4140.3349609375, 864.2368774414062, 1781.412109375, 1989.1318359375, 855.6873168945312, 1929.139892578125, 834.5828247070312, 1121.2650146484375, 1190.1236572265625, 830.7608642578125, 843.171142578125, 812.4371948242188, 738.8532104492188, 742.2313232421875, 742.15625, 54857.98828125, 4402.4853515625, 631.5287475585938, 547.0202026367188, 503.073486328125, 394.7221374511719, 348.47320556640625, 338.712890625, 325.6398010253906, 305.8342590332031, 297.9746398925781, 290.1824035644531, 287.6568603515625, 275.02752685546875, 259.0296630859375, 227.79937744140625, 224.9461212158203, 206.18194580078125, 183.44398498535156, 182.09364318847656, 176.00921630859375, 167.03073120117188, 144.98529052734375, 142.40171813964844, 137.784912109375, 136.53167724609375, 127.23063659667969, 118.17737579345703, 117.99566650390625, 114.74738311767578, 1497.6959228515625, 979.2053833007812, 824.078125, 808.2833862304688, 772.4069213867188, 767.6326293945312, 725.0396118164062, 628.0922241210938, 596.869384765625, 596.5098876953125, 590.67724609375, 578.6102294921875, 577.4844360351562, 464.019775390625, 451.7586975097656, 440.2003173828125, 426.8922424316406, 426.22967529296875, 420.37640380859375, 415.71929931640625, 383.4330749511719, 365.43853759765625, 352.7795104980469, 351.236572265625, 346.3348693847656, 344.98577880859375, 336.9692687988281, 334.3096008300781, 323.5737609863281, 315.0066833496094, 1995.52001953125, 442.4599609375, 568.702392578125, 510.8680725097656, 1830.571044921875, 727.3225708007812, 976.7296752929688, 922.3189697265625, 619.765380859375, 470.2213134765625, 491.25244140625, 456.1102600097656, 525.1718139648438, 671.3572387695312, 504.14630126953125, 454.6849060058594, 475.3018493652344, 1481.8367919921875, 1345.9346923828125, 960.5885620117188, 757.5661010742188, 750.6580200195312, 718.413818359375, 651.5704956054688, 604.5166625976562, 579.6622314453125, 552.0004272460938, 506.24212646484375, 498.0943908691406, 434.0850830078125, 429.6555480957031, 396.128662109375, 394.0184326171875, 388.25579833984375, 388.1770935058594, 388.0500793457031, 379.42169189453125, 374.2811279296875, 363.65069580078125, 360.3396301269531, 318.5881652832031, 294.8838806152344, 294.4183654785156, 284.6730651855469, 283.3147277832031, 277.50543212890625, 275.3778076171875, 641.2110595703125, 420.6324768066406, 447.0355224609375, 749.341064453125, 373.2902526855469, 525.0064697265625, 2357.799072265625, 563.6192626953125, 547.285400390625, 465.79376220703125, 462.05364990234375, 409.8023986816406, 402.16827392578125, 379.459716796875, 315.2212219238281, 308.1971435546875, 275.5658264160156, 255.84524536132812, 254.9651641845703, 245.8084259033203, 245.53419494628906, 239.41326904296875, 236.54483032226562, 233.0447998046875, 221.83349609375, 212.494140625, 209.2031707763672, 209.2031707763672, 207.37884521484375, 203.81832885742188, 201.0045166015625, 197.98968505859375, 194.56024169921875, 186.85824584960938, 186.41497802734375, 184.48313903808594, 376.50274658203125, 624.7797241210938, 647.2821655273438, 271.75750732421875, 483.7506103515625, 236.94993591308594, 210.37979125976562, 1775.184814453125, 690.9578247070312, 527.764404296875, 527.3839721679688, 390.19720458984375, 382.4716796875, 365.5611572265625, 343.8636474609375, 329.7957763671875, 325.4664001464844, 292.0497741699219, 251.0664520263672, 168.50653076171875, 160.2444610595703, 158.13485717773438, 151.37432861328125, 142.43115234375, 141.6749725341797, 131.24302673339844, 126.81680297851562, 91.48603820800781, 81.78575897216797, 65.39118194580078, 62.39186096191406, 62.06943893432617, 61.553184509277344, 55.98428726196289, 54.325775146484375, 51.46867370605469, 40.8797492980957, 490.8105163574219, 160.1988067626953, 402.0156555175781, 83.80469512939453, 246.9844207763672, 213.83631896972656, 244.20187377929688, 154.228271484375, 118.94679260253906, 134.05931091308594, 134.6180877685547, 1440.265869140625, 620.904296875, 562.43701171875, 448.6211853027344, 286.5126647949219, 188.0428009033203, 176.4913787841797, 174.30555725097656, 161.4541015625, 161.2066192626953, 144.8266143798828, 131.9490509033203, 118.68515014648438, 116.66556549072266, 99.24118041992188, 96.34941101074219, 96.05183410644531, 94.32227325439453, 87.62129211425781, 84.41336822509766, 83.95677185058594, 77.68365478515625, 74.41828918457031, 73.15167236328125, 70.8317642211914, 66.95159149169922, 62.9404296875, 60.9738655090332, 60.906776428222656, 58.09435272216797, 271.4435119628906, 208.3019256591797, 406.7294006347656, 68.16971588134766, 143.6249237060547, 143.88861083984375, 96.68987274169922, 106.3488998413086, 113.13188934326172, 479.7630615234375, 416.752685546875, 353.743408203125, 343.8813171386719, 328.7684020996094, 303.70758056640625, 259.7342224121094, 249.26513671875, 193.17002868652344, 150.89004516601562, 146.4572296142578, 131.88380432128906, 87.08080291748047, 77.95508575439453, 73.48450469970703, 72.39828491210938, 72.04497528076172, 67.90155792236328, 61.86533737182617, 58.76222229003906, 57.93635559082031, 57.918460845947266, 57.892601013183594, 57.85316467285156, 57.85316467285156, 57.847991943359375, 57.847991943359375, 57.847991943359375, 57.78411865234375, 57.78411865234375, 143.7344207763672, 57.78411865234375, 65.69346618652344, 63.92479705810547, 61.60073471069336, 63.30847930908203, 63.77158737182617, 853.0298461914062, 375.1444396972656, 348.3894958496094, 271.9913330078125, 253.38206481933594, 240.55043029785156, 198.0885009765625, 188.5424041748047, 162.68161010742188, 160.9303436279297, 141.53834533691406, 124.60137939453125, 124.13484954833984, 113.25293731689453, 102.25938415527344, 100.77377319335938, 92.54336547851562, 83.89208221435547, 78.71064758300781, 78.06222534179688, 72.63121795654297, 64.87110900878906, 55.128578186035156, 47.864139556884766, 43.86212158203125, 40.53388595581055, 39.81019592285156, 37.78761291503906, 35.44652557373047, 34.705223083496094, 64.8951187133789, 497.48614501953125, 304.42706298828125, 247.1482696533203, 226.55274963378906, 195.47764587402344, 184.5660400390625, 177.36761474609375, 168.2990264892578, 148.8027801513672, 129.8360137939453, 129.069580078125, 127.20291900634766, 116.22449493408203, 112.8272933959961, 107.72615051269531, 91.253173828125, 90.68937683105469, 89.90294647216797, 88.50791931152344, 85.47449493408203, 66.59288024902344, 60.473167419433594, 56.55368423461914, 55.62952423095703, 54.414920806884766, 48.21435546875, 45.75349426269531, 36.40763473510742, 35.2995719909668, 34.62124252319336, 329.5946960449219, 57.51723861694336, 508.517578125, 232.3358917236328, 221.9794158935547, 153.87109375, 145.20065307617188, 136.92237854003906, 123.61982727050781, 113.77379608154297, 108.24514770507812, 107.1886978149414, 101.59051513671875, 82.3803482055664, 71.38595581054688, 62.8587646484375, 61.84189224243164, 56.52587127685547, 51.475364685058594, 51.421321868896484, 48.24287414550781, 47.22518539428711, 43.59151077270508, 43.41944885253906, 42.88857650756836, 42.32650375366211, 37.42412185668945, 34.84196090698242, 32.76388168334961, 30.961830139160156, 28.517961502075195, 28.19154930114746, 130.7617950439453, 106.25980377197266, 179.42149353027344, 165.32781982421875, 163.40155029296875, 133.75137329101562, 132.29164123535156, 100.8344497680664, 99.18665313720703, 98.02302551269531, 93.33614349365234, 84.06262969970703, 82.4163589477539, 77.8207015991211, 66.05224609375, 63.85201644897461, 59.314247131347656, 59.02192687988281, 56.44750213623047, 55.9538459777832, 49.954200744628906, 49.09720993041992, 48.540199279785156, 47.14848709106445, 45.10773468017578, 42.2203483581543, 38.39052200317383, 37.011085510253906, 35.935794830322266, 33.49558639526367, 30.804597854614258, 28.755462646484375, 58.95584487915039, 69.82366943359375, 280.383056640625, 257.2259521484375, 153.83868408203125, 132.79248046875, 130.9830322265625, 130.8446044921875, 129.1339111328125, 127.09012603759766, 98.49006652832031, 93.06975555419922, 84.34307098388672, 67.60498046875, 65.87419891357422, 57.669673919677734, 56.459693908691406, 51.57908248901367, 37.838958740234375, 37.296051025390625, 35.568965911865234, 35.18821716308594, 34.1169319152832, 32.459007263183594, 32.07178497314453, 30.801532745361328, 27.86684799194336, 27.53035545349121, 27.25348472595215, 26.72437286376953, 25.122385025024414, 20.75872039794922, 67.23900604248047, 30.170988082885742, 193.69557189941406, 175.58970642089844, 90.82025146484375, 83.3365249633789, 72.57781982421875, 68.41181182861328, 67.17037200927734, 50.947425842285156, 41.98686218261719, 39.18049621582031, 36.46143341064453, 34.393890380859375, 31.89647102355957, 30.904369354248047, 28.56990623474121, 26.82276725769043, 26.301292419433594, 24.79832649230957, 24.505788803100586, 24.209070205688477, 23.165973663330078, 22.91554832458496, 22.22406578063965, 20.75388526916504, 19.338241577148438, 19.131927490234375, 16.31100082397461, 15.578746795654297, 13.127486228942871, 9.574301719665527, 15.138751029968262, 27.80245590209961, 124.03662109375, 68.8802261352539, 68.71003723144531, 66.87178802490234, 51.24925994873047, 35.59560775756836, 28.88398551940918, 25.272306442260742, 19.65433692932129, 19.417285919189453, 19.008649826049805, 15.023723602294922, 14.512782096862793, 13.454690933227539, 12.386394500732422, 7.108536720275879, 6.897882461547852, 4.405306339263916, 2.3381989002227783, 0.024832526221871376, 0.024817414581775665, 0.024817414581775665, 0.024816768243908882, 0.024816691875457764, 0.024817008525133133, 0.024816550314426422, 0.024816550314426422, 0.024816550314426422, 0.024816611781716347, 0.024816283956170082, 0.024817775934934616, 0.024817591533064842, 0.024816786870360374, 6.943287372589111, 3.400482416152954, 1.7074521780014038, 0.8440439701080322, 0.8171383142471313, 0.005046783946454525, 0.005046783946454525, 0.005046784412115812, 0.005046783946454525, 0.005046776495873928, 0.005046764388680458, 0.005046752281486988, 0.005046784412115812, 0.00504674669355154, 0.00504674669355154, 0.00504674669355154, 0.0050467876717448235, 0.0050468225963413715, 0.00504674669355154, 0.00504674669355154, 0.005046761594712734, 0.005046766251325607, 0.00504674669355154, 0.00504679698497057, 0.005046736914664507, 0.005046736914664507, 0.005046740174293518, 0.005046736914664507, 0.005046740174293518, 0.005046755541115999, 0.005046745762228966, 0.00504674669355154, 0.005046769976615906, 0.005046760197728872, 0.005046760197728872, 0.005046777427196503, 0.005046760197728872, 0.0050467755645513535, 0.005046810954809189, 0.00504676066339016, 0.005046749487519264, 0.005046749021857977, 0.005046749021857977, 0.00504676066339016, 0.005046751815825701, 0.005046749487519264, 0.005046773701906204, 0.005046760197728872, 0.005046773236244917, 0.005046767182648182, 0.00504676066339016], \"Term\": [\"ax\", \"organization\", \"lines\", \"writes\", \"article\", \"nntp_posting\", \"max\", \"people\", \"university\", \"would\", \"host\", \"like\", \"space\", \"god\", \"system\", \"key\", \"evidence\", \"one\", \"year\", \"first\", \"information\", \"israel\", \"know\", \"government\", \"get\", \"us\", \"public\", \"think\", \"reply\", \"research\", \"god\", \"say\", \"believe\", \"reason\", \"things\", \"question\", \"true\", \"jesus\", \"rather\", \"nothing\", \"wrong\", \"faith\", \"com\", \"cannot\", \"mean\", \"christians\", \"bible\", \"yes\", \"ask\", \"agree\", \"claim\", \"often\", \"christian\", \"whether\", \"perhaps\", \"hell\", \"everyone\", \"mind\", \"word\", \"answer\", \"says\", \"trying\", \"think\", \"see\", \"come\", \"way\", \"one\", \"many\", \"even\", \"point\", \"would\", \"something\", \"may\", \"might\", \"however\", \"people\", \"know\", \"make\", \"well\", \"time\", \"since\", \"us\", \"find\", \"also\", \"could\", \"like\", \"good\", \"nntp_posting\", \"car\", \"buy\", \"keys\", \"bike\", \"cars\", \"sell\", \"disk\", \"originator\", \"player\", \"brain\", \"michael\", \"apr\", \"weeks\", \"engine\", \"friend\", \"bought\", \"serial_number\", \"tape\", \"robert\", \"costs\", \"ago\", \"cheap\", \"month\", \"market\", \"insurance\", \"hot\", \"pgp\", \"expensive\", \"stolen\", \"organization\", \"lines\", \"article\", \"distribution_usa\", \"writes\", \"university\", \"host\", \"reply\", \"anyone\", \"anybody\", \"usa\", \"get\", \"looking\", \"like\", \"nice\", \"got\", \"price\", \"old\", \"good\", \"getting\", \"big\", \"back\", \"know\", \"would\", \"new\", \"much\", \"power\", \"could\", \"money\", \"really\", \"want\", \"one\", \"need\", \"better\", \"make\", \"mail\", \"thanks\", \"computer\", \"program\", \"windows\", \"software\", \"available\", \"card\", \"file\", \"mac\", \"info\", \"email\", \"sale\", \"cpu\", \"chip\", \"memory\", \"files\", \"version\", \"machine\", \"driver\", \"pc\", \"code\", \"hi\", \"hardware\", \"fax\", \"video\", \"scsi\", \"dos\", \"distribution_na\", \"graphics\", \"drive\", \"mb\", \"using\", \"system\", \"send\", \"please\", \"bit\", \"help\", \"data\", \"also\", \"problem\", \"need\", \"number\", \"used\", \"set\", \"year\", \"team\", \"game\", \"second\", \"points\", \"gun\", \"play\", \"games\", \"president\", \"lost\", \"new_york\", \"th\", \"talk\", \"division\", \"canada\", \"season\", \"week\", \"steve\", \"belief\", \"teams\", \"paul\", \"nhl\", \"mike\", \"scott\", \"chicago\", \"early\", \"four\", \"motif\", \"total\", \"boston\", \"last\", \"vs\", \"david\", \"close\", \"first\", \"next\", \"went\", \"three\", \"day\", \"win\", \"two\", \"st\", \"john\", \"time\", \"go\", \"years\", \"back\", \"end\", \"one\", \"evidence\", \"law\", \"children\", \"death\", \"men\", \"truth\", \"exist\", \"force\", \"religious\", \"laws\", \"country\", \"states\", \"rights\", \"society\", \"guns\", \"pin\", \"clinton\", \"military\", \"killed\", \"police\", \"lots\", \"upon\", \"women\", \"risk\", \"self\", \"members\", \"shall\", \"child\", \"events\", \"statement\", \"act\", \"history\", \"government\", \"become\", \"public\", \"people\", \"cause\", \"state\", \"said\", \"groups\", \"us\", \"today\", \"world\", \"right\", \"issue\", \"years\", \"number\", \"fact\", \"two\", \"new\", \"ax\", \"max\", \"update\", \"dual\", \"sunday\", \"ub\", \"arizona\", \"removing\", \"devils\", \"purdue_university\", \"nl\", \"pts\", \"finals\", \"sr\", \"film\", \"hill\", \"votes\", \"batteries\", \"dirt\", \"speakers\", \"xr\", \"neat\", \"adam\", \"du\", \"leather\", \"amps\", \"electrical_engineering\", \"drops\", \"pb\", \"retired\", \"senses\", \"talking\", \"via\", \"distribution\", \"patient\", \"md\", \"service\", \"development\", \"services\", \"health\", \"study\", \"secure\", \"scientific\", \"dod\", \"products\", \"patients\", \"disease\", \"medical\", \"drug\", \"analysis\", \"va\", \"ga\", \"announcement\", \"route\", \"imaging\", \"pub\", \"handle\", \"sci\", \"im\", \"mo\", \"research\", \"treatment\", \"die\", \"de\", \"information\", \"faq\", \"center\", \"national\", \"california\", \"air\", \"technical\", \"related\", \"general\", \"may\", \"provide\", \"office\", \"new\", \"home\", \"internet\", \"copy\", \"section\", \"solution\", \"la\", \"ed\", \"id\", \"gov\", \"possibly\", \"machines\", \"format\", \"object\", \"dc\", \"el\", \"university_illinois\", \"errors\", \"copies\", \"knew\", \"ss\", \"values\", \"brown\", \"ps\", \"checked\", \"ac\", \"computing\", \"xt\", \"checking\", \"honda\", \"australia\", \"dr\", \"voice\", \"block\", \"science\", \"possibility\", \"st\", \"space\", \"nasa\", \"moon\", \"orbit\", \"pl\", \"launch\", \"mission\", \"sc\", \"saturn\", \"mars\", \"vehicle\", \"fuel\", \"satellite\", \"astronomy\", \"met\", \"passing\", \"shuttle\", \"regards\", \"spacecraft\", \"rt\", \"software_vax\", \"vms_vnews\", \"lunar\", \"wiring\", \"space_shuttle\", \"vw\", \"satellites\", \"ns\", \"rider\", \"solar\", \"mu\", \"em\", \"earth\", \"rm\", \"mr\", \"ground\", \"tm\", \"key\", \"encryption\", \"drives\", \"clipper\", \"clipper_chip\", \"rsa\", \"chips\", \"nsa\", \"des\", \"law_enforcement\", \"printer\", \"crypto\", \"cubs\", \"privacy\", \"motorola\", \"scheme\", \"export\", \"cryptography\", \"message_apr\", \"specified\", \"algorithms\", \"distribution_inet\", \"contents\", \"eff\", \"wiretap\", \"amanda_walker\", \"networks\", \"digital_equipment\", \"disclaimer_opinions\", \"dynamic\", \"security\", \"communications\", \"public\", \"white_house\", \"technology\", \"message\", \"government\", \"data\", \"access\", \"bit\", \"system\", \"israel\", \"jews\", \"israeli\", \"jewish\", \"arab\", \"arabs\", \"super\", \"occupied\", \"charles\", \"feature\", \"russia\", \"frame\", \"materials\", \"rockets\", \"rocket\", \"stone\", \"jerusalem\", \"resulting\", \"holocaust\", \"occupation\", \"located\", \"brand\", \"river\", \"ba\", \"pointer\", \"liked\", \"kurds\", \"excellent_condition\", \"admin\", \"nicely\", \"villages\", \"corp\", \"soldiers\", \"planned\", \"peace\", \"attacks\", \"cambridge\", \"land\", \"war\", \"greek\", \"armenians\", \"turkish\", \"turks\", \"armenian\", \"turkey\", \"responses\", \"blind\", \"armenia\", \"cap\", \"serdar_argic\", \"communication_services\", \"netcom_line\", \"genocide\", \"imagination\", \"soviet_armenia\", \"argic\", \"proves\", \"today_longer\", \"remainder\", \"might_serve\", \"ohanus_appressian\", \"mountain_passes\", \"ways_escape\", \"closed_roads\", \"sahak_melkonian\", \"turkish_soul\", \"exists_single\", \"turks_proceeded\", \"work_extermination\", \"german\", \"reply_serdar\", \"slaughter\", \"guest\", \"russian\", \"soldiers\", \"distribution_world\", \"physical\", \"sounds\", \"family\", \"page\", \"larger\", \"direct\", \"intel\", \"zone\", \"decent\", \"pd\", \"load\", \"human_beings\", \"cr\", \"ho\", \"fi\", \"appeared\", \"circuits\", \"allen\", \"worried\", \"semi\", \"experiment\", \"specification\", \"spec\", \"sons\", \"tiff\", \"beaverton\", \"genesis\", \"mathematical\", \"clayton\", \"closet\", \"ab\", \"pa\", \"al\", \"cable\", \"ice\", \"detroit\", \"rob\", \"alan\", \"throw\", \"last_night\", \"minnesota\", \"stats\", \"boards\", \"nh\", \"watching\", \"custom\", \"scored\", \"fee\", \"amp\", \"broke\", \"fish\", \"bars\", \"hitter\", \"kinda\", \"po_andrew\", \"trace\", \"lowest\", \"lifetime\", \"connectors\", \"cmu_reply\", \"cables\", \"van\", \"rd\", \"books\", \"iran\", \"islam\", \"uk\", \"criminal\", \"islamic\", \"prize\", \"issued\", \"roger\", \"relations\", \"trivial\", \"secular\", \"qur\", \"schools\", \"jpeg\", \"fred_rice\", \"presenting\", \"boost\", \"penalties\", \"approximately\", \"dates\", \"everywhere\", \"reward\", \"rushdie\", \"sacred\", \"democracy\", \"rain\", \"death_penalty\", \"controversy\", \"britain\", \"muslims\", \"muslim\", \"door\", \"case_western\", \"reserve_university\", \"production\", \"solutions\", \"specs\", \"sony\", \"ins_cwru\", \"beautiful\", \"england\", \"sam\", \"acquired\", \"il\", \"cleveland_ohio\", \"new_zealand\", \"ms_dos\", \"organisation\", \"le\", \"strength\", \"hamilton\", \"silver\", \"manage\", \"mathematics\", \"arranged\", \"promotion\", \"western_digital\", \"doors\", \"host_slc\", \"australian\", \"nf\", \"au\", \"eric\", \"atheists\", \"clearly\", \"motto\", \"keith\", \"california_institute\", \"collins\", \"helmet\", \"technology_pasadena\", \"stephen\", \"guilty\", \"hitler\", \"braves\", \"assign\", \"atlanta\", \"keith_allan\", \"observation\", \"tommy\", \"louis\", \"assumptions\", \"plays\", \"expense\", \"cage\", \"partially\", \"remind\", \"chicago_il\", \"tail\", \"agrees\", \"austria\", \"misuse\", \"ridden\", \"orders\", \"arrived\", \"algorithm\", \"weapons\", \"amendment\", \"militia\", \"reduced\", \"packet\", \"keep_bear\", \"black_white\", \"restrictions\", \"tavares\", \"arbitrary\", \"entitled\", \"biological\", \"stratus_computer\", \"nuclear_weapons\", \"translate\", \"appearing\", \"speak_company\", \"special_investors\", \"semi_automatic\", \"needless_say\", \"accomplish\", \"checks\", \"handguns\", \"rifles\", \"appointed\", \"evidently\", \"visualization\", \"pole\", \"scenes\", \"interior\", \"arms\", \"texas\", \"cds\", \"san_francisco\", \"nt\", \"sys\", \"kit\", \"navy\", \"helsinki\", \"singapore\", \"press_release\", \"wk\", \"calif\", \"pov\", \"technology_finland\", \"comp_sci\", \"developers\", \"tga\", \"toshiba\", \"hut_fi\", \"cd\", \"vamp\", \"seal\", \"dance\", \"remixes\", \"music\", \"nitzer\", \"ebb\", \"transvision\", \"gonna\", \"traveling\", \"mv\", \"os\", \"mp\", \"timing\", \"der\", \"integra\", \"shaft\", \"ns_simms\", \"stardog\", \"kenyon\", \"moonroof\", \"champion\", \"timers\", \"farad\", \"integra_gsr\", \"ultra\", \"sunroofs\", \"wimpy\", \"accelerate\", \"crystal\", \"snow\", \"opaque\", \"shaded\", \"noah\", \"pellets\", \"roofs\", \"timer\", \"drooped\", \"antartic\", \"de_armond\", \"selonoid\", \"dixie\", \"drain\", \"quadras\", \"sunshade\", \"swinburne\", \"prometheus\", \"humanism\", \"iapetus\", \"isbn\", \"thermal\", \"atheist\", \"ingress_egress\", \"darwin\", \"discharge\", \"cell\", \"ring\", \"gs\", \"jay\", \"somewhat\", \"resources\", \"existence\", \"mr_stephanopoulos\", \"arguments\"], \"Total\": [54859.0, 18286.0, 18970.0, 12213.0, 11612.0, 7887.0, 4403.0, 9048.0, 6896.0, 13755.0, 6626.0, 9819.0, 2359.0, 6502.0, 4334.0, 1776.0, 3699.0, 13100.0, 3680.0, 4790.0, 2698.0, 1441.0, 7769.0, 2261.0, 7348.0, 5106.0, 1849.0, 6965.0, 4061.0, 2042.0, 6502.80517578125, 3829.055908203125, 3452.12158203125, 3338.287353515625, 2817.837158203125, 2617.1953125, 1944.7916259765625, 1755.6998291015625, 1749.2952880859375, 1727.7216796875, 1684.653564453125, 1665.4176025390625, 1585.14208984375, 1581.0711669921875, 1519.541748046875, 1436.3612060546875, 1432.8385009765625, 1377.1094970703125, 1360.1378173828125, 1322.5263671875, 1281.2711181640625, 1240.557861328125, 1216.9305419921875, 1204.442626953125, 1176.1878662109375, 1050.1182861328125, 1037.1258544921875, 1016.6215209960938, 975.281005859375, 945.6607666015625, 1593.3758544921875, 1657.429931640625, 6965.169921875, 4788.4560546875, 2750.50439453125, 4446.89599609375, 13100.2900390625, 4474.3984375, 4581.279296875, 2696.967529296875, 13755.4755859375, 3404.5830078125, 5983.73876953125, 2639.685546875, 2452.749267578125, 9048.8330078125, 7769.16259765625, 4350.59326171875, 5210.55126953125, 6426.3916015625, 3228.279541015625, 5106.8857421875, 2838.3095703125, 6766.650390625, 5380.97119140625, 9819.1201171875, 5946.03125, 7887.9716796875, 1780.522705078125, 1193.4119873046875, 855.6687622070312, 770.2943725585938, 761.2781372070312, 737.7838134765625, 718.32080078125, 710.8433227539062, 692.031494140625, 666.5399780273438, 643.4363403320312, 599.9218139648438, 589.6580200195312, 585.2685546875, 584.712158203125, 560.3448486328125, 553.5050659179688, 519.4656982421875, 509.5814208984375, 481.8067626953125, 474.3628234863281, 473.9554748535156, 434.3720397949219, 409.0226745605469, 407.2747497558594, 407.16387939453125, 406.5176696777344, 404.3597717285156, 391.07318115234375, 18286.40234375, 18970.3125, 11612.896484375, 1440.4202880859375, 12213.9443359375, 6896.3818359375, 6626.02490234375, 4061.982177734375, 3450.1044921875, 938.4449462890625, 1479.0269775390625, 7348.76123046875, 1479.2764892578125, 9819.1201171875, 854.65380859375, 2090.375244140625, 1371.3760986328125, 2132.354736328125, 5946.03125, 1379.0660400390625, 1378.818603515625, 3474.39404296875, 7769.16259765625, 13755.4755859375, 4716.0986328125, 4165.259765625, 1878.6685791015625, 5380.97119140625, 1576.793701171875, 3405.74267578125, 3668.848876953125, 13100.2900390625, 3913.663818359375, 2470.791015625, 4350.59326171875, 3047.19970703125, 2609.00927734375, 2498.56982421875, 2365.20751953125, 2258.065185546875, 1956.8245849609375, 1808.4449462890625, 1659.60205078125, 1658.64990234375, 1596.3602294921875, 1573.5018310546875, 1538.80908203125, 1459.3262939453125, 1397.074462890625, 1479.67919921875, 1203.338134765625, 1202.8023681640625, 1193.1070556640625, 1187.818603515625, 1157.8480224609375, 1130.268310546875, 1104.7554931640625, 1103.41552734375, 1081.8812255859375, 1050.759033203125, 1048.53515625, 996.7971801757812, 995.3509521484375, 988.104736328125, 972.0111083984375, 3188.862548828125, 1416.231689453125, 2881.99755859375, 4334.87646484375, 1571.025146484375, 3380.766357421875, 2377.554931640625, 2946.47412109375, 2052.77392578125, 6766.650390625, 3213.02490234375, 3913.663818359375, 2565.090087890625, 3507.94189453125, 1802.7254638671875, 3680.231689453125, 2308.133056640625, 1911.6512451171875, 1568.9498291015625, 1454.3365478515625, 1252.9619140625, 1123.2735595703125, 1121.9669189453125, 973.1351928710938, 948.0036010742188, 943.2134399414062, 931.9032592773438, 884.7671508789062, 882.3589477539062, 877.8243408203125, 869.500732421875, 864.5857543945312, 844.6058959960938, 800.5006103515625, 794.3472290039062, 779.6219482421875, 775.6431274414062, 765.3526611328125, 707.032958984375, 670.459716796875, 669.96630859375, 644.3551635742188, 633.2467651367188, 604.9743041992188, 601.2090454101562, 2708.02294921875, 1245.494873046875, 1305.27001953125, 818.4758911132812, 4790.32177734375, 2250.811279296875, 895.3489990234375, 1657.9949951171875, 2211.9814453125, 1537.523681640625, 4683.66845703125, 1706.20361328125, 1504.0546875, 6426.3916015625, 3359.802001953125, 2176.408447265625, 3474.39404296875, 2037.9234619140625, 13100.2900390625, 3699.80224609375, 1677.56640625, 1286.0902099609375, 1246.6578369140625, 1107.359619140625, 1047.0250244140625, 857.63427734375, 795.3860473632812, 789.5821533203125, 778.5516967773438, 769.00048828125, 727.5275268554688, 727.389892578125, 718.060791015625, 713.78759765625, 712.7440795898438, 665.2257080078125, 663.3148803710938, 662.0575561523438, 659.6536865234375, 653.1239624023438, 650.8110961914062, 650.1767578125, 646.2828369140625, 696.45947265625, 603.805908203125, 597.08642578125, 594.103271484375, 592.0579833984375, 569.2232055664062, 1103.180908203125, 956.1073608398438, 2261.0927734375, 849.5962524414062, 1849.004638671875, 9048.8330078125, 980.1727905273438, 2837.921142578125, 3778.66357421875, 1027.113525390625, 5106.8857421875, 1070.9273681640625, 2281.11279296875, 4060.3759765625, 1635.369140625, 2176.408447265625, 2565.090087890625, 2262.21826171875, 4683.66845703125, 4716.0986328125, 54859.125, 4403.6259765625, 632.669677734375, 548.1611328125, 504.2142639160156, 395.8629150390625, 349.6139831542969, 339.8536682128906, 326.78057861328125, 306.97503662109375, 299.11541748046875, 291.32318115234375, 288.7976379394531, 276.1683044433594, 260.1704406738281, 228.94020080566406, 226.08694458007812, 207.32276916503906, 184.58480834960938, 183.23446655273438, 177.15003967285156, 168.1715545654297, 146.12611389160156, 143.54254150390625, 138.9257354736328, 137.67250061035156, 128.37144470214844, 119.31819915771484, 119.13648986816406, 115.8882064819336, 1498.899169921875, 980.408447265625, 825.2811889648438, 809.4867553710938, 773.6099853515625, 768.835693359375, 726.24267578125, 629.2952880859375, 598.0724487304688, 597.7129516601562, 591.8803100585938, 579.8132934570312, 578.6875, 465.2227478027344, 452.961669921875, 441.4032897949219, 428.09521484375, 427.4326477050781, 421.5793762207031, 416.9222717285156, 384.63604736328125, 366.6415100097656, 353.98248291015625, 352.4395446777344, 347.537841796875, 346.1887512207031, 338.1722412109375, 335.5125732421875, 324.7767333984375, 316.20965576171875, 2042.5626220703125, 452.396728515625, 603.3220825195312, 539.7381591796875, 2698.892578125, 888.3444213867188, 1303.6392822265625, 1333.7333984375, 788.2223510742188, 555.8463745117188, 672.5888061523438, 581.7445678710938, 1286.1982421875, 5983.73876953125, 1113.77490234375, 829.1790161132812, 4716.0986328125, 1483.038330078125, 1347.13623046875, 961.7901000976562, 758.7676391601562, 751.8595581054688, 719.6153564453125, 652.7720336914062, 605.7182006835938, 580.86376953125, 553.2019653320312, 507.4435119628906, 499.2957763671875, 435.2864685058594, 430.85693359375, 397.3300476074219, 395.2198181152344, 389.4571838378906, 389.37847900390625, 389.25146484375, 380.6230773925781, 375.4825134277344, 364.8520812988281, 361.541015625, 319.78955078125, 296.08526611328125, 295.6197509765625, 285.87445068359375, 284.51611328125, 278.7068176269531, 276.5791931152344, 725.720703125, 496.80517578125, 551.5363159179688, 1348.5997314453125, 572.1016845703125, 1706.20361328125, 2359.006103515625, 564.8262939453125, 548.492431640625, 467.00067138671875, 463.26055908203125, 411.0093078613281, 403.37518310546875, 380.6666259765625, 316.4281311035156, 309.404052734375, 276.7727355957031, 257.0521545410156, 256.1720886230469, 247.01536560058594, 246.7411346435547, 240.62020874023438, 237.75177001953125, 234.25173950195312, 223.04043579101562, 213.70108032226562, 210.4101104736328, 210.4101104736328, 208.58578491210938, 205.0252685546875, 202.21145629882812, 199.19662475585938, 195.76718139648438, 188.065185546875, 187.62191772460938, 185.69007873535156, 408.953369140625, 845.1734619140625, 1245.579345703125, 356.0103454589844, 1245.7430419921875, 423.1894226074219, 293.3028259277344, 1776.4150390625, 692.1880493164062, 528.99462890625, 528.6141967773438, 391.4272766113281, 383.7017517089844, 366.7912292480469, 345.0937194824219, 331.0258483886719, 326.69647216796875, 293.27984619140625, 252.2965545654297, 169.73663330078125, 161.4745635986328, 159.36495971679688, 152.60443115234375, 143.6612548828125, 142.9050750732422, 132.47312927246094, 128.0469207763672, 92.71615600585938, 83.01587677001953, 66.62129974365234, 63.621986389160156, 63.299564361572266, 62.78330993652344, 57.214412689208984, 55.55590057373047, 52.69879913330078, 42.1098747253418, 795.27587890625, 319.5162353515625, 1849.004638671875, 119.31471252441406, 1285.619873046875, 1124.7786865234375, 2261.0927734375, 2052.77392578125, 900.8145751953125, 2377.554931640625, 4334.87646484375, 1441.5013427734375, 622.1397705078125, 563.6724853515625, 449.85650634765625, 287.74798583984375, 189.27818298339844, 177.7267608642578, 175.5409393310547, 162.68948364257812, 162.44200134277344, 146.06199645996094, 133.18443298339844, 119.92053985595703, 117.90095520019531, 100.47657012939453, 97.58480072021484, 97.28722381591797, 95.55766296386719, 88.85668182373047, 85.64875030517578, 85.1921615600586, 78.9190444946289, 75.65367889404297, 74.3870620727539, 72.06714630126953, 68.18697357177734, 64.17581939697266, 62.20926284790039, 62.142173767089844, 59.329750061035156, 309.398681640625, 246.40414428710938, 560.2000122070312, 75.84308624267578, 409.6841125488281, 440.629150390625, 257.69964599609375, 436.78253173828125, 746.1844482421875, 480.9840393066406, 417.9736633300781, 354.9643859863281, 345.102294921875, 329.9893798828125, 304.9285583496094, 260.9552001953125, 250.4861602783203, 194.39105224609375, 152.11106872558594, 147.67825317382812, 133.10482788085938, 88.30183410644531, 79.17611694335938, 74.70553588867188, 73.61931610107422, 73.26600646972656, 69.12258911132812, 63.08637619018555, 59.98326110839844, 59.15739440917969, 59.13949966430664, 59.11363983154297, 59.07420349121094, 59.07420349121094, 59.06903076171875, 59.06903076171875, 59.06903076171875, 59.005157470703125, 59.005157470703125, 148.24285888671875, 59.005157470703125, 102.5632553100586, 227.22105407714844, 244.72671508789062, 560.2000122070312, 1645.1705322265625, 854.2679443359375, 376.3824157714844, 349.6274719238281, 273.22930908203125, 254.62008666992188, 241.7884521484375, 199.32652282714844, 189.78042602539062, 163.9196319580078, 162.16836547851562, 142.7763671875, 125.83940124511719, 125.37287139892578, 114.49095916748047, 103.49740600585938, 102.01180267333984, 93.78138732910156, 85.1301040649414, 79.94867706298828, 79.30025482177734, 73.8692398071289, 66.109130859375, 56.36661148071289, 49.1021728515625, 45.100154876708984, 41.77191925048828, 41.0482292175293, 39.0256462097168, 36.6845588684082, 35.94325637817383, 192.79981994628906, 498.72003173828125, 305.66094970703125, 248.3822021484375, 227.78668212890625, 196.71157836914062, 185.7999725341797, 178.60154724121094, 169.532958984375, 150.03671264648438, 131.0699462890625, 130.3035125732422, 128.4368438720703, 117.45842742919922, 114.06122589111328, 108.9600830078125, 92.48710632324219, 91.92330932617188, 91.13687896728516, 89.74185180664062, 86.70842742919922, 67.82681274414062, 61.70710754394531, 57.78762435913086, 56.86346435546875, 55.648860931396484, 49.44829559326172, 46.98743438720703, 37.64157485961914, 36.533512115478516, 35.85518264770508, 353.3199768066406, 430.94873046875, 509.76202392578125, 233.58035278320312, 223.223876953125, 155.1155548095703, 146.4451141357422, 138.16683959960938, 124.86429595947266, 115.01826477050781, 109.48961639404297, 108.43316650390625, 102.8349838256836, 83.62481689453125, 72.63042449951172, 64.10323333740234, 63.086360931396484, 57.77033996582031, 52.71983337402344, 52.66579055786133, 49.487342834472656, 48.46965408325195, 44.83597946166992, 44.663917541503906, 44.1330451965332, 43.57097244262695, 38.6685905456543, 36.086429595947266, 34.00835037231445, 32.206298828125, 29.762434005737305, 29.43602180480957, 179.61459350585938, 156.46739196777344, 180.6655731201172, 166.5718994140625, 164.6456298828125, 134.99545288085938, 133.5357208251953, 102.07852935791016, 100.43073272705078, 99.26710510253906, 94.5802230834961, 85.30670928955078, 83.66043853759766, 79.06478118896484, 67.29632568359375, 65.0960922241211, 60.558326721191406, 60.26600646972656, 57.69158172607422, 57.19792556762695, 51.198280334472656, 50.34128952026367, 49.784278869628906, 48.3925666809082, 46.35181427001953, 43.46442794799805, 39.63460159301758, 38.255165100097656, 37.179874420166016, 34.73966598510742, 32.04867935180664, 29.999544143676758, 96.91050720214844, 128.77102661132812, 281.63330078125, 258.4761962890625, 155.08895874023438, 134.04275512695312, 132.23330688476562, 132.09487915039062, 130.38418579101562, 128.34039306640625, 99.74034118652344, 94.32003021240234, 85.59334564208984, 68.85525512695312, 67.12447357177734, 58.91994857788086, 57.70996856689453, 52.8293571472168, 39.0892333984375, 38.54632568359375, 36.81924057006836, 36.43849182128906, 35.36720657348633, 33.70928192138672, 33.322059631347656, 32.05180740356445, 29.117122650146484, 28.780630111694336, 28.50375747680664, 27.974647521972656, 26.37265968322754, 22.008995056152344, 74.74044036865234, 56.17300796508789, 194.95172119140625, 176.84585571289062, 92.07640075683594, 84.5926742553711, 73.83396911621094, 69.66796112060547, 68.42652130126953, 52.20357894897461, 43.24301528930664, 40.436649322509766, 37.717586517333984, 35.65004348754883, 33.15262222290039, 32.1605224609375, 29.82605743408203, 28.07891845703125, 27.557443618774414, 26.05447769165039, 25.761940002441406, 25.465221405029297, 24.4221248626709, 24.17169952392578, 23.48021697998047, 22.01003646850586, 20.594392776489258, 20.388078689575195, 17.56715202331543, 16.834897994995117, 14.383638381958008, 10.830452919006348, 30.043771743774414, 368.6468505859375, 125.30025482177734, 70.14385986328125, 69.97367095947266, 68.13542175292969, 52.512901306152344, 36.859249114990234, 30.147624969482422, 26.535945892333984, 20.91797637939453, 20.680925369262695, 20.272289276123047, 16.287363052368164, 15.776421546936035, 14.718330383300781, 13.650033950805664, 8.372176170349121, 8.16152286529541, 5.668946266174316, 3.6018383502960205, 1.288536548614502, 1.2884589433670044, 1.2884621620178223, 1.2884618043899536, 1.2884584665298462, 1.288480281829834, 1.2884573936462402, 1.2884573936462402, 1.2884573936462402, 1.2884694337844849, 1.288464069366455, 1.2885717153549194, 1.288558840751648, 1.2885090112686157, 8.22669506072998, 4.683890342712402, 2.9908599853515625, 2.1274518966674805, 2.10054612159729, 1.288455605506897, 1.288455605506897, 1.2884562015533447, 1.2884587049484253, 1.2884601354599, 1.288458228111267, 1.2884551286697388, 1.2884634733200073, 1.2884551286697388, 1.2884551286697388, 1.2884554862976074, 1.288465976715088, 1.2884747982025146, 1.288455605506897, 1.288455843925476, 1.2884600162506104, 1.2884613275527954, 1.2884571552276611, 1.2884701490402222, 1.2884564399719238, 1.2884564399719238, 1.2884572744369507, 1.2884564399719238, 1.2884571552276611, 1.2884615659713745, 1.2884589433670044, 1.288459300994873, 1.2884658575057983, 1.2884641885757446, 1.2884646654129028, 1.2884750366210938, 1.2884682416915894, 1.2884774208068848, 1.2885098457336426, 1.2884700298309326, 1.288463830947876, 1.2884631156921387, 1.2884622812271118, 1.2884784936904907, 1.288465976715088, 1.2884681224822998, 1.2885003089904785, 1.288484811782837, 1.2885398864746094, 1.2885154485702515, 1.2884926795959473], \"loglift\": [30.0, 29.0, 28.0, 27.0, 26.0, 25.0, 24.0, 23.0, 22.0, 21.0, 20.0, 19.0, 18.0, 17.0, 16.0, 15.0, 14.0, 13.0, 12.0, 11.0, 10.0, 9.0, 8.0, 7.0, 6.0, 5.0, 4.0, 3.0, 2.0, 1.0, 1.3550000190734863, 1.3547999858856201, 1.3547999858856201, 1.3547999858856201, 1.354699969291687, 1.354699969291687, 1.3545000553131104, 1.3545000553131104, 1.3545000553131104, 1.3545000553131104, 1.3544000387191772, 1.3544000387191772, 1.3544000387191772, 1.3544000387191772, 1.3544000387191772, 1.3543000221252441, 1.3543000221252441, 1.3543000221252441, 1.3543000221252441, 1.354200005531311, 1.354200005531311, 1.354200005531311, 1.354200005531311, 1.354200005531311, 1.354099988937378, 1.3539999723434448, 1.3539999723434448, 1.3539999723434448, 1.3538999557495117, 1.3538999557495117, 1.3494999408721924, 1.3293999433517456, 1.243299961090088, 1.232100009918213, 1.2666000127792358, 1.1964999437332153, 1.0579999685287476, 1.1901999711990356, 1.1582000255584717, 1.23580002784729, 0.923799991607666, 1.1689000129699707, 1.0224000215530396, 1.184999942779541, 1.1901999711990356, 0.7433000206947327, 0.7505000233650208, 0.9642000198364258, 0.8934000134468079, 0.7623999714851379, 1.0444999933242798, 0.828000009059906, 1.0987000465393066, 0.604200005531311, 0.7200000286102295, 0.3589000105857849, 0.3450999855995178, 1.7314000129699707, 1.7309000492095947, 1.7305999994277954, 1.7302000522613525, 1.7300000190734863, 1.7300000190734863, 1.7300000190734863, 1.7299000024795532, 1.7299000024795532, 1.7299000024795532, 1.7297999858856201, 1.729699969291687, 1.729599952697754, 1.729599952697754, 1.7295000553131104, 1.7295000553131104, 1.7294000387191772, 1.7294000387191772, 1.7293000221252441, 1.729200005531311, 1.729099988937378, 1.729099988937378, 1.729099988937378, 1.7288000583648682, 1.728600025177002, 1.728600025177002, 1.728600025177002, 1.728600025177002, 1.728600025177002, 1.7285000085830688, 1.7283999919891357, 1.7089999914169312, 1.705899953842163, 1.7259000539779663, 1.698699951171875, 1.7041000127792358, 1.694700002670288, 1.6962000131607056, 1.6514999866485596, 1.6936999559402466, 1.6404999494552612, 1.3861000537872314, 1.57260000705719, 1.2624000310897827, 1.6585999727249146, 1.4599000215530396, 1.5392999649047852, 1.419100046157837, 1.1404999494552612, 1.5235999822616577, 1.5226000547409058, 1.2430000305175781, 0.9409999847412109, 0.65829998254776, 1.0328999757766724, 1.0729999542236328, 1.378100037574768, 0.8644000291824341, 1.427899956703186, 1.0153000354766846, 0.8938999772071838, 0.01679999940097332, 0.8246999979019165, 1.0470999479293823, 0.49549999833106995, 2.0048000812530518, 2.004699945449829, 2.004699945449829, 2.004699945449829, 2.004699945449829, 2.0046000480651855, 2.004499912261963, 2.004499912261963, 2.004499912261963, 2.004499912261963, 2.0044000148773193, 2.0044000148773193, 2.0044000148773193, 2.004300117492676, 2.004300117492676, 2.004199981689453, 2.004199981689453, 2.004199981689453, 2.004199981689453, 2.004199981689453, 2.0041000843048096, 2.0041000843048096, 2.0041000843048096, 2.0041000843048096, 2.0041000843048096, 2.0041000843048096, 2.003999948501587, 2.003999948501587, 2.003999948501587, 2.003999948501587, 1.9146000146865845, 1.958400011062622, 1.8530999422073364, 1.7244000434875488, 1.9124000072479248, 1.694100022315979, 1.6933000087738037, 1.5462000370025635, 1.7122999429702759, 0.8478000164031982, 1.3006000518798828, 1.0598000288009644, 1.3674999475479126, 1.0946999788284302, 1.654099941253662, 2.0815999507904053, 2.081399917602539, 2.0813000202178955, 2.081199884414673, 2.0810999870300293, 2.0810000896453857, 2.080899953842163, 2.080899953842163, 2.080699920654297, 2.080699920654297, 2.080699920654297, 2.080699920654297, 2.0806000232696533, 2.0806000232696533, 2.0806000232696533, 2.0806000232696533, 2.0806000232696533, 2.0804998874664307, 2.0804998874664307, 2.080399990081787, 2.080399990081787, 2.080399990081787, 2.080399990081787, 2.0803000926971436, 2.080199956893921, 2.080199956893921, 2.0801000595092773, 2.0801000595092773, 2.0799999237060547, 2.0799999237060547, 2.0755999088287354, 2.0660998821258545, 2.049499988555908, 2.0659000873565674, 1.8774000406265259, 1.9551000595092773, 2.0501999855041504, 1.944599986076355, 1.805299997329712, 1.896299958229065, 1.5322999954223633, 1.695199966430664, 1.7027000188827515, 0.7975000143051147, 1.1455999612808228, 1.3859000205993652, 0.9728999733924866, 1.2683000564575195, -0.5835999846458435, 2.1482999324798584, 2.1480000019073486, 2.147700071334839, 2.147700071334839, 2.147599935531616, 2.1475000381469727, 2.1473000049591064, 2.147200107574463, 2.1470999717712402, 2.1470999717712402, 2.1470999717712402, 2.1470000743865967, 2.1470000743865967, 2.1470000743865967, 2.1470000743865967, 2.1470000743865967, 2.146899938583374, 2.146899938583374, 2.146899938583374, 2.1468000411987305, 2.1468000411987305, 2.1468000411987305, 2.1468000411987305, 2.1468000411987305, 2.146699905395508, 2.146699905395508, 2.146699905395508, 2.1466000080108643, 2.1466000080108643, 2.1466000080108643, 2.1461000442504883, 2.111999988555908, 2.033799886703491, 2.0871999263763428, 1.9026999473571777, 1.3667999505996704, 2.0227999687194824, 1.6829999685287476, 1.5069999694824219, 1.9660999774932861, 1.1751999855041504, 1.8992999792099, 1.4385000467300415, 0.921500027179718, 1.4714000225067139, 1.2003999948501587, 0.9990000128746033, 1.0297000408172607, 0.30649998784065247, 0.2994999885559082, 3.02839994430542, 3.0281999111175537, 3.026599884033203, 3.0262999534606934, 3.02620005607605, 3.0255000591278076, 3.0251998901367188, 3.025099992752075, 3.024899959564209, 3.0246999263763428, 3.024600028991699, 3.0244998931884766, 3.0244998931884766, 3.0243000984191895, 3.0239999294281006, 3.023400068283081, 3.023400068283081, 3.022900104522705, 3.022200107574463, 3.022200107574463, 3.0220000743865967, 3.0216000080108643, 3.0206000804901123, 3.0204999446868896, 3.02020001411438, 3.0201001167297363, 3.0195000171661377, 3.0188000202178955, 3.0188000202178955, 3.0185000896453857, 3.146199941635132, 3.1458001136779785, 3.1456000804901123, 3.1456000804901123, 3.1454999446868896, 3.1454999446868896, 3.145400047302246, 3.1451001167297363, 3.1449999809265137, 3.1449999809265137, 3.1449999809265137, 3.1449999809265137, 3.1449999809265137, 3.1445000171661377, 3.144399881362915, 3.1442999839782715, 3.144200086593628, 3.144200086593628, 3.144200086593628, 3.144200086593628, 3.143899917602539, 3.1438000202178955, 3.1435999870300293, 3.1435999870300293, 3.1435999870300293, 3.1435999870300293, 3.1435000896453857, 3.1435000896453857, 3.1433000564575195, 3.143199920654297, 3.123699903488159, 3.124799966812134, 3.0880000591278076, 3.092099905014038, 2.7588000297546387, 2.9470999240875244, 2.858299970626831, 2.7781999111175537, 2.906599998474121, 2.97979998588562, 2.832900047302246, 2.903700113296509, 2.251300096511841, 0.9595000147819519, 2.3543999195098877, 2.5462000370025635, 0.8522999882698059, 3.603300094604492, 3.6031999588012695, 3.6029000282287598, 3.6024999618530273, 3.6024999618530273, 3.602400064468384, 3.602299928665161, 3.602099895477295, 3.6019999980926514, 3.601900100708008, 3.6017000675201416, 3.6017000675201416, 3.6013998985290527, 3.601300001144409, 3.601099967956543, 3.601099967956543, 3.6010000705718994, 3.6010000705718994, 3.6010000705718994, 3.6010000705718994, 3.6008999347686768, 3.600800037384033, 3.600800037384033, 3.600399971008301, 3.5999999046325684, 3.5999999046325684, 3.599900007247925, 3.599900007247925, 3.5998001098632812, 3.5998001098632812, 3.480299949645996, 3.437700033187866, 3.3940000534057617, 3.0164999961853027, 3.1772000789642334, 2.42549991607666, 4.025199890136719, 4.023499965667725, 4.023499965667725, 4.023099899291992, 4.023099899291992, 4.02269983291626, 4.02269983291626, 4.022500038146973, 4.021900177001953, 4.0218000411987305, 4.021299839019775, 4.020999908447266, 4.020999908447266, 4.0208001136779785, 4.0208001136779785, 4.020699977874756, 4.020599842071533, 4.020500183105469, 4.020299911499023, 4.019999980926514, 4.019899845123291, 4.019899845123291, 4.019899845123291, 4.019800186157227, 4.019700050354004, 4.019599914550781, 4.019499778747559, 4.019199848175049, 4.019199848175049, 4.019199848175049, 3.943000078201294, 3.7235000133514404, 3.3710999488830566, 3.7555999755859375, 3.0797998905181885, 3.44569993019104, 3.6933999061584473, 4.6031999588012695, 4.602099895477295, 4.601500034332275, 4.601500034332275, 4.6006999015808105, 4.6006999015808105, 4.600500106811523, 4.600299835205078, 4.600100040435791, 4.600100040435791, 4.599699974060059, 4.598999977111816, 4.59660005569458, 4.596199989318848, 4.596099853515625, 4.595799922943115, 4.595300197601318, 4.595200061798096, 4.5945000648498535, 4.594200134277344, 4.5904998779296875, 4.588900089263916, 4.58519983291626, 4.5843000411987305, 4.584199905395508, 4.584099769592285, 4.582099914550781, 4.581500053405762, 4.5802998542785645, 4.57420015335083, 4.121200084686279, 3.9135000705718994, 3.078000068664551, 4.2505998611450195, 2.954200029373169, 2.943700075149536, 2.3782999515533447, 2.015399932861328, 2.579200029373169, 1.7282999753952026, 1.1318999528884888, 4.833700180053711, 4.832600116729736, 4.832399845123291, 4.831900119781494, 4.8302998542785645, 4.828100204467773, 4.827600002288818, 4.827499866485596, 4.827000141143799, 4.827000141143799, 4.826099872589111, 4.825300216674805, 4.82420015335083, 4.824100017547607, 4.822199821472168, 4.821899890899658, 4.821800231933594, 4.821599960327148, 4.8206000328063965, 4.820099830627441, 4.820000171661377, 4.81879997253418, 4.8180999755859375, 4.81790018081665, 4.817299842834473, 4.816299915313721, 4.815199851989746, 4.814499855041504, 4.814499855041504, 4.813600063323975, 4.703700065612793, 4.666600227355957, 4.514500141143799, 4.72790002822876, 3.786400079727173, 3.715399980545044, 3.854300022125244, 3.4219000339508057, 2.948199987411499, 4.890600204467773, 4.890200138092041, 4.889699935913086, 4.889599800109863, 4.889400005340576, 4.889100074768066, 4.888500213623047, 4.888299942016602, 4.8867998123168945, 4.8850998878479, 4.884799957275391, 4.883900165557861, 4.879199981689453, 4.877600193023682, 4.876699924468994, 4.876399993896484, 4.876299858093262, 4.87529993057251, 4.873600006103516, 4.872600078582764, 4.872300148010254, 4.872300148010254, 4.872300148010254, 4.872300148010254, 4.872300148010254, 4.872300148010254, 4.872300148010254, 4.872300148010254, 4.872200012207031, 4.872200012207031, 4.862299919128418, 4.872200012207031, 4.447700023651123, 3.6249001026153564, 3.513700008392334, 2.712899923324585, 1.642899990081787, 5.171999931335449, 5.170199871063232, 5.170000076293945, 5.169000148773193, 5.168600082397461, 5.168399810791016, 5.167300224304199, 5.166999816894531, 5.165900230407715, 5.165800094604492, 5.16480016708374, 5.163599967956543, 5.163599967956543, 5.162600040435791, 5.161499977111816, 5.161300182342529, 5.160200119018555, 5.15880012512207, 5.157899856567383, 5.157800197601318, 5.156599998474121, 5.154600143432617, 5.151299953460693, 5.1479997634887695, 5.145699977874756, 5.143400192260742, 5.142899990081787, 5.141300201416016, 5.139200210571289, 5.138400077819824, 4.08459997177124, 5.205699920654297, 5.204100131988525, 5.203199863433838, 5.2027997970581055, 5.201900005340576, 5.201499938964844, 5.201300144195557, 5.200900077819824, 5.199900150299072, 5.198699951171875, 5.198699951171875, 5.198500156402588, 5.1975998878479, 5.197299957275391, 5.196800231933594, 5.194799900054932, 5.194699764251709, 5.1946001052856445, 5.194300174713135, 5.193900108337402, 5.189799785614014, 5.188000202178955, 5.186600208282471, 5.186200141906738, 5.185800075531006, 5.1828999519348145, 5.181600093841553, 5.174900054931641, 5.173799991607666, 5.1732001304626465, 5.138700008392334, 3.1942999362945557, 5.449900150299072, 5.447000026702881, 5.446700096130371, 5.444200038909912, 5.44379997253418, 5.44320011138916, 5.442299842834473, 5.441400051116943, 5.440899848937988, 5.440800189971924, 5.440100193023682, 5.437300205230713, 5.434999942779541, 5.432700157165527, 5.432400226593018, 5.430500030517578, 5.428400039672852, 5.428400039672852, 5.426799774169922, 5.426300048828125, 5.424099922180176, 5.423999786376953, 5.423699855804443, 5.423299789428711, 5.419600009918213, 5.417200088500977, 5.414999961853027, 5.412899971008301, 5.409599781036377, 5.40910005569458, 5.134900093078613, 5.065299987792969, 5.540900230407715, 5.540299892425537, 5.540200233459473, 5.53849983215332, 5.538400173187256, 5.5355000495910645, 5.535299777984619, 5.535200119018555, 5.5345001220703125, 5.533100128173828, 5.532800197601318, 5.531899929046631, 5.529099941253662, 5.528500080108643, 5.5269999504089355, 5.526899814605713, 5.526000022888184, 5.5258002281188965, 5.523200035095215, 5.52269983291626, 5.522500038146973, 5.521699905395508, 5.520599842071533, 5.518700122833252, 5.515900135040283, 5.514699935913086, 5.513700008392334, 5.511300086975098, 5.508200168609619, 5.50540018081665, 5.05079984664917, 4.935699939727783, 5.643499851226807, 5.643099784851074, 5.639900207519531, 5.638599872589111, 5.638500213623047, 5.638500213623047, 5.638400077819824, 5.638199806213379, 5.63539981842041, 5.6346001625061035, 5.633299827575684, 5.629700183868408, 5.629199981689453, 5.626500129699707, 5.626100063323975, 5.624000072479248, 5.615499973297119, 5.614999771118164, 5.613399982452393, 5.613100051879883, 5.611999988555908, 5.610199928283691, 5.6097002029418945, 5.6082000732421875, 5.604100227355957, 5.603600025177002, 5.603099822998047, 5.60230016708374, 5.599400043487549, 5.5894999504089355, 5.542200088500977, 5.026400089263916, 5.98390007019043, 5.98330020904541, 5.9766998291015625, 5.975399971008301, 5.973299980163574, 5.9721999168396, 5.97189998626709, 5.966100215911865, 5.960899829864502, 5.958899974822998, 5.956500053405762, 5.954500198364258, 5.9517998695373535, 5.9506001472473145, 5.947400093078613, 5.9446001052856445, 5.94379997253418, 5.940999984741211, 5.940400123596191, 5.939799785614014, 5.937600135803223, 5.936999797821045, 5.935400009155273, 5.931600093841553, 5.927499771118164, 5.926799774169922, 5.916200160980225, 5.912899971008301, 5.89900016784668, 5.867099761962891, 5.304999828338623, 3.4056999683380127, 6.408400058746338, 6.400400161743164, 6.400400161743164, 6.399899959564209, 6.394199848175049, 6.383699893951416, 6.375800132751465, 6.369800090789795, 6.356299877166748, 6.355500221252441, 6.3541998863220215, 6.337800025939941, 6.335100173950195, 6.328800201416016, 6.321400165557861, 6.255000114440918, 6.250400066375732, 6.166399955749512, 5.986499786376953, 2.4695000648498535, 2.468899965286255, 2.468899965286255, 2.468899965286255, 2.468899965286255, 2.468899965286255, 2.468899965286255, 2.468899965286255, 2.468899965286255, 2.468899965286255, 2.468899965286255, 2.468899965286255, 2.468899965286255, 2.468899965286255, 8.061800003051758, 7.911200046539307, 7.670899868011475, 7.3069000244140625, 7.287300109863281, 2.688999891281128, 2.688999891281128, 2.688999891281128, 2.688999891281128, 2.688999891281128, 2.688999891281128, 2.688999891281128, 2.688999891281128, 2.688999891281128, 2.688999891281128, 2.688999891281128, 2.688999891281128, 2.688999891281128, 2.688999891281128, 2.688999891281128, 2.688999891281128, 2.688999891281128, 2.688999891281128, 2.688999891281128, 2.688999891281128, 2.688999891281128, 2.688999891281128, 2.688999891281128, 2.688999891281128, 2.688999891281128, 2.688999891281128, 2.688999891281128, 2.688999891281128, 2.688999891281128, 2.688999891281128, 2.688999891281128, 2.688999891281128, 2.688999891281128, 2.6888999938964844, 2.688999891281128, 2.688999891281128, 2.688999891281128, 2.688999891281128, 2.6888999938964844, 2.688999891281128, 2.688999891281128, 2.6888999938964844, 2.6888999938964844, 2.6888999938964844, 2.6888999938964844, 2.6888999938964844], \"logprob\": [30.0, 29.0, 28.0, 27.0, 26.0, 25.0, 24.0, 23.0, 22.0, 21.0, 20.0, 19.0, 18.0, 17.0, 16.0, 15.0, 14.0, 13.0, 12.0, 11.0, 10.0, 9.0, 8.0, 7.0, 6.0, 5.0, 4.0, 3.0, 2.0, 1.0, -4.189199924468994, -4.718999862670898, -4.8225998878479, -4.856200218200684, -5.025700092315674, -5.099599838256836, -5.396699905395508, -5.499100208282471, -5.502699851989746, -5.515200138092041, -5.54040002822876, -5.5518999099731445, -5.60129976272583, -5.603899955749512, -5.643599987030029, -5.699999809265137, -5.702400207519531, -5.742099761962891, -5.7546000480651855, -5.782599925994873, -5.814300060272217, -5.846700191497803, -5.865900039672852, -5.876200199127197, -5.900000095367432, -6.013500213623047, -6.026000022888184, -6.046000003814697, -6.087500095367432, -6.1184000968933105, -5.601099967956543, -5.5817999839782715, -4.2322001457214355, -4.618100166320801, -5.1381001472473145, -4.727700233459473, -3.785799980163574, -4.727799892425537, -4.736199855804443, -5.188499927520752, -3.8712000846862793, -5.02239990234375, -4.605000019073486, -5.260799884796143, -5.328999996185303, -4.4704999923706055, -4.615699768066406, -4.981900215148926, -4.872300148010254, -4.793600082397461, -5.199999809265137, -4.957799911499023, -5.274499893188477, -4.900300025939941, -5.013500213623047, -4.773200035095215, -5.288599967956543, -3.6196000576019287, -5.10860013961792, -5.508999824523926, -5.842100143432617, -5.947400093078613, -5.959199905395508, -5.990600109100342, -6.017300128936768, -6.0278000831604, -6.054699897766113, -6.092299938201904, -6.127600193023682, -6.197800159454346, -6.215099811553955, -6.222599983215332, -6.223499774932861, -6.266200065612793, -6.278500080108643, -6.342100143432617, -6.361400127410889, -6.417500019073486, -6.43310022354126, -6.434000015258789, -6.521500110626221, -6.5817999839782715, -6.585999965667725, -6.586299896240234, -6.587900161743164, -6.593299865722656, -6.626800060272217, -2.7818000316619873, -2.7644999027252197, -3.2583999633789062, -5.3256001472473145, -3.215100049972534, -3.7813000679016113, -3.830699920654297, -4.31850004196167, -4.526500225067139, -5.786200046539307, -5.3846001625061035, -4.035799980163574, -5.452199935913086, -3.8696999549865723, -5.914899826049805, -5.219099998474121, -5.561299800872803, -5.240099906921387, -4.493199825286865, -5.571400165557861, -5.5725998878479, -4.927999973297119, -4.425300121307373, -4.13670015335083, -4.832499980926514, -4.916600227355957, -5.407800197601318, -4.869100093841553, -5.533100128173828, -5.1757001876831055, -5.222700119018555, -4.827000141143799, -5.22730016708374, -5.464700222015381, -5.4506001472473145, -4.297399997711182, -4.452700138092041, -4.495999813079834, -4.55079984664917, -4.5971999168396, -4.740499973297119, -4.819399833679199, -4.905399799346924, -4.905900001525879, -4.944200038909912, -4.958700180053711, -4.980999946594238, -5.03410005569458, -5.077700138092041, -5.020299911499023, -5.227099895477295, -5.22760009765625, -5.2357001304626465, -5.240099906921387, -5.265699863433838, -5.28980016708374, -5.312699794769287, -5.313899993896484, -5.333600044250488, -5.362800121307373, -5.364999771118164, -5.415599822998047, -5.417099952697754, -5.4243998527526855, -5.440800189971924, -4.342199802398682, -5.110000133514404, -4.504899978637695, -4.225299835205078, -5.052299976348877, -4.504199981689453, -4.857100009918213, -4.789599895477295, -4.984899997711182, -4.656599998474121, -4.948599815368652, -4.992099761962891, -5.106900215148926, -5.066699981689453, -5.172999858856201, -4.031799793243408, -4.498499870300293, -4.687099933624268, -4.884799957275391, -4.960700035095215, -5.109899997711182, -5.219299793243408, -5.220399856567383, -5.3628997802734375, -5.389100074768066, -5.394199848175049, -5.406300067901611, -5.458199977874756, -5.460999965667725, -5.466100215911865, -5.4756999015808105, -5.481299877166748, -5.504799842834473, -5.558499813079834, -5.566199779510498, -5.58489990234375, -5.590099811553955, -5.603400230407715, -5.682799816131592, -5.736000061035156, -5.736800193786621, -5.7758002281188965, -5.7932000160217285, -5.839000225067139, -5.845300197601318, -4.344600200653076, -5.130799770355225, -5.100500106811523, -5.550899982452393, -3.972399950027466, -4.650000095367432, -5.476799964904785, -4.96619987487793, -4.817200183868408, -5.089900016784668, -4.340000152587891, -5.1869001388549805, -5.305500030517578, -4.758500099182129, -5.058899879455566, -5.252900123596191, -5.1981000900268555, -5.436100006103516, -5.4274001121521, -3.9598000049591064, -4.751100063323975, -5.017099857330322, -5.0482001304626465, -5.166900157928467, -5.222899913787842, -5.422699928283691, -5.498199939727783, -5.505499839782715, -5.519599914550781, -5.5320000648498535, -5.587500095367432, -5.587699890136719, -5.600599765777588, -5.606599807739258, -5.608099937438965, -5.677199840545654, -5.680099964141846, -5.682000160217285, -5.6855998039245605, -5.6956000328063965, -5.699100017547607, -5.700099945068359, -5.706099987030029, -5.631400108337402, -5.774199962615967, -5.7855000495910645, -5.790500164031982, -5.793900012969971, -5.8333001136779785, -5.172100067138672, -5.349299907684326, -4.566800117492676, -5.492199897766113, -4.89900016784668, -3.8469998836517334, -5.413599967956543, -4.690299987792969, -4.579999923706055, -5.423600196838379, -4.6107001304626465, -5.448599815368652, -5.153299808502197, -5.093699932098389, -5.453199863433838, -5.438300132751465, -5.475500106811523, -5.570400238037109, -5.565800189971924, -5.565899848937988, -0.3831999897956848, -2.9058001041412354, -4.847599983215332, -4.991300106048584, -5.074999809265137, -5.317599773406982, -5.442200183868408, -5.470600128173828, -5.509900093078613, -5.572700023651123, -5.598700046539307, -5.625199794769287, -5.633999824523926, -5.678899765014648, -5.738800048828125, -5.867300033569336, -5.879899978637695, -5.9670000076293945, -6.083799839019775, -6.09119987487793, -6.125199794769287, -6.177599906921387, -6.3190999031066895, -6.337100028991699, -6.369999885559082, -6.379199981689453, -6.449699878692627, -6.523600101470947, -6.525100231170654, -6.552999973297119, -3.8654000759124756, -4.29040002822876, -4.462900161743164, -4.4822001457214355, -4.527599811553955, -4.53380012512207, -4.59089994430542, -4.734399795532227, -4.785399913787842, -4.785999774932861, -4.795899868011475, -4.816500186920166, -4.818399906158447, -5.037199974060059, -5.064000129699707, -5.089900016784668, -5.12060022354126, -5.122099876403809, -5.136000156402588, -5.14709997177124, -5.228000164031982, -5.276000022888184, -5.311299800872803, -5.315700054168701, -5.329699993133545, -5.333600044250488, -5.357100009918213, -5.365099906921387, -5.39769983291626, -5.424499988555908, -3.5785000324249268, -5.084799766540527, -4.833799839019775, -4.940999984741211, -3.6647000312805176, -4.587800025939941, -4.292900085449219, -4.350200176239014, -4.747799873352051, -5.023900032043457, -4.980199813842773, -5.0543999671936035, -4.913400173187256, -4.667799949645996, -4.9542999267578125, -5.057499885559082, -5.013199806213379, -3.4189999103546143, -3.515199899673462, -3.8524999618530273, -4.089900016784668, -4.099100112915039, -4.14300012588501, -4.240699768066406, -4.3155999183654785, -4.357600212097168, -4.406499862670898, -4.493000030517578, -4.509300231933594, -4.6468000411987305, -4.657100200653076, -4.73829984664917, -4.74370002746582, -4.758399963378906, -4.758600234985352, -4.758900165557861, -4.781400203704834, -4.795000076293945, -4.82390022277832, -4.833000183105469, -4.956200122833252, -5.0335001945495605, -5.035099983215332, -5.068699836730957, -5.073500156402588, -5.094200134277344, -5.101900100708008, -4.256700038909912, -4.678299903869629, -4.617400169372559, -4.100900173187256, -4.797699928283691, -4.456600189208984, -2.5329999923706055, -3.964099884033203, -3.993499994277954, -4.154699802398682, -4.162799835205078, -4.282800197601318, -4.301599979400635, -4.3597002029418945, -4.545199871063232, -4.567699909210205, -4.679699897766113, -4.753900051116943, -4.757400035858154, -4.793900012969971, -4.795000076293945, -4.820300102233887, -4.832300186157227, -4.847300052642822, -4.896599769592285, -4.939599990844727, -4.9552001953125, -4.9552001953125, -4.963900089263916, -4.981299877166748, -4.995200157165527, -5.010300159454346, -5.027699947357178, -5.0680999755859375, -5.070499897003174, -5.080900192260742, -4.367599964141846, -3.8610999584198, -3.825700044631958, -4.693600177764893, -4.1168999671936035, -4.830599784851074, -4.9496002197265625, -2.238600015640259, -3.1821999549865723, -3.4516000747680664, -3.452399969100952, -3.7535998821258545, -3.7736001014709473, -3.8189001083374023, -3.8801000118255615, -3.921799898147583, -3.934999942779541, -4.043399810791016, -4.1946001052856445, -4.593299865722656, -4.643599987030029, -4.656899929046631, -4.700500011444092, -4.76140022277832, -4.7667999267578125, -4.843200206756592, -4.877600193023682, -5.204100131988525, -5.316199779510498, -5.539899826049805, -5.586900234222412, -5.5920000076293945, -5.600399971008301, -5.695199966430664, -5.725299835205078, -5.779300212860107, -6.009699821472168, -3.524199962615967, -4.643899917602539, -3.72379994392395, -5.291800022125244, -4.210999965667725, -4.355100154876709, -4.222300052642822, -4.6819000244140625, -4.9415998458862305, -4.822000026702881, -4.81790018081665, -2.2170000076293945, -3.0583999156951904, -3.1572999954223633, -3.3833999633789062, -3.8317999839782715, -4.252900123596191, -4.316299915313721, -4.328800201416016, -4.405300140380859, -4.406899929046631, -4.513999938964844, -4.6072001457214355, -4.713099956512451, -4.730299949645996, -4.892000198364258, -4.921599864959717, -4.924699783325195, -4.94290018081665, -5.016499996185303, -5.053800106048584, -5.059299945831299, -5.136899948120117, -5.179900169372559, -5.197000026702881, -5.229300022125244, -5.285600185394287, -5.347400188446045, -5.3790998458862305, -5.380199909210205, -5.427499771118164, -3.8857998847961426, -4.150599956512451, -3.4814000129699707, -5.267600059509277, -4.52239990234375, -4.520500183105469, -4.918099880218506, -4.822800159454346, -4.761000156402588, -3.257699966430664, -3.3984999656677246, -3.5625, -3.5906999111175537, -3.635699987411499, -3.7149999141693115, -3.8714001178741455, -3.9124999046325684, -4.167500019073486, -4.4145002365112305, -4.444300174713135, -4.549099922180176, -4.964200019836426, -5.074900150299072, -5.133999824523926, -5.148799896240234, -5.15369987487793, -5.2129998207092285, -5.306099891662598, -5.357500076293945, -5.371699810028076, -5.372000217437744, -5.372399806976318, -5.3730998039245605, -5.3730998039245605, -5.373199939727783, -5.373199939727783, -5.373199939727783, -5.374300003051758, -5.374300003051758, -4.463099956512451, -5.374300003051758, -5.245999813079834, -5.2733001708984375, -5.310400009155273, -5.2829999923706055, -5.275700092315674, -2.401900053024292, -3.223400115966797, -3.2973999977111816, -3.5448999404907227, -3.615799903869629, -3.6677000522613525, -3.861999988555908, -3.91129994392395, -4.058899879455566, -4.069699764251709, -4.1981000900268555, -4.3256001472473145, -4.3292999267578125, -4.421000003814697, -4.523200035095215, -4.537799835205078, -4.623000144958496, -4.721099853515625, -4.784900188446045, -4.7932000160217285, -4.865300178527832, -4.978300094604492, -5.140999794006348, -5.282299995422363, -5.36959981918335, -5.448500156402588, -5.4664998054504395, -5.518700122833252, -5.582600116729736, -5.603799819946289, -4.97790002822876, -2.906399965286255, -3.397599935531616, -3.6059999465942383, -3.693000078201294, -3.8405001163482666, -3.8980000019073486, -3.9377999305725098, -3.9902000427246094, -4.113399982452393, -4.24970006942749, -4.2555999755859375, -4.270199775695801, -4.360499858856201, -4.390100002288818, -4.436399936676025, -4.60230016708374, -4.608500003814697, -4.617300033569336, -4.632900238037109, -4.667799949645996, -4.917399883270264, -5.013800144195557, -5.0808000564575195, -5.097300052642822, -5.11929988861084, -5.240300178527832, -5.292699813842773, -5.521200180053711, -5.55210018157959, -5.571499824523926, -3.3180999755859375, -5.063899993896484, -2.640399932861328, -3.4237000942230225, -3.4693000316619873, -3.8357999324798584, -3.8938000202178955, -3.952500104904175, -4.054699897766113, -4.137700080871582, -4.1875, -4.197299957275391, -4.250899791717529, -4.4604997634887695, -4.603799819946289, -4.730999946594238, -4.747300148010254, -4.837200164794922, -4.930799961090088, -4.93179988861084, -4.99560022354126, -5.016900062561035, -5.0970001220703125, -5.10099983215332, -5.11329984664917, -5.126500129699707, -5.249599933624268, -5.321100234985352, -5.382500171661377, -5.4390997886657715, -5.521299839019775, -5.532899856567383, -3.998500108718872, -4.205999851226807, -3.586699962615967, -3.6684999465942383, -3.6802000999450684, -3.8803999423980713, -3.891400098800659, -4.162899971008301, -4.1793999671936035, -4.191199779510498, -4.240200042724609, -4.344799995422363, -4.36460018157959, -4.421999931335449, -4.585999965667725, -4.619800090789795, -4.693600177764893, -4.698500156402588, -4.743100166320801, -4.7519001960754395, -4.865300178527832, -4.882599830627441, -4.894000053405762, -4.923099994659424, -4.967400074005127, -5.0335001945495605, -5.128600120544434, -5.165200233459473, -5.194699764251709, -5.264999866485596, -5.348700046539307, -5.417600154876709, -4.6996002197265625, -4.530399799346924, -3.0399999618530273, -3.126199960708618, -3.6403000354766846, -3.787400007247925, -3.801100015640259, -3.8022000789642334, -3.8152999877929688, -3.8313000202178955, -4.08620023727417, -4.1427998542785645, -4.241300106048584, -4.462500095367432, -4.488399982452393, -4.621399879455566, -4.6427001953125, -4.733099937438965, -5.042799949645996, -5.057300090789795, -5.104700088500977, -5.115499973297119, -5.146399974822998, -5.196199893951416, -5.208199977874756, -5.248600006103516, -5.348700046539307, -5.360899925231934, -5.370999813079834, -5.390600204467773, -5.452400207519531, -5.643199920654297, -4.467899799346924, -5.2692999839782715, -3.067500114440918, -3.165600061416626, -3.824899911880493, -3.910900115966797, -4.049099922180176, -4.1082000732421875, -4.126500129699707, -4.4029998779296875, -4.596399784088135, -4.665599822998047, -4.737500190734863, -4.795899868011475, -4.871300220489502, -4.902900218963623, -4.981400012969971, -5.04449987411499, -5.0640997886657715, -5.123000144958496, -5.134799957275391, -5.146999835968018, -5.191100120544434, -5.201900005340576, -5.232600212097168, -5.301000118255615, -5.371699810028076, -5.382400035858154, -5.541900157928467, -5.587900161743164, -5.759099960327148, -6.074699878692627, -5.616499900817871, -5.008600234985352, -3.0850000381469727, -3.6731998920440674, -3.6756999492645264, -3.7028000354766846, -3.968899965286255, -4.333399772644043, -4.542300224304199, -4.675899982452393, -4.927299976348877, -4.9394001960754395, -4.960700035095215, -5.196000099182129, -5.230599880218506, -5.306300163269043, -5.388999938964844, -5.944300174713135, -5.974400043487549, -6.422800064086914, -7.05620002746582, -11.601200103759766, -11.601799964904785, -11.601799964904785, -11.601799964904785, -11.601799964904785, -11.601799964904785, -11.601799964904785, -11.601799964904785, -11.601799964904785, -11.601799964904785, -11.601799964904785, -11.601799964904785, -11.601799964904785, -11.601799964904785, -4.15500020980835, -4.868800163269043, -5.557700157165527, -6.26230001449585, -6.2947001457214355, -11.381799697875977, -11.381799697875977, -11.381799697875977, -11.381799697875977, -11.381799697875977, -11.381799697875977, -11.381799697875977, -11.381799697875977, -11.381799697875977, -11.381799697875977, -11.381799697875977, -11.381799697875977, -11.381699562072754, -11.381799697875977, -11.381799697875977, -11.381799697875977, -11.381799697875977, -11.381799697875977, -11.381799697875977, -11.381799697875977, -11.381799697875977, -11.381799697875977, -11.381799697875977, -11.381799697875977, -11.381799697875977, -11.381799697875977, -11.381799697875977, -11.381799697875977, -11.381799697875977, -11.381799697875977, -11.381799697875977, -11.381799697875977, -11.381799697875977, -11.381799697875977, -11.381799697875977, -11.381799697875977, -11.381799697875977, -11.381799697875977, -11.381799697875977, -11.381799697875977, -11.381799697875977, -11.381799697875977, -11.381799697875977, -11.381799697875977, -11.381799697875977, -11.381799697875977]}, \"token.table\": {\"Topic\": [4, 13, 8, 3, 10, 18, 16, 1, 5, 6, 11, 2, 1, 17, 2, 7, 14, 14, 18, 10, 13, 1, 2, 3, 4, 5, 7, 10, 18, 14, 6, 7, 7, 1, 2, 3, 1, 2, 3, 13, 18, 18, 15, 2, 11, 11, 18, 12, 6, 12, 12, 12, 5, 18, 16, 12, 17, 1, 2, 1, 17, 17, 9, 17, 17, 5, 11, 7, 16, 8, 16, 17, 3, 6, 11, 1, 2, 4, 14, 6, 16, 13, 4, 5, 4, 1, 1, 2, 4, 1, 2, 4, 2, 18, 1, 2, 3, 10, 18, 12, 2, 8, 14, 15, 15, 4, 2, 2, 11, 17, 15, 14, 8, 2, 14, 14, 17, 19, 4, 7, 17, 3, 11, 12, 4, 1, 12, 2, 3, 2, 16, 4, 5, 19, 4, 7, 11, 2, 8, 8, 18, 4, 17, 5, 5, 3, 10, 1, 1, 13, 1, 13, 17, 16, 5, 10, 10, 2, 4, 12, 13, 14, 3, 17, 1, 1, 4, 5, 12, 3, 10, 19, 3, 8, 14, 10, 15, 8, 8, 10, 11, 2, 1, 2, 5, 5, 3, 13, 15, 10, 10, 10, 14, 3, 7, 10, 15, 1, 4, 1, 2, 4, 5, 8, 6, 7, 5, 15, 13, 15, 20, 10, 14, 19, 7, 6, 7, 11, 10, 13, 6, 10, 7, 2, 7, 10, 3, 2, 6, 1, 3, 4, 12, 4, 7, 16, 16, 3, 5, 8, 2, 3, 3, 10, 6, 7, 6, 6, 10, 4, 1, 9, 8, 10, 8, 6, 4, 9, 3, 10, 1, 2, 3, 4, 6, 2, 16, 18, 8, 16, 8, 1, 2, 4, 5, 5, 1, 15, 5, 18, 11, 5, 12, 17, 2, 13, 10, 1, 5, 1, 13, 3, 7, 3, 11, 14, 13, 3, 3, 6, 6, 1, 3, 1, 4, 5, 14, 5, 8, 4, 11, 15, 2, 9, 7, 4, 4, 1, 3, 5, 7, 13, 12, 12, 17, 1, 2, 3, 4, 1, 2, 4, 1, 2, 4, 1, 1, 2, 4, 2, 4, 8, 5, 10, 3, 12, 5, 9, 1, 3, 5, 1, 2, 12, 17, 4, 5, 16, 18, 7, 3, 7, 1, 17, 1, 3, 19, 3, 6, 4, 5, 12, 17, 14, 13, 11, 8, 8, 2, 3, 16, 2, 1, 3, 5, 13, 19, 14, 8, 16, 7, 12, 7, 3, 3, 7, 16, 2, 20, 13, 9, 18, 8, 15, 15, 15, 11, 11, 1, 5, 15, 11, 1, 11, 11, 1, 3, 4, 15, 18, 17, 17, 10, 2, 5, 14, 19, 8, 1, 2, 11, 8, 5, 11, 13, 2, 4, 14, 9, 5, 10, 5, 16, 6, 14, 1, 2, 3, 11, 1, 2, 3, 6, 13, 11, 2, 3, 4, 5, 17, 14, 9, 3, 3, 8, 3, 1, 2, 3, 4, 16, 1, 3, 4, 5, 2, 9, 11, 13, 16, 6, 1, 3, 4, 7, 3, 6, 7, 1, 7, 5, 3, 5, 1, 3, 10, 10, 9, 2, 1, 2, 4, 12, 4, 5, 18, 1, 14, 9, 17, 7, 2, 5, 2, 9, 4, 10, 17, 12, 5, 6, 9, 16, 6, 9, 1, 2, 4, 11, 12, 15, 11, 12, 15, 9, 4, 5, 7, 19, 6, 1, 2, 3, 18, 12, 10, 2, 3, 4, 5, 7, 4, 16, 2, 3, 4, 16, 14, 4, 1, 2, 3, 11, 6, 2, 1, 9, 20, 10, 19, 18, 3, 4, 5, 8, 17, 11, 11, 2, 4, 7, 1, 12, 2, 3, 4, 5, 1, 2, 3, 4, 5, 9, 12, 17, 16, 2, 3, 6, 2, 14, 18, 13, 17, 9, 7, 7, 4, 6, 3, 13, 5, 11, 15, 1, 5, 1, 2, 13, 5, 9, 11, 12, 4, 2, 17, 1, 3, 14, 1, 4, 11, 4, 18, 5, 2, 8, 8, 19, 2, 5, 15, 4, 19, 2, 3, 10, 10, 15, 1, 2, 3, 16, 7, 3, 16, 12, 1, 3, 5, 7, 8, 6, 7, 5, 10, 6, 1, 15, 15, 1, 2, 9, 14, 1, 2, 1, 18, 9, 5, 7, 15, 5, 12, 17, 6, 2, 3, 6, 12, 7, 11, 16, 12, 18, 11, 6, 15, 17, 9, 18, 1, 2, 4, 5, 5, 5, 11, 2, 9, 14, 2, 11, 11, 15, 7, 10, 9, 15, 11, 5, 12, 15, 12, 1, 4, 5, 3, 16, 19, 9, 9, 9, 1, 1, 2, 9, 18, 10, 15, 7, 1, 8, 7, 14, 4, 3, 4, 4, 8, 15, 7, 5, 10, 1, 4, 5, 2, 13, 18, 3, 4, 5, 7, 12, 2, 7, 7, 1, 3, 4, 5, 20, 5, 9, 16, 1, 2, 3, 4, 5, 19, 5, 12, 5, 3, 9, 9, 5, 11, 12, 8, 16, 1, 2, 13, 16, 13, 12, 9, 9, 9, 18, 6, 13, 18, 13, 10, 16, 6, 8, 3, 4, 8, 2, 5, 5, 5, 14, 17, 4, 2, 11, 18, 16, 7, 6, 11, 19, 1, 3, 10, 17, 4, 7, 2, 18, 4, 4, 3, 7, 2, 3, 9, 10, 19, 17, 19, 19, 4, 3, 1, 1, 2, 4, 4, 5, 14, 13, 1, 2, 3, 4, 5, 20, 6, 9, 1, 4, 5, 12, 17, 19, 4, 14, 18, 7, 12, 15, 1, 5, 1, 3, 12, 12, 12, 12, 12, 1, 2, 3, 4, 5, 6, 15, 2, 3, 4, 6, 8, 6, 5, 1, 5, 9, 2, 3, 16, 1, 2, 3, 5, 10, 1, 3, 7, 8, 5, 14, 9, 3, 7, 3, 11, 12, 18, 9, 8, 10, 6, 3, 4, 9, 1, 2, 3, 5, 11, 12, 14, 1, 2, 4, 12, 18, 4, 2, 1, 2, 4, 5, 2, 4, 5, 16, 1, 9, 10, 3, 4, 3, 10, 9, 19, 5, 1, 12, 1, 4, 5, 13, 1, 2, 4, 5, 1, 2, 1, 6, 8, 4, 2, 4, 5, 1, 13], \"Freq\": [0.6587142944335938, 0.33713725209236145, 0.9963346123695374, 0.8669930696487427, 0.13210265338420868, 0.9515259861946106, 0.9865328073501587, 0.0018129392992705107, 0.9971166253089905, 0.9922935366630554, 0.9816200137138367, 0.9971270561218262, 0.9988458752632141, 0.9472435116767883, 0.1529199481010437, 0.8455573916435242, 0.994566023349762, 0.9910328388214111, 0.9951181411743164, 0.9814901947975159, 0.9867249727249146, 0.47187304496765137, 0.014926143921911716, 0.31433573365211487, 0.10610862821340561, 0.08867016434669495, 0.0039901575073599815, 0.98752361536026, 0.9883096814155579, 0.9875255823135376, 0.9951152205467224, 0.9977878928184509, 0.9972245097160339, 0.9982438087463379, 0.9632956981658936, 0.03623015061020851, 0.04318709671497345, 0.9231604337692261, 0.033622171729803085, 0.9900814890861511, 0.9434837698936462, 0.931917130947113, 0.9696788787841797, 0.9984634518623352, 0.9974005818367004, 0.9932470917701721, 0.954461932182312, 0.9827204346656799, 0.9953835010528564, 0.9928440451622009, 0.9970017671585083, 0.9976705312728882, 0.9222918748855591, 0.07595344632863998, 0.9663074612617493, 0.4450536072254181, 0.5340643525123596, 0.02531668171286583, 0.9746060967445374, 0.9991634488105774, 0.9832479357719421, 0.9777496457099915, 0.9958894848823547, 0.994200587272644, 0.9843864440917969, 0.6717666983604431, 0.32680544257164, 0.3817955553531647, 0.6088091135025024, 0.994290292263031, 0.9672785401344299, 0.9651595950126648, 0.9992009997367859, 0.9999794960021973, 0.9813534617424011, 0.0564127154648304, 0.6133443713188171, 0.3298417031764984, 0.987809956073761, 0.9936197400093079, 0.9832922220230103, 0.9815205931663513, 0.05885148420929909, 0.9404467344284058, 0.998125433921814, 0.9996750950813293, 0.29828503727912903, 0.5042919516563416, 0.1971028745174408, 0.9994148015975952, 0.8115643262863159, 0.1878419667482376, 0.9983196258544922, 0.9652328491210938, 0.14594826102256775, 0.06519302725791931, 0.7318443059921265, 0.05636042356491089, 0.9769445061683655, 0.9940668940544128, 0.1867510825395584, 0.8104634284973145, 0.9888128638267517, 0.9985051155090332, 0.9683705568313599, 0.9979889988899231, 0.9975999593734741, 0.9976896047592163, 0.9883545637130737, 0.9875789284706116, 0.9512155055999756, 0.9917334914207458, 0.9976645708084106, 0.9988168478012085, 0.99443519115448, 0.9761489629745483, 0.9492934346199036, 0.9209594130516052, 0.21186915040016174, 0.7865800857543945, 0.9906732439994812, 0.547148585319519, 0.3764072060585022, 0.0737292468547821, 0.9990609288215637, 0.9993225336074829, 0.992695689201355, 0.9991447925567627, 0.9990347027778625, 0.9983210563659668, 0.9905632138252258, 0.11732625216245651, 0.8814772367477417, 0.9836926460266113, 0.25006917119026184, 0.7494404315948486, 0.989615261554718, 0.9979840517044067, 0.9975310564041138, 0.9946712851524353, 0.9369589686393738, 0.9978228211402893, 0.9616335034370422, 0.9981429576873779, 0.9991523027420044, 0.9988651871681213, 0.9978428483009338, 0.9992353320121765, 0.9990523457527161, 0.9916679859161377, 0.9990079402923584, 0.9540798664093018, 0.9942888617515564, 0.9831619262695312, 0.9981574416160583, 0.9969463348388672, 0.9963536858558655, 0.014661396853625774, 0.9835354089736938, 0.9818160533905029, 0.9737570881843567, 0.9580245018005371, 0.9993161559104919, 0.991711437702179, 0.9992794990539551, 0.915104866027832, 0.07416821271181107, 0.01017995085567236, 0.9916995763778687, 0.4944975674152374, 0.5007570385932922, 0.8791186809539795, 0.9993717074394226, 0.9945208430290222, 0.956389307975769, 0.975663959980011, 0.9743826985359192, 0.9964597821235657, 0.9991785287857056, 0.1501598060131073, 0.8441416621208191, 0.998325526714325, 0.5298299789428711, 0.4201843738555908, 0.049805134534835815, 0.9986989498138428, 0.9992309212684631, 0.9890496730804443, 0.9901320338249207, 0.9948610067367554, 0.9936665892601013, 0.995660126209259, 0.991188645362854, 0.7463071942329407, 0.1782953292131424, 0.0750204399228096, 0.9813547134399414, 0.031411126255989075, 0.9683820009231567, 0.214739590883255, 0.00813750084489584, 0.7581437826156616, 0.01808333396911621, 0.9980111122131348, 0.05187700688838959, 0.9467553496360779, 0.9986701607704163, 0.9625446200370789, 0.9943897128105164, 0.9698936939239502, 0.6404932141304016, 0.9969009757041931, 0.991299033164978, 0.8361027836799622, 0.9979416728019714, 0.9976112842559814, 0.9431115388870239, 0.054697152227163315, 0.9719939827919006, 0.9967390894889832, 0.9914141893386841, 0.9677639603614807, 0.9974416494369507, 0.998161256313324, 0.9981633424758911, 0.9877628684043884, 0.9988819360733032, 0.9941542744636536, 0.004859692882746458, 0.3185080289840698, 0.6017613410949707, 0.040725260972976685, 0.03890174254775047, 0.9984598755836487, 0.9973716735839844, 0.9907808899879456, 0.9682657718658447, 0.9986427426338196, 0.11436906456947327, 0.8832598924636841, 0.08623764663934708, 0.9134918451309204, 0.999267578125, 0.9981197714805603, 0.9889522194862366, 0.9962536692619324, 0.9892537593841553, 0.9978817701339722, 0.9736433625221252, 0.9985576868057251, 0.4792950451374054, 0.5194370150566101, 0.9988173246383667, 0.9745059013366699, 0.9966525435447693, 0.9893165826797485, 0.2591184079647064, 0.739493191242218, 0.9994742274284363, 0.9982836246490479, 0.31502655148506165, 0.16192953288555145, 0.0760578140616417, 0.4430980980396271, 0.0034348689951002598, 0.9978325366973877, 0.9846822023391724, 0.9537155032157898, 0.4504118859767914, 0.5436005592346191, 0.9962584376335144, 0.8211680054664612, 0.07465163618326187, 0.04605700448155403, 0.05784410610795021, 0.9982130527496338, 0.9989144206047058, 0.9627458453178406, 0.9997831583023071, 0.9107908010482788, 0.980561375617981, 0.9980944395065308, 0.981902003288269, 0.9613425135612488, 0.996637225151062, 0.9882327318191528, 0.9884362816810608, 0.6727909445762634, 0.3266705274581909, 0.9991487860679626, 0.9953451156616211, 0.18011032044887543, 0.8183763027191162, 0.999277651309967, 0.9911229610443115, 0.9899556636810303, 0.9855319261550903, 0.9990052580833435, 0.9993329048156738, 0.9955012798309326, 0.9972380995750427, 0.773699939250946, 0.22583864629268646, 0.12754884362220764, 0.8149765729904175, 0.0571986623108387, 0.9802968502044678, 0.9982573986053467, 0.9974048137664795, 0.9978968501091003, 0.9911068081855774, 0.9866654872894287, 0.9987820386886597, 0.9959068298339844, 0.9955228567123413, 0.999136209487915, 0.9991381764411926, 0.167159304022789, 0.07152862846851349, 0.3522007465362549, 0.40817970037460327, 0.9744634628295898, 0.9851455688476562, 0.9713789820671082, 0.020237062126398087, 0.14465023577213287, 0.7078744173049927, 0.13634951412677765, 0.011022266000509262, 0.18273235857486725, 0.812143862247467, 0.004350770730525255, 0.23751398921012878, 0.3702599108219147, 0.3919873833656311, 0.9998762011528015, 0.3641084134578705, 0.5536466240882874, 0.0819033682346344, 0.7620641589164734, 0.23727796971797943, 0.9985129833221436, 0.8916043043136597, 0.10791242122650146, 0.9989597797393799, 0.9979541301727295, 0.4371564984321594, 0.5600329041481018, 0.1353307068347931, 0.03115527145564556, 0.833403468132019, 0.03520800545811653, 0.6777541041374207, 0.28166404366493225, 0.9860047698020935, 0.999232292175293, 0.998896598815918, 0.9733560681343079, 0.9541102051734924, 0.9965335726737976, 0.9991854429244995, 0.9988071918487549, 0.9989351034164429, 0.9893838167190552, 0.36755794286727905, 0.6319417357444763, 0.9421182870864868, 0.9987171292304993, 0.9958932399749756, 0.026147691532969475, 0.9643268585205078, 0.008367260918021202, 0.9813846945762634, 0.9723353385925293, 0.9869775176048279, 0.990358829498291, 0.9992998838424683, 0.9974639415740967, 0.9637754559516907, 0.03606989234685898, 0.9499228000640869, 0.9971414804458618, 0.8480280041694641, 0.07379474490880966, 0.07787179946899414, 0.9933295845985413, 0.5552719831466675, 0.9965463876724243, 0.9988142848014832, 0.980737030506134, 0.9976084232330322, 0.9771698713302612, 0.9955750107765198, 0.9990455508232117, 0.3212428689002991, 0.6784263849258423, 0.987235426902771, 0.9968700408935547, 0.6687039732933044, 0.9933449625968933, 0.4659867584705353, 0.49927154183387756, 0.9991565346717834, 0.9932342171669006, 0.9945172667503357, 0.991554856300354, 0.9989584684371948, 0.997032880783081, 0.49102064967155457, 0.5081421732902527, 0.9911469221115112, 0.9867688417434692, 0.9990318417549133, 0.9980960488319397, 0.9981679916381836, 0.3051750659942627, 0.009308172389864922, 0.6841506361961365, 0.9827798008918762, 0.979152500629425, 0.9922206997871399, 0.9703696370124817, 0.9992034435272217, 0.9980497360229492, 0.9984025955200195, 0.9863703846931458, 0.9766883850097656, 0.9967849254608154, 0.5462622046470642, 0.4535881280899048, 0.9816781282424927, 0.997755229473114, 0.7532352805137634, 0.24268369376659393, 0.9936372637748718, 0.005908369552344084, 0.9937138557434082, 0.9930902719497681, 0.9975443482398987, 0.9990662336349487, 0.9948071837425232, 0.9980069398880005, 0.9790564775466919, 0.9933364987373352, 0.9789851307868958, 0.36927953362464905, 0.6255142688751221, 0.005193948280066252, 0.9825923442840576, 0.0005271394620649517, 0.9776855111122131, 0.021560003980994225, 0.00021085578191559762, 0.9945623278617859, 0.9860062003135681, 0.8531197309494019, 0.14601732790470123, 0.9989413619041443, 0.9982790946960449, 0.959883987903595, 0.9707109332084656, 0.9923974275588989, 0.999147891998291, 0.9993108510971069, 0.9971553087234497, 0.9996063113212585, 0.6764594912528992, 0.2905350923538208, 0.010343416593968868, 0.022525664418935776, 0.9712235331535339, 0.8479351997375488, 0.004916862118989229, 0.033077072352170944, 0.11398180574178696, 0.9974997043609619, 0.9954620599746704, 0.9923237562179565, 0.9737186431884766, 0.97083580493927, 0.9996307492256165, 0.716943085193634, 0.0832255557179451, 0.0874035507440567, 0.11213725060224533, 0.9539399743080139, 0.045190345495939255, 0.998913049697876, 0.9989854097366333, 0.9966482520103455, 0.9986652731895447, 0.9988879561424255, 0.9987722039222717, 0.2853894829750061, 0.5236585736274719, 0.190259650349617, 0.9888797998428345, 0.996996283531189, 0.9977676868438721, 0.8436610698699951, 0.14850254356861115, 0.007576660253107548, 0.980435311794281, 0.9982326030731201, 0.9980177283287048, 0.9811724424362183, 0.9984049797058105, 0.9918368458747864, 0.996590793132782, 0.9479514360427856, 0.9961745142936707, 0.7382069230079651, 0.26128971576690674, 0.996841311454773, 0.9972790479660034, 0.9980311393737793, 0.9914349913597107, 0.9929785132408142, 0.9811610579490662, 0.5306070446968079, 0.08027337491512299, 0.388523131608963, 0.9789929986000061, 0.07580326497554779, 0.9218655228614807, 0.46359652280807495, 0.5176147818565369, 0.01848624274134636, 0.10225772857666016, 0.21090656518936157, 0.6774574518203735, 0.02783738262951374, 0.23940148949623108, 0.7293394207954407, 0.9985370635986328, 0.05998200178146362, 0.24817553162574768, 0.6912925839424133, 0.9619331359863281, 0.9930335879325867, 0.20747822523117065, 0.40371376276016235, 0.38863837718963623, 0.941769003868103, 0.9852569699287415, 0.97877436876297, 0.4972330331802368, 0.2328195571899414, 0.011450142599642277, 0.15733343362808228, 0.10071884095668793, 0.998713493347168, 0.9742673635482788, 0.08352544158697128, 0.03554274141788483, 0.8810156583786011, 0.9666813611984253, 0.9875834584236145, 0.9978815913200378, 0.02925161086022854, 0.9290311336517334, 0.03978218883275986, 0.977587103843689, 0.9962709546089172, 0.9998767971992493, 0.9995822906494141, 0.9943360686302185, 0.4760666787624359, 0.9968306422233582, 0.9833357930183411, 0.9723041653633118, 0.5286363959312439, 0.15438054502010345, 0.3165580928325653, 0.997044563293457, 0.9843012094497681, 0.9807498455047607, 0.9912217855453491, 0.129043310880661, 0.32079923152923584, 0.5487355589866638, 0.9987442493438721, 0.9807320237159729, 0.7315855622291565, 0.020165501162409782, 0.14444126188755035, 0.10317232459783554, 0.7429606318473816, 0.17999601364135742, 0.0031297015957534313, 0.06954044848680496, 0.004351048730313778, 0.9978572130203247, 0.08027782291173935, 0.8964357376098633, 0.9706788659095764, 0.996806263923645, 0.002898328471928835, 0.0002187417703680694, 0.9988136291503906, 0.9965510964393616, 0.9760584235191345, 0.9955008029937744, 0.960324764251709, 0.9932665228843689, 0.9979188442230225, 0.996820867061615, 0.9979195594787598, 0.9904606342315674, 0.9988778829574585, 0.9927953481674194, 0.6468397974967957, 0.351490318775177, 0.9699450135231018, 0.5422798991203308, 0.4575175642967224, 0.9989900588989258, 0.9962666630744934, 0.9985157251358032, 0.998956024646759, 0.9972789287567139, 0.8965879678726196, 0.0922958254814148, 0.9988662004470825, 0.9985094666481018, 0.9605227112770081, 0.26709920167922974, 0.7326741218566895, 0.9848151206970215, 0.8872928619384766, 0.11197761446237564, 0.9851923584938049, 0.999081015586853, 0.9038047194480896, 0.9974930882453918, 0.3460923135280609, 0.6519820094108582, 0.9978272318840027, 0.9507859349250793, 0.7020929455757141, 0.2970188558101654, 0.9673778414726257, 0.9988334774971008, 0.9187209606170654, 0.8254482746124268, 0.17427749931812286, 0.9956361055374146, 0.9908681511878967, 0.9930781126022339, 0.3625866770744324, 0.14285603165626526, 0.49423831701278687, 0.9926260113716125, 0.9978769421577454, 0.9994894862174988, 0.9587582349777222, 0.9837594628334045, 0.2549887001514435, 0.12031156569719315, 0.17059102654457092, 0.4525151252746582, 0.9957376718521118, 0.9954580068588257, 0.9965661764144897, 0.782042384147644, 0.2174142748117447, 0.9968237280845642, 0.999543309211731, 0.9775517582893372, 0.970349907875061, 0.9992595314979553, 0.7355863451957703, 0.12762539088726044, 0.13458678126335144, 0.5111954212188721, 0.48858654499053955, 0.9996143579483032, 0.9887048006057739, 0.9946564435958862, 0.21487092971801758, 0.7838491797447205, 0.986782968044281, 0.9979962110519409, 0.9836077690124512, 0.9671841263771057, 0.9974881410598755, 0.9652922749519348, 0.03298882022500038, 0.0014771113637834787, 0.9829649329185486, 0.9772038459777832, 0.022520730271935463, 0.9900050163269043, 0.9963396191596985, 0.9712551236152649, 0.9836992621421814, 0.9923356771469116, 0.9743266105651855, 0.9541553258895874, 0.9913554191589355, 0.9225811958312988, 0.3674536645412445, 0.26278355717658997, 0.07634761184453964, 0.2930763065814972, 0.9980891942977905, 0.9980150461196899, 0.9781414866447449, 0.2331392914056778, 0.7640227675437927, 0.9956944584846497, 0.9968966245651245, 0.9853043556213379, 0.992358386516571, 0.9863948822021484, 0.9959154725074768, 0.9955649375915527, 0.9920399188995361, 0.9639444947242737, 0.992729127407074, 0.7436866760253906, 0.2533438205718994, 0.9568489193916321, 0.981902003288269, 0.3188958168029785, 0.15455199778079987, 0.5263766050338745, 0.9990911483764648, 0.9801526665687561, 0.9860851764678955, 0.9954246282577515, 0.9960811734199524, 0.9954867362976074, 0.9997242093086243, 0.9941157102584839, 0.005020786542445421, 0.9956218004226685, 0.9233224391937256, 0.9894863367080688, 0.9827897548675537, 0.9954917430877686, 0.4434228837490082, 0.5553908944129944, 0.9970839023590088, 0.9839209318161011, 0.9985390305519104, 0.9992002844810486, 0.998274028301239, 0.9993945956230164, 0.9989883303642273, 0.9805701375007629, 0.9985973238945007, 0.3809998631477356, 0.61739581823349, 0.8842098712921143, 0.11548607796430588, 0.9979044198989868, 0.9989376068115234, 0.9836034178733826, 0.9424618482589722, 0.911506712436676, 0.021641919389367104, 0.06619881093502045, 0.9994001388549805, 0.9886357188224792, 0.9972808361053467, 0.9982888698577881, 0.9982068538665771, 0.1802825778722763, 0.7039341330528259, 0.038830094039440155, 0.07655075937509537, 0.47004589438438416, 0.9981804490089417, 0.9968380331993103, 0.9842464327812195, 0.7328981161117554, 0.12266595661640167, 0.022612662985920906, 0.11461213231086731, 0.0068147755227983, 0.9561154246330261, 0.35100290179252625, 0.643505334854126, 0.9985226988792419, 0.999578595161438, 0.9932982921600342, 0.9908983707427979, 0.1588718295097351, 0.7265262007713318, 0.11245983093976974, 0.998856782913208, 0.9884995222091675, 0.8300576210021973, 0.16977116465568542, 0.9775534868240356, 0.9857540130615234, 0.9963271021842957, 0.9780042171478271, 0.9995735287666321, 0.9940089583396912, 0.9953352212905884, 0.9595279693603516, 0.9932628870010376, 0.975754976272583, 0.9704238176345825, 0.9832227230072021, 0.9918239116668701, 0.9894343018531799, 0.9957696199417114, 0.995735764503479, 0.012308026663959026, 0.6792858839035034, 0.30770066380500793, 0.37175098061561584, 0.6275720596313477, 0.9978510737419128, 0.9979003667831421, 0.9899963140487671, 0.9825512766838074, 0.9980986714363098, 0.997255802154541, 0.9837597608566284, 0.963914692401886, 0.9765952825546265, 0.9985126852989197, 0.9975917935371399, 0.9902842044830322, 0.9711899161338806, 0.2136162370443344, 0.7552695274353027, 0.03114275634288788, 0.9728765487670898, 0.9991329312324524, 0.9985634088516235, 0.9971784353256226, 0.9644715785980225, 0.9995090961456299, 0.998304009437561, 0.2676226496696472, 0.7300150990486145, 0.38191694021224976, 0.35702621936798096, 0.068449467420578, 0.19212521612644196, 0.8832523822784424, 0.9895559549331665, 0.9896228909492493, 0.8576830625534058, 0.9990307092666626, 0.9996131658554077, 0.9997029304504395, 0.8941633701324463, 0.09547505527734756, 0.010337148793041706, 0.8715345859527588, 0.1278652846813202, 0.9909577369689941, 0.975606381893158, 0.552876353263855, 0.1490727663040161, 0.019917864352464676, 0.2768271863460541, 0.001400474924594164, 0.8508884906768799, 0.27957454323768616, 0.7159835696220398, 0.0018675402970984578, 0.21756844222545624, 0.7796980738639832, 0.9827795624732971, 0.9721347093582153, 0.7055984735488892, 0.998389482498169, 0.9703702926635742, 0.9615755081176758, 0.9770185351371765, 0.01989404298365116, 0.9918803572654724, 0.9995929598808289, 0.9990209937095642, 0.9744001626968384, 0.024737093597650528, 0.9969548583030701, 0.9972831606864929, 0.981902003288269, 0.9968059062957764, 0.9829649329185486, 0.02455340325832367, 0.1396341323852539, 0.09992167353630066, 0.5771117210388184, 0.1584228277206421, 0.9978201389312744, 0.9928082227706909, 0.9728289842605591, 0.023490577936172485, 0.002755067776888609, 0.000870021409355104, 0.9969135522842407, 0.9989414811134338, 0.9987537264823914, 0.5901835560798645, 0.3777253031730652, 0.031721875071525574, 0.9127622842788696, 0.07234486192464828, 0.014198523946106434, 0.2534249424934387, 0.2616918981075287, 0.4022301435470581, 0.06014923006296158, 0.022235259413719177, 0.14087450504302979, 0.8587793707847595, 0.9957464933395386, 0.9960517287254333, 0.06509680300951004, 0.9339975714683533, 0.9972080588340759, 0.9990721344947815, 0.998447597026825, 0.9985359311103821, 0.8758925199508667, 0.11958680301904678, 0.9504067301750183, 0.9932982921600342, 0.8474146723747253, 0.150964617729187, 0.9951923489570618, 0.015254980884492397, 0.9843477010726929, 0.9939927458763123, 0.5034276843070984, 0.4325607419013977, 0.06378022581338882, 0.8308937549591064, 0.15143708884716034, 0.01608181558549404, 0.9906960129737854, 0.8534042835235596, 0.10951459407806396, 0.036879658699035645, 0.9818160533905029, 0.995216965675354, 0.9981659054756165, 0.997188150882721, 0.63025963306427, 0.19019101560115814, 0.15986792743206024, 0.019575662910938263, 0.004467531573027372, 0.9683374762535095, 0.025688307359814644, 0.9671896696090698, 0.9988022446632385, 0.28496065735816956, 0.7040204405784607, 0.1684526950120926, 0.830556333065033, 0.9995282888412476, 0.9794695973396301, 0.9949992895126343, 0.9372400045394897, 0.9981901049613953, 0.9986865520477295, 0.9829649329185486, 0.5054550766944885, 0.002630295231938362, 0.49142682552337646, 0.9881339073181152, 0.6496322154998779, 0.34190019965171814, 0.0003634916211012751, 0.008069513365626335, 0.03225821256637573, 0.9676644802093506, 0.9990184307098389, 0.9935081005096436, 0.9969411492347717, 0.9996653199195862, 0.11348972469568253, 0.49852773547172546, 0.3873353898525238, 0.999194324016571, 0.9958877563476562], \"Term\": [\"ab\", \"ab\", \"ac\", \"access\", \"access\", \"accomplish\", \"acquired\", \"act\", \"act\", \"adam\", \"admin\", \"ago\", \"agree\", \"agrees\", \"air\", \"air\", \"al\", \"alan\", \"algorithm\", \"algorithms\", \"allen\", \"also\", \"also\", \"also\", \"also\", \"also\", \"also\", \"amanda_walker\", \"amendment\", \"amp\", \"amps\", \"analysis\", \"announcement\", \"answer\", \"anybody\", \"anybody\", \"anyone\", \"anyone\", \"anyone\", \"appeared\", \"appearing\", \"appointed\", \"approximately\", \"apr\", \"arab\", \"arabs\", \"arbitrary\", \"argic\", \"arizona\", \"armenia\", \"armenian\", \"armenians\", \"arms\", \"arms\", \"arranged\", \"arrived\", \"arrived\", \"article\", \"article\", \"ask\", \"assign\", \"assumptions\", \"astronomy\", \"atheists\", \"atlanta\", \"attacks\", \"attacks\", \"au\", \"au\", \"australia\", \"australian\", \"austria\", \"available\", \"ax\", \"ba\", \"back\", \"back\", \"back\", \"bars\", \"batteries\", \"beautiful\", \"beaverton\", \"become\", \"become\", \"belief\", \"believe\", \"better\", \"better\", \"better\", \"bible\", \"big\", \"big\", \"bike\", \"biological\", \"bit\", \"bit\", \"bit\", \"bit\", \"black_white\", \"blind\", \"block\", \"block\", \"boards\", \"books\", \"boost\", \"boston\", \"bought\", \"brain\", \"brand\", \"braves\", \"britain\", \"broke\", \"brown\", \"buy\", \"cable\", \"cables\", \"cage\", \"calif\", \"california\", \"california\", \"california_institute\", \"cambridge\", \"cambridge\", \"cambridge\", \"canada\", \"cannot\", \"cap\", \"car\", \"card\", \"cars\", \"case_western\", \"cause\", \"cause\", \"cds\", \"center\", \"center\", \"charles\", \"cheap\", \"checked\", \"checking\", \"checks\", \"chicago\", \"chicago_il\", \"child\", \"children\", \"chip\", \"chips\", \"christian\", \"christians\", \"circuits\", \"claim\", \"clayton\", \"clearly\", \"cleveland_ohio\", \"clinton\", \"clipper\", \"clipper_chip\", \"close\", \"close\", \"closed_roads\", \"closet\", \"cmu_reply\", \"code\", \"collins\", \"com\", \"come\", \"come\", \"come\", \"communication_services\", \"communications\", \"communications\", \"comp_sci\", \"computer\", \"computing\", \"connectors\", \"contents\", \"controversy\", \"copies\", \"copy\", \"corp\", \"corp\", \"costs\", \"could\", \"could\", \"could\", \"country\", \"cpu\", \"cr\", \"criminal\", \"crypto\", \"cryptography\", \"cubs\", \"custom\", \"data\", \"data\", \"data\", \"dates\", \"david\", \"david\", \"day\", \"day\", \"day\", \"day\", \"dc\", \"de\", \"de\", \"death\", \"death_penalty\", \"decent\", \"democracy\", \"der\", \"des\", \"detroit\", \"developers\", \"development\", \"devils\", \"die\", \"die\", \"digital_equipment\", \"direct\", \"dirt\", \"disclaimer_opinions\", \"disease\", \"disk\", \"distribution\", \"distribution_inet\", \"distribution_na\", \"distribution_usa\", \"distribution_usa\", \"distribution_world\", \"distribution_world\", \"distribution_world\", \"distribution_world\", \"division\", \"dod\", \"door\", \"doors\", \"dos\", \"dr\", \"dr\", \"drive\", \"drive\", \"driver\", \"drives\", \"drops\", \"drug\", \"du\", \"dual\", \"dynamic\", \"early\", \"earth\", \"earth\", \"ed\", \"eff\", \"el\", \"electrical_engineering\", \"em\", \"em\", \"email\", \"encryption\", \"end\", \"end\", \"end\", \"end\", \"end\", \"engine\", \"england\", \"entitled\", \"eric\", \"eric\", \"errors\", \"even\", \"even\", \"even\", \"even\", \"events\", \"everyone\", \"everywhere\", \"evidence\", \"evidently\", \"excellent_condition\", \"exist\", \"exists_single\", \"expense\", \"expensive\", \"experiment\", \"export\", \"fact\", \"fact\", \"faith\", \"family\", \"faq\", \"faq\", \"fax\", \"feature\", \"fee\", \"fi\", \"file\", \"files\", \"film\", \"finals\", \"find\", \"find\", \"first\", \"first\", \"first\", \"fish\", \"force\", \"format\", \"four\", \"frame\", \"fred_rice\", \"friend\", \"fuel\", \"ga\", \"game\", \"games\", \"general\", \"general\", \"general\", \"general\", \"genesis\", \"genocide\", \"german\", \"german\", \"get\", \"get\", \"get\", \"get\", \"getting\", \"getting\", \"getting\", \"go\", \"go\", \"go\", \"god\", \"good\", \"good\", \"good\", \"got\", \"got\", \"gov\", \"government\", \"government\", \"graphics\", \"greek\", \"ground\", \"ground\", \"groups\", \"groups\", \"groups\", \"guest\", \"guest\", \"guest\", \"guilty\", \"gun\", \"guns\", \"hamilton\", \"handguns\", \"handle\", \"hardware\", \"health\", \"hell\", \"helmet\", \"help\", \"help\", \"helsinki\", \"hi\", \"hill\", \"history\", \"history\", \"history\", \"hitler\", \"hitter\", \"ho\", \"holocaust\", \"home\", \"honda\", \"host\", \"host\", \"host_slc\", \"hot\", \"however\", \"however\", \"however\", \"human_beings\", \"hut_fi\", \"ice\", \"id\", \"il\", \"im\", \"imagination\", \"imaging\", \"info\", \"information\", \"information\", \"ins_cwru\", \"insurance\", \"integra\", \"intel\", \"interior\", \"interior\", \"internet\", \"iran\", \"islam\", \"islamic\", \"israel\", \"israeli\", \"issue\", \"issue\", \"issued\", \"jerusalem\", \"jesus\", \"jewish\", \"jews\", \"john\", \"john\", \"john\", \"jpeg\", \"keep_bear\", \"keith\", \"keith_allan\", \"key\", \"keys\", \"killed\", \"kinda\", \"kit\", \"knew\", \"know\", \"know\", \"kurds\", \"la\", \"land\", \"land\", \"larger\", \"last\", \"last\", \"last_night\", \"launch\", \"law\", \"law_enforcement\", \"laws\", \"le\", \"leather\", \"lifetime\", \"like\", \"like\", \"like\", \"liked\", \"lines\", \"lines\", \"lines\", \"lines\", \"load\", \"located\", \"looking\", \"looking\", \"lost\", \"lots\", \"louis\", \"lowest\", \"lunar\", \"mac\", \"machine\", \"machines\", \"mail\", \"make\", \"make\", \"make\", \"make\", \"manage\", \"many\", \"many\", \"many\", \"many\", \"market\", \"mars\", \"materials\", \"mathematical\", \"mathematics\", \"max\", \"may\", \"may\", \"may\", \"may\", \"mb\", \"mb\", \"md\", \"mean\", \"medical\", \"members\", \"memory\", \"men\", \"message\", \"message\", \"message\", \"message_apr\", \"met\", \"michael\", \"might\", \"might\", \"might\", \"might_serve\", \"mike\", \"military\", \"militia\", \"mind\", \"minnesota\", \"mission\", \"misuse\", \"mo\", \"money\", \"money\", \"month\", \"moon\", \"motif\", \"motorola\", \"motto\", \"mountain_passes\", \"mr\", \"mr\", \"mr\", \"ms_dos\", \"mu\", \"mu\", \"much\", \"much\", \"much\", \"muslim\", \"muslim\", \"muslim\", \"muslims\", \"muslims\", \"muslims\", \"nasa\", \"national\", \"national\", \"national\", \"navy\", \"neat\", \"need\", \"need\", \"need\", \"needless_say\", \"netcom_line\", \"networks\", \"new\", \"new\", \"new\", \"new\", \"new\", \"new_york\", \"new_zealand\", \"next\", \"next\", \"next\", \"nf\", \"nh\", \"nhl\", \"nice\", \"nice\", \"nice\", \"nicely\", \"nl\", \"nntp_posting\", \"nothing\", \"ns\", \"ns_simms\", \"nsa\", \"nt\", \"nuclear_weapons\", \"number\", \"number\", \"number\", \"object\", \"observation\", \"occupation\", \"occupied\", \"office\", \"office\", \"office\", \"often\", \"ohanus_appressian\", \"old\", \"old\", \"old\", \"old\", \"one\", \"one\", \"one\", \"one\", \"one\", \"orbit\", \"orders\", \"orders\", \"organisation\", \"organization\", \"organization\", \"organization\", \"originator\", \"pa\", \"packet\", \"page\", \"partially\", \"passing\", \"patient\", \"patients\", \"paul\", \"pb\", \"pc\", \"pd\", \"peace\", \"peace\", \"penalties\", \"people\", \"people\", \"perhaps\", \"pgp\", \"physical\", \"pin\", \"pl\", \"planned\", \"planned\", \"play\", \"player\", \"plays\", \"please\", \"please\", \"po_andrew\", \"point\", \"point\", \"pointer\", \"points\", \"pole\", \"police\", \"possibility\", \"possibility\", \"possibly\", \"pov\", \"power\", \"power\", \"presenting\", \"president\", \"press_release\", \"price\", \"price\", \"printer\", \"privacy\", \"prize\", \"problem\", \"problem\", \"problem\", \"production\", \"products\", \"program\", \"promotion\", \"proves\", \"provide\", \"provide\", \"provide\", \"provide\", \"ps\", \"pts\", \"pub\", \"public\", \"public\", \"purdue_university\", \"question\", \"qur\", \"rain\", \"rather\", \"rd\", \"rd\", \"rd\", \"really\", \"really\", \"reason\", \"reduced\", \"regards\", \"related\", \"related\", \"relations\", \"religious\", \"remainder\", \"remind\", \"removing\", \"reply\", \"reply\", \"reply\", \"reply_serdar\", \"research\", \"research\", \"reserve_university\", \"responses\", \"restrictions\", \"resulting\", \"retired\", \"reward\", \"ridden\", \"rider\", \"rifles\", \"right\", \"right\", \"right\", \"right\", \"rights\", \"risk\", \"river\", \"rm\", \"rm\", \"rob\", \"robert\", \"rocket\", \"rockets\", \"roger\", \"route\", \"rsa\", \"rt\", \"rushdie\", \"russia\", \"russian\", \"russian\", \"sacred\", \"sahak_melkonian\", \"said\", \"said\", \"said\", \"sale\", \"sam\", \"san_francisco\", \"satellite\", \"satellites\", \"saturn\", \"say\", \"says\", \"says\", \"sc\", \"scenes\", \"scheme\", \"schools\", \"sci\", \"science\", \"science\", \"scientific\", \"scored\", \"scott\", \"scsi\", \"season\", \"second\", \"section\", \"secular\", \"secure\", \"security\", \"security\", \"see\", \"see\", \"self\", \"sell\", \"semi\", \"semi_automatic\", \"send\", \"send\", \"send\", \"senses\", \"serdar_argic\", \"serial_number\", \"service\", \"services\", \"set\", \"set\", \"set\", \"set\", \"shaft\", \"shall\", \"shuttle\", \"silver\", \"since\", \"since\", \"since\", \"since\", \"since\", \"singapore\", \"slaughter\", \"slaughter\", \"society\", \"software\", \"software_vax\", \"solar\", \"soldiers\", \"soldiers\", \"soldiers\", \"solution\", \"solutions\", \"something\", \"something\", \"sons\", \"sony\", \"sounds\", \"soviet_armenia\", \"space\", \"space_shuttle\", \"spacecraft\", \"speak_company\", \"speakers\", \"spec\", \"special_investors\", \"specification\", \"specified\", \"specs\", \"sr\", \"ss\", \"st\", \"st\", \"st\", \"state\", \"state\", \"statement\", \"states\", \"stats\", \"stephen\", \"steve\", \"stolen\", \"stone\", \"stratus_computer\", \"strength\", \"study\", \"sunday\", \"super\", \"sys\", \"system\", \"system\", \"system\", \"tail\", \"talk\", \"talking\", \"tape\", \"tavares\", \"team\", \"teams\", \"technical\", \"technical\", \"technology\", \"technology\", \"technology\", \"technology\", \"technology_finland\", \"technology_pasadena\", \"texas\", \"tga\", \"th\", \"thanks\", \"things\", \"think\", \"think\", \"think\", \"three\", \"three\", \"throw\", \"tiff\", \"time\", \"time\", \"time\", \"time\", \"time\", \"timing\", \"tm\", \"tm\", \"today\", \"today\", \"today\", \"today_longer\", \"tommy\", \"toshiba\", \"total\", \"trace\", \"translate\", \"treatment\", \"treatment\", \"trivial\", \"true\", \"truth\", \"trying\", \"trying\", \"turkey\", \"turkish\", \"turkish_soul\", \"turks\", \"turks_proceeded\", \"two\", \"two\", \"two\", \"two\", \"two\", \"ub\", \"uk\", \"university\", \"university\", \"university\", \"university\", \"university_illinois\", \"update\", \"upon\", \"us\", \"us\", \"us\", \"usa\", \"usa\", \"usa\", \"used\", \"used\", \"used\", \"used\", \"used\", \"using\", \"using\", \"va\", \"values\", \"van\", \"van\", \"vehicle\", \"version\", \"via\", \"video\", \"villages\", \"villages\", \"visualization\", \"vms_vnews\", \"voice\", \"voice\", \"votes\", \"vs\", \"vs\", \"vw\", \"want\", \"want\", \"want\", \"war\", \"war\", \"war\", \"watching\", \"way\", \"way\", \"way\", \"ways_escape\", \"weapons\", \"week\", \"weeks\", \"well\", \"well\", \"well\", \"well\", \"went\", \"went\", \"went\", \"western_digital\", \"whether\", \"white_house\", \"white_house\", \"win\", \"win\", \"windows\", \"wiretap\", \"wiring\", \"wk\", \"women\", \"word\", \"work_extermination\", \"world\", \"world\", \"world\", \"worried\", \"would\", \"would\", \"would\", \"would\", \"writes\", \"writes\", \"wrong\", \"xr\", \"xt\", \"year\", \"years\", \"years\", \"years\", \"yes\", \"zone\"]}, \"R\": 30, \"lambda.step\": 0.01, \"plot.opts\": {\"xlab\": \"PC1\", \"ylab\": \"PC2\"}, \"topic.order\": [12, 20, 17, 2, 9, 10, 1, 6, 14, 16, 11, 7, 8, 13, 15, 18, 19, 3, 4, 5]};\n",
       "\n",
       "function LDAvis_load_lib(url, callback){\n",
       "  var s = document.createElement('script');\n",
       "  s.src = url;\n",
       "  s.async = true;\n",
       "  s.onreadystatechange = s.onload = callback;\n",
       "  s.onerror = function(){console.warn(\"failed to load library \" + url);};\n",
       "  document.getElementsByTagName(\"head\")[0].appendChild(s);\n",
       "}\n",
       "\n",
       "if(typeof(LDAvis) !== \"undefined\"){\n",
       "   // already loaded: just create the visualization\n",
       "   !function(LDAvis){\n",
       "       new LDAvis(\"#\" + \"ldavis_el200417008120130009219974413\", ldavis_el200417008120130009219974413_data);\n",
       "   }(LDAvis);\n",
       "}else if(typeof define === \"function\" && define.amd){\n",
       "   // require.js is available: use it to load d3/LDAvis\n",
       "   require.config({paths: {d3: \"https://cdnjs.cloudflare.com/ajax/libs/d3/3.5.5/d3.min\"}});\n",
       "   require([\"d3\"], function(d3){\n",
       "      window.d3 = d3;\n",
       "      LDAvis_load_lib(\"https://cdn.rawgit.com/bmabey/pyLDAvis/files/ldavis.v1.0.0.js\", function(){\n",
       "        new LDAvis(\"#\" + \"ldavis_el200417008120130009219974413\", ldavis_el200417008120130009219974413_data);\n",
       "      });\n",
       "    });\n",
       "}else{\n",
       "    // require.js not available: dynamically load d3 & LDAvis\n",
       "    LDAvis_load_lib(\"https://cdnjs.cloudflare.com/ajax/libs/d3/3.5.5/d3.min.js\", function(){\n",
       "         LDAvis_load_lib(\"https://cdn.rawgit.com/bmabey/pyLDAvis/files/ldavis.v1.0.0.js\", function(){\n",
       "                 new LDAvis(\"#\" + \"ldavis_el200417008120130009219974413\", ldavis_el200417008120130009219974413_data);\n",
       "            })\n",
       "         });\n",
       "}\n",
       "</script>"
      ],
      "text/plain": [
       "PreparedData(topic_coordinates=              x         y  topics  cluster       Freq\n",
       "topic                                                \n",
       "11    -0.385337  0.124698       1        1  25.790613\n",
       "19    -0.347774  0.180898       2        1  17.700062\n",
       "16    -0.282001 -0.206484       3        1  13.463226\n",
       "1     -0.290560  0.098105       4        1  12.468544\n",
       "8     -0.268927 -0.042611       5        1  11.663859\n",
       "9      0.012410 -0.056713       6        1   4.839156\n",
       "0     -0.101932 -0.304848       7        1   4.297887\n",
       "5      0.011601 -0.026940       8        1   2.721151\n",
       "13     0.056636  0.005355       9        1   1.785118\n",
       "15     0.070396 -0.042969      10        1   1.001300\n",
       "10     0.109861  0.006652      11        1   0.794986\n",
       "6      0.136870  0.021886      12        1   0.749782\n",
       "7      0.140169  0.030547      13        1   0.566472\n",
       "12     0.148999  0.031805      14        1   0.547159\n",
       "14     0.152519  0.031231      15        1   0.428645\n",
       "17     0.157416  0.031759      16        1   0.389616\n",
       "18     0.155872  0.031000      17        1   0.352459\n",
       "2      0.166011  0.030034      18        1   0.250264\n",
       "3      0.174555  0.029255      19        1   0.163097\n",
       "4      0.183216  0.027341      20        1   0.026616, topic_info=      Category          Freq               Term         Total  loglift  \\\n",
       "6904   Default  54859.000000                 ax  54859.000000  30.0000   \n",
       "33     Default  18286.000000       organization  18286.000000  29.0000   \n",
       "23     Default  18970.000000              lines  18970.000000  28.0000   \n",
       "262    Default  12213.000000             writes  12213.000000  27.0000   \n",
       "227    Default  11612.000000            article  11612.000000  26.0000   \n",
       "...        ...           ...                ...           ...      ...   \n",
       "9133   Topic20      0.005047           somewhat      1.288500   2.6889   \n",
       "11701  Topic20      0.005047          resources      1.288485   2.6889   \n",
       "7899   Topic20      0.005047          existence      1.288540   2.6889   \n",
       "69413  Topic20      0.005047  mr_stephanopoulos      1.288515   2.6889   \n",
       "9226   Topic20      0.005047          arguments      1.288493   2.6889   \n",
       "\n",
       "       logprob  \n",
       "6904   30.0000  \n",
       "33     29.0000  \n",
       "23     28.0000  \n",
       "262    27.0000  \n",
       "227    26.0000  \n",
       "...        ...  \n",
       "9133  -11.3818  \n",
       "11701 -11.3818  \n",
       "7899  -11.3818  \n",
       "69413 -11.3818  \n",
       "9226  -11.3818  \n",
       "\n",
       "[838 rows x 6 columns], token_table=      Topic      Freq    Term\n",
       "term                         \n",
       "1231      4  0.658714      ab\n",
       "1231     13  0.337137      ab\n",
       "4642      8  0.996335      ac\n",
       "108       3  0.866993  access\n",
       "108      10  0.132103  access\n",
       "...     ...       ...     ...\n",
       "52        2  0.113490   years\n",
       "52        4  0.498528   years\n",
       "52        5  0.387335   years\n",
       "318       1  0.999194     yes\n",
       "3240     13  0.995888    zone\n",
       "\n",
       "[986 rows x 3 columns], R=30, lambda_step=0.01, plot_opts={'xlab': 'PC1', 'ylab': 'PC2'}, topic_order=[12, 20, 17, 2, 9, 10, 1, 6, 14, 16, 11, 7, 8, 13, 15, 18, 19, 3, 4, 5])"
      ]
     },
     "execution_count": 27,
     "metadata": {},
     "output_type": "execute_result"
    }
   ],
   "source": [
    "pyLDAvis.enable_notebook()\n",
    "vis = pyLDAvis.gensim.prepare(lda_model, corpus, id2word)\n",
    "vis"
   ]
  },
  {
   "cell_type": "markdown",
   "metadata": {},
   "source": [
    "## LDA Mallet"
   ]
  },
  {
   "cell_type": "code",
   "execution_count": 28,
   "metadata": {},
   "outputs": [],
   "source": [
    "from gensim.models.wrappers import LdaMallet\n",
    "import os\n",
    "os.environ.update({'MALLET_HOME':r'C:/Users/Junbo/mallet-2.0.8'})"
   ]
  },
  {
   "cell_type": "code",
   "execution_count": 29,
   "metadata": {},
   "outputs": [
    {
     "name": "stdout",
     "output_type": "stream",
     "text": [
      "[(11,\n",
      "  [('drive', 0.014836598709745791),\n",
      "   ('windows', 0.014465683742002146),\n",
      "   ('card', 0.01193551378346514),\n",
      "   ('system', 0.011471870073785584),\n",
      "   ('scsi', 0.011445376147518182),\n",
      "   ('dos', 0.011299659553047464),\n",
      "   ('mac', 0.009577554345666256),\n",
      "   ('bit', 0.009458331677462942),\n",
      "   ('problem', 0.009431837751195538),\n",
      "   ('mb', 0.009180145451655209)]),\n",
      " (1,\n",
      "  [('file', 0.018882823972735586),\n",
      "   ('information', 0.014671247679476878),\n",
      "   ('list', 0.011249341941204178),\n",
      "   ('send', 0.010806018120861157),\n",
      "   ('mail', 0.010709041035161121),\n",
      "   ('internet', 0.008755645451774681),\n",
      "   ('number', 0.008672522235460363),\n",
      "   ('info', 0.007965974896788674),\n",
      "   ('program', 0.007868997811088636),\n",
      "   ('read', 0.007411820121359896)]),\n",
      " (15,\n",
      "  [('window', 0.009391110808294157),\n",
      "   ('version', 0.008062501419454476),\n",
      "   ('software', 0.007699121073788922),\n",
      "   ('graphics', 0.007699121073788922),\n",
      "   ('image', 0.00755149780836229),\n",
      "   ('program', 0.007494719629352047),\n",
      "   ('server', 0.006983716018259862),\n",
      "   ('display', 0.006915582203447571),\n",
      "   ('windows', 0.006563557493584065),\n",
      "   ('sun', 0.0058367968022529585)]),\n",
      " (0,\n",
      "  [('gun', 0.012275123180932738),\n",
      "   ('people', 0.011043313853557923),\n",
      "   ('state', 0.009338833505213705),\n",
      "   ('law', 0.0089377793056033),\n",
      "   ('guns', 0.007491119514151484),\n",
      "   ('article', 0.0060731064512432684),\n",
      "   ('laws', 0.005414231694740461),\n",
      "   ('crime', 0.005256674687750659),\n",
      "   ('fire', 0.004741033573965853),\n",
      "   ('weapons', 0.004325656010083648)]),\n",
      " (12,\n",
      "  [('writes', 0.09475497373180605),\n",
      "   ('organization', 0.09163724054775643),\n",
      "   ('lines', 0.08877788304194298),\n",
      "   ('article', 0.0872104039273103),\n",
      "   ('nntp_posting', 0.05729050038756352),\n",
      "   ('host', 0.04984928085436224),\n",
      "   ('university', 0.027715097752131598),\n",
      "   ('reply', 0.02383946257858927),\n",
      "   ('distribution_world', 0.012126431831883559),\n",
      "   ('ca', 0.009921626044268366)]),\n",
      " (2,\n",
      "  [('people', 0.020686738185873035),\n",
      "   ('god', 0.011855782417554249),\n",
      "   ('true', 0.009215467630509734),\n",
      "   ('question', 0.008446443906127837),\n",
      "   ('evidence', 0.008023480857717794),\n",
      "   ('life', 0.007613334871380782),\n",
      "   ('writes', 0.007177554760897707),\n",
      "   ('argument', 0.006690506402122505),\n",
      "   ('claim', 0.006626421091757348),\n",
      "   ('reason', 0.006626421091757348)]),\n",
      " (4,\n",
      "  [('ax', 0.7970906630581868),\n",
      "   ('max', 0.057997293640054126),\n",
      "   ('pl', 0.0035723951285520973),\n",
      "   ('tm', 0.002503382949932341),\n",
      "   ('di_di', 0.0018944519621109607),\n",
      "   ('ei', 0.0018673883626522327),\n",
      "   ('qax', 0.0018538565629228688),\n",
      "   ('mb', 0.0018403247631935047),\n",
      "   ('pl_pl', 0.0016914749661705007),\n",
      "   ('di', 0.0015967523680649525)]),\n",
      " (9,\n",
      "  [('god', 0.026676566519052796),\n",
      "   ('jesus', 0.014703932539577311),\n",
      "   ('bible', 0.00910874811063085),\n",
      "   ('christian', 0.00889660841664236),\n",
      "   ('church', 0.0068415051311288486),\n",
      "   ('good', 0.0066426241680146375),\n",
      "   ('christians', 0.006324414627031901),\n",
      "   ('people', 0.005926652700803479),\n",
      "   ('christ', 0.005794065392060672),\n",
      "   ('man', 0.005741030468563549)]),\n",
      " (8,\n",
      "  [('lines', 0.060599098701069186),\n",
      "   ('organization', 0.056923212865600425),\n",
      "   ('university', 0.04282053547760007),\n",
      "   ('nntp_posting', 0.02300963152779005),\n",
      "   ('host', 0.017495802774586906),\n",
      "   ('mail', 0.015163029071308651),\n",
      "   ('sale', 0.012953963064416365),\n",
      "   ('interested', 0.008853936555624282),\n",
      "   ('email', 0.008482813466466378),\n",
      "   ('newsreader_tin', 0.008429795882300964)]),\n",
      " (18,\n",
      "  [('key', 0.02204335931940733),\n",
      "   ('encryption', 0.01100586663293221),\n",
      "   ('security', 0.008871108018785876),\n",
      "   ('keys', 0.008475782349499517),\n",
      "   ('government', 0.008270213001470612),\n",
      "   ('system', 0.00819114786761334),\n",
      "   ('public', 0.007922326412498615),\n",
      "   ('bit', 0.007321431395183352),\n",
      "   ('data', 0.007289805341640443),\n",
      "   ('technology', 0.007115862047154446)])]\n"
     ]
    }
   ],
   "source": [
    "mallet_path = 'C:\\\\Users\\\\Junbo\\\\mallet-2.0.8\\\\bin\\\\mallet'\n",
    "ldamallet = gensim.models.wrappers.LdaMallet(mallet_path, corpus=corpus, num_topics=20, id2word=id2word)\n",
    "pprint(ldamallet.show_topics(formatted=False))"
   ]
  },
  {
   "cell_type": "code",
   "execution_count": 30,
   "metadata": {},
   "outputs": [
    {
     "name": "stdout",
     "output_type": "stream",
     "text": [
      "\n",
      "Coherence Score:  0.6849655637202872\n"
     ]
    }
   ],
   "source": [
    "coherence_model_ldamallet = CoherenceModel(model=ldamallet, texts=data_bigram, dictionary=id2word, coherence='c_v')\n",
    "coherence_ldamallet = coherence_model_ldamallet.get_coherence()\n",
    "print('\\nCoherence Score: ', coherence_ldamallet)"
   ]
  },
  {
   "cell_type": "markdown",
   "metadata": {},
   "source": [
    "A significant improvement!"
   ]
  },
  {
   "cell_type": "markdown",
   "metadata": {},
   "source": [
    "## Optimal No. of topics"
   ]
  },
  {
   "cell_type": "code",
   "execution_count": 31,
   "metadata": {},
   "outputs": [],
   "source": [
    "def compute_coherence_values(dictionary, corpus, texts, max_num, start=2, step=3):\n",
    "    \"\"\"\n",
    "    Compute c_v coherence for various number of topics\n",
    "\n",
    "    Parameters:\n",
    "    ----------\n",
    "    dictionary : Gensim dictionary\n",
    "    corpus : Gensim corpus\n",
    "    texts : List of input texts\n",
    "    max_num: Max num of topics\n",
    "\n",
    "    Returns:\n",
    "    -------\n",
    "    model_list : List of LDA topic models\n",
    "    coherence_values : Coherence values corresponding to the LDA model with respective number of topics\n",
    "    \"\"\"\n",
    "    coherence_values = []\n",
    "    model_list = []\n",
    "    for num_topics in range(start, max_num, step):\n",
    "        model = gensim.models.wrappers.LdaMallet(mallet_path, corpus=corpus, num_topics=num_topics, id2word=id2word)\n",
    "        model_list.append(model)\n",
    "        coherencemodel = CoherenceModel(model=model, texts=texts, dictionary=dictionary, coherence='c_v')\n",
    "        coherence_values.append(coherencemodel.get_coherence())\n",
    "\n",
    "    return model_list, coherence_values"
   ]
  },
  {
   "cell_type": "code",
   "execution_count": 32,
   "metadata": {},
   "outputs": [],
   "source": [
    "model_list, coherence_values = compute_coherence_values(dictionary=id2word, corpus=corpus, texts=data_bigram, start=2, max_num=40, step=6)"
   ]
  },
  {
   "cell_type": "code",
   "execution_count": 33,
   "metadata": {},
   "outputs": [
    {
     "data": {
      "image/png": "[encoded data removed]",
      "text/plain": [
       "<Figure size 432x288 with 1 Axes>"
      ]
     },
     "metadata": {
      "needs_background": "light"
     },
     "output_type": "display_data"
    }
   ],
   "source": [
    "limit=40; start=2; step=6;\n",
    "x = range(start, limit, step)\n",
    "plt.plot(x, coherence_values)\n",
    "plt.xlabel(\"Num Topics\")\n",
    "plt.ylabel(\"Coherence score\")\n",
    "plt.legend()\n",
    "plt.show()"
   ]
  },
  {
   "cell_type": "code",
   "execution_count": 44,
   "metadata": {},
   "outputs": [
    {
     "name": "stdout",
     "output_type": "stream",
     "text": [
      "[(0,\n",
      "  '0.013*\"people\" + 0.013*\"time\" + 0.010*\"back\" + 0.008*\"told\" + '\n",
      "  '0.007*\"started\" + 0.006*\"left\" + 0.006*\"home\" + 0.006*\"days\" + '\n",
      "  '0.006*\"happened\" + 0.006*\"day\"'),\n",
      " (1,\n",
      "  '0.013*\"people\" + 0.010*\"writes\" + 0.010*\"question\" + 0.008*\"reason\" + '\n",
      "  '0.007*\"point\" + 0.007*\"true\" + 0.007*\"evidence\" + 0.007*\"make\" + '\n",
      "  '0.007*\"wrong\" + 0.006*\"article\"'),\n",
      " (2,\n",
      "  '0.013*\"team\" + 0.012*\"game\" + 0.009*\"hockey\" + 0.008*\"play\" + 0.007*\"games\" '\n",
      "  '+ 0.006*\"nhl\" + 0.006*\"season\" + 0.006*\"win\" + 0.006*\"year\" + '\n",
      "  '0.005*\"players\"'),\n",
      " (3,\n",
      "  '0.008*\"article\" + 0.008*\"organization\" + 0.008*\"lines\" + 0.005*\"writes\" + '\n",
      "  '0.005*\"medical\" + 0.005*\"problems\" + 0.005*\"time\" + 0.005*\"gordon_banks\" + '\n",
      "  '0.004*\"science\" + 0.004*\"food\"'),\n",
      " (4,\n",
      "  '0.016*\"information\" + 0.010*\"list\" + 0.008*\"group\" + 0.007*\"university\" + '\n",
      "  '0.007*\"send\" + 0.006*\"general\" + 0.006*\"mail\" + 0.005*\"research\" + '\n",
      "  '0.005*\"service\" + 0.005*\"address\"'),\n",
      " (5,\n",
      "  '0.015*\"drive\" + 0.014*\"windows\" + 0.012*\"system\" + 0.012*\"card\" + '\n",
      "  '0.011*\"scsi\" + 0.011*\"dos\" + 0.010*\"bit\" + 0.010*\"problem\" + 0.010*\"mac\" + '\n",
      "  '0.009*\"mb\"'),\n",
      " (6,\n",
      "  '0.032*\"god\" + 0.012*\"jesus\" + 0.009*\"christian\" + 0.009*\"people\" + '\n",
      "  '0.008*\"bible\" + 0.007*\"christians\" + 0.006*\"religion\" + 0.006*\"faith\" + '\n",
      "  '0.006*\"church\" + 0.005*\"life\"'),\n",
      " (7,\n",
      "  '0.798*\"ax\" + 0.058*\"max\" + 0.003*\"pl\" + 0.003*\"tm\" + 0.002*\"di_di\" + '\n",
      "  '0.002*\"qax\" + 0.002*\"ei\" + 0.002*\"mb\" + 0.002*\"pl_pl\" + 0.002*\"wm\"'),\n",
      " (8,\n",
      "  '0.011*\"line\" + 0.007*\"current\" + 0.007*\"file\" + 0.006*\"entry\" + '\n",
      "  '0.006*\"output\" + 0.006*\"number\" + 0.006*\"lines\" + 0.006*\"program\" + '\n",
      "  '0.005*\"power\" + 0.005*\"build\"'),\n",
      " (9,\n",
      "  '0.013*\"people\" + 0.012*\"money\" + 0.010*\"president\" + 0.009*\"make\" + '\n",
      "  '0.007*\"work\" + 0.006*\"pay\" + 0.006*\"time\" + 0.006*\"government\" + '\n",
      "  '0.005*\"made\" + 0.005*\"clinton\"'),\n",
      " (10,\n",
      "  '0.024*\"space\" + 0.007*\"nasa\" + 0.006*\"earth\" + 0.006*\"data\" + '\n",
      "  '0.005*\"research\" + 0.005*\"moon\" + 0.005*\"launch\" + 0.005*\"system\" + '\n",
      "  '0.005*\"project\" + 0.005*\"center\"'),\n",
      " (11,\n",
      "  '0.016*\"good\" + 0.014*\"year\" + 0.009*\"organization\" + 0.008*\"lines\" + '\n",
      "  '0.007*\"game\" + 0.007*\"writes\" + 0.006*\"baseball\" + 0.006*\"runs\" + '\n",
      "  '0.005*\"team\" + 0.005*\"article\"'),\n",
      " (12,\n",
      "  '0.007*\"pl\" + 0.006*\"id\" + 0.005*\"hz\" + 0.005*\"md\" + 0.005*\"de\" + 0.005*\"ah\" '\n",
      "  '+ 0.005*\"mc\" + 0.004*\"cx\" + 0.004*\"lk\" + 0.004*\"qs\"'),\n",
      " (13,\n",
      "  '0.100*\"lines\" + 0.098*\"organization\" + 0.086*\"writes\" + 0.077*\"article\" + '\n",
      "  '0.068*\"nntp_posting\" + 0.058*\"host\" + 0.056*\"university\" + 0.026*\"reply\" + '\n",
      "  '0.012*\"distribution_world\" + 0.008*\"ca\"'),\n",
      " (14,\n",
      "  '0.011*\"file\" + 0.009*\"window\" + 0.008*\"program\" + 0.008*\"version\" + '\n",
      "  '0.008*\"files\" + 0.007*\"server\" + 0.007*\"image\" + 0.007*\"windows\" + '\n",
      "  '0.007*\"graphics\" + 0.006*\"display\"'),\n",
      " (15,\n",
      "  '0.021*\"key\" + 0.011*\"encryption\" + 0.009*\"system\" + 0.008*\"security\" + '\n",
      "  '0.008*\"keys\" + 0.008*\"government\" + 0.007*\"technology\" + 0.007*\"public\" + '\n",
      "  '0.007*\"bit\" + 0.006*\"chip\"'),\n",
      " (16,\n",
      "  '0.013*\"israel\" + 0.010*\"people\" + 0.010*\"jews\" + 0.007*\"war\" + '\n",
      "  '0.007*\"israeli\" + 0.006*\"armenian\" + 0.006*\"armenians\" + 0.006*\"turkish\" + '\n",
      "  '0.006*\"world\" + 0.005*\"government\"'),\n",
      " (17,\n",
      "  '0.049*\"organization\" + 0.049*\"lines\" + 0.017*\"mail\" + 0.014*\"nntp_posting\" '\n",
      "  '+ 0.013*\"sale\" + 0.010*\"price\" + 0.010*\"host\" + 0.010*\"university\" + '\n",
      "  '0.010*\"computer\" + 0.008*\"interested\"'),\n",
      " (18,\n",
      "  '0.012*\"gun\" + 0.012*\"people\" + 0.011*\"state\" + 0.009*\"law\" + 0.008*\"guns\" + '\n",
      "  '0.005*\"article\" + 0.005*\"police\" + 0.005*\"crime\" + 0.005*\"laws\" + '\n",
      "  '0.005*\"file\"'),\n",
      " (19,\n",
      "  '0.019*\"car\" + 0.013*\"article\" + 0.012*\"writes\" + 0.009*\"organization\" + '\n",
      "  '0.008*\"bike\" + 0.008*\"lines\" + 0.007*\"cars\" + 0.007*\"good\" + 0.006*\"dod\" + '\n",
      "  '0.005*\"engine\"')]\n"
     ]
    }
   ],
   "source": [
    "# Choose the best model\n",
    "optimal_model = model_list[3]\n",
    "model_topics = optimal_model.show_topics(formatted=False)\n",
    "pprint(optimal_model.print_topics(num_words=10))"
   ]
  },
  {
   "cell_type": "markdown",
   "metadata": {},
   "source": [
    "## Keywords and topics for each news"
   ]
  },
  {
   "cell_type": "code",
   "execution_count": 45,
   "metadata": {},
   "outputs": [],
   "source": [
    "def format_topics_sentences(ldamodel=lda_model, corpus=corpus, texts=data_bigram):\n",
    "    # Init output\n",
    "    sent_topics_df = pd.DataFrame()\n",
    "\n",
    "    # Get main topic in each document\n",
    "    for i, row in enumerate(ldamodel[corpus]):\n",
    "        row = sorted(row, key=lambda x: (x[1]), reverse=True)\n",
    "        # Get the Dominant topic, Perc Contribution and Keywords for each document\n",
    "        for j, (topic_num, prop_topic) in enumerate(row):\n",
    "            if j == 0:  # => dominant topic\n",
    "                wp = ldamodel.show_topic(topic_num)\n",
    "                topic_keywords = \", \".join([word for word, prop in wp])\n",
    "                sent_topics_df = sent_topics_df.append(pd.Series([int(topic_num), round(prop_topic,4), topic_keywords]), ignore_index=True)\n",
    "            else:\n",
    "                break\n",
    "    sent_topics_df.columns = ['Dominant_Topic', 'Perc_Contribution', 'Topic_Keywords']\n",
    "\n",
    "    # Add original text to the end of the output\n",
    "    contents = pd.Series(texts)\n",
    "    sent_topics_df = pd.concat([sent_topics_df, contents], axis=1)\n",
    "    return(sent_topics_df)"
   ]
  },
  {
   "cell_type": "code",
   "execution_count": 46,
   "metadata": {},
   "outputs": [
    {
     "data": {
      "text/html": [
       "<div>\n",
       "<style scoped>\n",
       "    .dataframe tbody tr th:only-of-type {\n",
       "        vertical-align: middle;\n",
       "    }\n",
       "\n",
       "    .dataframe tbody tr th {\n",
       "        vertical-align: top;\n",
       "    }\n",
       "\n",
       "    .dataframe thead th {\n",
       "        text-align: right;\n",
       "    }\n",
       "</style>\n",
       "<table border=\"1\" class=\"dataframe\">\n",
       "  <thead>\n",
       "    <tr style=\"text-align: right;\">\n",
       "      <th></th>\n",
       "      <th>Document_No</th>\n",
       "      <th>Dominant_Topic</th>\n",
       "      <th>Topic_Perc_Contrib</th>\n",
       "      <th>Keywords</th>\n",
       "      <th>Text</th>\n",
       "    </tr>\n",
       "  </thead>\n",
       "  <tbody>\n",
       "    <tr>\n",
       "      <td>0</td>\n",
       "      <td>0</td>\n",
       "      <td>19.0</td>\n",
       "      <td>0.1380</td>\n",
       "      <td>car, article, writes, organization, bike, line...</td>\n",
       "      <td>[thing, car, nntp_posting, host, rac_wam, umd,...</td>\n",
       "    </tr>\n",
       "    <tr>\n",
       "      <td>1</td>\n",
       "      <td>1</td>\n",
       "      <td>5.0</td>\n",
       "      <td>0.1915</td>\n",
       "      <td>drive, windows, system, card, scsi, dos, bit, ...</td>\n",
       "      <td>[guy_kuo, si, clock, poll, final, call, summar...</td>\n",
       "    </tr>\n",
       "    <tr>\n",
       "      <td>2</td>\n",
       "      <td>2</td>\n",
       "      <td>5.0</td>\n",
       "      <td>0.1831</td>\n",
       "      <td>drive, windows, system, card, scsi, dos, bit, ...</td>\n",
       "      <td>[thomas, willis, pb, questions, organization, ...</td>\n",
       "    </tr>\n",
       "    <tr>\n",
       "      <td>3</td>\n",
       "      <td>3</td>\n",
       "      <td>5.0</td>\n",
       "      <td>0.1563</td>\n",
       "      <td>drive, windows, system, card, scsi, dos, bit, ...</td>\n",
       "      <td>[joe, green, weitek, organization, harris, com...</td>\n",
       "    </tr>\n",
       "    <tr>\n",
       "      <td>4</td>\n",
       "      <td>4</td>\n",
       "      <td>10.0</td>\n",
       "      <td>0.1229</td>\n",
       "      <td>space, nasa, earth, data, research, moon, laun...</td>\n",
       "      <td>[jonathan, mcdowell, shuttle_launch, question,...</td>\n",
       "    </tr>\n",
       "    <tr>\n",
       "      <td>5</td>\n",
       "      <td>5</td>\n",
       "      <td>18.0</td>\n",
       "      <td>0.4923</td>\n",
       "      <td>gun, people, state, law, guns, article, police...</td>\n",
       "      <td>[foxvog_douglas, rewording_second, amendment, ...</td>\n",
       "    </tr>\n",
       "    <tr>\n",
       "      <td>6</td>\n",
       "      <td>6</td>\n",
       "      <td>3.0</td>\n",
       "      <td>0.1534</td>\n",
       "      <td>article, organization, lines, writes, medical,...</td>\n",
       "      <td>[brian, manning, delaney, brain, tumor, treatm...</td>\n",
       "    </tr>\n",
       "    <tr>\n",
       "      <td>7</td>\n",
       "      <td>7</td>\n",
       "      <td>5.0</td>\n",
       "      <td>0.6015</td>\n",
       "      <td>drive, windows, system, card, scsi, dos, bit, ...</td>\n",
       "      <td>[grubb_ide, vs, scsi, organization, new_mexico...</td>\n",
       "    </tr>\n",
       "    <tr>\n",
       "      <td>8</td>\n",
       "      <td>8</td>\n",
       "      <td>14.0</td>\n",
       "      <td>0.1250</td>\n",
       "      <td>file, window, program, version, files, server,...</td>\n",
       "      <td>[win, icon, help, please, organization, univer...</td>\n",
       "    </tr>\n",
       "    <tr>\n",
       "      <td>9</td>\n",
       "      <td>9</td>\n",
       "      <td>5.0</td>\n",
       "      <td>0.2135</td>\n",
       "      <td>drive, windows, system, card, scsi, dos, bit, ...</td>\n",
       "      <td>[stan_kerr, sigma_designs, double, article, ux...</td>\n",
       "    </tr>\n",
       "  </tbody>\n",
       "</table>\n",
       "</div>"
      ],
      "text/plain": [
       "   Document_No  Dominant_Topic  Topic_Perc_Contrib  \\\n",
       "0            0            19.0              0.1380   \n",
       "1            1             5.0              0.1915   \n",
       "2            2             5.0              0.1831   \n",
       "3            3             5.0              0.1563   \n",
       "4            4            10.0              0.1229   \n",
       "5            5            18.0              0.4923   \n",
       "6            6             3.0              0.1534   \n",
       "7            7             5.0              0.6015   \n",
       "8            8            14.0              0.1250   \n",
       "9            9             5.0              0.2135   \n",
       "\n",
       "                                            Keywords  \\\n",
       "0  car, article, writes, organization, bike, line...   \n",
       "1  drive, windows, system, card, scsi, dos, bit, ...   \n",
       "2  drive, windows, system, card, scsi, dos, bit, ...   \n",
       "3  drive, windows, system, card, scsi, dos, bit, ...   \n",
       "4  space, nasa, earth, data, research, moon, laun...   \n",
       "5  gun, people, state, law, guns, article, police...   \n",
       "6  article, organization, lines, writes, medical,...   \n",
       "7  drive, windows, system, card, scsi, dos, bit, ...   \n",
       "8  file, window, program, version, files, server,...   \n",
       "9  drive, windows, system, card, scsi, dos, bit, ...   \n",
       "\n",
       "                                                Text  \n",
       "0  [thing, car, nntp_posting, host, rac_wam, umd,...  \n",
       "1  [guy_kuo, si, clock, poll, final, call, summar...  \n",
       "2  [thomas, willis, pb, questions, organization, ...  \n",
       "3  [joe, green, weitek, organization, harris, com...  \n",
       "4  [jonathan, mcdowell, shuttle_launch, question,...  \n",
       "5  [foxvog_douglas, rewording_second, amendment, ...  \n",
       "6  [brian, manning, delaney, brain, tumor, treatm...  \n",
       "7  [grubb_ide, vs, scsi, organization, new_mexico...  \n",
       "8  [win, icon, help, please, organization, univer...  \n",
       "9  [stan_kerr, sigma_designs, double, article, ux...  "
      ]
     },
     "execution_count": 46,
     "metadata": {},
     "output_type": "execute_result"
    }
   ],
   "source": [
    "df_topic_sents_keywords = format_topics_sentences(ldamodel=optimal_model, corpus=corpus, texts=data_bigram)# Format\n",
    "df_dominant_topic = df_topic_sents_keywords.reset_index()\n",
    "df_dominant_topic.columns = ['Document_No', 'Dominant_Topic', 'Topic_Perc_Contrib', 'Keywords', 'Text']# Show\n",
    "df_dominant_topic.head(10)"
   ]
  },
  {
   "cell_type": "markdown",
   "metadata": {},
   "source": [
    "## Most iconic news in each topic"
   ]
  },
  {
   "cell_type": "code",
   "execution_count": 47,
   "metadata": {},
   "outputs": [
    {
     "data": {
      "text/html": [
       "<div>\n",
       "<style scoped>\n",
       "    .dataframe tbody tr th:only-of-type {\n",
       "        vertical-align: middle;\n",
       "    }\n",
       "\n",
       "    .dataframe tbody tr th {\n",
       "        vertical-align: top;\n",
       "    }\n",
       "\n",
       "    .dataframe thead th {\n",
       "        text-align: right;\n",
       "    }\n",
       "</style>\n",
       "<table border=\"1\" class=\"dataframe\">\n",
       "  <thead>\n",
       "    <tr style=\"text-align: right;\">\n",
       "      <th></th>\n",
       "      <th>Topic_Num</th>\n",
       "      <th>Topic_Perc_Contrib</th>\n",
       "      <th>Keywords</th>\n",
       "      <th>Text</th>\n",
       "    </tr>\n",
       "  </thead>\n",
       "  <tbody>\n",
       "    <tr>\n",
       "      <td>0</td>\n",
       "      <td>0.0</td>\n",
       "      <td>0.9061</td>\n",
       "      <td>people, time, back, told, started, left, home,...</td>\n",
       "      <td>[david_davidian, accounts_anti, armenian, huma...</td>\n",
       "    </tr>\n",
       "    <tr>\n",
       "      <td>1</td>\n",
       "      <td>1.0</td>\n",
       "      <td>0.6792</td>\n",
       "      <td>people, writes, question, reason, point, true,...</td>\n",
       "      <td>[mathew, alt_atheism, faq, constructing_logica...</td>\n",
       "    </tr>\n",
       "    <tr>\n",
       "      <td>2</td>\n",
       "      <td>2.0</td>\n",
       "      <td>0.9392</td>\n",
       "      <td>team, game, hockey, play, games, nhl, season, ...</td>\n",
       "      <td>[rocket, nhl, final, point, standings, organiz...</td>\n",
       "    </tr>\n",
       "    <tr>\n",
       "      <td>3</td>\n",
       "      <td>3.0</td>\n",
       "      <td>0.7540</td>\n",
       "      <td>article, organization, lines, writes, medical,...</td>\n",
       "      <td>[prevent, kidney_stone, formation, lines, nntp...</td>\n",
       "    </tr>\n",
       "    <tr>\n",
       "      <td>4</td>\n",
       "      <td>4.0</td>\n",
       "      <td>0.6882</td>\n",
       "      <td>information, list, group, university, send, ge...</td>\n",
       "      <td>[steve, wu, crypto, final, call, organization,...</td>\n",
       "    </tr>\n",
       "  </tbody>\n",
       "</table>\n",
       "</div>"
      ],
      "text/plain": [
       "   Topic_Num  Topic_Perc_Contrib  \\\n",
       "0        0.0              0.9061   \n",
       "1        1.0              0.6792   \n",
       "2        2.0              0.9392   \n",
       "3        3.0              0.7540   \n",
       "4        4.0              0.6882   \n",
       "\n",
       "                                            Keywords  \\\n",
       "0  people, time, back, told, started, left, home,...   \n",
       "1  people, writes, question, reason, point, true,...   \n",
       "2  team, game, hockey, play, games, nhl, season, ...   \n",
       "3  article, organization, lines, writes, medical,...   \n",
       "4  information, list, group, university, send, ge...   \n",
       "\n",
       "                                                Text  \n",
       "0  [david_davidian, accounts_anti, armenian, huma...  \n",
       "1  [mathew, alt_atheism, faq, constructing_logica...  \n",
       "2  [rocket, nhl, final, point, standings, organiz...  \n",
       "3  [prevent, kidney_stone, formation, lines, nntp...  \n",
       "4  [steve, wu, crypto, final, call, organization,...  "
      ]
     },
     "execution_count": 47,
     "metadata": {},
     "output_type": "execute_result"
    }
   ],
   "source": [
    "sent_topics_sorteddf_mallet = pd.DataFrame()\n",
    "\n",
    "sent_topics_outdf_grpd = df_topic_sents_keywords.groupby('Dominant_Topic')\n",
    "for i, grp in sent_topics_outdf_grpd:\n",
    "    sent_topics_sorteddf_mallet = pd.concat([sent_topics_sorteddf_mallet, \n",
    "                                             grp.sort_values(['Perc_Contribution'], ascending=[0]).head(1)], \n",
    "                                            axis=0)# Reset Index\n",
    "sent_topics_sorteddf_mallet.reset_index(drop=True, inplace=True)# Format\n",
    "sent_topics_sorteddf_mallet.columns = ['Topic_Num', \"Topic_Perc_Contrib\", \"Keywords\", \"Text\"]# Show\n",
    "sent_topics_sorteddf_mallet.head()"
   ]
  },
  {
   "cell_type": "markdown",
   "metadata": {},
   "source": [
    "# No. of documents for each topic"
   ]
  },
  {
   "cell_type": "code",
   "execution_count": 48,
   "metadata": {},
   "outputs": [
    {
     "data": {
      "text/html": [
       "<div>\n",
       "<style scoped>\n",
       "    .dataframe tbody tr th:only-of-type {\n",
       "        vertical-align: middle;\n",
       "    }\n",
       "\n",
       "    .dataframe tbody tr th {\n",
       "        vertical-align: top;\n",
       "    }\n",
       "\n",
       "    .dataframe thead th {\n",
       "        text-align: right;\n",
       "    }\n",
       "</style>\n",
       "<table border=\"1\" class=\"dataframe\">\n",
       "  <thead>\n",
       "    <tr style=\"text-align: right;\">\n",
       "      <th></th>\n",
       "      <th>Dominant_Topic</th>\n",
       "      <th>Topic_Keywords</th>\n",
       "      <th>Num_Documents</th>\n",
       "      <th>Perc_Documents</th>\n",
       "    </tr>\n",
       "  </thead>\n",
       "  <tbody>\n",
       "    <tr>\n",
       "      <td>0.0</td>\n",
       "      <td>19.0</td>\n",
       "      <td>car, article, writes, organization, bike, line...</td>\n",
       "      <td>188.0</td>\n",
       "      <td>0.0166</td>\n",
       "    </tr>\n",
       "    <tr>\n",
       "      <td>1.0</td>\n",
       "      <td>5.0</td>\n",
       "      <td>drive, windows, system, card, scsi, dos, bit, ...</td>\n",
       "      <td>437.0</td>\n",
       "      <td>0.0386</td>\n",
       "    </tr>\n",
       "    <tr>\n",
       "      <td>2.0</td>\n",
       "      <td>5.0</td>\n",
       "      <td>drive, windows, system, card, scsi, dos, bit, ...</td>\n",
       "      <td>611.0</td>\n",
       "      <td>0.0540</td>\n",
       "    </tr>\n",
       "    <tr>\n",
       "      <td>3.0</td>\n",
       "      <td>5.0</td>\n",
       "      <td>drive, windows, system, card, scsi, dos, bit, ...</td>\n",
       "      <td>541.0</td>\n",
       "      <td>0.0478</td>\n",
       "    </tr>\n",
       "    <tr>\n",
       "      <td>4.0</td>\n",
       "      <td>10.0</td>\n",
       "      <td>space, nasa, earth, data, research, moon, laun...</td>\n",
       "      <td>215.0</td>\n",
       "      <td>0.0190</td>\n",
       "    </tr>\n",
       "    <tr>\n",
       "      <td>...</td>\n",
       "      <td>...</td>\n",
       "      <td>...</td>\n",
       "      <td>...</td>\n",
       "      <td>...</td>\n",
       "    </tr>\n",
       "    <tr>\n",
       "      <td>11309.0</td>\n",
       "      <td>3.0</td>\n",
       "      <td>article, organization, lines, writes, medical,...</td>\n",
       "      <td>NaN</td>\n",
       "      <td>NaN</td>\n",
       "    </tr>\n",
       "    <tr>\n",
       "      <td>11310.0</td>\n",
       "      <td>5.0</td>\n",
       "      <td>drive, windows, system, card, scsi, dos, bit, ...</td>\n",
       "      <td>NaN</td>\n",
       "      <td>NaN</td>\n",
       "    </tr>\n",
       "    <tr>\n",
       "      <td>11311.0</td>\n",
       "      <td>5.0</td>\n",
       "      <td>drive, windows, system, card, scsi, dos, bit, ...</td>\n",
       "      <td>NaN</td>\n",
       "      <td>NaN</td>\n",
       "    </tr>\n",
       "    <tr>\n",
       "      <td>11312.0</td>\n",
       "      <td>8.0</td>\n",
       "      <td>line, current, file, entry, output, number, li...</td>\n",
       "      <td>NaN</td>\n",
       "      <td>NaN</td>\n",
       "    </tr>\n",
       "    <tr>\n",
       "      <td>11313.0</td>\n",
       "      <td>19.0</td>\n",
       "      <td>car, article, writes, organization, bike, line...</td>\n",
       "      <td>NaN</td>\n",
       "      <td>NaN</td>\n",
       "    </tr>\n",
       "  </tbody>\n",
       "</table>\n",
       "<p>11314 rows × 4 columns</p>\n",
       "</div>"
      ],
      "text/plain": [
       "         Dominant_Topic                                     Topic_Keywords  \\\n",
       "0.0                19.0  car, article, writes, organization, bike, line...   \n",
       "1.0                 5.0  drive, windows, system, card, scsi, dos, bit, ...   \n",
       "2.0                 5.0  drive, windows, system, card, scsi, dos, bit, ...   \n",
       "3.0                 5.0  drive, windows, system, card, scsi, dos, bit, ...   \n",
       "4.0                10.0  space, nasa, earth, data, research, moon, laun...   \n",
       "...                 ...                                                ...   \n",
       "11309.0             3.0  article, organization, lines, writes, medical,...   \n",
       "11310.0             5.0  drive, windows, system, card, scsi, dos, bit, ...   \n",
       "11311.0             5.0  drive, windows, system, card, scsi, dos, bit, ...   \n",
       "11312.0             8.0  line, current, file, entry, output, number, li...   \n",
       "11313.0            19.0  car, article, writes, organization, bike, line...   \n",
       "\n",
       "         Num_Documents  Perc_Documents  \n",
       "0.0              188.0          0.0166  \n",
       "1.0              437.0          0.0386  \n",
       "2.0              611.0          0.0540  \n",
       "3.0              541.0          0.0478  \n",
       "4.0              215.0          0.0190  \n",
       "...                ...             ...  \n",
       "11309.0            NaN             NaN  \n",
       "11310.0            NaN             NaN  \n",
       "11311.0            NaN             NaN  \n",
       "11312.0            NaN             NaN  \n",
       "11313.0            NaN             NaN  \n",
       "\n",
       "[11314 rows x 4 columns]"
      ]
     },
     "execution_count": 48,
     "metadata": {},
     "output_type": "execute_result"
    }
   ],
   "source": [
    "topic_counts = df_topic_sents_keywords['Dominant_Topic'].value_counts()# Percentage of Documents for Each Topic\n",
    "topic_contribution = round(topic_counts/topic_counts.sum(), 4)# Topic Number and Keywords\n",
    "topic_num_keywords = df_topic_sents_keywords[['Dominant_Topic', 'Topic_Keywords']]# Concatenate Column wise\n",
    "df_dominant_topics = pd.concat([topic_num_keywords, topic_counts, topic_contribution], axis=1)# Change Column names\n",
    "df_dominant_topics.columns = ['Dominant_Topic', 'Topic_Keywords', 'Num_Documents', 'Perc_Documents']# Show\n",
    "df_dominant_topics"
   ]
  },
  {
   "cell_type": "code",
   "execution_count": null,
   "metadata": {},
   "outputs": [],
   "source": []
  }
 ],
 "metadata": {
  "kernelspec": {
   "display_name": "Python 3",
   "language": "python",
   "name": "python3"
  },
  "language_info": {
   "codemirror_mode": {
    "name": "ipython",
    "version": 3
   },
   "file_extension": ".py",
   "mimetype": "text/x-python",
   "name": "python",
   "nbconvert_exporter": "python",
   "pygments_lexer": "ipython3",
   "version": "3.7.4"
  }
 },
 "nbformat": 4,
 "nbformat_minor": 4
}
