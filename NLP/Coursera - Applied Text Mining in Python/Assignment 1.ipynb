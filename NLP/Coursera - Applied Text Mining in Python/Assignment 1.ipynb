{
 "cells": [
  {
   "cell_type": "markdown",
   "metadata": {},
   "source": [
    "---\n",
    "\n",
    "_You are currently looking at **version 1.1** of this notebook. To download notebooks and datafiles, as well as get help on Jupyter notebooks in the Coursera platform, visit the [Jupyter Notebook FAQ](https://www.coursera.org/learn/python-text-mining/resources/d9pwm) course resource._\n",
    "\n",
    "---"
   ]
  },
  {
   "cell_type": "markdown",
   "metadata": {},
   "source": [
    "# Assignment 1\n",
    "\n",
    "In this assignment, you'll be working with messy medical data and using regex to extract relevant infromation from the data. \n",
    "\n",
    "Each line of the `dates.txt` file corresponds to a medical note. Each note has a date that needs to be extracted, but each date is encoded in one of many formats.\n",
    "\n",
    "The goal of this assignment is to correctly identify all of the different date variants encoded in this dataset and to properly normalize and sort the dates. \n",
    "\n",
    "Here is a list of some of the variants you might encounter in this dataset:\n",
    "* 04/20/2009; 04/20/09; 4/20/09; 4/3/09\n",
    "* Mar-20-2009; Mar 20, 2009; March 20, 2009;  Mar. 20, 2009; Mar 20 2009;\n",
    "* 20 Mar 2009; 20 March 2009; 20 Mar. 2009; 20 March, 2009\n",
    "* Mar 20th, 2009; Mar 21st, 2009; Mar 22nd, 2009\n",
    "* Feb 2009; Sep 2009; Oct 2010\n",
    "* 6/2008; 12/2009\n",
    "* 2009; 2010\n",
    "\n",
    "Once you have extracted these date patterns from the text, the next step is to sort them in ascending chronological order accoring to the following rules:\n",
    "* Assume all dates in xx/xx/xx format are mm/dd/yy\n",
    "* Assume all dates where year is encoded in only two digits are years from the 1900's (e.g. 1/5/89 is January 5th, 1989)\n",
    "* If the day is missing (e.g. 9/2009), assume it is the first day of the month (e.g. September 1, 2009).\n",
    "* If the month is missing (e.g. 2010), assume it is the first of January of that year (e.g. January 1, 2010).\n",
    "* Watch out for potential typos as this is a raw, real-life derived dataset.\n",
    "\n",
    "With these rules in mind, find the correct date in each note and return a pandas Series in chronological order of the original Series' indices.\n",
    "\n",
    "For example if the original series was this:\n",
    "\n",
    "    0    1999\n",
    "    1    2010\n",
    "    2    1978\n",
    "    3    2015\n",
    "    4    1985\n",
    "\n",
    "Your function should return this:\n",
    "\n",
    "    0    2\n",
    "    1    4\n",
    "    2    0\n",
    "    3    1\n",
    "    4    3\n",
    "\n",
    "Your score will be calculated using [Kendall's tau](https://en.wikipedia.org/wiki/Kendall_rank_correlation_coefficient), a correlation measure for ordinal data.\n",
    "\n",
    "*This function should return a Series of length 500 and dtype int.*"
   ]
  },
  {
   "cell_type": "code",
   "execution_count": 1,
   "metadata": {
    "scrolled": true
   },
   "outputs": [
    {
     "data": {
      "text/plain": [
       "0         03/25/93 Total time of visit (in minutes):\\n\n",
       "1                       6/18/85 Primary Care Doctor:\\n\n",
       "2    sshe plans to move as of 7/8/71 In-Home Servic...\n",
       "3                7 on 9/27/75 Audit C Score Current:\\n\n",
       "4    2/6/96 sleep studyPain Treatment Pain Level (N...\n",
       "5                    .Per 7/06/79 Movement D/O note:\\n\n",
       "6    4, 5/18/78 Patient's thoughts about current su...\n",
       "7    10/24/89 CPT Code: 90801 - Psychiatric Diagnos...\n",
       "8                         3/7/86 SOS-10 Total Score:\\n\n",
       "9             (4/10/71)Score-1Audit C Score Current:\\n\n",
       "dtype: object"
      ]
     },
     "execution_count": 1,
     "metadata": {},
     "output_type": "execute_result"
    }
   ],
   "source": [
    "import pandas as pd\n",
    "\n",
    "doc = []\n",
    "with open('dates.txt') as file:\n",
    "    for line in file:\n",
    "        doc.append(line)\n",
    "\n",
    "df = pd.Series(doc)\n",
    "df.head(10)"
   ]
  },
  {
   "cell_type": "code",
   "execution_count": 2,
   "metadata": {},
   "outputs": [],
   "source": [
    "import re"
   ]
  },
  {
   "cell_type": "code",
   "execution_count": 3,
   "metadata": {
    "scrolled": true
   },
   "outputs": [
    {
     "data": {
      "text/html": [
       "<div>\n",
       "<style scoped>\n",
       "    .dataframe tbody tr th:only-of-type {\n",
       "        vertical-align: middle;\n",
       "    }\n",
       "\n",
       "    .dataframe tbody tr th {\n",
       "        vertical-align: top;\n",
       "    }\n",
       "\n",
       "    .dataframe thead th {\n",
       "        text-align: right;\n",
       "    }\n",
       "</style>\n",
       "<table border=\"1\" class=\"dataframe\">\n",
       "  <thead>\n",
       "    <tr style=\"text-align: right;\">\n",
       "      <th></th>\n",
       "      <th>text</th>\n",
       "    </tr>\n",
       "  </thead>\n",
       "  <tbody>\n",
       "    <tr>\n",
       "      <td>0</td>\n",
       "      <td>03/25/93 Total time of visit (in minutes):\\n</td>\n",
       "    </tr>\n",
       "    <tr>\n",
       "      <td>1</td>\n",
       "      <td>6/18/85 Primary Care Doctor:\\n</td>\n",
       "    </tr>\n",
       "    <tr>\n",
       "      <td>2</td>\n",
       "      <td>sshe plans to move as of 7/8/71 In-Home Servic...</td>\n",
       "    </tr>\n",
       "    <tr>\n",
       "      <td>3</td>\n",
       "      <td>7 on 9/27/75 Audit C Score Current:\\n</td>\n",
       "    </tr>\n",
       "    <tr>\n",
       "      <td>4</td>\n",
       "      <td>2/6/96 sleep studyPain Treatment Pain Level (N...</td>\n",
       "    </tr>\n",
       "    <tr>\n",
       "      <td>...</td>\n",
       "      <td>...</td>\n",
       "    </tr>\n",
       "    <tr>\n",
       "      <td>495</td>\n",
       "      <td>1979 Family Psych History: Family History of S...</td>\n",
       "    </tr>\n",
       "    <tr>\n",
       "      <td>496</td>\n",
       "      <td>therapist and friend died in ~2006 Parental/Ca...</td>\n",
       "    </tr>\n",
       "    <tr>\n",
       "      <td>497</td>\n",
       "      <td>2008 partial thyroidectomy\\n</td>\n",
       "    </tr>\n",
       "    <tr>\n",
       "      <td>498</td>\n",
       "      <td>sPt describes a history of sexual abuse as a c...</td>\n",
       "    </tr>\n",
       "    <tr>\n",
       "      <td>499</td>\n",
       "      <td>. In 1980, patient was living in Naples and de...</td>\n",
       "    </tr>\n",
       "  </tbody>\n",
       "</table>\n",
       "<p>500 rows × 1 columns</p>\n",
       "</div>"
      ],
      "text/plain": [
       "                                                  text\n",
       "0         03/25/93 Total time of visit (in minutes):\\n\n",
       "1                       6/18/85 Primary Care Doctor:\\n\n",
       "2    sshe plans to move as of 7/8/71 In-Home Servic...\n",
       "3                7 on 9/27/75 Audit C Score Current:\\n\n",
       "4    2/6/96 sleep studyPain Treatment Pain Level (N...\n",
       "..                                                 ...\n",
       "495  1979 Family Psych History: Family History of S...\n",
       "496  therapist and friend died in ~2006 Parental/Ca...\n",
       "497                       2008 partial thyroidectomy\\n\n",
       "498  sPt describes a history of sexual abuse as a c...\n",
       "499  . In 1980, patient was living in Naples and de...\n",
       "\n",
       "[500 rows x 1 columns]"
      ]
     },
     "execution_count": 3,
     "metadata": {},
     "output_type": "execute_result"
    }
   ],
   "source": [
    "df = pd.DataFrame(df,columns=['text'])\n",
    "df"
   ]
  },
  {
   "cell_type": "code",
   "execution_count": 4,
   "metadata": {
    "scrolled": true
   },
   "outputs": [
    {
     "data": {
      "text/plain": [
       "[('04/20/2009', '04', '20', '2009'),\n",
       " ('04/20/09', '04', '20', '09'),\n",
       " ('4/20/09', '4', '20', '09'),\n",
       " ('4/3/09', '4', '3', '09'),\n",
       " ('4-13-89', '4', '13', '89')]"
      ]
     },
     "execution_count": 4,
     "metadata": {},
     "output_type": "execute_result"
    }
   ],
   "source": [
    "# mm/dd/yyyy\n",
    "text1 = '04/20/2009; 04/20/09; 4/20/09; 4/3/09, 4-13-89'\n",
    "re.findall('(?P<Time>(?:(?P<Month>\\d{1,2})[/-])(?:(?P<Day>\\d{1,2})[/-])(?P<Year>\\d{2,4}))',text1)"
   ]
  },
  {
   "cell_type": "code",
   "execution_count": 5,
   "metadata": {},
   "outputs": [
    {
     "data": {
      "text/plain": [
       "[('20 Mar 2009', '20', 'Mar', '2009'),\n",
       " ('20 March 2009', '20', 'March', '2009'),\n",
       " ('20 Mar. 2009', '20', 'Mar', '2009'),\n",
       " ('20 March, 2009', '20', 'March', '2009')]"
      ]
     },
     "execution_count": 5,
     "metadata": {},
     "output_type": "execute_result"
    }
   ],
   "source": [
    "# dd month yyyy\n",
    "text2 = '20 Mar 2009; 20 March 2009; 20 Mar. 2009; 20 March, 2009'\n",
    "re.findall('(?P<Time>(?P<Day>\\d{1,2}) (?P<Month>(?:Jan|Feb|Mar|Apr|May|Jun|Jul|Aug|Sep|Oct|Nov|Dec)[a-z]*)[,.]? (?P<Year>\\d{2,4}))',text2)"
   ]
  },
  {
   "cell_type": "code",
   "execution_count": 6,
   "metadata": {},
   "outputs": [
    {
     "data": {
      "text/plain": [
       "[('Mar 20th, 2009', 'Mar', '20', '2009'),\n",
       " ('Mar 21st, 2009', 'Mar', '21', '2009'),\n",
       " ('Mar 22nd, 2009', 'Mar', '22', '2009'),\n",
       " ('Mar-23-2009', 'Mar', '23', '2009'),\n",
       " ('Mar 24, 2009', 'Mar', '24', '2009'),\n",
       " ('March 25, 2009', 'March', '25', '2009'),\n",
       " ('Mar. 26, 2009', 'Mar', '26', '2009'),\n",
       " ('Mar 27 2009', 'Mar', '27', '2009')]"
      ]
     },
     "execution_count": 6,
     "metadata": {},
     "output_type": "execute_result"
    }
   ],
   "source": [
    "# month dd yyyy\n",
    "text3  = 'Mar 20th, 2009; Mar 21st, 2009; Mar 22nd, 2009; Mar-23-2009; Mar 24, 2009; March 25, 2009; Mar. 26, 2009; Mar 27 2009'\n",
    "re.findall('(?P<Time>(?P<Month>(?:Jan|Feb|Mar|Apr|May|Jun|Jul|Aug|Sep|Oct|Nov|Dec)[a-z]*)[-.]? ?(?P<Day>\\d{1,2})[a-z]*(?:[-,]| ) ?(?P<Year>\\d{2,4}))',text3)"
   ]
  },
  {
   "cell_type": "code",
   "execution_count": 7,
   "metadata": {},
   "outputs": [
    {
     "data": {
      "text/plain": [
       "[('Feb 2009', 'Feb', '2009'),\n",
       " ('Sep 2009', 'Sep', '2009'),\n",
       " ('Oct 2010', 'Oct', '2010'),\n",
       " ('February, 2010', 'February', '2010')]"
      ]
     },
     "execution_count": 7,
     "metadata": {},
     "output_type": "execute_result"
    }
   ],
   "source": [
    "# month yyyy\n",
    "text4 = 'Feb 2009; Sep 2009; Oct 2010, February, 2010'\n",
    "re.findall('(?P<Time>(?P<Month>(?:Jan|Feb|Mar|Apr|May|Jun|Jul|Aug|Sep|Oct|Nov|Dec)[a-z]*),? (?P<Year>\\d{2,4}))',text4)"
   ]
  },
  {
   "cell_type": "code",
   "execution_count": 8,
   "metadata": {},
   "outputs": [
    {
     "data": {
      "text/plain": [
       "[('6/2008', '6', '2008'), ('12/2009', '12', '2009')]"
      ]
     },
     "execution_count": 8,
     "metadata": {},
     "output_type": "execute_result"
    }
   ],
   "source": [
    "# mm/yyyy\n",
    "text5 = '6/2008; 12/2009'\n",
    "re.findall('(?P<Time>(?P<Month>\\d{1,2})/(?P<Year>\\d{2,4}))',text5)"
   ]
  },
  {
   "cell_type": "code",
   "execution_count": 9,
   "metadata": {},
   "outputs": [
    {
     "data": {
      "text/plain": [
       "[('2009', '2009'), ('2010', '2010')]"
      ]
     },
     "execution_count": 9,
     "metadata": {},
     "output_type": "execute_result"
    }
   ],
   "source": [
    "# yyyy\n",
    "text6 = '2009; 2010'\n",
    "re.findall('(?P<Time>(?P<Year>\\d{4}))',text6)"
   ]
  },
  {
   "cell_type": "code",
   "execution_count": 10,
   "metadata": {},
   "outputs": [],
   "source": [
    "time_full_1 = df['text'].str.extract('(?P<Time>(?:(?P<Month>\\d{1,2})[/-])(?:(?P<Day>\\d{1,2})[/-])(?P<Year>\\d{2,4}))').dropna(how='any')\n",
    "time_full_2 = df['text'].str.extract('(?P<Time>(?P<Day>\\d{1,2}) (?P<Month>(?:Jan|Feb|Mar|Apr|May|Jun|Jul|Aug|Sep|Oct|Nov|Dec)[a-z]*)[,.]? (?P<Year>\\d{2,4}))').dropna(how='any')\n",
    "time_full_3 = df['text'].str.extract('(?P<Time>(?P<Month>(?:Jan|Feb|Mar|Apr|May|Jun|Jul|Aug|Sep|Oct|Nov|Dec)[a-z]*)[-.]? ?(?P<Day>\\d{1,2})[a-z]*(?:[-,]| ) ?(?P<Year>\\d{2,4}))').dropna(how='any')\n",
    "\n",
    "time_df = pd.concat([time_full_1,time_full_2,time_full_3],axis=0,sort=False)"
   ]
  },
  {
   "cell_type": "code",
   "execution_count": 14,
   "metadata": {},
   "outputs": [],
   "source": [
    "time_not_full_1 = df['text'].str.extract('(?P<Time>(?P<Month>(?:Jan|Feb|Mar|Apr|May|Jun|Jul|Aug|Sep|Oct|Nov|Dec)[a-z]*),? (?P<Year>\\d{2,4}))').dropna(how='any')\n",
    "time_not_full_1 = time_not_full_1.loc[set(time_not_full_1.index) - set(time_df.index)]\n",
    "\n",
    "time_not_full_2 = df['text'].str.extract('(?P<Time>(?P<Month>\\d{1,2})/(?P<Year>\\d{2,4}))').dropna(how='any')\n",
    "time_not_full_2 = time_not_full_2.loc[set(time_not_full_2.index) - set(time_df.index)]\n",
    "\n",
    "time_df = pd.concat([time_df,time_not_full_1,time_not_full_2],axis=0,sort=False)"
   ]
  },
  {
   "cell_type": "code",
   "execution_count": 17,
   "metadata": {},
   "outputs": [],
   "source": [
    "time_not_full_3 = df['text'].str.extract('(?P<Time>(?P<Year>\\d{4}))').dropna(how='any')\n",
    "time_not_full_3 = time_not_full_3.loc[set(time_not_full_3.index) - set(time_df.index)]"
   ]
  },
  {
   "cell_type": "code",
   "execution_count": 18,
   "metadata": {},
   "outputs": [],
   "source": [
    "time_df = pd.concat([time_df,time_not_full_3],axis=0,sort=False)\n",
    "time_df.fillna(1,inplace = True)"
   ]
  },
  {
   "cell_type": "code",
   "execution_count": 19,
   "metadata": {},
   "outputs": [
    {
     "data": {
      "text/html": [
       "<div>\n",
       "<style scoped>\n",
       "    .dataframe tbody tr th:only-of-type {\n",
       "        vertical-align: middle;\n",
       "    }\n",
       "\n",
       "    .dataframe tbody tr th {\n",
       "        vertical-align: top;\n",
       "    }\n",
       "\n",
       "    .dataframe thead th {\n",
       "        text-align: right;\n",
       "    }\n",
       "</style>\n",
       "<table border=\"1\" class=\"dataframe\">\n",
       "  <thead>\n",
       "    <tr style=\"text-align: right;\">\n",
       "      <th></th>\n",
       "      <th>Time</th>\n",
       "      <th>Month</th>\n",
       "      <th>Day</th>\n",
       "      <th>Year</th>\n",
       "    </tr>\n",
       "  </thead>\n",
       "  <tbody>\n",
       "    <tr>\n",
       "      <td>0</td>\n",
       "      <td>03/25/93</td>\n",
       "      <td>03</td>\n",
       "      <td>25</td>\n",
       "      <td>93</td>\n",
       "    </tr>\n",
       "    <tr>\n",
       "      <td>1</td>\n",
       "      <td>6/18/85</td>\n",
       "      <td>6</td>\n",
       "      <td>18</td>\n",
       "      <td>85</td>\n",
       "    </tr>\n",
       "    <tr>\n",
       "      <td>2</td>\n",
       "      <td>7/8/71</td>\n",
       "      <td>7</td>\n",
       "      <td>8</td>\n",
       "      <td>71</td>\n",
       "    </tr>\n",
       "    <tr>\n",
       "      <td>3</td>\n",
       "      <td>9/27/75</td>\n",
       "      <td>9</td>\n",
       "      <td>27</td>\n",
       "      <td>75</td>\n",
       "    </tr>\n",
       "    <tr>\n",
       "      <td>4</td>\n",
       "      <td>2/6/96</td>\n",
       "      <td>2</td>\n",
       "      <td>6</td>\n",
       "      <td>96</td>\n",
       "    </tr>\n",
       "    <tr>\n",
       "      <td>...</td>\n",
       "      <td>...</td>\n",
       "      <td>...</td>\n",
       "      <td>...</td>\n",
       "      <td>...</td>\n",
       "    </tr>\n",
       "    <tr>\n",
       "      <td>495</td>\n",
       "      <td>1979</td>\n",
       "      <td>1</td>\n",
       "      <td>1</td>\n",
       "      <td>1979</td>\n",
       "    </tr>\n",
       "    <tr>\n",
       "      <td>496</td>\n",
       "      <td>2006</td>\n",
       "      <td>1</td>\n",
       "      <td>1</td>\n",
       "      <td>2006</td>\n",
       "    </tr>\n",
       "    <tr>\n",
       "      <td>497</td>\n",
       "      <td>2008</td>\n",
       "      <td>1</td>\n",
       "      <td>1</td>\n",
       "      <td>2008</td>\n",
       "    </tr>\n",
       "    <tr>\n",
       "      <td>498</td>\n",
       "      <td>2005</td>\n",
       "      <td>1</td>\n",
       "      <td>1</td>\n",
       "      <td>2005</td>\n",
       "    </tr>\n",
       "    <tr>\n",
       "      <td>499</td>\n",
       "      <td>1980</td>\n",
       "      <td>1</td>\n",
       "      <td>1</td>\n",
       "      <td>1980</td>\n",
       "    </tr>\n",
       "  </tbody>\n",
       "</table>\n",
       "<p>500 rows × 4 columns</p>\n",
       "</div>"
      ],
      "text/plain": [
       "         Time Month Day  Year\n",
       "0    03/25/93    03  25    93\n",
       "1     6/18/85     6  18    85\n",
       "2      7/8/71     7   8    71\n",
       "3     9/27/75     9  27    75\n",
       "4      2/6/96     2   6    96\n",
       "..        ...   ...  ..   ...\n",
       "495      1979     1   1  1979\n",
       "496      2006     1   1  2006\n",
       "497      2008     1   1  2008\n",
       "498      2005     1   1  2005\n",
       "499      1980     1   1  1980\n",
       "\n",
       "[500 rows x 4 columns]"
      ]
     },
     "execution_count": 19,
     "metadata": {},
     "output_type": "execute_result"
    }
   ],
   "source": [
    "time_df"
   ]
  },
  {
   "cell_type": "code",
   "execution_count": 20,
   "metadata": {},
   "outputs": [],
   "source": [
    "def month_num(x):\n",
    "    if type(x) == int: return x\n",
    "    elif 'Jan' in x: return 1\n",
    "    elif 'Feb' in x: return 2\n",
    "    elif 'Mar' in x: return 3\n",
    "    elif 'Apr' in x: return 4\n",
    "    elif 'May' in x: return 5\n",
    "    elif 'Jun' in x: return 6\n",
    "    elif 'Jul' in x: return 7\n",
    "    elif 'Aug' in x: return 8\n",
    "    elif 'Sep' in x: return 9\n",
    "    elif 'Oct' in x: return 10\n",
    "    elif 'Nov' in x: return 11\n",
    "    elif 'Dec' in x: return 12\n",
    "    else: return int(x)"
   ]
  },
  {
   "cell_type": "code",
   "execution_count": 21,
   "metadata": {
    "scrolled": true
   },
   "outputs": [],
   "source": [
    "time_df['Year'] = time_df['Year'].apply(lambda x: '19'+x if len(x) == 2 else x)\n",
    "time_df['Month'] = time_df['Month'].apply(lambda x: month_num(x))"
   ]
  },
  {
   "cell_type": "code",
   "execution_count": 22,
   "metadata": {
    "scrolled": false
   },
   "outputs": [],
   "source": [
    "time_df_sorted = time_df.sort_values(['Year','Month','Day'],ascending=False)\n",
    "time_df_sorted['Rank'] = range(500)"
   ]
  },
  {
   "cell_type": "code",
   "execution_count": 24,
   "metadata": {},
   "outputs": [
    {
     "data": {
      "text/plain": [
       "0      227\n",
       "1      329\n",
       "2      496\n",
       "3      444\n",
       "4      186\n",
       "      ... \n",
       "495    403\n",
       "496     91\n",
       "497     70\n",
       "498     97\n",
       "499    393\n",
       "Name: Rank, Length: 500, dtype: int32"
      ]
     },
     "execution_count": 24,
     "metadata": {},
     "output_type": "execute_result"
    }
   ],
   "source": [
    "time_df_sorted['Rank'].sort_index()"
   ]
  }
 ],
 "metadata": {
  "coursera": {
   "course_slug": "python-text-mining",
   "graded_item_id": "LvcWI",
   "launcher_item_id": "krne9",
   "part_id": "Mkp1I"
  },
  "kernelspec": {
   "display_name": "Python 3",
   "language": "python",
   "name": "python3"
  },
  "language_info": {
   "codemirror_mode": {
    "name": "ipython",
    "version": 3
   },
   "file_extension": ".py",
   "mimetype": "text/x-python",
   "name": "python",
   "nbconvert_exporter": "python",
   "pygments_lexer": "ipython3",
   "version": "3.7.4"
  }
 },
 "nbformat": 4,
 "nbformat_minor": 2
}
