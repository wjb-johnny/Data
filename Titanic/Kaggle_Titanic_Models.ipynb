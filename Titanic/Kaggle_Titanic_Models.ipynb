{
 "cells": [
  {
   "cell_type": "markdown",
   "metadata": {},
   "source": [
    "# Kaggle competiton: Titanic\n",
    "By Junbo"
   ]
  },
  {
   "cell_type": "markdown",
   "metadata": {},
   "source": [
    "## Project Discription\n",
    "This project is for the Kaggle competition \"Titanic: Machine Learning from Disaster\" https://www.kaggle.com/c/titanic. The dataset is provided by Kaggle.  \n",
    "The final goal of this competition is to accurately predict whether a passenger on Titanic will survive or not."
   ]
  },
  {
   "cell_type": "markdown",
   "metadata": {},
   "source": [
    "## Import packages"
   ]
  },
  {
   "cell_type": "code",
   "execution_count": 1,
   "metadata": {},
   "outputs": [],
   "source": [
    "import pandas as pd\n",
    "import numpy as np\n",
    "import matplotlib.pyplot as plt\n",
    "import seaborn as sns\n",
    "\n",
    "from sklearn.preprocessing import LabelEncoder\n",
    "from sklearn.preprocessing import OneHotEncoder\n",
    "from sklearn.preprocessing import StandardScaler\n",
    "\n",
    "import re\n",
    "\n",
    "from sklearn.model_selection import GridSearchCV\n",
    "from sklearn.ensemble import RandomForestClassifier\n",
    "from sklearn.ensemble import GradientBoostingClassifier\n",
    "from sklearn.svm import SVC\n",
    "\n",
    "import warnings\n",
    "warnings.filterwarnings('ignore')"
   ]
  },
  {
   "cell_type": "markdown",
   "metadata": {},
   "source": [
    "# 1. Import dataset"
   ]
  },
  {
   "cell_type": "code",
   "execution_count": 2,
   "metadata": {},
   "outputs": [],
   "source": [
    "train = pd.read_csv('tatinic/train.csv')\n",
    "test = pd.read_csv('tatinic/test.csv')"
   ]
  },
  {
   "cell_type": "code",
   "execution_count": 3,
   "metadata": {},
   "outputs": [
    {
     "data": {
      "text/plain": [
       "((891, 12), (418, 11))"
      ]
     },
     "execution_count": 3,
     "metadata": {},
     "output_type": "execute_result"
    }
   ],
   "source": [
    "(train.shape,test.shape)"
   ]
  },
  {
   "cell_type": "code",
   "execution_count": 4,
   "metadata": {},
   "outputs": [
    {
     "name": "stdout",
     "output_type": "stream",
     "text": [
      "<class 'pandas.core.frame.DataFrame'>\n",
      "RangeIndex: 891 entries, 0 to 890\n",
      "Data columns (total 12 columns):\n",
      "PassengerId    891 non-null int64\n",
      "Survived       891 non-null int64\n",
      "Pclass         891 non-null int64\n",
      "Name           891 non-null object\n",
      "Sex            891 non-null object\n",
      "Age            714 non-null float64\n",
      "SibSp          891 non-null int64\n",
      "Parch          891 non-null int64\n",
      "Ticket         891 non-null object\n",
      "Fare           891 non-null float64\n",
      "Cabin          204 non-null object\n",
      "Embarked       889 non-null object\n",
      "dtypes: float64(2), int64(5), object(5)\n",
      "memory usage: 83.7+ KB\n"
     ]
    }
   ],
   "source": [
    "train.info()"
   ]
  },
  {
   "cell_type": "code",
   "execution_count": 5,
   "metadata": {
    "scrolled": true
   },
   "outputs": [
    {
     "data": {
      "text/html": [
       "<div>\n",
       "<style scoped>\n",
       "    .dataframe tbody tr th:only-of-type {\n",
       "        vertical-align: middle;\n",
       "    }\n",
       "\n",
       "    .dataframe tbody tr th {\n",
       "        vertical-align: top;\n",
       "    }\n",
       "\n",
       "    .dataframe thead th {\n",
       "        text-align: right;\n",
       "    }\n",
       "</style>\n",
       "<table border=\"1\" class=\"dataframe\">\n",
       "  <thead>\n",
       "    <tr style=\"text-align: right;\">\n",
       "      <th></th>\n",
       "      <th>PassengerId</th>\n",
       "      <th>Survived</th>\n",
       "      <th>Pclass</th>\n",
       "      <th>Name</th>\n",
       "      <th>Sex</th>\n",
       "      <th>Age</th>\n",
       "      <th>SibSp</th>\n",
       "      <th>Parch</th>\n",
       "      <th>Ticket</th>\n",
       "      <th>Fare</th>\n",
       "      <th>Cabin</th>\n",
       "      <th>Embarked</th>\n",
       "    </tr>\n",
       "  </thead>\n",
       "  <tbody>\n",
       "    <tr>\n",
       "      <td>0</td>\n",
       "      <td>1</td>\n",
       "      <td>0</td>\n",
       "      <td>3</td>\n",
       "      <td>Braund, Mr. Owen Harris</td>\n",
       "      <td>male</td>\n",
       "      <td>22.0</td>\n",
       "      <td>1</td>\n",
       "      <td>0</td>\n",
       "      <td>A/5 21171</td>\n",
       "      <td>7.2500</td>\n",
       "      <td>NaN</td>\n",
       "      <td>S</td>\n",
       "    </tr>\n",
       "    <tr>\n",
       "      <td>1</td>\n",
       "      <td>2</td>\n",
       "      <td>1</td>\n",
       "      <td>1</td>\n",
       "      <td>Cumings, Mrs. John Bradley (Florence Briggs Th...</td>\n",
       "      <td>female</td>\n",
       "      <td>38.0</td>\n",
       "      <td>1</td>\n",
       "      <td>0</td>\n",
       "      <td>PC 17599</td>\n",
       "      <td>71.2833</td>\n",
       "      <td>C85</td>\n",
       "      <td>C</td>\n",
       "    </tr>\n",
       "    <tr>\n",
       "      <td>2</td>\n",
       "      <td>3</td>\n",
       "      <td>1</td>\n",
       "      <td>3</td>\n",
       "      <td>Heikkinen, Miss. Laina</td>\n",
       "      <td>female</td>\n",
       "      <td>26.0</td>\n",
       "      <td>0</td>\n",
       "      <td>0</td>\n",
       "      <td>STON/O2. 3101282</td>\n",
       "      <td>7.9250</td>\n",
       "      <td>NaN</td>\n",
       "      <td>S</td>\n",
       "    </tr>\n",
       "    <tr>\n",
       "      <td>3</td>\n",
       "      <td>4</td>\n",
       "      <td>1</td>\n",
       "      <td>1</td>\n",
       "      <td>Futrelle, Mrs. Jacques Heath (Lily May Peel)</td>\n",
       "      <td>female</td>\n",
       "      <td>35.0</td>\n",
       "      <td>1</td>\n",
       "      <td>0</td>\n",
       "      <td>113803</td>\n",
       "      <td>53.1000</td>\n",
       "      <td>C123</td>\n",
       "      <td>S</td>\n",
       "    </tr>\n",
       "    <tr>\n",
       "      <td>4</td>\n",
       "      <td>5</td>\n",
       "      <td>0</td>\n",
       "      <td>3</td>\n",
       "      <td>Allen, Mr. William Henry</td>\n",
       "      <td>male</td>\n",
       "      <td>35.0</td>\n",
       "      <td>0</td>\n",
       "      <td>0</td>\n",
       "      <td>373450</td>\n",
       "      <td>8.0500</td>\n",
       "      <td>NaN</td>\n",
       "      <td>S</td>\n",
       "    </tr>\n",
       "  </tbody>\n",
       "</table>\n",
       "</div>"
      ],
      "text/plain": [
       "   PassengerId  Survived  Pclass  \\\n",
       "0            1         0       3   \n",
       "1            2         1       1   \n",
       "2            3         1       3   \n",
       "3            4         1       1   \n",
       "4            5         0       3   \n",
       "\n",
       "                                                Name     Sex   Age  SibSp  \\\n",
       "0                            Braund, Mr. Owen Harris    male  22.0      1   \n",
       "1  Cumings, Mrs. John Bradley (Florence Briggs Th...  female  38.0      1   \n",
       "2                             Heikkinen, Miss. Laina  female  26.0      0   \n",
       "3       Futrelle, Mrs. Jacques Heath (Lily May Peel)  female  35.0      1   \n",
       "4                           Allen, Mr. William Henry    male  35.0      0   \n",
       "\n",
       "   Parch            Ticket     Fare Cabin Embarked  \n",
       "0      0         A/5 21171   7.2500   NaN        S  \n",
       "1      0          PC 17599  71.2833   C85        C  \n",
       "2      0  STON/O2. 3101282   7.9250   NaN        S  \n",
       "3      0            113803  53.1000  C123        S  \n",
       "4      0            373450   8.0500   NaN        S  "
      ]
     },
     "execution_count": 5,
     "metadata": {},
     "output_type": "execute_result"
    }
   ],
   "source": [
    "train.head()"
   ]
  },
  {
   "cell_type": "code",
   "execution_count": 6,
   "metadata": {
    "scrolled": true
   },
   "outputs": [
    {
     "data": {
      "text/html": [
       "<div>\n",
       "<style scoped>\n",
       "    .dataframe tbody tr th:only-of-type {\n",
       "        vertical-align: middle;\n",
       "    }\n",
       "\n",
       "    .dataframe tbody tr th {\n",
       "        vertical-align: top;\n",
       "    }\n",
       "\n",
       "    .dataframe thead th {\n",
       "        text-align: right;\n",
       "    }\n",
       "</style>\n",
       "<table border=\"1\" class=\"dataframe\">\n",
       "  <thead>\n",
       "    <tr style=\"text-align: right;\">\n",
       "      <th></th>\n",
       "      <th>PassengerId</th>\n",
       "      <th>Pclass</th>\n",
       "      <th>Name</th>\n",
       "      <th>Sex</th>\n",
       "      <th>Age</th>\n",
       "      <th>SibSp</th>\n",
       "      <th>Parch</th>\n",
       "      <th>Ticket</th>\n",
       "      <th>Fare</th>\n",
       "      <th>Cabin</th>\n",
       "      <th>Embarked</th>\n",
       "      <th>Survived</th>\n",
       "    </tr>\n",
       "  </thead>\n",
       "  <tbody>\n",
       "    <tr>\n",
       "      <td>0</td>\n",
       "      <td>892</td>\n",
       "      <td>3</td>\n",
       "      <td>Kelly, Mr. James</td>\n",
       "      <td>male</td>\n",
       "      <td>34.5</td>\n",
       "      <td>0</td>\n",
       "      <td>0</td>\n",
       "      <td>330911</td>\n",
       "      <td>7.8292</td>\n",
       "      <td>NaN</td>\n",
       "      <td>Q</td>\n",
       "      <td>NaN</td>\n",
       "    </tr>\n",
       "    <tr>\n",
       "      <td>1</td>\n",
       "      <td>893</td>\n",
       "      <td>3</td>\n",
       "      <td>Wilkes, Mrs. James (Ellen Needs)</td>\n",
       "      <td>female</td>\n",
       "      <td>47.0</td>\n",
       "      <td>1</td>\n",
       "      <td>0</td>\n",
       "      <td>363272</td>\n",
       "      <td>7.0000</td>\n",
       "      <td>NaN</td>\n",
       "      <td>S</td>\n",
       "      <td>NaN</td>\n",
       "    </tr>\n",
       "    <tr>\n",
       "      <td>2</td>\n",
       "      <td>894</td>\n",
       "      <td>2</td>\n",
       "      <td>Myles, Mr. Thomas Francis</td>\n",
       "      <td>male</td>\n",
       "      <td>62.0</td>\n",
       "      <td>0</td>\n",
       "      <td>0</td>\n",
       "      <td>240276</td>\n",
       "      <td>9.6875</td>\n",
       "      <td>NaN</td>\n",
       "      <td>Q</td>\n",
       "      <td>NaN</td>\n",
       "    </tr>\n",
       "    <tr>\n",
       "      <td>3</td>\n",
       "      <td>895</td>\n",
       "      <td>3</td>\n",
       "      <td>Wirz, Mr. Albert</td>\n",
       "      <td>male</td>\n",
       "      <td>27.0</td>\n",
       "      <td>0</td>\n",
       "      <td>0</td>\n",
       "      <td>315154</td>\n",
       "      <td>8.6625</td>\n",
       "      <td>NaN</td>\n",
       "      <td>S</td>\n",
       "      <td>NaN</td>\n",
       "    </tr>\n",
       "    <tr>\n",
       "      <td>4</td>\n",
       "      <td>896</td>\n",
       "      <td>3</td>\n",
       "      <td>Hirvonen, Mrs. Alexander (Helga E Lindqvist)</td>\n",
       "      <td>female</td>\n",
       "      <td>22.0</td>\n",
       "      <td>1</td>\n",
       "      <td>1</td>\n",
       "      <td>3101298</td>\n",
       "      <td>12.2875</td>\n",
       "      <td>NaN</td>\n",
       "      <td>S</td>\n",
       "      <td>NaN</td>\n",
       "    </tr>\n",
       "  </tbody>\n",
       "</table>\n",
       "</div>"
      ],
      "text/plain": [
       "   PassengerId  Pclass                                          Name     Sex  \\\n",
       "0          892       3                              Kelly, Mr. James    male   \n",
       "1          893       3              Wilkes, Mrs. James (Ellen Needs)  female   \n",
       "2          894       2                     Myles, Mr. Thomas Francis    male   \n",
       "3          895       3                              Wirz, Mr. Albert    male   \n",
       "4          896       3  Hirvonen, Mrs. Alexander (Helga E Lindqvist)  female   \n",
       "\n",
       "    Age  SibSp  Parch   Ticket     Fare Cabin Embarked  Survived  \n",
       "0  34.5      0      0   330911   7.8292   NaN        Q       NaN  \n",
       "1  47.0      1      0   363272   7.0000   NaN        S       NaN  \n",
       "2  62.0      0      0   240276   9.6875   NaN        Q       NaN  \n",
       "3  27.0      0      0   315154   8.6625   NaN        S       NaN  \n",
       "4  22.0      1      1  3101298  12.2875   NaN        S       NaN  "
      ]
     },
     "execution_count": 6,
     "metadata": {},
     "output_type": "execute_result"
    }
   ],
   "source": [
    "test['Survived'] = np.nan\n",
    "test.head()"
   ]
  },
  {
   "cell_type": "code",
   "execution_count": 7,
   "metadata": {},
   "outputs": [],
   "source": [
    "combin = train.append(test)"
   ]
  },
  {
   "cell_type": "code",
   "execution_count": 8,
   "metadata": {
    "scrolled": true
   },
   "outputs": [
    {
     "name": "stdout",
     "output_type": "stream",
     "text": [
      "<class 'pandas.core.frame.DataFrame'>\n",
      "Int64Index: 1309 entries, 0 to 417\n",
      "Data columns (total 12 columns):\n",
      "Age            1046 non-null float64\n",
      "Cabin          295 non-null object\n",
      "Embarked       1307 non-null object\n",
      "Fare           1308 non-null float64\n",
      "Name           1309 non-null object\n",
      "Parch          1309 non-null int64\n",
      "PassengerId    1309 non-null int64\n",
      "Pclass         1309 non-null int64\n",
      "Sex            1309 non-null object\n",
      "SibSp          1309 non-null int64\n",
      "Survived       891 non-null float64\n",
      "Ticket         1309 non-null object\n",
      "dtypes: float64(3), int64(4), object(5)\n",
      "memory usage: 132.9+ KB\n"
     ]
    }
   ],
   "source": [
    "combin.info()"
   ]
  },
  {
   "cell_type": "markdown",
   "metadata": {},
   "source": [
    "# 2 Feature engineering\n",
    "Clean data, fill missing data, creat new features, encode features"
   ]
  },
  {
   "cell_type": "markdown",
   "metadata": {},
   "source": [
    "## 2.1 Cabin"
   ]
  },
  {
   "cell_type": "code",
   "execution_count": 9,
   "metadata": {},
   "outputs": [],
   "source": [
    "le = LabelEncoder()"
   ]
  },
  {
   "cell_type": "markdown",
   "metadata": {},
   "source": [
    "The missing cabin number may reflect some info"
   ]
  },
  {
   "cell_type": "code",
   "execution_count": 10,
   "metadata": {},
   "outputs": [],
   "source": [
    "combin['Cabin'] = combin['Cabin'].fillna('U')"
   ]
  },
  {
   "cell_type": "code",
   "execution_count": 11,
   "metadata": {},
   "outputs": [],
   "source": [
    "combin['Cabin_Capital'] = combin['Cabin'].apply(lambda x:x[0])"
   ]
  },
  {
   "cell_type": "code",
   "execution_count": 12,
   "metadata": {},
   "outputs": [
    {
     "data": {
      "text/plain": [
       "LabelEncoder()"
      ]
     },
     "execution_count": 12,
     "metadata": {},
     "output_type": "execute_result"
    }
   ],
   "source": [
    "le.fit(['U', 'C', 'E', 'G', 'D', 'A', 'B', 'F', 'T'])"
   ]
  },
  {
   "cell_type": "code",
   "execution_count": 13,
   "metadata": {},
   "outputs": [
    {
     "data": {
      "text/plain": [
       "array([8, 2, 4, 6, 3, 0, 1, 5, 7], dtype=int64)"
      ]
     },
     "execution_count": 13,
     "metadata": {},
     "output_type": "execute_result"
    }
   ],
   "source": [
    "le.transform(['U', 'C', 'E', 'G', 'D', 'A', 'B', 'F', 'T'])"
   ]
  },
  {
   "cell_type": "code",
   "execution_count": 14,
   "metadata": {},
   "outputs": [],
   "source": [
    "combin['Cabin_Capital'] = le.transform(combin['Cabin_Capital'])"
   ]
  },
  {
   "cell_type": "code",
   "execution_count": 15,
   "metadata": {},
   "outputs": [],
   "source": [
    "combin['Has_Cabin'] = combin['Cabin'].apply(lambda x: 0 if x == 'U' else 1)"
   ]
  },
  {
   "cell_type": "markdown",
   "metadata": {},
   "source": [
    "## 2.2 Embarked"
   ]
  },
  {
   "cell_type": "markdown",
   "metadata": {},
   "source": [
    "Use the mode to fill missing values in Embarked"
   ]
  },
  {
   "cell_type": "code",
   "execution_count": 16,
   "metadata": {},
   "outputs": [],
   "source": [
    "combin['Embarked'] = combin['Embarked'].fillna(combin['Embarked'].mode()[0])"
   ]
  },
  {
   "cell_type": "code",
   "execution_count": 17,
   "metadata": {},
   "outputs": [
    {
     "data": {
      "text/plain": [
       "'S'"
      ]
     },
     "execution_count": 17,
     "metadata": {},
     "output_type": "execute_result"
    }
   ],
   "source": [
    "combin['Embarked'].mode()[0]"
   ]
  },
  {
   "cell_type": "code",
   "execution_count": 18,
   "metadata": {},
   "outputs": [
    {
     "data": {
      "text/plain": [
       "array(['S', 'C', 'Q'], dtype=object)"
      ]
     },
     "execution_count": 18,
     "metadata": {},
     "output_type": "execute_result"
    }
   ],
   "source": [
    "combin['Embarked'].unique()"
   ]
  },
  {
   "cell_type": "code",
   "execution_count": 19,
   "metadata": {},
   "outputs": [
    {
     "data": {
      "text/plain": [
       "array([2, 0, 1], dtype=int64)"
      ]
     },
     "execution_count": 19,
     "metadata": {},
     "output_type": "execute_result"
    }
   ],
   "source": [
    "le.fit_transform(['S', 'C', 'Q'])"
   ]
  },
  {
   "cell_type": "code",
   "execution_count": 20,
   "metadata": {},
   "outputs": [],
   "source": [
    "combin['Embarked'] = le.transform(combin['Embarked'])"
   ]
  },
  {
   "cell_type": "markdown",
   "metadata": {},
   "source": [
    "## 2.3 Fare"
   ]
  },
  {
   "cell_type": "markdown",
   "metadata": {},
   "source": [
    "Check missing value in Fare"
   ]
  },
  {
   "cell_type": "code",
   "execution_count": 21,
   "metadata": {
    "scrolled": false
   },
   "outputs": [
    {
     "data": {
      "text/html": [
       "<div>\n",
       "<style scoped>\n",
       "    .dataframe tbody tr th:only-of-type {\n",
       "        vertical-align: middle;\n",
       "    }\n",
       "\n",
       "    .dataframe tbody tr th {\n",
       "        vertical-align: top;\n",
       "    }\n",
       "\n",
       "    .dataframe thead th {\n",
       "        text-align: right;\n",
       "    }\n",
       "</style>\n",
       "<table border=\"1\" class=\"dataframe\">\n",
       "  <thead>\n",
       "    <tr style=\"text-align: right;\">\n",
       "      <th></th>\n",
       "      <th>Age</th>\n",
       "      <th>Cabin</th>\n",
       "      <th>Embarked</th>\n",
       "      <th>Fare</th>\n",
       "      <th>Name</th>\n",
       "      <th>Parch</th>\n",
       "      <th>PassengerId</th>\n",
       "      <th>Pclass</th>\n",
       "      <th>Sex</th>\n",
       "      <th>SibSp</th>\n",
       "      <th>Survived</th>\n",
       "      <th>Ticket</th>\n",
       "      <th>Cabin_Capital</th>\n",
       "      <th>Has_Cabin</th>\n",
       "    </tr>\n",
       "  </thead>\n",
       "  <tbody>\n",
       "    <tr>\n",
       "      <td>152</td>\n",
       "      <td>60.5</td>\n",
       "      <td>U</td>\n",
       "      <td>2</td>\n",
       "      <td>NaN</td>\n",
       "      <td>Storey, Mr. Thomas</td>\n",
       "      <td>0</td>\n",
       "      <td>1044</td>\n",
       "      <td>3</td>\n",
       "      <td>male</td>\n",
       "      <td>0</td>\n",
       "      <td>NaN</td>\n",
       "      <td>3701</td>\n",
       "      <td>8</td>\n",
       "      <td>0</td>\n",
       "    </tr>\n",
       "  </tbody>\n",
       "</table>\n",
       "</div>"
      ],
      "text/plain": [
       "      Age Cabin  Embarked  Fare                Name  Parch  PassengerId  \\\n",
       "152  60.5     U         2   NaN  Storey, Mr. Thomas      0         1044   \n",
       "\n",
       "     Pclass   Sex  SibSp  Survived Ticket  Cabin_Capital  Has_Cabin  \n",
       "152       3  male      0       NaN   3701              8          0  "
      ]
     },
     "execution_count": 21,
     "metadata": {},
     "output_type": "execute_result"
    }
   ],
   "source": [
    "combin[combin['Fare'].isnull()]"
   ]
  },
  {
   "cell_type": "markdown",
   "metadata": {},
   "source": [
    "Fill the missing value using the mean value of fares in the similiar groups"
   ]
  },
  {
   "cell_type": "code",
   "execution_count": 22,
   "metadata": {
    "scrolled": true
   },
   "outputs": [
    {
     "data": {
      "text/plain": [
       "7.8958"
      ]
     },
     "execution_count": 22,
     "metadata": {},
     "output_type": "execute_result"
    }
   ],
   "source": [
    "combin[(combin['Pclass']==3) & (combin['Cabin'] =='U') & (combin['Sex'] =='male')]['Fare'].median()"
   ]
  },
  {
   "cell_type": "code",
   "execution_count": 23,
   "metadata": {},
   "outputs": [],
   "source": [
    "combin.loc[combin['Fare'].isnull(),'Fare'] = 7.8958"
   ]
  },
  {
   "cell_type": "markdown",
   "metadata": {},
   "source": [
    "## 2.4 Name"
   ]
  },
  {
   "cell_type": "markdown",
   "metadata": {},
   "source": [
    "Extract titles"
   ]
  },
  {
   "cell_type": "code",
   "execution_count": 24,
   "metadata": {},
   "outputs": [],
   "source": [
    "combin['Title'] = combin['Name'].map(lambda x: re.compile(\", (.*?)\\.\").findall(x)[0])"
   ]
  },
  {
   "cell_type": "code",
   "execution_count": 25,
   "metadata": {
    "scrolled": true
   },
   "outputs": [
    {
     "data": {
      "text/plain": [
       "array(['Mr', 'Mrs', 'Miss', 'Master', 'Don', 'Rev', 'Dr', 'Mme', 'Ms',\n",
       "       'Major', 'Lady', 'Sir', 'Mlle', 'Col', 'Capt', 'the Countess',\n",
       "       'Jonkheer', 'Dona'], dtype=object)"
      ]
     },
     "execution_count": 25,
     "metadata": {},
     "output_type": "execute_result"
    }
   ],
   "source": [
    "combin['Title'].unique()"
   ]
  },
  {
   "cell_type": "markdown",
   "metadata": {},
   "source": [
    "Claissify people based on their titles"
   ]
  },
  {
   "cell_type": "code",
   "execution_count": 26,
   "metadata": {},
   "outputs": [],
   "source": [
    "Title_Dictionary = {\n",
    "    \"Capt\": \"Officer\",\n",
    "    \"Col\": \"Officer\",\n",
    "    \"Major\": \"Officer\",\n",
    "    \"Jonkheer\": \"Royalty\",\n",
    "    \"Don\": \"Royalty\",\n",
    "    \"Dona\": \"Royalty\",\n",
    "    \"Sir\" : \"Royalty\",\n",
    "    \"Dr\": \"Officer\",\n",
    "    \"Rev\": \"Officer\",\n",
    "    \"the Countess\":\"Royalty\",\n",
    "    \"Mme\": \"Mrs\",\n",
    "    \"Mlle\": \"Miss\",\n",
    "    \"Ms\": \"Mrs\",\n",
    "    \"Mr\" : \"Mr\",\n",
    "    \"Mrs\" : \"Mrs\",\n",
    "    \"Miss\" : \"Miss\",\n",
    "    \"Master\" : \"Master\",\n",
    "    \"Lady\" : \"Royalty\"\n",
    "}"
   ]
  },
  {
   "cell_type": "code",
   "execution_count": 27,
   "metadata": {},
   "outputs": [],
   "source": [
    "combin['Title'] = combin['Title'].map(Title_Dictionary)"
   ]
  },
  {
   "cell_type": "code",
   "execution_count": 28,
   "metadata": {
    "scrolled": true
   },
   "outputs": [
    {
     "data": {
      "text/plain": [
       "<matplotlib.axes._subplots.AxesSubplot at 0x13dcc3b0a88>"
      ]
     },
     "execution_count": 28,
     "metadata": {},
     "output_type": "execute_result"
    },
    {
     "data": {
      "image/png": "[encoded data removed]",
      "text/plain": [
       "<Figure size 432x288 with 1 Axes>"
      ]
     },
     "metadata": {
      "needs_background": "light"
     },
     "output_type": "display_data"
    }
   ],
   "source": [
    "combin.groupby(['Title'])['Survived'].mean().plot.bar()"
   ]
  },
  {
   "cell_type": "code",
   "execution_count": 29,
   "metadata": {},
   "outputs": [
    {
     "data": {
      "text/plain": [
       "array(['Mr', 'Mrs', 'Miss', 'Master', 'Royalty', 'Officer'], dtype=object)"
      ]
     },
     "execution_count": 29,
     "metadata": {},
     "output_type": "execute_result"
    }
   ],
   "source": [
    "combin['Title'].unique()"
   ]
  },
  {
   "cell_type": "code",
   "execution_count": 30,
   "metadata": {
    "scrolled": true
   },
   "outputs": [
    {
     "data": {
      "text/plain": [
       "array([2, 3, 1, 0, 5, 4], dtype=int64)"
      ]
     },
     "execution_count": 30,
     "metadata": {},
     "output_type": "execute_result"
    }
   ],
   "source": [
    "le.fit_transform(['Mr', 'Mrs', 'Miss', 'Master', 'Royalty', 'Officer'])"
   ]
  },
  {
   "cell_type": "code",
   "execution_count": 31,
   "metadata": {},
   "outputs": [],
   "source": [
    "combin['Title'] = le.transform(combin['Title'])"
   ]
  },
  {
   "cell_type": "markdown",
   "metadata": {},
   "source": [
    "Could distinguish between officers and royalty nembers. Also, could divide females into married and not marrried(not done here)"
   ]
  },
  {
   "cell_type": "code",
   "execution_count": 32,
   "metadata": {},
   "outputs": [],
   "source": [
    "combin['Is_Royalty'] = combin['Title'].apply(lambda x: 1 if x == 5 else 0)\n",
    "combin['Is_Officer'] = combin['Title'].apply(lambda x: 1 if x == 4 else 0)"
   ]
  },
  {
   "cell_type": "markdown",
   "metadata": {},
   "source": [
    "Last names(not done here)"
   ]
  },
  {
   "cell_type": "code",
   "execution_count": 33,
   "metadata": {},
   "outputs": [],
   "source": [
    "# combin['Last_Name'] = combin['Name'].map(lambda x: re.compile(\"([a-zA-Z]+)\\,\").findall(x)[0])"
   ]
  },
  {
   "cell_type": "markdown",
   "metadata": {},
   "source": [
    "Name length"
   ]
  },
  {
   "cell_type": "code",
   "execution_count": 34,
   "metadata": {},
   "outputs": [],
   "source": [
    "combin['Name_length'] = combin['Name'].apply(len)"
   ]
  },
  {
   "cell_type": "markdown",
   "metadata": {},
   "source": [
    "## 2.5 Parch and SibSp"
   ]
  },
  {
   "cell_type": "markdown",
   "metadata": {},
   "source": [
    "Total family size"
   ]
  },
  {
   "cell_type": "code",
   "execution_count": 35,
   "metadata": {},
   "outputs": [],
   "source": [
    "combin['Family_Size'] = 1 + combin['Parch'] + combin['SibSp']"
   ]
  },
  {
   "cell_type": "markdown",
   "metadata": {},
   "source": [
    "Classify people based on the total family size"
   ]
  },
  {
   "cell_type": "code",
   "execution_count": 36,
   "metadata": {},
   "outputs": [],
   "source": [
    "def family_size_category(family_size):\n",
    "    if family_size == 1:\n",
    "        return 'Single'\n",
    "    elif family_size <= 4:\n",
    "        return 'Small_Family'\n",
    "    else:\n",
    "        return 'Large_Family'"
   ]
  },
  {
   "cell_type": "code",
   "execution_count": 37,
   "metadata": {},
   "outputs": [],
   "source": [
    "combin['Family_Size_Category'] = combin['Family_Size'].apply(family_size_category)"
   ]
  },
  {
   "cell_type": "code",
   "execution_count": 38,
   "metadata": {},
   "outputs": [
    {
     "data": {
      "text/plain": [
       "array(['Small_Family', 'Single', 'Large_Family'], dtype=object)"
      ]
     },
     "execution_count": 38,
     "metadata": {},
     "output_type": "execute_result"
    }
   ],
   "source": [
    "combin['Family_Size_Category'].unique()"
   ]
  },
  {
   "cell_type": "code",
   "execution_count": 39,
   "metadata": {},
   "outputs": [
    {
     "data": {
      "text/plain": [
       "array([2, 1, 0], dtype=int64)"
      ]
     },
     "execution_count": 39,
     "metadata": {},
     "output_type": "execute_result"
    }
   ],
   "source": [
    "le.fit_transform(['Small_Family', 'Single', 'Large_Family'])"
   ]
  },
  {
   "cell_type": "code",
   "execution_count": 40,
   "metadata": {},
   "outputs": [],
   "source": [
    "combin['Family_Size_Category'] = le.transform(combin['Family_Size_Category'])"
   ]
  },
  {
   "cell_type": "markdown",
   "metadata": {},
   "source": [
    "Is single or not"
   ]
  },
  {
   "cell_type": "code",
   "execution_count": 41,
   "metadata": {},
   "outputs": [],
   "source": [
    "combin['Is_single'] = combin['Family_Size'].apply(lambda x: 1 if x == 1 else 0)"
   ]
  },
  {
   "cell_type": "markdown",
   "metadata": {},
   "source": [
    "## 2.6 Pclass"
   ]
  },
  {
   "cell_type": "code",
   "execution_count": 42,
   "metadata": {},
   "outputs": [
    {
     "data": {
      "text/plain": [
       "array([3, 1, 2], dtype=int64)"
      ]
     },
     "execution_count": 42,
     "metadata": {},
     "output_type": "execute_result"
    }
   ],
   "source": [
    "combin['Pclass'].unique()"
   ]
  },
  {
   "cell_type": "markdown",
   "metadata": {},
   "source": [
    "## 2.7 Sex"
   ]
  },
  {
   "cell_type": "code",
   "execution_count": 43,
   "metadata": {
    "scrolled": true
   },
   "outputs": [
    {
     "data": {
      "text/plain": [
       "array(['male', 'female'], dtype=object)"
      ]
     },
     "execution_count": 43,
     "metadata": {},
     "output_type": "execute_result"
    }
   ],
   "source": [
    "combin['Sex'].unique()"
   ]
  },
  {
   "cell_type": "code",
   "execution_count": 44,
   "metadata": {},
   "outputs": [
    {
     "data": {
      "text/plain": [
       "array([1, 0], dtype=int64)"
      ]
     },
     "execution_count": 44,
     "metadata": {},
     "output_type": "execute_result"
    }
   ],
   "source": [
    "le.fit_transform(['male', 'female'])"
   ]
  },
  {
   "cell_type": "code",
   "execution_count": 45,
   "metadata": {},
   "outputs": [],
   "source": [
    "combin['Sex'] = le.transform(combin['Sex'])"
   ]
  },
  {
   "cell_type": "markdown",
   "metadata": {},
   "source": [
    "## 2.8 Ticket"
   ]
  },
  {
   "cell_type": "code",
   "execution_count": 46,
   "metadata": {},
   "outputs": [],
   "source": [
    "def find_all_number(number):\n",
    "    x = re.findall(r'\\d+',number)\n",
    "    if len(x) == 0:\n",
    "        return 0\n",
    "    else:\n",
    "        return int(x[-1])\n",
    "    \n",
    "combin['Ticket_number'] = combin['Ticket'].apply(find_all_number)"
   ]
  },
  {
   "cell_type": "markdown",
   "metadata": {},
   "source": [
    "Count the number of group members based on the number of same tickets"
   ]
  },
  {
   "cell_type": "code",
   "execution_count": 47,
   "metadata": {
    "scrolled": true
   },
   "outputs": [],
   "source": [
    "combin['Group_Ticket'] = combin.groupby('Ticket_number')['Cabin'].transform('count')"
   ]
  },
  {
   "cell_type": "markdown",
   "metadata": {},
   "source": [
    "Wether the person has the ticket number? (Excluded due to no effect on survival)"
   ]
  },
  {
   "cell_type": "code",
   "execution_count": 48,
   "metadata": {},
   "outputs": [],
   "source": [
    "# combin['Has_ticket_letter'] = combin['Ticket_letter'].apply(lambda x: 0 if x == 'None' else 1)"
   ]
  },
  {
   "cell_type": "markdown",
   "metadata": {},
   "source": [
    "Classify based on letters at the beginning of each ticket"
   ]
  },
  {
   "cell_type": "code",
   "execution_count": 49,
   "metadata": {},
   "outputs": [],
   "source": [
    "combin['Ticket_letter'] = combin['Ticket'].str.split().str[0]\n",
    "combin['Ticket_letter'] = combin['Ticket_letter'].apply(lambda x: 'None' if x.isnumeric() else x)"
   ]
  },
  {
   "cell_type": "code",
   "execution_count": 50,
   "metadata": {},
   "outputs": [],
   "source": [
    "def process_letter(x):\n",
    "    x = x.replace('.','')\n",
    "    x = x.replace('/','')\n",
    "    return x"
   ]
  },
  {
   "cell_type": "code",
   "execution_count": 51,
   "metadata": {},
   "outputs": [
    {
     "data": {
      "text/plain": [
       "array(['A5', 'PC', 'STONO2', 'None', 'PP', 'CA', 'SCParis', 'SCA4', 'A4',\n",
       "       'SP', 'SOC', 'WC', 'SOTONOQ', 'WEP', 'STONO', 'C', 'SCPARIS',\n",
       "       'SOP', 'Fa', 'LINE', 'FCC', 'SWPP', 'SCOW', 'PPP', 'SC', 'SCAH',\n",
       "       'AS', 'SOPP', 'FC', 'SOTONO2', 'CASOTON', 'SCA3', 'STONOQ', 'AQ4',\n",
       "       'A', 'LP', 'AQ3'], dtype=object)"
      ]
     },
     "execution_count": 51,
     "metadata": {},
     "output_type": "execute_result"
    }
   ],
   "source": [
    "combin['Ticket_letter'] = combin['Ticket_letter'].apply(process_letter)\n",
    "combin['Ticket_letter'].unique()"
   ]
  },
  {
   "cell_type": "code",
   "execution_count": 52,
   "metadata": {},
   "outputs": [
    {
     "data": {
      "text/plain": [
       "array([ 2, 15, 32, 14, 16,  7, 24, 20,  1, 30, 25, 35, 29, 36, 31,  6, 23,\n",
       "       26, 11, 12, 10, 34, 22, 17, 18, 21,  5, 27,  9, 28,  8, 19, 33,  4,\n",
       "        0, 13,  3], dtype=int64)"
      ]
     },
     "execution_count": 52,
     "metadata": {},
     "output_type": "execute_result"
    }
   ],
   "source": [
    "le.fit_transform(['A5', 'PC', 'STONO2', 'None', 'PP', 'CA', 'SCParis', 'SCA4', 'A4',\n",
    "       'SP', 'SOC', 'WC', 'SOTONOQ', 'WEP', 'STONO', 'C', 'SCPARIS',\n",
    "       'SOP', 'Fa', 'LINE', 'FCC', 'SWPP', 'SCOW', 'PPP', 'SC', 'SCAH',\n",
    "       'AS', 'SOPP', 'FC', 'SOTONO2', 'CASOTON', 'SCA3', 'STONOQ', 'AQ4',\n",
    "       'A', 'LP', 'AQ3'])"
   ]
  },
  {
   "cell_type": "code",
   "execution_count": 53,
   "metadata": {},
   "outputs": [],
   "source": [
    "combin['Ticket_letter'] = le.transform(combin['Ticket_letter'])"
   ]
  },
  {
   "cell_type": "markdown",
   "metadata": {},
   "source": [
    "### 2.8.1 Interactions between tickets and other features\n",
    "exclude the impact of group tickets, so that fares are only affected by classes, not by sizes of groups"
   ]
  },
  {
   "cell_type": "code",
   "execution_count": 54,
   "metadata": {},
   "outputs": [],
   "source": [
    "combin['Fare'] = combin['Fare']/combin['Group_Ticket']"
   ]
  },
  {
   "cell_type": "code",
   "execution_count": 55,
   "metadata": {
    "scrolled": true
   },
   "outputs": [
    {
     "data": {
      "text/plain": [
       "Pclass  Group_Ticket\n",
       "1       1               29.192513\n",
       "        2               32.091612\n",
       "        3               34.599215\n",
       "        4               49.072787\n",
       "        5               38.235000\n",
       "        6               34.545833\n",
       "        7               37.482143\n",
       "2       1               12.201304\n",
       "        2               11.625547\n",
       "        3                8.929595\n",
       "        4                9.067450\n",
       "        5               13.000000\n",
       "        7               10.500000\n",
       "3       1                7.892832\n",
       "        2                7.193291\n",
       "        3                6.215207\n",
       "        4                4.013905\n",
       "        5                5.394447\n",
       "        6                4.752083\n",
       "        7                4.873810\n",
       "        8                6.462238\n",
       "        11               6.322727\n",
       "Name: Fare, dtype: float64"
      ]
     },
     "execution_count": 55,
     "metadata": {},
     "output_type": "execute_result"
    }
   ],
   "source": [
    "combin.groupby(['Pclass','Group_Ticket'])['Fare'].mean()"
   ]
  },
  {
   "cell_type": "markdown",
   "metadata": {},
   "source": [
    "Exclude those who are in groups but are misclassified as single  \n",
    "*Note: single means that a person was traveling without mates, not without families*"
   ]
  },
  {
   "cell_type": "code",
   "execution_count": 56,
   "metadata": {},
   "outputs": [],
   "source": [
    "combin.loc[(combin['Is_single']==1)&(combin['Group_Ticket']!=1),'Is_single'] = 0"
   ]
  },
  {
   "cell_type": "markdown",
   "metadata": {},
   "source": [
    "Found out that family size and number of group members are incompatible. Let models to deal with the problem"
   ]
  },
  {
   "cell_type": "code",
   "execution_count": 57,
   "metadata": {
    "scrolled": true
   },
   "outputs": [
    {
     "data": {
      "text/html": [
       "<div>\n",
       "<style scoped>\n",
       "    .dataframe tbody tr th:only-of-type {\n",
       "        vertical-align: middle;\n",
       "    }\n",
       "\n",
       "    .dataframe tbody tr th {\n",
       "        vertical-align: top;\n",
       "    }\n",
       "\n",
       "    .dataframe thead th {\n",
       "        text-align: right;\n",
       "    }\n",
       "</style>\n",
       "<table border=\"1\" class=\"dataframe\">\n",
       "  <thead>\n",
       "    <tr style=\"text-align: right;\">\n",
       "      <th></th>\n",
       "      <th>Age</th>\n",
       "      <th>Cabin</th>\n",
       "      <th>Embarked</th>\n",
       "      <th>Fare</th>\n",
       "      <th>Name</th>\n",
       "      <th>Parch</th>\n",
       "      <th>PassengerId</th>\n",
       "      <th>Pclass</th>\n",
       "      <th>Sex</th>\n",
       "      <th>SibSp</th>\n",
       "      <th>...</th>\n",
       "      <th>Title</th>\n",
       "      <th>Is_Royalty</th>\n",
       "      <th>Is_Officer</th>\n",
       "      <th>Name_length</th>\n",
       "      <th>Family_Size</th>\n",
       "      <th>Family_Size_Category</th>\n",
       "      <th>Is_single</th>\n",
       "      <th>Ticket_number</th>\n",
       "      <th>Group_Ticket</th>\n",
       "      <th>Ticket_letter</th>\n",
       "    </tr>\n",
       "  </thead>\n",
       "  <tbody>\n",
       "    <tr>\n",
       "      <td>0</td>\n",
       "      <td>22.0</td>\n",
       "      <td>U</td>\n",
       "      <td>2</td>\n",
       "      <td>7.250000</td>\n",
       "      <td>Braund, Mr. Owen Harris</td>\n",
       "      <td>0</td>\n",
       "      <td>1</td>\n",
       "      <td>3</td>\n",
       "      <td>1</td>\n",
       "      <td>1</td>\n",
       "      <td>...</td>\n",
       "      <td>2</td>\n",
       "      <td>0</td>\n",
       "      <td>0</td>\n",
       "      <td>23</td>\n",
       "      <td>2</td>\n",
       "      <td>2</td>\n",
       "      <td>0</td>\n",
       "      <td>21171</td>\n",
       "      <td>1</td>\n",
       "      <td>2</td>\n",
       "    </tr>\n",
       "    <tr>\n",
       "      <td>6</td>\n",
       "      <td>54.0</td>\n",
       "      <td>E46</td>\n",
       "      <td>2</td>\n",
       "      <td>25.931250</td>\n",
       "      <td>McCarthy, Mr. Timothy J</td>\n",
       "      <td>0</td>\n",
       "      <td>7</td>\n",
       "      <td>1</td>\n",
       "      <td>1</td>\n",
       "      <td>0</td>\n",
       "      <td>...</td>\n",
       "      <td>2</td>\n",
       "      <td>0</td>\n",
       "      <td>0</td>\n",
       "      <td>23</td>\n",
       "      <td>1</td>\n",
       "      <td>1</td>\n",
       "      <td>0</td>\n",
       "      <td>17463</td>\n",
       "      <td>2</td>\n",
       "      <td>14</td>\n",
       "    </tr>\n",
       "    <tr>\n",
       "      <td>20</td>\n",
       "      <td>35.0</td>\n",
       "      <td>U</td>\n",
       "      <td>2</td>\n",
       "      <td>13.000000</td>\n",
       "      <td>Fynney, Mr. Joseph J</td>\n",
       "      <td>0</td>\n",
       "      <td>21</td>\n",
       "      <td>2</td>\n",
       "      <td>1</td>\n",
       "      <td>0</td>\n",
       "      <td>...</td>\n",
       "      <td>2</td>\n",
       "      <td>0</td>\n",
       "      <td>0</td>\n",
       "      <td>20</td>\n",
       "      <td>1</td>\n",
       "      <td>1</td>\n",
       "      <td>0</td>\n",
       "      <td>239865</td>\n",
       "      <td>2</td>\n",
       "      <td>14</td>\n",
       "    </tr>\n",
       "    <tr>\n",
       "      <td>31</td>\n",
       "      <td>NaN</td>\n",
       "      <td>B78</td>\n",
       "      <td>0</td>\n",
       "      <td>48.840267</td>\n",
       "      <td>Spencer, Mrs. William Augustus (Marie Eugenie)</td>\n",
       "      <td>0</td>\n",
       "      <td>32</td>\n",
       "      <td>1</td>\n",
       "      <td>0</td>\n",
       "      <td>1</td>\n",
       "      <td>...</td>\n",
       "      <td>3</td>\n",
       "      <td>0</td>\n",
       "      <td>0</td>\n",
       "      <td>46</td>\n",
       "      <td>2</td>\n",
       "      <td>2</td>\n",
       "      <td>0</td>\n",
       "      <td>17569</td>\n",
       "      <td>3</td>\n",
       "      <td>15</td>\n",
       "    </tr>\n",
       "    <tr>\n",
       "      <td>38</td>\n",
       "      <td>18.0</td>\n",
       "      <td>U</td>\n",
       "      <td>2</td>\n",
       "      <td>9.000000</td>\n",
       "      <td>Vander Planke, Miss. Augusta Maria</td>\n",
       "      <td>0</td>\n",
       "      <td>39</td>\n",
       "      <td>3</td>\n",
       "      <td>0</td>\n",
       "      <td>2</td>\n",
       "      <td>...</td>\n",
       "      <td>1</td>\n",
       "      <td>0</td>\n",
       "      <td>0</td>\n",
       "      <td>34</td>\n",
       "      <td>3</td>\n",
       "      <td>2</td>\n",
       "      <td>0</td>\n",
       "      <td>345764</td>\n",
       "      <td>2</td>\n",
       "      <td>14</td>\n",
       "    </tr>\n",
       "    <tr>\n",
       "      <td>...</td>\n",
       "      <td>...</td>\n",
       "      <td>...</td>\n",
       "      <td>...</td>\n",
       "      <td>...</td>\n",
       "      <td>...</td>\n",
       "      <td>...</td>\n",
       "      <td>...</td>\n",
       "      <td>...</td>\n",
       "      <td>...</td>\n",
       "      <td>...</td>\n",
       "      <td>...</td>\n",
       "      <td>...</td>\n",
       "      <td>...</td>\n",
       "      <td>...</td>\n",
       "      <td>...</td>\n",
       "      <td>...</td>\n",
       "      <td>...</td>\n",
       "      <td>...</td>\n",
       "      <td>...</td>\n",
       "      <td>...</td>\n",
       "      <td>...</td>\n",
       "    </tr>\n",
       "    <tr>\n",
       "      <td>404</td>\n",
       "      <td>43.0</td>\n",
       "      <td>D40</td>\n",
       "      <td>0</td>\n",
       "      <td>27.720800</td>\n",
       "      <td>Frauenthal, Mr. Isaac Gerald</td>\n",
       "      <td>0</td>\n",
       "      <td>1296</td>\n",
       "      <td>1</td>\n",
       "      <td>1</td>\n",
       "      <td>1</td>\n",
       "      <td>...</td>\n",
       "      <td>2</td>\n",
       "      <td>0</td>\n",
       "      <td>0</td>\n",
       "      <td>28</td>\n",
       "      <td>2</td>\n",
       "      <td>2</td>\n",
       "      <td>0</td>\n",
       "      <td>17765</td>\n",
       "      <td>1</td>\n",
       "      <td>14</td>\n",
       "    </tr>\n",
       "    <tr>\n",
       "      <td>406</td>\n",
       "      <td>23.0</td>\n",
       "      <td>U</td>\n",
       "      <td>2</td>\n",
       "      <td>10.500000</td>\n",
       "      <td>Ware, Mr. William Jeffery</td>\n",
       "      <td>0</td>\n",
       "      <td>1298</td>\n",
       "      <td>2</td>\n",
       "      <td>1</td>\n",
       "      <td>1</td>\n",
       "      <td>...</td>\n",
       "      <td>2</td>\n",
       "      <td>0</td>\n",
       "      <td>0</td>\n",
       "      <td>25</td>\n",
       "      <td>2</td>\n",
       "      <td>2</td>\n",
       "      <td>0</td>\n",
       "      <td>28666</td>\n",
       "      <td>1</td>\n",
       "      <td>14</td>\n",
       "    </tr>\n",
       "    <tr>\n",
       "      <td>407</td>\n",
       "      <td>50.0</td>\n",
       "      <td>C80</td>\n",
       "      <td>0</td>\n",
       "      <td>42.300000</td>\n",
       "      <td>Widener, Mr. George Dunton</td>\n",
       "      <td>1</td>\n",
       "      <td>1299</td>\n",
       "      <td>1</td>\n",
       "      <td>1</td>\n",
       "      <td>1</td>\n",
       "      <td>...</td>\n",
       "      <td>2</td>\n",
       "      <td>0</td>\n",
       "      <td>0</td>\n",
       "      <td>26</td>\n",
       "      <td>3</td>\n",
       "      <td>2</td>\n",
       "      <td>0</td>\n",
       "      <td>113503</td>\n",
       "      <td>5</td>\n",
       "      <td>14</td>\n",
       "    </tr>\n",
       "    <tr>\n",
       "      <td>411</td>\n",
       "      <td>37.0</td>\n",
       "      <td>C78</td>\n",
       "      <td>1</td>\n",
       "      <td>30.000000</td>\n",
       "      <td>Minahan, Mrs. William Edward (Lillian E Thorpe)</td>\n",
       "      <td>0</td>\n",
       "      <td>1303</td>\n",
       "      <td>1</td>\n",
       "      <td>0</td>\n",
       "      <td>1</td>\n",
       "      <td>...</td>\n",
       "      <td>3</td>\n",
       "      <td>0</td>\n",
       "      <td>0</td>\n",
       "      <td>47</td>\n",
       "      <td>2</td>\n",
       "      <td>2</td>\n",
       "      <td>0</td>\n",
       "      <td>19928</td>\n",
       "      <td>3</td>\n",
       "      <td>14</td>\n",
       "    </tr>\n",
       "    <tr>\n",
       "      <td>414</td>\n",
       "      <td>39.0</td>\n",
       "      <td>C105</td>\n",
       "      <td>0</td>\n",
       "      <td>36.300000</td>\n",
       "      <td>Oliva y Ocana, Dona. Fermina</td>\n",
       "      <td>0</td>\n",
       "      <td>1306</td>\n",
       "      <td>1</td>\n",
       "      <td>0</td>\n",
       "      <td>0</td>\n",
       "      <td>...</td>\n",
       "      <td>5</td>\n",
       "      <td>1</td>\n",
       "      <td>0</td>\n",
       "      <td>28</td>\n",
       "      <td>1</td>\n",
       "      <td>1</td>\n",
       "      <td>0</td>\n",
       "      <td>17758</td>\n",
       "      <td>3</td>\n",
       "      <td>15</td>\n",
       "    </tr>\n",
       "  </tbody>\n",
       "</table>\n",
       "<p>297 rows × 24 columns</p>\n",
       "</div>"
      ],
      "text/plain": [
       "      Age Cabin  Embarked       Fare  \\\n",
       "0    22.0     U         2   7.250000   \n",
       "6    54.0   E46         2  25.931250   \n",
       "20   35.0     U         2  13.000000   \n",
       "31    NaN   B78         0  48.840267   \n",
       "38   18.0     U         2   9.000000   \n",
       "..    ...   ...       ...        ...   \n",
       "404  43.0   D40         0  27.720800   \n",
       "406  23.0     U         2  10.500000   \n",
       "407  50.0   C80         0  42.300000   \n",
       "411  37.0   C78         1  30.000000   \n",
       "414  39.0  C105         0  36.300000   \n",
       "\n",
       "                                                Name  Parch  PassengerId  \\\n",
       "0                            Braund, Mr. Owen Harris      0            1   \n",
       "6                            McCarthy, Mr. Timothy J      0            7   \n",
       "20                              Fynney, Mr. Joseph J      0           21   \n",
       "31    Spencer, Mrs. William Augustus (Marie Eugenie)      0           32   \n",
       "38                Vander Planke, Miss. Augusta Maria      0           39   \n",
       "..                                               ...    ...          ...   \n",
       "404                     Frauenthal, Mr. Isaac Gerald      0         1296   \n",
       "406                        Ware, Mr. William Jeffery      0         1298   \n",
       "407                       Widener, Mr. George Dunton      1         1299   \n",
       "411  Minahan, Mrs. William Edward (Lillian E Thorpe)      0         1303   \n",
       "414                     Oliva y Ocana, Dona. Fermina      0         1306   \n",
       "\n",
       "     Pclass  Sex  SibSp  ...  Title Is_Royalty  Is_Officer  Name_length  \\\n",
       "0         3    1      1  ...      2          0           0           23   \n",
       "6         1    1      0  ...      2          0           0           23   \n",
       "20        2    1      0  ...      2          0           0           20   \n",
       "31        1    0      1  ...      3          0           0           46   \n",
       "38        3    0      2  ...      1          0           0           34   \n",
       "..      ...  ...    ...  ...    ...        ...         ...          ...   \n",
       "404       1    1      1  ...      2          0           0           28   \n",
       "406       2    1      1  ...      2          0           0           25   \n",
       "407       1    1      1  ...      2          0           0           26   \n",
       "411       1    0      1  ...      3          0           0           47   \n",
       "414       1    0      0  ...      5          1           0           28   \n",
       "\n",
       "     Family_Size  Family_Size_Category  Is_single  Ticket_number  \\\n",
       "0              2                     2          0          21171   \n",
       "6              1                     1          0          17463   \n",
       "20             1                     1          0         239865   \n",
       "31             2                     2          0          17569   \n",
       "38             3                     2          0         345764   \n",
       "..           ...                   ...        ...            ...   \n",
       "404            2                     2          0          17765   \n",
       "406            2                     2          0          28666   \n",
       "407            3                     2          0         113503   \n",
       "411            2                     2          0          19928   \n",
       "414            1                     1          0          17758   \n",
       "\n",
       "     Group_Ticket  Ticket_letter  \n",
       "0               1              2  \n",
       "6               2             14  \n",
       "20              2             14  \n",
       "31              3             15  \n",
       "38              2             14  \n",
       "..            ...            ...  \n",
       "404             1             14  \n",
       "406             1             14  \n",
       "407             5             14  \n",
       "411             3             14  \n",
       "414             3             15  \n",
       "\n",
       "[297 rows x 24 columns]"
      ]
     },
     "execution_count": 57,
     "metadata": {},
     "output_type": "execute_result"
    }
   ],
   "source": [
    "combin.loc[combin['Family_Size']!= combin['Group_Ticket']]"
   ]
  },
  {
   "cell_type": "markdown",
   "metadata": {},
   "source": [
    "## 2.9 Age"
   ]
  },
  {
   "cell_type": "code",
   "execution_count": 58,
   "metadata": {
    "scrolled": true
   },
   "outputs": [
    {
     "data": {
      "text/plain": [
       "Index(['Age', 'Cabin', 'Embarked', 'Fare', 'Name', 'Parch', 'PassengerId',\n",
       "       'Pclass', 'Sex', 'SibSp', 'Survived', 'Ticket', 'Cabin_Capital',\n",
       "       'Has_Cabin', 'Title', 'Is_Royalty', 'Is_Officer', 'Name_length',\n",
       "       'Family_Size', 'Family_Size_Category', 'Is_single', 'Ticket_number',\n",
       "       'Group_Ticket', 'Ticket_letter'],\n",
       "      dtype='object')"
      ]
     },
     "execution_count": 58,
     "metadata": {},
     "output_type": "execute_result"
    }
   ],
   "source": [
    "combin.columns"
   ]
  },
  {
   "cell_type": "markdown",
   "metadata": {},
   "source": [
    "Classify people into 4 groups"
   ]
  },
  {
   "cell_type": "code",
   "execution_count": 59,
   "metadata": {},
   "outputs": [],
   "source": [
    "def age_classification(x):\n",
    "    if x <= 18:\n",
    "        return 1\n",
    "    elif x <= 40:\n",
    "        return 2\n",
    "    elif x <= 60:\n",
    "        return 3\n",
    "    elif x > 60:\n",
    "        return 4\n",
    "    else:\n",
    "        return np.nan"
   ]
  },
  {
   "cell_type": "code",
   "execution_count": 60,
   "metadata": {},
   "outputs": [],
   "source": [
    "combin['Age_classification'] = combin['Age'].apply(age_classification)"
   ]
  },
  {
   "cell_type": "markdown",
   "metadata": {},
   "source": [
    "### 2.9.1 Build a model to fill missing values in age classifications\n",
    "Based on features above"
   ]
  },
  {
   "cell_type": "code",
   "execution_count": 61,
   "metadata": {},
   "outputs": [],
   "source": [
    "feature_age = ['Embarked', 'Fare', 'Parch', \n",
    "       'Pclass', 'Sex', 'SibSp', 'Cabin_Capital',\n",
    "       'Has_Cabin', 'Title', 'Family_Size',\n",
    "       'Family_Size_Category', 'Is_single', 'Ticket_number', 'Group_Ticket']\n",
    "age_train_X = combin[feature_age][combin['Age'].notnull()]\n",
    "age_train_y = combin['Age_classification'][combin['Age'].notnull()]\n",
    "age_predict_X = combin[feature_age][combin['Age'].isnull()]"
   ]
  },
  {
   "cell_type": "code",
   "execution_count": 62,
   "metadata": {},
   "outputs": [
    {
     "data": {
      "text/plain": [
       "GridSearchCV(cv=10, error_score='raise-deprecating',\n",
       "             estimator=RandomForestClassifier(bootstrap=True, class_weight=None,\n",
       "                                              criterion='gini', max_depth=None,\n",
       "                                              max_features='auto',\n",
       "                                              max_leaf_nodes=None,\n",
       "                                              min_impurity_decrease=0.0,\n",
       "                                              min_impurity_split=None,\n",
       "                                              min_samples_leaf=1,\n",
       "                                              min_samples_split=2,\n",
       "                                              min_weight_fraction_leaf=0.0,\n",
       "                                              n_estimators='warn', n_jobs=None,\n",
       "                                              oob_score=False, random_state=0,\n",
       "                                              verbose=0, warm_start=False),\n",
       "             iid='warn', n_jobs=None,\n",
       "             param_grid={'max_depth': [7, 8, 9],\n",
       "                         'n_estimators': [200, 300, 400]},\n",
       "             pre_dispatch='2*n_jobs', refit=True, return_train_score=False,\n",
       "             scoring='accuracy', verbose=0)"
      ]
     },
     "execution_count": 62,
     "metadata": {},
     "output_type": "execute_result"
    }
   ],
   "source": [
    "rf_age = RandomForestClassifier(random_state=0)\n",
    "rf_age_param_grid = {'n_estimators':[200,300,400],'max_depth':[7,8,9]}\n",
    "rf_age_gridsearch = GridSearchCV(rf_age,param_grid=rf_age_param_grid, cv=10, scoring='accuracy')\n",
    "rf_age_gridsearch.fit(age_train_X,age_train_y)"
   ]
  },
  {
   "cell_type": "code",
   "execution_count": 63,
   "metadata": {},
   "outputs": [],
   "source": [
    "age_pred = rf_age_gridsearch.predict(age_predict_X)"
   ]
  },
  {
   "cell_type": "code",
   "execution_count": 64,
   "metadata": {},
   "outputs": [],
   "source": [
    "combin['Age_classification'][combin['Age'].isnull()] = age_pred"
   ]
  },
  {
   "cell_type": "markdown",
   "metadata": {},
   "source": [
    "Check wether there are other missing values in the dataset"
   ]
  },
  {
   "cell_type": "code",
   "execution_count": 65,
   "metadata": {},
   "outputs": [
    {
     "name": "stdout",
     "output_type": "stream",
     "text": [
      "<class 'pandas.core.frame.DataFrame'>\n",
      "Int64Index: 1309 entries, 0 to 417\n",
      "Data columns (total 25 columns):\n",
      "Age                     1046 non-null float64\n",
      "Cabin                   1309 non-null object\n",
      "Embarked                1309 non-null int32\n",
      "Fare                    1309 non-null float64\n",
      "Name                    1309 non-null object\n",
      "Parch                   1309 non-null int64\n",
      "PassengerId             1309 non-null int64\n",
      "Pclass                  1309 non-null int64\n",
      "Sex                     1309 non-null int32\n",
      "SibSp                   1309 non-null int64\n",
      "Survived                891 non-null float64\n",
      "Ticket                  1309 non-null object\n",
      "Cabin_Capital           1309 non-null int32\n",
      "Has_Cabin               1309 non-null int64\n",
      "Title                   1309 non-null int32\n",
      "Is_Royalty              1309 non-null int64\n",
      "Is_Officer              1309 non-null int64\n",
      "Name_length             1309 non-null int64\n",
      "Family_Size             1309 non-null int64\n",
      "Family_Size_Category    1309 non-null int32\n",
      "Is_single               1309 non-null int64\n",
      "Ticket_number           1309 non-null int64\n",
      "Group_Ticket            1309 non-null int64\n",
      "Ticket_letter           1309 non-null int32\n",
      "Age_classification      1309 non-null float64\n",
      "dtypes: float64(4), int32(6), int64(12), object(3)\n",
      "memory usage: 235.2+ KB\n"
     ]
    }
   ],
   "source": [
    "combin.info()"
   ]
  },
  {
   "cell_type": "markdown",
   "metadata": {},
   "source": [
    "### 2.9.2 Distinguish children"
   ]
  },
  {
   "cell_type": "code",
   "execution_count": 66,
   "metadata": {},
   "outputs": [],
   "source": [
    "combin['Is_children'] = combin['Age_classification'].apply(lambda x: 1 if x == 1 else 0)"
   ]
  },
  {
   "cell_type": "markdown",
   "metadata": {},
   "source": [
    "### 2.9.3 Interactions between age and sex"
   ]
  },
  {
   "cell_type": "code",
   "execution_count": 67,
   "metadata": {},
   "outputs": [],
   "source": [
    "combin['Male_adult'] = 0\n",
    "combin.loc[(combin['Is_children']==0)&(combin['Sex']==1),'Male_adult'] = 1"
   ]
  },
  {
   "cell_type": "code",
   "execution_count": 68,
   "metadata": {},
   "outputs": [],
   "source": [
    "combin['Female_adult'] = 0\n",
    "combin.loc[(combin['Is_children']==0)&(combin['Sex']==0),'Female_adult'] = 1"
   ]
  },
  {
   "cell_type": "markdown",
   "metadata": {},
   "source": [
    "### 2.9.4 In each family/group, whether there are dead children/females or survived males?"
   ]
  },
  {
   "cell_type": "code",
   "execution_count": 69,
   "metadata": {},
   "outputs": [],
   "source": [
    "ticket_df = pd.DataFrame(combin['Ticket_number'].value_counts())\n",
    "ticket_df['family_with_dead_children_women'] = combin.Ticket_number[((combin.Is_children == 1)|(combin.Female_adult == 1)) & (combin.Survived == 0) & (combin.Is_single == 0)].value_counts()\n",
    "ticket_df['family_with_dead_children_women'] = ticket_df['family_with_dead_children_women'].apply(lambda x: 1 if x > 0 else 0)\n",
    "\n",
    "ticket_df['family_with_surviving_man'] = combin.Ticket_number[(combin.Male_adult == 1) & (combin.Survived == 1) & (combin.Is_single == 0)].value_counts()\n",
    "ticket_df['family_with_surviving_man'] = ticket_df['family_with_surviving_man'].apply(lambda x: 1 if x > 0 else 0)\n",
    "\n",
    "ticket_df.drop(['Ticket_number'],axis=1, inplace=True)\n",
    "\n",
    "combin = pd.merge(combin,ticket_df,left_on='Ticket_number',right_index=True,how='left',sort=False)"
   ]
  },
  {
   "cell_type": "markdown",
   "metadata": {},
   "source": [
    "## 2.10 Dataset after feature extraction"
   ]
  },
  {
   "cell_type": "code",
   "execution_count": 70,
   "metadata": {},
   "outputs": [
    {
     "data": {
      "text/html": [
       "<div>\n",
       "<style scoped>\n",
       "    .dataframe tbody tr th:only-of-type {\n",
       "        vertical-align: middle;\n",
       "    }\n",
       "\n",
       "    .dataframe tbody tr th {\n",
       "        vertical-align: top;\n",
       "    }\n",
       "\n",
       "    .dataframe thead th {\n",
       "        text-align: right;\n",
       "    }\n",
       "</style>\n",
       "<table border=\"1\" class=\"dataframe\">\n",
       "  <thead>\n",
       "    <tr style=\"text-align: right;\">\n",
       "      <th></th>\n",
       "      <th>Age</th>\n",
       "      <th>Cabin</th>\n",
       "      <th>Embarked</th>\n",
       "      <th>Fare</th>\n",
       "      <th>Name</th>\n",
       "      <th>Parch</th>\n",
       "      <th>PassengerId</th>\n",
       "      <th>Pclass</th>\n",
       "      <th>Sex</th>\n",
       "      <th>SibSp</th>\n",
       "      <th>...</th>\n",
       "      <th>Is_single</th>\n",
       "      <th>Ticket_number</th>\n",
       "      <th>Group_Ticket</th>\n",
       "      <th>Ticket_letter</th>\n",
       "      <th>Age_classification</th>\n",
       "      <th>Is_children</th>\n",
       "      <th>Male_adult</th>\n",
       "      <th>Female_adult</th>\n",
       "      <th>family_with_dead_children_women</th>\n",
       "      <th>family_with_surviving_man</th>\n",
       "    </tr>\n",
       "  </thead>\n",
       "  <tbody>\n",
       "    <tr>\n",
       "      <td>0</td>\n",
       "      <td>22.0</td>\n",
       "      <td>U</td>\n",
       "      <td>2</td>\n",
       "      <td>7.25000</td>\n",
       "      <td>Braund, Mr. Owen Harris</td>\n",
       "      <td>0</td>\n",
       "      <td>1</td>\n",
       "      <td>3</td>\n",
       "      <td>1</td>\n",
       "      <td>1</td>\n",
       "      <td>...</td>\n",
       "      <td>0</td>\n",
       "      <td>21171</td>\n",
       "      <td>1</td>\n",
       "      <td>2</td>\n",
       "      <td>2.0</td>\n",
       "      <td>0</td>\n",
       "      <td>1</td>\n",
       "      <td>0</td>\n",
       "      <td>0</td>\n",
       "      <td>0</td>\n",
       "    </tr>\n",
       "    <tr>\n",
       "      <td>1</td>\n",
       "      <td>38.0</td>\n",
       "      <td>C85</td>\n",
       "      <td>0</td>\n",
       "      <td>35.64165</td>\n",
       "      <td>Cumings, Mrs. John Bradley (Florence Briggs Th...</td>\n",
       "      <td>0</td>\n",
       "      <td>2</td>\n",
       "      <td>1</td>\n",
       "      <td>0</td>\n",
       "      <td>1</td>\n",
       "      <td>...</td>\n",
       "      <td>0</td>\n",
       "      <td>17599</td>\n",
       "      <td>2</td>\n",
       "      <td>15</td>\n",
       "      <td>2.0</td>\n",
       "      <td>0</td>\n",
       "      <td>0</td>\n",
       "      <td>1</td>\n",
       "      <td>0</td>\n",
       "      <td>0</td>\n",
       "    </tr>\n",
       "    <tr>\n",
       "      <td>2</td>\n",
       "      <td>26.0</td>\n",
       "      <td>U</td>\n",
       "      <td>2</td>\n",
       "      <td>7.92500</td>\n",
       "      <td>Heikkinen, Miss. Laina</td>\n",
       "      <td>0</td>\n",
       "      <td>3</td>\n",
       "      <td>3</td>\n",
       "      <td>0</td>\n",
       "      <td>0</td>\n",
       "      <td>...</td>\n",
       "      <td>1</td>\n",
       "      <td>3101282</td>\n",
       "      <td>1</td>\n",
       "      <td>32</td>\n",
       "      <td>2.0</td>\n",
       "      <td>0</td>\n",
       "      <td>0</td>\n",
       "      <td>1</td>\n",
       "      <td>0</td>\n",
       "      <td>0</td>\n",
       "    </tr>\n",
       "    <tr>\n",
       "      <td>3</td>\n",
       "      <td>35.0</td>\n",
       "      <td>C123</td>\n",
       "      <td>2</td>\n",
       "      <td>26.55000</td>\n",
       "      <td>Futrelle, Mrs. Jacques Heath (Lily May Peel)</td>\n",
       "      <td>0</td>\n",
       "      <td>4</td>\n",
       "      <td>1</td>\n",
       "      <td>0</td>\n",
       "      <td>1</td>\n",
       "      <td>...</td>\n",
       "      <td>0</td>\n",
       "      <td>113803</td>\n",
       "      <td>2</td>\n",
       "      <td>14</td>\n",
       "      <td>2.0</td>\n",
       "      <td>0</td>\n",
       "      <td>0</td>\n",
       "      <td>1</td>\n",
       "      <td>0</td>\n",
       "      <td>0</td>\n",
       "    </tr>\n",
       "    <tr>\n",
       "      <td>4</td>\n",
       "      <td>35.0</td>\n",
       "      <td>U</td>\n",
       "      <td>2</td>\n",
       "      <td>8.05000</td>\n",
       "      <td>Allen, Mr. William Henry</td>\n",
       "      <td>0</td>\n",
       "      <td>5</td>\n",
       "      <td>3</td>\n",
       "      <td>1</td>\n",
       "      <td>0</td>\n",
       "      <td>...</td>\n",
       "      <td>1</td>\n",
       "      <td>373450</td>\n",
       "      <td>1</td>\n",
       "      <td>14</td>\n",
       "      <td>2.0</td>\n",
       "      <td>0</td>\n",
       "      <td>1</td>\n",
       "      <td>0</td>\n",
       "      <td>0</td>\n",
       "      <td>0</td>\n",
       "    </tr>\n",
       "  </tbody>\n",
       "</table>\n",
       "<p>5 rows × 30 columns</p>\n",
       "</div>"
      ],
      "text/plain": [
       "    Age Cabin  Embarked      Fare  \\\n",
       "0  22.0     U         2   7.25000   \n",
       "1  38.0   C85         0  35.64165   \n",
       "2  26.0     U         2   7.92500   \n",
       "3  35.0  C123         2  26.55000   \n",
       "4  35.0     U         2   8.05000   \n",
       "\n",
       "                                                Name  Parch  PassengerId  \\\n",
       "0                            Braund, Mr. Owen Harris      0            1   \n",
       "1  Cumings, Mrs. John Bradley (Florence Briggs Th...      0            2   \n",
       "2                             Heikkinen, Miss. Laina      0            3   \n",
       "3       Futrelle, Mrs. Jacques Heath (Lily May Peel)      0            4   \n",
       "4                           Allen, Mr. William Henry      0            5   \n",
       "\n",
       "   Pclass  Sex  SibSp  ...  Is_single Ticket_number  Group_Ticket  \\\n",
       "0       3    1      1  ...          0         21171             1   \n",
       "1       1    0      1  ...          0         17599             2   \n",
       "2       3    0      0  ...          1       3101282             1   \n",
       "3       1    0      1  ...          0        113803             2   \n",
       "4       3    1      0  ...          1        373450             1   \n",
       "\n",
       "   Ticket_letter  Age_classification  Is_children  Male_adult  Female_adult  \\\n",
       "0              2                 2.0            0           1             0   \n",
       "1             15                 2.0            0           0             1   \n",
       "2             32                 2.0            0           0             1   \n",
       "3             14                 2.0            0           0             1   \n",
       "4             14                 2.0            0           1             0   \n",
       "\n",
       "   family_with_dead_children_women  family_with_surviving_man  \n",
       "0                                0                          0  \n",
       "1                                0                          0  \n",
       "2                                0                          0  \n",
       "3                                0                          0  \n",
       "4                                0                          0  \n",
       "\n",
       "[5 rows x 30 columns]"
      ]
     },
     "execution_count": 70,
     "metadata": {},
     "output_type": "execute_result"
    }
   ],
   "source": [
    "combin.head()"
   ]
  },
  {
   "cell_type": "code",
   "execution_count": 71,
   "metadata": {
    "scrolled": true
   },
   "outputs": [
    {
     "data": {
      "text/plain": [
       "Index(['Age', 'Cabin', 'Embarked', 'Fare', 'Name', 'Parch', 'PassengerId',\n",
       "       'Pclass', 'Sex', 'SibSp', 'Survived', 'Ticket', 'Cabin_Capital',\n",
       "       'Has_Cabin', 'Title', 'Is_Royalty', 'Is_Officer', 'Name_length',\n",
       "       'Family_Size', 'Family_Size_Category', 'Is_single', 'Ticket_number',\n",
       "       'Group_Ticket', 'Ticket_letter', 'Age_classification', 'Is_children',\n",
       "       'Male_adult', 'Female_adult', 'family_with_dead_children_women',\n",
       "       'family_with_surviving_man'],\n",
       "      dtype='object')"
      ]
     },
     "execution_count": 71,
     "metadata": {},
     "output_type": "execute_result"
    }
   ],
   "source": [
    "combin.columns"
   ]
  },
  {
   "cell_type": "markdown",
   "metadata": {},
   "source": [
    "## 2.11 Standardize continuous features"
   ]
  },
  {
   "cell_type": "code",
   "execution_count": 72,
   "metadata": {},
   "outputs": [],
   "source": [
    "continuous_features = ['Fare','SibSp','Name_length','Family_Size','Group_Ticket']\n",
    "stdscaler = StandardScaler()\n",
    "combin[continuous_features] = stdscaler.fit_transform(combin[continuous_features])"
   ]
  },
  {
   "cell_type": "markdown",
   "metadata": {},
   "source": [
    "# 3 Build models"
   ]
  },
  {
   "cell_type": "markdown",
   "metadata": {},
   "source": [
    "## 3.1 Choose features and check correlation coefficient"
   ]
  },
  {
   "cell_type": "code",
   "execution_count": 73,
   "metadata": {},
   "outputs": [],
   "source": [
    "features = ['Embarked', 'Fare','Parch',\n",
    "       'Pclass', 'Sex', 'SibSp', 'Cabin_Capital',\n",
    "       'Has_Cabin', 'Title', 'Name_length', 'Family_Size',\n",
    "       'Family_Size_Category', 'Is_single', 'Group_Ticket',\n",
    "       'Age_classification', 'Is_children', 'Male_adult', 'Female_adult',\n",
    "       'family_with_dead_children_women', 'family_with_surviving_man',\n",
    "       'Ticket_letter']"
   ]
  },
  {
   "cell_type": "code",
   "execution_count": 74,
   "metadata": {
    "scrolled": false
   },
   "outputs": [
    {
     "data": {
      "text/plain": [
       "<matplotlib.axes._subplots.AxesSubplot at 0x13dcc808288>"
      ]
     },
     "execution_count": 74,
     "metadata": {},
     "output_type": "execute_result"
    },
    {
     "data": {
      "image/png": "[encoded data removed]",
      "text/plain": [
       "<Figure size 1080x1080 with 2 Axes>"
      ]
     },
     "metadata": {
      "needs_background": "light"
     },
     "output_type": "display_data"
    }
   ],
   "source": [
    "plt.figure(figsize=(15,15))\n",
    "sns.heatmap(combin[features].corr(),cmap=plt.cm.RdBu,annot=True)"
   ]
  },
  {
   "cell_type": "markdown",
   "metadata": {},
   "source": [
    "## 3.2 Split train & test set"
   ]
  },
  {
   "cell_type": "code",
   "execution_count": 75,
   "metadata": {},
   "outputs": [],
   "source": [
    "train_X = combin.loc[combin['Survived'] >= 0,features]\n",
    "train_y = combin.loc[combin['Survived'] >= 0,'Survived']\n",
    "test_X = combin.loc[combin['Survived'].isnull(),features]"
   ]
  },
  {
   "cell_type": "markdown",
   "metadata": {},
   "source": [
    "## 3.3 Build models"
   ]
  },
  {
   "cell_type": "markdown",
   "metadata": {},
   "source": [
    "### a. Random Forest"
   ]
  },
  {
   "cell_type": "code",
   "execution_count": 76,
   "metadata": {},
   "outputs": [
    {
     "data": {
      "text/plain": [
       "GridSearchCV(cv=10, error_score='raise-deprecating',\n",
       "             estimator=RandomForestClassifier(bootstrap=True, class_weight=None,\n",
       "                                              criterion='gini', max_depth=None,\n",
       "                                              max_features='auto',\n",
       "                                              max_leaf_nodes=None,\n",
       "                                              min_impurity_decrease=0.0,\n",
       "                                              min_impurity_split=None,\n",
       "                                              min_samples_leaf=1,\n",
       "                                              min_samples_split=2,\n",
       "                                              min_weight_fraction_leaf=0.0,\n",
       "                                              n_estimators='warn', n_jobs=None,\n",
       "                                              oob_score=False, random_state=0,\n",
       "                                              verbose=0, warm_start=False),\n",
       "             iid='warn', n_jobs=-1,\n",
       "             param_grid={'max_depth': [6, 7, 8], 'min_samples_split': [5, 6, 7],\n",
       "                         'n_estimators': [300, 600, 1000]},\n",
       "             pre_dispatch='2*n_jobs', refit=True, return_train_score=False,\n",
       "             scoring='accuracy', verbose=0)"
      ]
     },
     "execution_count": 76,
     "metadata": {},
     "output_type": "execute_result"
    }
   ],
   "source": [
    "rf = RandomForestClassifier(random_state=0)\n",
    "rf_param_grid = {'n_estimators':[300,600,1000],'max_depth':[6,7,8],'min_samples_split':[5,6,7]}\n",
    "rf_gridsearch= GridSearchCV(rf, param_grid=rf_param_grid, cv = 10, scoring='accuracy', n_jobs=-1)\n",
    "rf_gridsearch.fit(train_X,train_y)"
   ]
  },
  {
   "cell_type": "code",
   "execution_count": 77,
   "metadata": {},
   "outputs": [
    {
     "data": {
      "text/plain": [
       "0.9001122334455668"
      ]
     },
     "execution_count": 77,
     "metadata": {},
     "output_type": "execute_result"
    }
   ],
   "source": [
    "rf_gridsearch.best_score_"
   ]
  },
  {
   "cell_type": "code",
   "execution_count": 78,
   "metadata": {},
   "outputs": [
    {
     "data": {
      "text/plain": [
       "{'max_depth': 8, 'min_samples_split': 7, 'n_estimators': 300}"
      ]
     },
     "execution_count": 78,
     "metadata": {},
     "output_type": "execute_result"
    }
   ],
   "source": [
    "rf_gridsearch.best_params_"
   ]
  },
  {
   "cell_type": "code",
   "execution_count": 79,
   "metadata": {},
   "outputs": [
    {
     "data": {
      "text/plain": [
       "{'mean_fit_time': array([0.43723052, 0.83337092, 1.46927018, 0.47183821, 0.98187401,\n",
       "        1.45849905, 0.44780192, 0.92193389, 1.42139828, 0.44740322,\n",
       "        0.9394865 , 1.51335218, 0.44381278, 0.88812454, 1.48293366,\n",
       "        0.45248959, 0.9026854 , 1.51175663, 0.48609982, 0.92492685,\n",
       "        1.52192938, 0.45318763, 0.90388241, 1.50667055, 0.45837359,\n",
       "        0.91196089, 1.40026267]),\n",
       " 'std_fit_time': array([0.01228966, 0.02076336, 0.14785334, 0.04374322, 0.15393993,\n",
       "        0.05014146, 0.0290189 , 0.04403512, 0.02564834, 0.01607011,\n",
       "        0.02498096, 0.03141567, 0.0061962 , 0.02656812, 0.01424116,\n",
       "        0.01520454, 0.02154535, 0.03142372, 0.02265993, 0.02111153,\n",
       "        0.01432875, 0.00522453, 0.0131257 , 0.01762775, 0.01197775,\n",
       "        0.01260891, 0.17606175]),\n",
       " 'mean_score_time': array([0.03311107, 0.05864296, 0.10501926, 0.03620315, 0.07091088,\n",
       "        0.11190114, 0.03251317, 0.0654253 , 0.11239951, 0.03251307,\n",
       "        0.06592374, 0.10571759, 0.03371058, 0.06552486, 0.10890868,\n",
       "        0.03390939, 0.06562457, 0.10711341, 0.03560503, 0.07210634,\n",
       "        0.1066148 , 0.03291202, 0.06941435, 0.10641515, 0.0342087 ,\n",
       "        0.06442771, 0.08517115]),\n",
       " 'std_score_time': array([0.00212978, 0.00222107, 0.01004359, 0.00641753, 0.00926413,\n",
       "        0.02276833, 0.00214816, 0.0034024 , 0.00924932, 0.00101667,\n",
       "        0.00341005, 0.0057811 , 0.0020343 , 0.00333923, 0.00517846,\n",
       "        0.00282108, 0.0057948 , 0.00855838, 0.00315554, 0.00983306,\n",
       "        0.00595791, 0.00189238, 0.010357  , 0.00932429, 0.00244495,\n",
       "        0.00514711, 0.02271867]),\n",
       " 'param_max_depth': masked_array(data=[6, 6, 6, 6, 6, 6, 6, 6, 6, 7, 7, 7, 7, 7, 7, 7, 7, 7,\n",
       "                    8, 8, 8, 8, 8, 8, 8, 8, 8],\n",
       "              mask=[False, False, False, False, False, False, False, False,\n",
       "                    False, False, False, False, False, False, False, False,\n",
       "                    False, False, False, False, False, False, False, False,\n",
       "                    False, False, False],\n",
       "        fill_value='?',\n",
       "             dtype=object),\n",
       " 'param_min_samples_split': masked_array(data=[5, 5, 5, 6, 6, 6, 7, 7, 7, 5, 5, 5, 6, 6, 6, 7, 7, 7,\n",
       "                    5, 5, 5, 6, 6, 6, 7, 7, 7],\n",
       "              mask=[False, False, False, False, False, False, False, False,\n",
       "                    False, False, False, False, False, False, False, False,\n",
       "                    False, False, False, False, False, False, False, False,\n",
       "                    False, False, False],\n",
       "        fill_value='?',\n",
       "             dtype=object),\n",
       " 'param_n_estimators': masked_array(data=[300, 600, 1000, 300, 600, 1000, 300, 600, 1000, 300,\n",
       "                    600, 1000, 300, 600, 1000, 300, 600, 1000, 300, 600,\n",
       "                    1000, 300, 600, 1000, 300, 600, 1000],\n",
       "              mask=[False, False, False, False, False, False, False, False,\n",
       "                    False, False, False, False, False, False, False, False,\n",
       "                    False, False, False, False, False, False, False, False,\n",
       "                    False, False, False],\n",
       "        fill_value='?',\n",
       "             dtype=object),\n",
       " 'params': [{'max_depth': 6, 'min_samples_split': 5, 'n_estimators': 300},\n",
       "  {'max_depth': 6, 'min_samples_split': 5, 'n_estimators': 600},\n",
       "  {'max_depth': 6, 'min_samples_split': 5, 'n_estimators': 1000},\n",
       "  {'max_depth': 6, 'min_samples_split': 6, 'n_estimators': 300},\n",
       "  {'max_depth': 6, 'min_samples_split': 6, 'n_estimators': 600},\n",
       "  {'max_depth': 6, 'min_samples_split': 6, 'n_estimators': 1000},\n",
       "  {'max_depth': 6, 'min_samples_split': 7, 'n_estimators': 300},\n",
       "  {'max_depth': 6, 'min_samples_split': 7, 'n_estimators': 600},\n",
       "  {'max_depth': 6, 'min_samples_split': 7, 'n_estimators': 1000},\n",
       "  {'max_depth': 7, 'min_samples_split': 5, 'n_estimators': 300},\n",
       "  {'max_depth': 7, 'min_samples_split': 5, 'n_estimators': 600},\n",
       "  {'max_depth': 7, 'min_samples_split': 5, 'n_estimators': 1000},\n",
       "  {'max_depth': 7, 'min_samples_split': 6, 'n_estimators': 300},\n",
       "  {'max_depth': 7, 'min_samples_split': 6, 'n_estimators': 600},\n",
       "  {'max_depth': 7, 'min_samples_split': 6, 'n_estimators': 1000},\n",
       "  {'max_depth': 7, 'min_samples_split': 7, 'n_estimators': 300},\n",
       "  {'max_depth': 7, 'min_samples_split': 7, 'n_estimators': 600},\n",
       "  {'max_depth': 7, 'min_samples_split': 7, 'n_estimators': 1000},\n",
       "  {'max_depth': 8, 'min_samples_split': 5, 'n_estimators': 300},\n",
       "  {'max_depth': 8, 'min_samples_split': 5, 'n_estimators': 600},\n",
       "  {'max_depth': 8, 'min_samples_split': 5, 'n_estimators': 1000},\n",
       "  {'max_depth': 8, 'min_samples_split': 6, 'n_estimators': 300},\n",
       "  {'max_depth': 8, 'min_samples_split': 6, 'n_estimators': 600},\n",
       "  {'max_depth': 8, 'min_samples_split': 6, 'n_estimators': 1000},\n",
       "  {'max_depth': 8, 'min_samples_split': 7, 'n_estimators': 300},\n",
       "  {'max_depth': 8, 'min_samples_split': 7, 'n_estimators': 600},\n",
       "  {'max_depth': 8, 'min_samples_split': 7, 'n_estimators': 1000}],\n",
       " 'split0_test_score': array([0.9       , 0.88888889, 0.88888889, 0.9       , 0.9       ,\n",
       "        0.9       , 0.9       , 0.9       , 0.9       , 0.9       ,\n",
       "        0.9       , 0.9       , 0.9       , 0.9       , 0.9       ,\n",
       "        0.9       , 0.9       , 0.9       , 0.9       , 0.9       ,\n",
       "        0.9       , 0.9       , 0.9       , 0.9       , 0.9       ,\n",
       "        0.9       , 0.9       ]),\n",
       " 'split1_test_score': array([0.93333333, 0.93333333, 0.93333333, 0.93333333, 0.93333333,\n",
       "        0.93333333, 0.93333333, 0.93333333, 0.93333333, 0.93333333,\n",
       "        0.93333333, 0.93333333, 0.93333333, 0.93333333, 0.93333333,\n",
       "        0.93333333, 0.93333333, 0.93333333, 0.93333333, 0.94444444,\n",
       "        0.94444444, 0.93333333, 0.93333333, 0.93333333, 0.94444444,\n",
       "        0.94444444, 0.93333333]),\n",
       " 'split2_test_score': array([0.82022472, 0.82022472, 0.82022472, 0.82022472, 0.82022472,\n",
       "        0.82022472, 0.83146067, 0.82022472, 0.82022472, 0.83146067,\n",
       "        0.83146067, 0.83146067, 0.82022472, 0.82022472, 0.82022472,\n",
       "        0.83146067, 0.82022472, 0.82022472, 0.82022472, 0.82022472,\n",
       "        0.82022472, 0.82022472, 0.82022472, 0.82022472, 0.82022472,\n",
       "        0.82022472, 0.82022472]),\n",
       " 'split3_test_score': array([0.8988764 , 0.91011236, 0.91011236, 0.8988764 , 0.91011236,\n",
       "        0.91011236, 0.92134831, 0.92134831, 0.91011236, 0.8988764 ,\n",
       "        0.91011236, 0.8988764 , 0.91011236, 0.8988764 , 0.8988764 ,\n",
       "        0.8988764 , 0.8988764 , 0.8988764 , 0.91011236, 0.91011236,\n",
       "        0.91011236, 0.92134831, 0.92134831, 0.92134831, 0.92134831,\n",
       "        0.91011236, 0.91011236]),\n",
       " 'split4_test_score': array([0.91011236, 0.91011236, 0.91011236, 0.91011236, 0.91011236,\n",
       "        0.91011236, 0.91011236, 0.91011236, 0.91011236, 0.91011236,\n",
       "        0.91011236, 0.91011236, 0.91011236, 0.91011236, 0.91011236,\n",
       "        0.91011236, 0.91011236, 0.91011236, 0.91011236, 0.91011236,\n",
       "        0.91011236, 0.91011236, 0.91011236, 0.91011236, 0.91011236,\n",
       "        0.91011236, 0.91011236]),\n",
       " 'split5_test_score': array([0.82022472, 0.82022472, 0.82022472, 0.82022472, 0.82022472,\n",
       "        0.82022472, 0.82022472, 0.82022472, 0.82022472, 0.84269663,\n",
       "        0.83146067, 0.83146067, 0.84269663, 0.83146067, 0.82022472,\n",
       "        0.82022472, 0.82022472, 0.82022472, 0.86516854, 0.86516854,\n",
       "        0.85393258, 0.85393258, 0.86516854, 0.85393258, 0.86516854,\n",
       "        0.87640449, 0.86516854]),\n",
       " 'split6_test_score': array([0.92134831, 0.92134831, 0.92134831, 0.92134831, 0.92134831,\n",
       "        0.92134831, 0.92134831, 0.92134831, 0.92134831, 0.91011236,\n",
       "        0.91011236, 0.91011236, 0.91011236, 0.91011236, 0.92134831,\n",
       "        0.91011236, 0.91011236, 0.92134831, 0.92134831, 0.92134831,\n",
       "        0.92134831, 0.91011236, 0.92134831, 0.92134831, 0.92134831,\n",
       "        0.92134831, 0.92134831]),\n",
       " 'split7_test_score': array([0.91011236, 0.91011236, 0.91011236, 0.8988764 , 0.8988764 ,\n",
       "        0.8988764 , 0.8988764 , 0.8988764 , 0.8988764 , 0.92134831,\n",
       "        0.91011236, 0.91011236, 0.92134831, 0.91011236, 0.91011236,\n",
       "        0.91011236, 0.91011236, 0.91011236, 0.8988764 , 0.8988764 ,\n",
       "        0.8988764 , 0.93258427, 0.91011236, 0.91011236, 0.92134831,\n",
       "        0.91011236, 0.91011236]),\n",
       " 'split8_test_score': array([0.93258427, 0.93258427, 0.93258427, 0.93258427, 0.93258427,\n",
       "        0.93258427, 0.93258427, 0.93258427, 0.93258427, 0.92134831,\n",
       "        0.93258427, 0.93258427, 0.93258427, 0.93258427, 0.93258427,\n",
       "        0.93258427, 0.93258427, 0.93258427, 0.93258427, 0.93258427,\n",
       "        0.93258427, 0.92134831, 0.93258427, 0.92134831, 0.92134831,\n",
       "        0.93258427, 0.93258427]),\n",
       " 'split9_test_score': array([0.875, 0.875, 0.875, 0.875, 0.875, 0.875, 0.875, 0.875, 0.875,\n",
       "        0.875, 0.875, 0.875, 0.875, 0.875, 0.875, 0.875, 0.875, 0.875,\n",
       "        0.875, 0.875, 0.875, 0.875, 0.875, 0.875, 0.875, 0.875, 0.875]),\n",
       " 'mean_test_score': array([0.89225589, 0.89225589, 0.89225589, 0.89113356, 0.89225589,\n",
       "        0.89225589, 0.89450056, 0.89337823, 0.89225589, 0.89450056,\n",
       "        0.89450056, 0.89337823, 0.8956229 , 0.89225589, 0.89225589,\n",
       "        0.89225589, 0.89113356, 0.89225589, 0.89674523, 0.89786756,\n",
       "        0.89674523, 0.89786756, 0.8989899 , 0.89674523, 0.90011223,\n",
       "        0.90011223, 0.89786756]),\n",
       " 'std_test_score': array([0.03946536, 0.03975014, 0.03975014, 0.03909966, 0.03946536,\n",
       "        0.03946536, 0.03815878, 0.04011168, 0.03946536, 0.03244313,\n",
       "        0.03505858, 0.03471903, 0.03606548, 0.03682046, 0.03946536,\n",
       "        0.03682046, 0.0387758 , 0.03946536, 0.03305123, 0.03443432,\n",
       "        0.03564368, 0.03513721, 0.03387263, 0.0341767 , 0.0347913 ,\n",
       "        0.03368637, 0.03329442]),\n",
       " 'rank_test_score': array([16, 16, 16, 26, 16, 16, 11, 14, 16, 11, 11, 14, 10, 16, 16, 16, 26,\n",
       "        16,  7,  4,  7,  4,  3,  7,  1,  1,  4])}"
      ]
     },
     "execution_count": 79,
     "metadata": {},
     "output_type": "execute_result"
    }
   ],
   "source": [
    "rf_gridsearch.cv_results_"
   ]
  },
  {
   "cell_type": "code",
   "execution_count": 80,
   "metadata": {},
   "outputs": [
    {
     "data": {
      "text/html": [
       "<div>\n",
       "<style scoped>\n",
       "    .dataframe tbody tr th:only-of-type {\n",
       "        vertical-align: middle;\n",
       "    }\n",
       "\n",
       "    .dataframe tbody tr th {\n",
       "        vertical-align: top;\n",
       "    }\n",
       "\n",
       "    .dataframe thead th {\n",
       "        text-align: right;\n",
       "    }\n",
       "</style>\n",
       "<table border=\"1\" class=\"dataframe\">\n",
       "  <thead>\n",
       "    <tr style=\"text-align: right;\">\n",
       "      <th></th>\n",
       "      <th>0</th>\n",
       "    </tr>\n",
       "  </thead>\n",
       "  <tbody>\n",
       "    <tr>\n",
       "      <td>Parch</td>\n",
       "      <td>0.009001</td>\n",
       "    </tr>\n",
       "    <tr>\n",
       "      <td>Is_children</td>\n",
       "      <td>0.009842</td>\n",
       "    </tr>\n",
       "    <tr>\n",
       "      <td>Embarked</td>\n",
       "      <td>0.011768</td>\n",
       "    </tr>\n",
       "    <tr>\n",
       "      <td>SibSp</td>\n",
       "      <td>0.012636</td>\n",
       "    </tr>\n",
       "    <tr>\n",
       "      <td>Is_single</td>\n",
       "      <td>0.013136</td>\n",
       "    </tr>\n",
       "    <tr>\n",
       "      <td>Age_classification</td>\n",
       "      <td>0.016938</td>\n",
       "    </tr>\n",
       "    <tr>\n",
       "      <td>Ticket_letter</td>\n",
       "      <td>0.018413</td>\n",
       "    </tr>\n",
       "    <tr>\n",
       "      <td>Has_Cabin</td>\n",
       "      <td>0.023629</td>\n",
       "    </tr>\n",
       "    <tr>\n",
       "      <td>Family_Size</td>\n",
       "      <td>0.023941</td>\n",
       "    </tr>\n",
       "    <tr>\n",
       "      <td>Family_Size_Category</td>\n",
       "      <td>0.027234</td>\n",
       "    </tr>\n",
       "    <tr>\n",
       "      <td>Cabin_Capital</td>\n",
       "      <td>0.030801</td>\n",
       "    </tr>\n",
       "    <tr>\n",
       "      <td>Group_Ticket</td>\n",
       "      <td>0.036159</td>\n",
       "    </tr>\n",
       "    <tr>\n",
       "      <td>Pclass</td>\n",
       "      <td>0.046290</td>\n",
       "    </tr>\n",
       "    <tr>\n",
       "      <td>Title</td>\n",
       "      <td>0.060792</td>\n",
       "    </tr>\n",
       "    <tr>\n",
       "      <td>Name_length</td>\n",
       "      <td>0.066191</td>\n",
       "    </tr>\n",
       "    <tr>\n",
       "      <td>family_with_surviving_man</td>\n",
       "      <td>0.071572</td>\n",
       "    </tr>\n",
       "    <tr>\n",
       "      <td>Fare</td>\n",
       "      <td>0.077483</td>\n",
       "    </tr>\n",
       "    <tr>\n",
       "      <td>Female_adult</td>\n",
       "      <td>0.085894</td>\n",
       "    </tr>\n",
       "    <tr>\n",
       "      <td>family_with_dead_children_women</td>\n",
       "      <td>0.106540</td>\n",
       "    </tr>\n",
       "    <tr>\n",
       "      <td>Male_adult</td>\n",
       "      <td>0.110894</td>\n",
       "    </tr>\n",
       "    <tr>\n",
       "      <td>Sex</td>\n",
       "      <td>0.140846</td>\n",
       "    </tr>\n",
       "  </tbody>\n",
       "</table>\n",
       "</div>"
      ],
      "text/plain": [
       "                                        0\n",
       "Parch                            0.009001\n",
       "Is_children                      0.009842\n",
       "Embarked                         0.011768\n",
       "SibSp                            0.012636\n",
       "Is_single                        0.013136\n",
       "Age_classification               0.016938\n",
       "Ticket_letter                    0.018413\n",
       "Has_Cabin                        0.023629\n",
       "Family_Size                      0.023941\n",
       "Family_Size_Category             0.027234\n",
       "Cabin_Capital                    0.030801\n",
       "Group_Ticket                     0.036159\n",
       "Pclass                           0.046290\n",
       "Title                            0.060792\n",
       "Name_length                      0.066191\n",
       "family_with_surviving_man        0.071572\n",
       "Fare                             0.077483\n",
       "Female_adult                     0.085894\n",
       "family_with_dead_children_women  0.106540\n",
       "Male_adult                       0.110894\n",
       "Sex                              0.140846"
      ]
     },
     "execution_count": 80,
     "metadata": {},
     "output_type": "execute_result"
    }
   ],
   "source": [
    "# feature importances\n",
    "pd.DataFrame(rf_gridsearch.best_estimator_.feature_importances_,index=features).sort_values(0)"
   ]
  },
  {
   "cell_type": "markdown",
   "metadata": {},
   "source": [
    "### B. GBDT"
   ]
  },
  {
   "cell_type": "code",
   "execution_count": 81,
   "metadata": {
    "scrolled": true
   },
   "outputs": [
    {
     "name": "stdout",
     "output_type": "stream",
     "text": [
      "      Iter       Train Loss   Remaining Time \n",
      "         1           1.3176            0.91s\n",
      "         2           1.3038            0.74s\n",
      "         3           1.2902            0.69s\n",
      "         4           1.2769            0.66s\n",
      "         5           1.2639            0.71s\n",
      "         6           1.2512            0.68s\n",
      "         7           1.2387            0.67s\n",
      "         8           1.2265            0.66s\n",
      "         9           1.2146            0.64s\n",
      "        10           1.2029            0.64s\n",
      "        20           1.0974            0.59s\n",
      "        30           1.0094            0.56s\n",
      "        40           0.9349            0.53s\n",
      "        50           0.8712            0.51s\n",
      "        60           0.8167            0.50s\n",
      "        70           0.7697            0.48s\n",
      "        80           0.7284            0.46s\n",
      "        90           0.6924            0.44s\n",
      "       100           0.6608            0.41s\n",
      "       200           0.4863            0.20s\n",
      "       300           0.3957            0.00s\n"
     ]
    },
    {
     "data": {
      "text/plain": [
       "GridSearchCV(cv=10, error_score='raise-deprecating',\n",
       "             estimator=GradientBoostingClassifier(criterion='friedman_mse',\n",
       "                                                  init=None, learning_rate=0.1,\n",
       "                                                  loss='deviance', max_depth=3,\n",
       "                                                  max_features=None,\n",
       "                                                  max_leaf_nodes=None,\n",
       "                                                  min_impurity_decrease=0.0,\n",
       "                                                  min_impurity_split=None,\n",
       "                                                  min_samples_leaf=1,\n",
       "                                                  min_samples_split=2,\n",
       "                                                  min_weight_fraction_leaf=0.0,\n",
       "                                                  n_estimators=100,\n",
       "                                                  n_iter_no_change=None,\n",
       "                                                  presort='auto',\n",
       "                                                  random_state=0, subsample=1.0,\n",
       "                                                  tol=0.0001,\n",
       "                                                  validation_fraction=0.1,\n",
       "                                                  verbose=1, warm_start=False),\n",
       "             iid='warn', n_jobs=-1,\n",
       "             param_grid={'learning_rate': [0.1, 0.01],\n",
       "                         'max_depth': [6, 7, 8, 10],\n",
       "                         'max_leaf_nodes': [15, 25, 35, 45],\n",
       "                         'n_estimators': [300, 1000, 600]},\n",
       "             pre_dispatch='2*n_jobs', refit=True, return_train_score=False,\n",
       "             scoring=None, verbose=0)"
      ]
     },
     "execution_count": 81,
     "metadata": {},
     "output_type": "execute_result"
    }
   ],
   "source": [
    "gbdt = GradientBoostingClassifier(random_state=0,verbose=1)\n",
    "gbdt_param_grid = {'n_estimators':[300,1000,600],'max_depth':[6,7,8,10],'learning_rate':[0.1,0.01],'max_leaf_nodes':[15,25,35,45]}\n",
    "gbdt_gridsearch = GridSearchCV(gbdt,gbdt_param_grid,cv = 10, n_jobs = -1)\n",
    "gbdt_gridsearch.fit(train_X,train_y)"
   ]
  },
  {
   "cell_type": "code",
   "execution_count": 82,
   "metadata": {
    "scrolled": true
   },
   "outputs": [
    {
     "data": {
      "text/plain": [
       "0.8933782267115601"
      ]
     },
     "execution_count": 82,
     "metadata": {},
     "output_type": "execute_result"
    }
   ],
   "source": [
    "gbdt_gridsearch.best_score_"
   ]
  },
  {
   "cell_type": "code",
   "execution_count": 83,
   "metadata": {
    "scrolled": true
   },
   "outputs": [
    {
     "data": {
      "text/plain": [
       "{'learning_rate': 0.01,\n",
       " 'max_depth': 10,\n",
       " 'max_leaf_nodes': 15,\n",
       " 'n_estimators': 300}"
      ]
     },
     "execution_count": 83,
     "metadata": {},
     "output_type": "execute_result"
    }
   ],
   "source": [
    "gbdt_gridsearch.best_params_"
   ]
  },
  {
   "cell_type": "code",
   "execution_count": 84,
   "metadata": {
    "scrolled": false
   },
   "outputs": [
    {
     "data": {
      "text/html": [
       "<div>\n",
       "<style scoped>\n",
       "    .dataframe tbody tr th:only-of-type {\n",
       "        vertical-align: middle;\n",
       "    }\n",
       "\n",
       "    .dataframe tbody tr th {\n",
       "        vertical-align: top;\n",
       "    }\n",
       "\n",
       "    .dataframe thead th {\n",
       "        text-align: right;\n",
       "    }\n",
       "</style>\n",
       "<table border=\"1\" class=\"dataframe\">\n",
       "  <thead>\n",
       "    <tr style=\"text-align: right;\">\n",
       "      <th></th>\n",
       "      <th>0</th>\n",
       "    </tr>\n",
       "  </thead>\n",
       "  <tbody>\n",
       "    <tr>\n",
       "      <td>Female_adult</td>\n",
       "      <td>0.000492</td>\n",
       "    </tr>\n",
       "    <tr>\n",
       "      <td>Parch</td>\n",
       "      <td>0.000857</td>\n",
       "    </tr>\n",
       "    <tr>\n",
       "      <td>Has_Cabin</td>\n",
       "      <td>0.001098</td>\n",
       "    </tr>\n",
       "    <tr>\n",
       "      <td>Is_children</td>\n",
       "      <td>0.001522</td>\n",
       "    </tr>\n",
       "    <tr>\n",
       "      <td>Group_Ticket</td>\n",
       "      <td>0.001666</td>\n",
       "    </tr>\n",
       "    <tr>\n",
       "      <td>Male_adult</td>\n",
       "      <td>0.003961</td>\n",
       "    </tr>\n",
       "    <tr>\n",
       "      <td>Embarked</td>\n",
       "      <td>0.008524</td>\n",
       "    </tr>\n",
       "    <tr>\n",
       "      <td>Ticket_letter</td>\n",
       "      <td>0.009275</td>\n",
       "    </tr>\n",
       "    <tr>\n",
       "      <td>Age_classification</td>\n",
       "      <td>0.010485</td>\n",
       "    </tr>\n",
       "    <tr>\n",
       "      <td>Cabin_Capital</td>\n",
       "      <td>0.011688</td>\n",
       "    </tr>\n",
       "    <tr>\n",
       "      <td>SibSp</td>\n",
       "      <td>0.015357</td>\n",
       "    </tr>\n",
       "    <tr>\n",
       "      <td>Family_Size</td>\n",
       "      <td>0.016321</td>\n",
       "    </tr>\n",
       "    <tr>\n",
       "      <td>Pclass</td>\n",
       "      <td>0.016360</td>\n",
       "    </tr>\n",
       "    <tr>\n",
       "      <td>Family_Size_Category</td>\n",
       "      <td>0.020759</td>\n",
       "    </tr>\n",
       "    <tr>\n",
       "      <td>Is_single</td>\n",
       "      <td>0.042757</td>\n",
       "    </tr>\n",
       "    <tr>\n",
       "      <td>Title</td>\n",
       "      <td>0.049317</td>\n",
       "    </tr>\n",
       "    <tr>\n",
       "      <td>Name_length</td>\n",
       "      <td>0.050433</td>\n",
       "    </tr>\n",
       "    <tr>\n",
       "      <td>Fare</td>\n",
       "      <td>0.060019</td>\n",
       "    </tr>\n",
       "    <tr>\n",
       "      <td>family_with_surviving_man</td>\n",
       "      <td>0.113270</td>\n",
       "    </tr>\n",
       "    <tr>\n",
       "      <td>family_with_dead_children_women</td>\n",
       "      <td>0.198398</td>\n",
       "    </tr>\n",
       "    <tr>\n",
       "      <td>Sex</td>\n",
       "      <td>0.367443</td>\n",
       "    </tr>\n",
       "  </tbody>\n",
       "</table>\n",
       "</div>"
      ],
      "text/plain": [
       "                                        0\n",
       "Female_adult                     0.000492\n",
       "Parch                            0.000857\n",
       "Has_Cabin                        0.001098\n",
       "Is_children                      0.001522\n",
       "Group_Ticket                     0.001666\n",
       "Male_adult                       0.003961\n",
       "Embarked                         0.008524\n",
       "Ticket_letter                    0.009275\n",
       "Age_classification               0.010485\n",
       "Cabin_Capital                    0.011688\n",
       "SibSp                            0.015357\n",
       "Family_Size                      0.016321\n",
       "Pclass                           0.016360\n",
       "Family_Size_Category             0.020759\n",
       "Is_single                        0.042757\n",
       "Title                            0.049317\n",
       "Name_length                      0.050433\n",
       "Fare                             0.060019\n",
       "family_with_surviving_man        0.113270\n",
       "family_with_dead_children_women  0.198398\n",
       "Sex                              0.367443"
      ]
     },
     "execution_count": 84,
     "metadata": {},
     "output_type": "execute_result"
    }
   ],
   "source": [
    "pd.DataFrame(gbdt_gridsearch.best_estimator_.feature_importances_,index=features).sort_values(0)"
   ]
  },
  {
   "cell_type": "markdown",
   "metadata": {},
   "source": [
    "### C. SVM"
   ]
  },
  {
   "cell_type": "code",
   "execution_count": 85,
   "metadata": {
    "scrolled": true
   },
   "outputs": [
    {
     "data": {
      "text/plain": [
       "GridSearchCV(cv=10, error_score='raise-deprecating',\n",
       "             estimator=SVC(C=1.0, cache_size=200, class_weight=None, coef0=0.0,\n",
       "                           decision_function_shape='ovr', degree=3,\n",
       "                           gamma='auto_deprecated', kernel='rbf', max_iter=-1,\n",
       "                           probability=False, random_state=0, shrinking=True,\n",
       "                           tol=0.001, verbose=False),\n",
       "             iid='warn', n_jobs=-1,\n",
       "             param_grid={'C': [0.1, 1, 10, 100, 0.01],\n",
       "                         'gamma': [0.1, 1, 10, 100, 0.01]},\n",
       "             pre_dispatch='2*n_jobs', refit=True, return_train_score=False,\n",
       "             scoring=None, verbose=0)"
      ]
     },
     "execution_count": 85,
     "metadata": {},
     "output_type": "execute_result"
    }
   ],
   "source": [
    "svc = SVC(random_state = 0)\n",
    "svc_param_grid ={'C':[0.1,1,10,100,0.01],'gamma':[0.1,1,10,100,0.01]}\n",
    "svc_gridsearch = GridSearchCV(svc,param_grid = svc_param_grid, cv = 10, n_jobs=-1)\n",
    "svc_gridsearch.fit(train_X,train_y)"
   ]
  },
  {
   "cell_type": "code",
   "execution_count": 86,
   "metadata": {},
   "outputs": [
    {
     "data": {
      "text/plain": [
       "0.8855218855218855"
      ]
     },
     "execution_count": 86,
     "metadata": {},
     "output_type": "execute_result"
    }
   ],
   "source": [
    "svc_gridsearch.best_score_"
   ]
  },
  {
   "cell_type": "code",
   "execution_count": 87,
   "metadata": {
    "scrolled": true
   },
   "outputs": [
    {
     "data": {
      "text/plain": [
       "{'C': 10, 'gamma': 0.01}"
      ]
     },
     "execution_count": 87,
     "metadata": {},
     "output_type": "execute_result"
    }
   ],
   "source": [
    "svc_gridsearch.best_params_"
   ]
  },
  {
   "cell_type": "markdown",
   "metadata": {},
   "source": [
    "# 4 Model ensemble\n",
    "Using average voting"
   ]
  },
  {
   "cell_type": "code",
   "execution_count": 88,
   "metadata": {},
   "outputs": [],
   "source": [
    "prediction = pd.DataFrame([rf_gridsearch.predict(test_X),gbdt_gridsearch.predict(test_X),svc_gridsearch.predict(test_X)]).T\n",
    "prediction.columns=['rf','gbdt','svc']\n",
    "prediction['pred'] = prediction[['rf','gbdt','svc']].mode(axis=1).astype(int)"
   ]
  },
  {
   "cell_type": "code",
   "execution_count": 89,
   "metadata": {},
   "outputs": [
    {
     "data": {
      "text/html": [
       "<div>\n",
       "<style scoped>\n",
       "    .dataframe tbody tr th:only-of-type {\n",
       "        vertical-align: middle;\n",
       "    }\n",
       "\n",
       "    .dataframe tbody tr th {\n",
       "        vertical-align: top;\n",
       "    }\n",
       "\n",
       "    .dataframe thead th {\n",
       "        text-align: right;\n",
       "    }\n",
       "</style>\n",
       "<table border=\"1\" class=\"dataframe\">\n",
       "  <thead>\n",
       "    <tr style=\"text-align: right;\">\n",
       "      <th></th>\n",
       "      <th>PassengerId</th>\n",
       "      <th>Survived</th>\n",
       "    </tr>\n",
       "  </thead>\n",
       "  <tbody>\n",
       "    <tr>\n",
       "      <td>0</td>\n",
       "      <td>892</td>\n",
       "      <td>0</td>\n",
       "    </tr>\n",
       "    <tr>\n",
       "      <td>1</td>\n",
       "      <td>893</td>\n",
       "      <td>1</td>\n",
       "    </tr>\n",
       "    <tr>\n",
       "      <td>2</td>\n",
       "      <td>894</td>\n",
       "      <td>0</td>\n",
       "    </tr>\n",
       "    <tr>\n",
       "      <td>3</td>\n",
       "      <td>895</td>\n",
       "      <td>0</td>\n",
       "    </tr>\n",
       "    <tr>\n",
       "      <td>4</td>\n",
       "      <td>896</td>\n",
       "      <td>1</td>\n",
       "    </tr>\n",
       "    <tr>\n",
       "      <td>...</td>\n",
       "      <td>...</td>\n",
       "      <td>...</td>\n",
       "    </tr>\n",
       "    <tr>\n",
       "      <td>413</td>\n",
       "      <td>1305</td>\n",
       "      <td>0</td>\n",
       "    </tr>\n",
       "    <tr>\n",
       "      <td>414</td>\n",
       "      <td>1306</td>\n",
       "      <td>0</td>\n",
       "    </tr>\n",
       "    <tr>\n",
       "      <td>415</td>\n",
       "      <td>1307</td>\n",
       "      <td>0</td>\n",
       "    </tr>\n",
       "    <tr>\n",
       "      <td>416</td>\n",
       "      <td>1308</td>\n",
       "      <td>0</td>\n",
       "    </tr>\n",
       "    <tr>\n",
       "      <td>417</td>\n",
       "      <td>1309</td>\n",
       "      <td>1</td>\n",
       "    </tr>\n",
       "  </tbody>\n",
       "</table>\n",
       "<p>418 rows × 2 columns</p>\n",
       "</div>"
      ],
      "text/plain": [
       "     PassengerId  Survived\n",
       "0            892         0\n",
       "1            893         1\n",
       "2            894         0\n",
       "3            895         0\n",
       "4            896         1\n",
       "..           ...       ...\n",
       "413         1305         0\n",
       "414         1306         0\n",
       "415         1307         0\n",
       "416         1308         0\n",
       "417         1309         1\n",
       "\n",
       "[418 rows x 2 columns]"
      ]
     },
     "execution_count": 89,
     "metadata": {},
     "output_type": "execute_result"
    }
   ],
   "source": [
    "passenger_id = pd.read_csv('tatinic/test.csv')['PassengerId']\n",
    "submission = pd.DataFrame({'PassengerId':passenger_id,'Survived':prediction['pred']})\n",
    "submission"
   ]
  },
  {
   "cell_type": "markdown",
   "metadata": {},
   "source": [
    "**Final result:**  \n",
    "Score(Accuracy): 0.80861  \n",
    "Ranking: 773/16066 (Top 5%)"
   ]
  }
 ],
 "metadata": {
  "kernelspec": {
   "display_name": "Python 3",
   "language": "python",
   "name": "python3"
  },
  "language_info": {
   "codemirror_mode": {
    "name": "ipython",
    "version": 3
   },
   "file_extension": ".py",
   "mimetype": "text/x-python",
   "name": "python",
   "nbconvert_exporter": "python",
   "pygments_lexer": "ipython3",
   "version": "3.7.4"
  }
 },
 "nbformat": 4,
 "nbformat_minor": 2
}
